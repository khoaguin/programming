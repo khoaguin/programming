{
 "cells": [
  {
   "cell_type": "markdown",
   "metadata": {},
   "source": [
    "## Container vs Flat Sequences, Mutable vs Immutable Sequences\n",
    "\n",
    "**Container sequences** \n",
    "- can hold items of different types, including nested containers. Some examples: `list`, `tuple`, and `collections.deque`.\n",
    "- holds references to the objects it contains, which may be of any type\n",
    "\n",
    "\n",
    "**Flat sequences** \n",
    "- hold items of one simple type. Some examples: `str`, `bytes`, and `array.array`.\n",
    "- stores the value of its contents in its own memory space, not as distinct Python objects.\n",
    "- flat sequences are more compact than container sequences, but they are limited to holding primitive machine values like bytes, integers, and floats.\n",
    "\n",
    "*The flat sequences are more compact, faster, and easier to use, but are limited to storing atomic data such as numbers, characters, and bytes. Container sequences are more flexible, but may surprise you when they hold mutable objects, so you need to be careful to use them correctly with nested data structures.*\n",
    "\n",
    "### Another way of grouping sequence types is by mutability:\n",
    "\n",
    "- **Mutable sequences**, e.g. `list`, `bytearray`, `array.array`, and `collections.deque`. Mutable sequences inherit all methods from immuta‐\n",
    "ble sequences\n",
    "- **Immutable sequences**, e.g. `tuple`, `str`, and `bytes`.\n"
   ]
  },
  {
   "cell_type": "code",
   "execution_count": 5,
   "metadata": {},
   "outputs": [
    {
     "data": {
      "text/plain": [
       "[1, '2', [2.5, 3.2]]"
      ]
     },
     "execution_count": 5,
     "metadata": {},
     "output_type": "execute_result"
    }
   ],
   "source": [
    "a = []\n",
    "a.append(1)\n",
    "a.append('2')\n",
    "a.append([2.5, 3.2])\n",
    "a"
   ]
  },
  {
   "cell_type": "markdown",
   "metadata": {},
   "source": [
    "## List Comprehensions and Generator Expressions"
   ]
  },
  {
   "cell_type": "markdown",
   "metadata": {},
   "source": [
    "A list comprehension is more explicit. *Its goal is always to build a new list. If you do not do anything else with the produced list, don't use this syntax. Also, keep it short for readability*"
   ]
  },
  {
   "cell_type": "markdown",
   "metadata": {},
   "source": [
    "### Local Scope Within Comprehensions and Generator Expressions\n",
    "Variables assigned with the “Walrus operator” `:=` remain accessible after\n",
    "those comprehensions or expressions return—unlike local variables in a function."
   ]
  },
  {
   "cell_type": "code",
   "execution_count": 10,
   "metadata": {},
   "outputs": [
    {
     "name": "stdout",
     "output_type": "stream",
     "text": [
      "codes = [65, 66, 67]\n",
      "last = 67\n"
     ]
    }
   ],
   "source": [
    "x = 'ABC'\n",
    "codes = [last := ord(c) for c in x]\n",
    "print(f\"{codes = }\")\n",
    "print(f\"{last = }\")"
   ]
  },
  {
   "cell_type": "markdown",
   "metadata": {},
   "source": [
    "### Listcomps versus map and filter\n",
    "Listcomps do everything the map and filter functions do, without the contortions of the functionally challenged Python `lambda`. And listcomps are not slower than map and filter"
   ]
  },
  {
   "cell_type": "code",
   "execution_count": 18,
   "metadata": {},
   "outputs": [
    {
     "name": "stdout",
     "output_type": "stream",
     "text": [
      "beyond_ascii == beyond_ascii_filter_map = True\n"
     ]
    }
   ],
   "source": [
    "symbols = '$¢£¥€¤'\n",
    "beyond_ascii = [ord(s) for s in symbols if ord(s) > 127]\n",
    "beyond_ascii_filter_map = list(filter(lambda c: c > 127, map(ord, symbols)))\n",
    "print(f\"{beyond_ascii == beyond_ascii_filter_map = }\")"
   ]
  },
  {
   "cell_type": "markdown",
   "metadata": {},
   "source": [
    "### Cartesian product using a list comprehension\n",
    "For example, imagine you need to produce a list of T-shirts available in two colors and three sizes. The following code shows how to produce that list using a listcomp. The result has six items"
   ]
  },
  {
   "cell_type": "code",
   "execution_count": 1,
   "metadata": {},
   "outputs": [
    {
     "data": {
      "text/plain": [
       "[('black', 'S'),\n",
       " ('black', 'M'),\n",
       " ('black', 'L'),\n",
       " ('white', 'S'),\n",
       " ('white', 'M'),\n",
       " ('white', 'L')]"
      ]
     },
     "execution_count": 1,
     "metadata": {},
     "output_type": "execute_result"
    }
   ],
   "source": [
    "colors = ['black', 'white']\n",
    "sizes = ['S', 'M', 'L']\n",
    "tshirts = [(color, size) for color in colors \n",
    "                         for size in sizes]\n",
    "tshirts"
   ]
  },
  {
   "cell_type": "markdown",
   "metadata": {},
   "source": [
    "get items arranged by size, then color,"
   ]
  },
  {
   "cell_type": "code",
   "execution_count": 2,
   "metadata": {},
   "outputs": [
    {
     "data": {
      "text/plain": [
       "[('black', 'S'),\n",
       " ('white', 'S'),\n",
       " ('black', 'M'),\n",
       " ('white', 'M'),\n",
       " ('black', 'L'),\n",
       " ('white', 'L')]"
      ]
     },
     "execution_count": 2,
     "metadata": {},
     "output_type": "execute_result"
    }
   ],
   "source": [
    "tshirts = [(color, size) for size in sizes\n",
    "                         for color in colors]\n",
    "tshirts"
   ]
  },
  {
   "cell_type": "markdown",
   "metadata": {},
   "source": [
    "### Generator Expressions\n",
    "*To initialize tuples, arrays, and other types of sequences, you could also start from a listcomp, but a genexp (generator expression) saves memory because it yields items one by one using the iterator protocol instead of building a whole list just to feed\n",
    "another constructor*. Genexps use the same syntax as listcomps, but are enclosed in parentheses rather than brackets."
   ]
  },
  {
   "cell_type": "code",
   "execution_count": 3,
   "metadata": {},
   "outputs": [
    {
     "data": {
      "text/plain": [
       "(36, 162, 163, 165, 8364, 164)"
      ]
     },
     "execution_count": 3,
     "metadata": {},
     "output_type": "execute_result"
    }
   ],
   "source": [
    "symbols = '$¢£¥€¤'\n",
    "tuple(ord(symbol) for symbol in symbols)"
   ]
  },
  {
   "cell_type": "code",
   "execution_count": 5,
   "metadata": {},
   "outputs": [
    {
     "data": {
      "text/plain": [
       "array('I', [36, 162, 163, 165, 8364, 164])"
      ]
     },
     "execution_count": 5,
     "metadata": {},
     "output_type": "execute_result"
    }
   ],
   "source": [
    "import array\n",
    "array.array('I', (ord(symbol) for symbol in symbols))"
   ]
  },
  {
   "cell_type": "markdown",
   "metadata": {},
   "source": [
    "Cartesian product using a genexp to print out a roster of T-shirts of two colors in three sizes. Here the six-item list of T-shirts is never built in memory: the generator expression feeds the for loop producing one item at a time."
   ]
  },
  {
   "cell_type": "code",
   "execution_count": 7,
   "metadata": {},
   "outputs": [
    {
     "name": "stdout",
     "output_type": "stream",
     "text": [
      "(black, S)\n",
      "(black, M)\n",
      "(black, L)\n",
      "(white, S)\n",
      "(white, M)\n",
      "(white, L)\n"
     ]
    }
   ],
   "source": [
    "colors = ['black', 'white']\n",
    "sizes = ['S', 'M', 'L']\n",
    "for tshirt in (f'({c}, {s})' for c in colors \n",
    "                          for s in sizes):\n",
    "    print(tshirt)"
   ]
  },
  {
   "cell_type": "markdown",
   "metadata": {},
   "source": [
    "## Tuples Are Not Just Immutable Lists\n",
    "Tuples can be used as immutable lists, and also as records with no field names."
   ]
  },
  {
   "cell_type": "markdown",
   "metadata": {},
   "source": [
    "### Tuples as Records\n",
    "When using a tuple as a collection of fields, the number of items is usually fixed and their order is always important"
   ]
  },
  {
   "cell_type": "code",
   "execution_count": 8,
   "metadata": {},
   "outputs": [
    {
     "name": "stdout",
     "output_type": "stream",
     "text": [
      "BRA/CE342567\n",
      "ESP/XDA205856\n",
      "USA/31195855\n",
      "USA\n",
      "BRA\n",
      "ESP\n"
     ]
    }
   ],
   "source": [
    "lax_coordinates = (33.9425, -118.408056)\n",
    "city, year, pop, chg, area = ('Tokyo', 2003, 32_450, 0.66, 8014)\n",
    "traveler_ids = [('USA', '31195855'), ('BRA', 'CE342567'), ('ESP', 'XDA205856')]\n",
    "for passport in sorted(traveler_ids):\n",
    "    print('%s/%s' % passport)\n",
    "for country, _ in traveler_ids:\n",
    "    print(country)"
   ]
  },
  {
   "cell_type": "markdown",
   "metadata": {},
   "source": [
    "### Tuples as Immutable Lists\n",
    "\n",
    "The Python interpreter and standard library make extensive use of tuples as immutable lists, and so should you. This brings two key benefits:\n",
    "- Clarity: When you see a `tuple` in code, you know *its length will never change*.\n",
    "- Performance: A `tuple` uses *less memory* than a `list` of the same length, and it allows Python to do some optimizations\n",
    "\n",
    "However, immutability of a tuple only applies to the references contained in it. References in a tuple cannot be deleted or replaced. But if one of those references points to a mutable object, and that object is changed, then the value of the tuple changes\n",
    "\n",
    "<img src=\"../images/1.png\" style=\"width: 40%;\">\n"
   ]
  },
  {
   "cell_type": "code",
   "execution_count": 8,
   "metadata": {},
   "outputs": [
    {
     "data": {
      "text/plain": [
       "(10, 'alpha', [1, 2])"
      ]
     },
     "execution_count": 8,
     "metadata": {},
     "output_type": "execute_result"
    }
   ],
   "source": [
    "a = (10, 'alpha', [1, 2])\n",
    "a"
   ]
  },
  {
   "cell_type": "code",
   "execution_count": 9,
   "metadata": {},
   "outputs": [
    {
     "ename": "TypeError",
     "evalue": "'tuple' object does not support item assignment",
     "output_type": "error",
     "traceback": [
      "\u001b[0;31m---------------------------------------------------------------------------\u001b[0m",
      "\u001b[0;31mTypeError\u001b[0m                                 Traceback (most recent call last)",
      "Cell \u001b[0;32mIn[9], line 1\u001b[0m\n\u001b[0;32m----> 1\u001b[0m a[\u001b[38;5;241m0\u001b[39m] \u001b[38;5;241m=\u001b[39m \u001b[38;5;241m11\u001b[39m\n",
      "\u001b[0;31mTypeError\u001b[0m: 'tuple' object does not support item assignment"
     ]
    }
   ],
   "source": [
    "a[0] = 11"
   ]
  },
  {
   "cell_type": "code",
   "execution_count": 10,
   "metadata": {},
   "outputs": [
    {
     "data": {
      "text/plain": [
       "(10, 'alpha', [1, 2, 99])"
      ]
     },
     "execution_count": 10,
     "metadata": {},
     "output_type": "execute_result"
    }
   ],
   "source": [
    "a[-1].append(99)\n",
    "a"
   ]
  },
  {
   "cell_type": "markdown",
   "metadata": {},
   "source": [
    "*Hence, tuples with mutable items can be a source of bugs*.  \n",
    "If you want to determine explicitly if a tuple (or any object) has a fixed value, you can use the hash built-in to create a fixed function like this"
   ]
  },
  {
   "cell_type": "code",
   "execution_count": 2,
   "metadata": {},
   "outputs": [
    {
     "name": "stdout",
     "output_type": "stream",
     "text": [
      "fixed(tf) = True\n",
      "unhashable type: 'list'\n",
      "fixed(tm) = False\n"
     ]
    }
   ],
   "source": [
    "def fixed(o):\n",
    "    try:\n",
    "        hash(o)\n",
    "    except TypeError as e:\n",
    "        print(e)\n",
    "        return False\n",
    "    return True\n",
    "\n",
    "tf = (10, 'alpha', (1, 2))\n",
    "tm = (10, 'alpha', [1, 2])\n",
    "\n",
    "print(f\"{fixed(tf) = }\")\n",
    "print(f\"{fixed(tm) = }\")\n"
   ]
  },
  {
   "cell_type": "markdown",
   "metadata": {},
   "source": [
    "Despite this caveat, tuples are widely used as immutable lists.\n",
    "- To evaluate a tuple literal, the Python compiler generates bytecode for a tuple constant in one operation; but for a list literal, the generated bytecode pushes each element as a separate constant to the data stack, and then builds the list.\n",
    "- Given a tuple t, `tuple(t)` simply returns a reference to the same t. There’s no need to copy. In contrast, given a list l, the `list(l)` constructor must create a new copy of l.\n",
    "- Because of its fixed length, a tuple instance is allocated the exact memory space it needs. Instances of list, on the other hand, are allocated with room to spare, to amortize the cost of future appends.\n",
    "- The references to the items in a tuple are stored in an array in the tuple struct, while a list holds a pointer to an array of references stored elsewhere. The indirection is necessary because when a list grows beyond the space currently allocated, Python needs to reallocate the array of references to make room. The extra indirection makes CPU caches less effective."
   ]
  },
  {
   "cell_type": "markdown",
   "metadata": {},
   "source": [
    "### Comparing Tuple and List Methods\n",
    "\n",
    "When using a tuple as an immutable variation of list, it is good to know how similar their APIs are. Tuple supports all list methods that do not involve adding or removing items, with one exception — tuple lacks the `__reversed__` method.\n",
    "\n",
    "<img src=\"../images/5.png\" style=\"width: 40%;\">"
   ]
  },
  {
   "cell_type": "markdown",
   "metadata": {},
   "source": [
    "## Unpacking Sequences and Iterables\n",
    "\n",
    "Unpacking is important because it avoids unnecessary and error-prone use of indexes to extract elements from sequences.  \n",
    "The most visible form of unpacking is parallel assignment;"
   ]
  },
  {
   "cell_type": "code",
   "execution_count": 3,
   "metadata": {},
   "outputs": [
    {
     "name": "stdout",
     "output_type": "stream",
     "text": [
      "33.9425 -118.408056\n"
     ]
    }
   ],
   "source": [
    "lax_coordinates = (33.9425, -118.408056)\n",
    "latitude, longitude = lax_coordinates # unpacking\n",
    "print(latitude, longitude)"
   ]
  },
  {
   "cell_type": "markdown",
   "metadata": {},
   "source": [
    "### Using `*` to Grab Excess Items"
   ]
  },
  {
   "cell_type": "markdown",
   "metadata": {},
   "source": [
    "Another example of unpacking is prefixing an argument with `*` when calling a function:"
   ]
  },
  {
   "cell_type": "code",
   "execution_count": 5,
   "metadata": {},
   "outputs": [
    {
     "name": "stdout",
     "output_type": "stream",
     "text": [
      "quotient = 2, remainder = 4\n"
     ]
    }
   ],
   "source": [
    "t = (20, 8)\n",
    "quotient, remainder = divmod(*t)\n",
    "print(f\"{quotient = }, {remainder = }\")"
   ]
  },
  {
   "cell_type": "markdown",
   "metadata": {},
   "source": [
    "### Unpacking with `*` in Function Calls and Sequence Literals"
   ]
  },
  {
   "cell_type": "markdown",
   "metadata": {},
   "source": [
    "In function calls, we can use `*` multiple times:"
   ]
  },
  {
   "cell_type": "code",
   "execution_count": 8,
   "metadata": {},
   "outputs": [
    {
     "data": {
      "text/plain": [
       "(1, 2, 3, 4, (5, 6))"
      ]
     },
     "execution_count": 8,
     "metadata": {},
     "output_type": "execute_result"
    }
   ],
   "source": [
    "def fun(a, b, c, d, *rest):\n",
    "    return a, b, c, d, rest\n",
    "\n",
    "fun(*[1, 2], 3, *range(4, 7))"
   ]
  },
  {
   "cell_type": "markdown",
   "metadata": {},
   "source": [
    "The `*` can also be used when defining `list`, `tuple`, or `set` literals"
   ]
  },
  {
   "cell_type": "code",
   "execution_count": 9,
   "metadata": {},
   "outputs": [
    {
     "name": "stdout",
     "output_type": "stream",
     "text": [
      "0 1 2 3 4\n",
      "[0, 1, 2, 3, 4]\n",
      "{0, 1, 2, 3, 4, 5, 6, 7}\n"
     ]
    }
   ],
   "source": [
    "print(*range(4), 4)\n",
    "print([*range(4), 4])\n",
    "print({*range(4), 4, *(5, 6, 7)})"
   ]
  },
  {
   "cell_type": "markdown",
   "metadata": {},
   "source": [
    "### Nested Unpacking"
   ]
  },
  {
   "cell_type": "code",
   "execution_count": 11,
   "metadata": {},
   "outputs": [
    {
     "name": "stdout",
     "output_type": "stream",
     "text": [
      "                |  latitude | longitude\n",
      "Mexico City     |   19.4333 |  -99.1333\n",
      "New York-Newark |   40.8086 |  -74.0204\n",
      "São Paulo       |  -23.5478 |  -46.6358\n"
     ]
    }
   ],
   "source": [
    "metro_areas = [\n",
    "    ('Tokyo', 'JP', 36.933, (35.689722, 139.691667)),\n",
    "    ('Delhi NCR', 'IN', 21.935, (28.613889, 77.208889)),\n",
    "    ('Mexico City', 'MX', 20.142, (19.433333, -99.133333)),\n",
    "    ('New York-Newark', 'US', 20.104, (40.808611, -74.020386)),\n",
    "    ('São Paulo', 'BR', 19.649, (-23.547778, -46.635833)),\n",
    "]\n",
    "\n",
    "def main():\n",
    "    print(f'{\"\":15} | {\"latitude\":>9} | {\"longitude\":>9}')\n",
    "    for name, _, _, (lat, lon) in metro_areas:  # unpacking here\n",
    "        if lon <= 0:\n",
    "            print(f'{name:15} | {lat:9.4f} | {lon:9.4f}')\n",
    "\n",
    "main()"
   ]
  },
  {
   "cell_type": "markdown",
   "metadata": {},
   "source": [
    "## Pattern Matching with Sequences\n",
    "The most visible new feature in Python 3.10 is pattern matching with the `match/case` statement, which uses destructuring — a more advanced form of unpacking.\n",
    "```python\n",
    "def handle_command(self, message):\n",
    "    match message:  # message can be a list of different patterns\n",
    "        case ['BEEPER', frequency, times]:\n",
    "            self.beep(times, frequency)\n",
    "        case ['NECK', angle]:\n",
    "            self.rotate_neck(angle)\n",
    "        case ['LED', ident, intensity]:\n",
    "            self.leds[ident].set_brightness(ident, intensity)\n",
    "        case ['LED', ident, red, green, blue]:\n",
    "            self.leds[ident].set_color(ident, red, green, blue)\n",
    "        case _:\n",
    "            raise InvalidCommand(message)\n",
    "```\n",
    "\n",
    "A sequence pattern can match instances of most actual or virtual subclasses of `collections.abc.Sequence` (`list`, `tuple`, `memoryview`, `range`, `array.array`, `collections.deque`), with the exception of `str`, `bytes`, and `bytearray`.\n",
    "\n",
    "<img src=\"../images/6.png\" style=\"width: 80%;\">"
   ]
  },
  {
   "cell_type": "markdown",
   "metadata": {},
   "source": [
    "## Slicing\n",
    "A common feature of `list`, `tuple`, `str`, and all sequence types in Python is the support of slicing operations, which are more powerful than most people realize"
   ]
  },
  {
   "cell_type": "markdown",
   "metadata": {},
   "source": [
    "### Why Slices and Ranges Exclude the Last Item\n",
    "- It’s easy to see the length of a slice or range when only the stop position is given: `range(3)` and `my_list[:3]` both produce three items.\n",
    "- It’s easy to compute the length of a slice or range when start and stop are given: just subtract `stop - start`.\n",
    "- It’s easy to split a sequence in two parts at any index x, without overlapping: simply get `my_list[:x]` and `my_list[x:]`."
   ]
  },
  {
   "cell_type": "code",
   "execution_count": 12,
   "metadata": {},
   "outputs": [
    {
     "name": "stdout",
     "output_type": "stream",
     "text": [
      "l[:2] = [10, 20]\n",
      "l[2:] = [30, 40, 50, 60]\n"
     ]
    }
   ],
   "source": [
    "l = [10, 20, 30, 40, 50, 60]\n",
    "print(f\"{l[:2] = }\")\n",
    "print(f\"{l[2:] = }\")"
   ]
  },
  {
   "cell_type": "markdown",
   "metadata": {},
   "source": [
    "### Slice Objects\n",
    "This is no secret, but worth repeating just in case: `s[a:b:c]` can be used to specify a stride or step `c`, causing the resulting slice to skip items."
   ]
  },
  {
   "cell_type": "code",
   "execution_count": 17,
   "metadata": {},
   "outputs": [
    {
     "name": "stdout",
     "output_type": "stream",
     "text": [
      "s[::3] = 'bye'\n",
      "s[::-1] = 'elcycib'\n"
     ]
    }
   ],
   "source": [
    "s = 'bicycle'\n",
    "print(f\"{s[::3] = }\")\n",
    "print(f\"{s[::-1] = }\")"
   ]
  },
  {
   "cell_type": "code",
   "execution_count": 19,
   "metadata": {},
   "outputs": [
    {
     "data": {
      "text/plain": [
       "[Card(rank='A', suit='spades'),\n",
       " Card(rank='A', suit='diamonds'),\n",
       " Card(rank='A', suit='clubs'),\n",
       " Card(rank='A', suit='hearts')]"
      ]
     },
     "execution_count": 19,
     "metadata": {},
     "output_type": "execute_result"
    }
   ],
   "source": [
    "import collections\n",
    "\n",
    "Card = collections.namedtuple('Card', ['rank', 'suit'])\n",
    "\n",
    "class FrenchDeck:\n",
    "    ranks = [str(n) for n in range(2, 11)] + list('JQKA')\n",
    "    suits = 'spades diamonds clubs hearts'.split()\n",
    "    \n",
    "    def __init__(self):\n",
    "        self._cards = [Card(rank, suit) for suit in self.suits\n",
    "                                        for rank in self.ranks]\n",
    "    def __len__(self):\n",
    "        return len(self._cards)\n",
    "    \n",
    "    def __getitem__(self, position):\n",
    "        return self._cards[position]\n",
    "    \n",
    "deck = FrenchDeck()\n",
    "deck[12::13]"
   ]
  },
  {
   "cell_type": "markdown",
   "metadata": {},
   "source": [
    "To evaluate the expression `seq[start:stop:step]`, Python calls `seq.__getitem__(slice(start, stop, step))`"
   ]
  },
  {
   "cell_type": "markdown",
   "metadata": {},
   "source": [
    "### Multidimensional Slicing and Ellipsis\n",
    "The `[]` operator can also take multiple indexes or slices separated by commas. The `__getitem__` and `__setitem__` special methods that handle the `[]` operator simply receive the indices in `a[i, j]` as a tuple. In other words, to evaluate `a[i, j]`, Python calls `a.__getitem__((i, j))`\n",
    "\n",
    "This is used, for instance, in the external NumPy package, where items of a two dimensional numpy.ndarray can be fetched using the syntax `a[i, j]` and a two-dimensional slice obtained with an expression like `a[m:n, k:l]`."
   ]
  },
  {
   "cell_type": "code",
   "execution_count": 29,
   "metadata": {},
   "outputs": [
    {
     "name": "stdout",
     "output_type": "stream",
     "text": [
      "a = array([[ 0,  1,  2,  3],\n",
      "       [ 4,  5,  6,  7],\n",
      "       [ 8,  9, 10, 11]])\n",
      "a[2, 1] = 9\n",
      "a[2, 1:4] = array([ 9, 10, 11])\n"
     ]
    }
   ],
   "source": [
    "import numpy as np\n",
    "\n",
    "a = np.arange(12)\n",
    "a.shape = (3, 4)\n",
    "print(f\"{a = }\")\n",
    "print(f\"{a[2, 1] = }\")\n",
    "print(f\"{a[2, 1:4] = }\")"
   ]
  },
  {
   "cell_type": "markdown",
   "metadata": {},
   "source": [
    "The ellipsis—written with three full stops (`...`) is an alias to the Ellipsis object, the single instance of the ellipsis class. As such, it can be passed as an argument to functions and as part of a slice specification, as in `f(a, ..., z)` or `a[i:...]`"
   ]
  },
  {
   "cell_type": "code",
   "execution_count": 39,
   "metadata": {},
   "outputs": [
    {
     "name": "stdout",
     "output_type": "stream",
     "text": [
      "[[1 2 3]\n",
      " [4 5 6]\n",
      " [7 8 9]]\n"
     ]
    },
    {
     "data": {
      "text/plain": [
       "array([1, 4, 7])"
      ]
     },
     "execution_count": 39,
     "metadata": {},
     "output_type": "execute_result"
    }
   ],
   "source": [
    "import numpy as np\n",
    "\n",
    "arr = np.array([[1, 2, 3], [4, 5, 6], [7, 8, 9]])\n",
    "\n",
    "# Using ... to slice the array\n",
    "print(arr)\n",
    "arr[..., 0]  # row whatever, col 0"
   ]
  },
  {
   "cell_type": "markdown",
   "metadata": {},
   "source": [
    "### Assigning to Slices\n",
    "Mutable sequences can be grafted, excised, and otherwise modified in place using slice notation on the lefthand side of an assignment statement or as the target of a `del` statement"
   ]
  },
  {
   "cell_type": "code",
   "execution_count": 43,
   "metadata": {},
   "outputs": [
    {
     "name": "stdout",
     "output_type": "stream",
     "text": [
      "[0, 1, 2, 3, 4, 5, 6, 7, 8, 9]\n",
      "[0, 1, 20, 30, 5, 6, 7, 8, 9]\n",
      "[0, 1, 20, 30, 5, 8, 9]\n"
     ]
    }
   ],
   "source": [
    "l = list(range(10))\n",
    "print(l)\n",
    "l[2:5] = [20, 30]\n",
    "print(l)\n",
    "del l[5:7]\n",
    "print(l)"
   ]
  },
  {
   "cell_type": "markdown",
   "metadata": {},
   "source": [
    "## Using `+` and `*` with Sequences\n",
    "Both `+` and `*` always create a new object, and never change their operands."
   ]
  },
  {
   "cell_type": "code",
   "execution_count": 47,
   "metadata": {},
   "outputs": [
    {
     "name": "stdout",
     "output_type": "stream",
     "text": [
      "l * 5 = [1, 2, 3, 1, 2, 3, 1, 2, 3, 1, 2, 3, 1, 2, 3]\n",
      "5 * 'abcd' = 'abcdabcdabcdabcdabcd'\n"
     ]
    }
   ],
   "source": [
    "l = [1, 2, 3]\n",
    "print(f\"{l * 5 = }\")\n",
    "[1, 2, 3, 1, 2, 3, 1, 2, 3, 1, 2, 3, 1, 2, 3]\n",
    "print(f\"{5 * 'abcd' = }\")"
   ]
  },
  {
   "cell_type": "markdown",
   "metadata": {},
   "source": [
    "### Building Lists of Lists"
   ]
  },
  {
   "cell_type": "code",
   "execution_count": 52,
   "metadata": {},
   "outputs": [
    {
     "name": "stdout",
     "output_type": "stream",
     "text": [
      "[['_', '_', '_'], ['_', '_', '_'], ['_', '_', '_']]\n",
      "[['_', '_', '_'], ['_', '_', 'X'], ['_', '_', '_']]\n"
     ]
    }
   ],
   "source": [
    "# A list with three lists of length 3 can represent a tic-tac-toe board\n",
    "board = [['_'] * 3 for i in range(3)]\n",
    "print(board)\n",
    "board[1][2] = 'X'\n",
    "print(board)"
   ]
  },
  {
   "cell_type": "code",
   "execution_count": 53,
   "metadata": {},
   "outputs": [
    {
     "name": "stdout",
     "output_type": "stream",
     "text": [
      "weird_board = [['_', '_', '_'], ['_', '_', '_'], ['_', '_', '_']]\n",
      "weird_board = [['_', '_', 'O'], ['_', '_', 'O'], ['_', '_', 'O']]\n"
     ]
    }
   ],
   "source": [
    "# A list with three references to the same list is useless\n",
    "weird_board = [['_'] * 3] * 3\n",
    "print(f\"{weird_board = }\")\n",
    "weird_board[1][2] = 'O'\n",
    "print(f\"{weird_board = }\")"
   ]
  },
  {
   "cell_type": "markdown",
   "metadata": {},
   "source": [
    "### Augmented Assignment with Sequences\n",
    "The special method that makes `+=` work is `__iadd__` (for “in-place addition”). However, when `a` does not implement `__iadd__`, the expression `a += b` has the same effect as `a = a + b`: the expression `a + b` is evaluated first, producing a new object, which is then bound to `a`. In other words, the identity of the object bound to a may or may not change, depending on the availability of\n",
    "`__iadd__`. Everything is similar to `*=` with `__imul__`  \n",
    "\n",
    "Example of `*=` with a mutable sequence and then an immutable one"
   ]
  },
  {
   "cell_type": "code",
   "execution_count": 55,
   "metadata": {},
   "outputs": [],
   "source": [
    "# identity of l is not changed since l is a mutable list\n",
    "l = [1, 2, 3]\n",
    "id1 = id(l)\n",
    "l *= 2\n",
    "assert id(l) == id1"
   ]
  },
  {
   "cell_type": "code",
   "execution_count": 58,
   "metadata": {},
   "outputs": [],
   "source": [
    "# After multiplication, a new tuple was created\n",
    "t = (1, 2, 3)\n",
    "id1 = id(t)\n",
    "t *= 2\n",
    "assert id(t) != id1"
   ]
  },
  {
   "cell_type": "markdown",
   "metadata": {},
   "source": [
    "### A += Assignment Puzzler\n",
    "Below is a very interesting problem"
   ]
  },
  {
   "cell_type": "code",
   "execution_count": 63,
   "metadata": {},
   "outputs": [
    {
     "name": "stdout",
     "output_type": "stream",
     "text": [
      "(1, 2, [30, 40])\n"
     ]
    },
    {
     "ename": "TypeError",
     "evalue": "'tuple' object does not support item assignment",
     "output_type": "error",
     "traceback": [
      "\u001b[0;31m---------------------------------------------------------------------------\u001b[0m",
      "\u001b[0;31mTypeError\u001b[0m                                 Traceback (most recent call last)",
      "Cell \u001b[0;32mIn[63], line 3\u001b[0m\n\u001b[1;32m      1\u001b[0m t \u001b[38;5;241m=\u001b[39m (\u001b[38;5;241m1\u001b[39m, \u001b[38;5;241m2\u001b[39m, [\u001b[38;5;241m30\u001b[39m, \u001b[38;5;241m40\u001b[39m])\n\u001b[1;32m      2\u001b[0m \u001b[38;5;28mprint\u001b[39m(t)\n\u001b[0;32m----> 3\u001b[0m t[\u001b[38;5;241m2\u001b[39m] \u001b[38;5;241m+\u001b[39m\u001b[38;5;241m=\u001b[39m [\u001b[38;5;241m50\u001b[39m, \u001b[38;5;241m60\u001b[39m]\n\u001b[1;32m      4\u001b[0m t\n",
      "\u001b[0;31mTypeError\u001b[0m: 'tuple' object does not support item assignment"
     ]
    }
   ],
   "source": [
    "t = (1, 2, [30, 40])\n",
    "print(t)\n",
    "t[2] += [50, 60]"
   ]
  },
  {
   "cell_type": "code",
   "execution_count": 64,
   "metadata": {},
   "outputs": [
    {
     "data": {
      "text/plain": [
       "(1, 2, [30, 40, 50, 60])"
      ]
     },
     "execution_count": 64,
     "metadata": {},
     "output_type": "execute_result"
    }
   ],
   "source": [
    "t"
   ]
  },
  {
   "cell_type": "code",
   "execution_count": 68,
   "metadata": {},
   "outputs": [
    {
     "name": "stdout",
     "output_type": "stream",
     "text": [
      "  1           0 LOAD_NAME                0 (s)\n",
      "              2 LOAD_NAME                1 (a)\n",
      "              4 DUP_TOP_TWO\n",
      "              6 BINARY_SUBSCR\n",
      "              8 LOAD_NAME                2 (b)\n",
      "             10 INPLACE_ADD\n",
      "             12 ROT_THREE\n",
      "             14 STORE_SUBSCR\n",
      "             16 LOAD_CONST               0 (None)\n",
      "             18 RETURN_VALUE\n"
     ]
    }
   ],
   "source": [
    "import dis\n",
    "dis.dis('s[a] += b')"
   ]
  },
  {
   "cell_type": "markdown",
   "metadata": {},
   "source": [
    "Lessons:\n",
    "- Avoid putting mutable items in tuples.\n",
    "- Augmented assignment is not an atomic operation—we just saw it throwing an exception after doing part of its job.\n",
    "- Inspecting Python bytecode is not too difficult, and can be helpful to see what is going on under the hood."
   ]
  },
  {
   "cell_type": "markdown",
   "metadata": {},
   "source": [
    "## `list.sort` vs the `sorted` built-in"
   ]
  },
  {
   "cell_type": "markdown",
   "metadata": {},
   "source": [
    "The `list.sort` method sorts a list in place—that is, without making a copy. It returns `None` to remind us that it changes the receiver and does not create a new list. \n",
    "\n",
    "*Functions or methods that change an object inplace should return `None` to make it clear to the caller that the receiver was changed, and no new object was created.*\n",
    "\n",
    "In contrast, the built-in function `sorted` creates a new list and returns it. It accepts any iterable object as an argument, including immutable sequences and generators.\n",
    "\n",
    "Both `list.sort` and `sorted` take two optional, keyword-only arguments:\n",
    "- `reverse`: If True, the items are returned in descending order (i.e., by reversing the comparison of the items). The default is `False`\n",
    "- `key`: A one-argument function that will be applied to each item to produce its sorting key."
   ]
  },
  {
   "cell_type": "code",
   "execution_count": 71,
   "metadata": {},
   "outputs": [
    {
     "name": "stdout",
     "output_type": "stream",
     "text": [
      "sorted(fruits): ['apple', 'banana', 'grape', 'raspberry']\n",
      "fruits: ['grape', 'raspberry', 'apple', 'banana']\n",
      "sorted(fruits, reverse=True): ['raspberry', 'grape', 'banana', 'apple']\n",
      "sorted(fruits, key=len): ['grape', 'apple', 'banana', 'raspberry']\n",
      "sorted(fruits, key=len, reverse=True): ['raspberry', 'banana', 'grape', 'apple']\n",
      "fruits: ['grape', 'raspberry', 'apple', 'banana']\n"
     ]
    }
   ],
   "source": [
    "fruits = ['grape', 'raspberry', 'apple', 'banana']\n",
    "fruits = ['grape', 'raspberry', 'apple', 'banana']\n",
    "print(f\"sorted(fruits): {sorted(fruits)}\")  \n",
    "print(f\"fruits: {fruits}\")  \n",
    "print(f\"sorted(fruits, reverse=True): {sorted(fruits, reverse=True)}\")\n",
    "print(f\"sorted(fruits, key=len): {sorted(fruits, key=len)}\")   \n",
    "print(f\"sorted(fruits, key=len, reverse=True): {sorted(fruits, key=len, reverse=True)}\")  \n",
    "print(f\"fruits: {fruits}\")"
   ]
  },
  {
   "cell_type": "code",
   "execution_count": 72,
   "metadata": {},
   "outputs": [
    {
     "data": {
      "text/plain": [
       "['apple', 'banana', 'grape', 'raspberry']"
      ]
     },
     "execution_count": 72,
     "metadata": {},
     "output_type": "execute_result"
    }
   ],
   "source": [
    "fruits.sort()\n",
    "fruits  # ['apple', 'banana', 'grape', 'raspberry']"
   ]
  },
  {
   "cell_type": "markdown",
   "metadata": {},
   "source": [
    "## When a List is Not the Answer\n",
    "\n",
    "The `list` type is flexible and easy to use, but depending on specific requirements,\n",
    "there are better options. For example, \n",
    "- `array`: An `array` saves a lot of memory when you need to *handle millions of floating-point values*. \n",
    "- `deque`: If you are *constantly adding and removing items from opposite ends* of a list, it’s good to know that a `deque` (double-ended queue) is a more efficient FIFO data structure.\n",
    "- `set`: If your code *frequently checks whether an item is present in a collection* (e.g., `item` in `my_collection`), consider using a `set` for `my_collection`, especially if it holds a large number of items. Sets are optimized for fast membership checking. They are also iterable, but they are not sequences because the ordering of set items is unspecified. The arrangement you see when you print a `set` is not due to any internal sorting but rather the result of how Python stores the elements for efficient access. This storage method is based on the hash values of the elements and can vary between different runs of a program"
   ]
  },
  {
   "cell_type": "code",
   "execution_count": 4,
   "metadata": {},
   "outputs": [
    {
     "name": "stdout",
     "output_type": "stream",
     "text": [
      "a = {1, 2, 3}\n",
      "a = {0, 1, 2, 3}\n"
     ]
    }
   ],
   "source": [
    "a = {1,2,3}\n",
    "print(f\"{a = }\")\n",
    "a.add(0)  # will be added to the front\n",
    "print(f\"{a = }\")"
   ]
  },
  {
   "cell_type": "code",
   "execution_count": 5,
   "metadata": {},
   "outputs": [
    {
     "name": "stdout",
     "output_type": "stream",
     "text": [
      "a = {0, 1, 2, 3, 4}\n"
     ]
    }
   ],
   "source": [
    "a.add(4)  # will be added to the back\n",
    "print(f\"{a = }\")"
   ]
  },
  {
   "cell_type": "markdown",
   "metadata": {},
   "source": [
    "### Array\n",
    "\n",
    "If a list only contains numbers, an `array.array` is a more efficient replacement. Arrays support all mutable sequence operations (including `.pop`, `.insert`, and `.extend`), as well as additional methods for fast loading and saving, such as `.frombytes` and `.tofile`."
   ]
  },
  {
   "cell_type": "code",
   "execution_count": 8,
   "metadata": {},
   "outputs": [],
   "source": [
    "from array import array\n",
    "from random import random\n",
    "\n",
    "# Create an array of 'd' type (double) with 10 million random float values\n",
    "floats = array('d', (random() for i in range(10**7)))\n",
    "# Access the last element of the array\n",
    "floats[-1]\n",
    "# Open a binary file 'floats.bin' in write mode\n",
    "fp = open('floats.bin', 'wb')\n",
    "# Write the contents of the 'floats' array to the binary file\n",
    "floats.tofile(fp)\n",
    "# Close the file\n",
    "fp.close()\n",
    "# Create an empty array of 'd' type\n",
    "floats2 = array('d')\n",
    "# Open the binary file 'floats.bin' in read mode\n",
    "fp = open('floats.bin', 'rb')\n",
    "# Read the contents of the binary file into the 'floats2' array\n",
    "floats2.fromfile(fp, 10**7)\n",
    "# Close the file\n",
    "fp.close()\n",
    "# Access the last element of the 'floats2' array\n",
    "floats2[-1]\n",
    "# Check if the 'floats2' array is equal to the 'floats' array\n",
    "floats2 == floats\n",
    "# remove the file\n",
    "import os\n",
    "os.remove(\"floats.bin\")"
   ]
  },
  {
   "cell_type": "markdown",
   "metadata": {},
   "source": [
    "### Memory Views\n",
    "A memoryview is essentially a generalized NumPy array structure in Python itself (without the math). It allows you to share memory between data-structures (things like PIL images, SQLite databases, NumPy arrays, etc.) without first copying. This is very important for large data sets."
   ]
  },
  {
   "cell_type": "code",
   "execution_count": 14,
   "metadata": {},
   "outputs": [
    {
     "data": {
      "text/plain": [
       "[[0, 1, 2], [3, 4, 5]]"
      ]
     },
     "execution_count": 14,
     "metadata": {},
     "output_type": "execute_result"
    }
   ],
   "source": [
    "from array import array\n",
    "\n",
    "octets = array('B', range(6))  # Build array of 6 bytes (typecode 'B').\n",
    "m1 = memoryview(octets)  # Build memoryview from that array, then export it as a list.\n",
    "m2 = m1.cast('B', [2, 3])  # Build new memoryview from that previous one, but with 2 rows and 3 columns.\n",
    "m2.tolist()"
   ]
  },
  {
   "cell_type": "markdown",
   "metadata": {},
   "source": [
    "### NumPy\n",
    "For advanced array and matrix operations, NumPy is the reason why Python became mainstream in scientific computing applications. NumPy implements multidimensional, homogeneous arrays and matrix types that hold not only numbers but also user-defined records, and provides efficient element-wise operations.\n",
    "\n",
    "Scipy is written on top of Numpy offering many scientific computing algorithms from linear algebra, numerical calculus, and statistics.\n",
    "\n",
    "Most NumPy and SciPy functions are implemented in C or C++, and can leverage all CPU cores because they release Python’s GIL (Global Interpreter Lock).  \n",
    "\n",
    "Other awesome Python frameworks written on top of Numpy and Scipy:\n",
    "- `Pandas` implements efficient array types that can hold non-numeric data and provides import/export functions for many different formats, like .csv, .xls, SQL dumps, HDF5, etc\n",
    "- Scikit-learn, currently the most widely used Machine Learning toolset\n",
    "- The Dask project supports parallelizing NumPy, Pandas, and scikit-learn processing across clusters of machines"
   ]
  },
  {
   "cell_type": "markdown",
   "metadata": {},
   "source": [
    "### Deques and Other Queues\n",
    "\n",
    "The `.append` and `.pop` methods make a list usable as a stack or a queue (if you use `.append` and `.pop(0)`, you get FIFO behavior). But inserting and removing from the head of a list (the 0-index end) is costly because the entire list must be shifted in memory.\n",
    "\n",
    "The class collections.deque is a thread-safe double-ended queue designed for fast inserting and removing from both ends.\n",
    "\n",
    "`queue` can also be bounded: If a bounded deque is full, when you add\n",
    "a new item, it discards an item from the opposite end"
   ]
  },
  {
   "cell_type": "code",
   "execution_count": 15,
   "metadata": {},
   "outputs": [
    {
     "name": "stdout",
     "output_type": "stream",
     "text": [
      "deque([0, 1, 2, 3, 4, 5, 6, 7, 8, 9], maxlen=10)\n",
      "deque([7, 8, 9, 0, 1, 2, 3, 4, 5, 6], maxlen=10)\n",
      "deque([-1, 7, 8, 9, 0, 1, 2, 3, 4, 5], maxlen=10)\n",
      "deque([9, 0, 1, 2, 3, 4, 5, 11, 22, 33], maxlen=10)\n"
     ]
    }
   ],
   "source": [
    "from collections import deque\n",
    "\n",
    "dq = deque(range(10), maxlen=10)\n",
    "print(dq)\n",
    "dq.rotate(3)\n",
    "print(dq)\n",
    "dq.appendleft(-1)\n",
    "print(dq)\n",
    "dq.extend([11, 22, 33])\n",
    "print(dq)"
   ]
  },
  {
   "cell_type": "markdown",
   "metadata": {},
   "source": [
    "Besides deque, other Python standard library packages implement queues:\n",
    "- `queue`: This provides the synchronized (i.e., thread-safe) classes `SimpleQueue`, `Queue`, `LifoQueue`, and `PriorityQueue`. These can be used for safe communication between threads.\n",
    "- `multiprocessing`: Implements its own unbounded `SimpleQueue` and bounded `Queue`, very similar to those in the `queue` package, but designed for interprocess communication.\n",
    "- `asyncio`: Provides `Queue`, `LifoQueue`, `PriorityQueue`, and `JoinableQueue` with APIs inspired by the classes in the `queue` and multiprocessing modules, but adapted for managing tasks in asynchronous programming.\n",
    "- `heapq`: In contrast to the previous three modules, `heapq` does not implement a `queue` class, but provides functions like `heappush` and `heappop` that let you use a mutable sequence as a heap queue or priority queue."
   ]
  },
  {
   "cell_type": "markdown",
   "metadata": {},
   "source": []
  }
 ],
 "metadata": {
  "kernelspec": {
   "display_name": "base",
   "language": "python",
   "name": "python3"
  },
  "language_info": {
   "codemirror_mode": {
    "name": "ipython",
    "version": 3
   },
   "file_extension": ".py",
   "mimetype": "text/x-python",
   "name": "python",
   "nbconvert_exporter": "python",
   "pygments_lexer": "ipython3",
   "version": "3.10.13"
  }
 },
 "nbformat": 4,
 "nbformat_minor": 2
}
