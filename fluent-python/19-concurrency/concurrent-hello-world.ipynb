{
 "cells": [
  {
   "attachments": {},
   "cell_type": "markdown",
   "metadata": {},
   "source": [
    "## Spinner with Threads"
   ]
  },
  {
   "attachments": {},
   "cell_type": "markdown",
   "metadata": {},
   "source": [
    "Idea: \n",
    "Below, we have 2 functions (`slow` and `spin`).  \n",
    "Start a function (`slow`) that blocks for 3 seconds while animating characters in the terminal to let the user know that the program is “thinking” and not stalled.  \n",
    "The `spin` function makes an animated spinner displaying each character in the string `\\|/-` in the same screen position. When the slow computation finishes, the line with the spinner is cleared and the result is shown (42)."
   ]
  },
  {
   "cell_type": "code",
   "execution_count": 1,
   "metadata": {},
   "outputs": [],
   "source": [
    "import itertools\n",
    "import time\n",
    "from threading import Thread, Event\n",
    "\n",
    "\n",
    "def spin(msg: str, done: Event) -> None:  # This function will run in a separate thread. Event is used to synchronize threads \n",
    "    for char in itertools.cycle(r'\\|/-'):  # This is an infinite loop because itertools.cycle yields one character at a time\n",
    "        status = f'\\r{char} {msg}'  # Trick for text-mode animation: move the cursor back to the start of the line with the carriage return ASCII control character ('\\r').\n",
    "        print(status, end='', flush=True)\n",
    "        if done.wait(.1):  # .wait returns True when the event is set() by another thread; if the timeout elapses, it returns False\n",
    "            break  # Exit the infinite loop\n",
    "    blanks = ' ' * len(status)\n",
    "    print(f'\\r{blanks}\\r', end='')  # <6>\n",
    "\n",
    "\n",
    "def slow() -> int:\n",
    "    time.sleep(3)  # slow() will be called by the main thread. Imagine this is a slow API call over the network.\n",
    "    return 42"
   ]
  },
  {
   "attachments": {},
   "cell_type": "markdown",
   "metadata": {},
   "source": [
    "&#128212; `time.sleep()` blocks the calling thread but releases the GIL, allowing other Python threads to run."
   ]
  },
  {
   "attachments": {},
   "cell_type": "markdown",
   "metadata": {},
   "source": [
    "Now let's call the above 2 functions"
   ]
  },
  {
   "cell_type": "code",
   "execution_count": 2,
   "metadata": {},
   "outputs": [
    {
     "name": "stdout",
     "output_type": "stream",
     "text": [
      "spinner object: <Thread(Thread-4 (spin), initial)>\n",
      "Answer: 42  \n"
     ]
    }
   ],
   "source": [
    "def supervisor() -> int:  # supervisor will return the result of slow\n",
    "    done = Event()  # Event is used to coordinate the main thread and spinner thread\n",
    "    spinner = Thread(target=spin, args=('thinking!', done))  # Run a new thread with the spin function as target\n",
    "    print(f'spinner object: {spinner}')  # the spinner object will be <Thread(Thread-1, initial)>, where initial means the thread is not started yet\n",
    "    spinner.start()  # Start the spinner thread.\n",
    "    result = slow()  # Call slow, which blocks the main thread. Meanwhile, the spinner thread is running.\n",
    "    done.set()  # Set the Event flag to True; this will terminate the for loop inside the spin function\n",
    "    spinner.join()  # Wait until the spinner thread finishes.\n",
    "    return result\n",
    "\n",
    "\n",
    "def main() -> None:\n",
    "    result = supervisor()  # Run the supervisor function.\n",
    "    print(f'Answer: {result}')\n",
    "\n",
    "\n",
    "main()"
   ]
  },
  {
   "cell_type": "markdown",
   "metadata": {},
   "source": []
  }
 ],
 "metadata": {
  "kernelspec": {
   "display_name": ".venv",
   "language": "python",
   "name": "python3"
  },
  "language_info": {
   "codemirror_mode": {
    "name": "ipython",
    "version": 3
   },
   "file_extension": ".py",
   "mimetype": "text/x-python",
   "name": "python",
   "nbconvert_exporter": "python",
   "pygments_lexer": "ipython3",
   "version": "3.10.8"
  },
  "orig_nbformat": 4
 },
 "nbformat": 4,
 "nbformat_minor": 2
}
