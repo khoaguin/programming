{
 "cells": [
  {
   "cell_type": "markdown",
   "metadata": {},
   "source": [
    "## Container vs Flat Sequences, Mutable vs Immutable Sequences\n",
    "\n",
    "**Container sequences** \n",
    "- can hold items of different types, including nested containers. Some examples: `list`, `tuple`, and `collections.deque`.\n",
    "- holds references to the objects it contains, which may be of any type\n",
    "\n",
    "\n",
    "**Flat sequences** \n",
    "- hold items of one simple type. Some examples: `str`, `bytes`, and `array.array`.\n",
    "- stores the value of its contents in its own memory space, not as distinct Python objects.\n",
    "- flat sequences are more compact than container sequences, but they are limited to holding primitive machine values like bytes, integers, and floats.\n",
    "\n",
    "### Another way of grouping sequence types is by mutability:\n",
    "\n",
    "- **Mutable sequences**, e.g. `list`, `bytearray`, `array.array`, and `collections.deque`. Mutable sequences inherit all methods from immuta‐\n",
    "ble sequences\n",
    "- **Immutable sequences**, e.g. `tuple`, `str`, and `bytes`.\n"
   ]
  },
  {
   "cell_type": "code",
   "execution_count": 5,
   "metadata": {},
   "outputs": [
    {
     "data": {
      "text/plain": [
       "[1, '2', [2.5, 3.2]]"
      ]
     },
     "execution_count": 5,
     "metadata": {},
     "output_type": "execute_result"
    }
   ],
   "source": [
    "a = []\n",
    "a.append(1)\n",
    "a.append('2')\n",
    "a.append([2.5, 3.2])\n",
    "a"
   ]
  },
  {
   "cell_type": "markdown",
   "metadata": {},
   "source": [
    "## List Comprehensions and Generator Expressions"
   ]
  },
  {
   "cell_type": "markdown",
   "metadata": {},
   "source": [
    "A list comprehension is more explicit. Its goal is always to build a new list. If you do not do anything else with the produced list, don't use this syntax. Also, keep it short"
   ]
  },
  {
   "cell_type": "markdown",
   "metadata": {},
   "source": [
    "### Local Scope Within Comprehensions and Generator Expressions\n",
    "Variables assigned with the “Walrus operator” `:=` remain accessible after\n",
    "those comprehensions or expressions return—unlike local variables in a function."
   ]
  },
  {
   "cell_type": "code",
   "execution_count": 10,
   "metadata": {},
   "outputs": [
    {
     "name": "stdout",
     "output_type": "stream",
     "text": [
      "codes = [65, 66, 67]\n",
      "last = 67\n"
     ]
    }
   ],
   "source": [
    "x = 'ABC'\n",
    "codes = [last := ord(c) for c in x]\n",
    "print(f\"{codes = }\")\n",
    "print(f\"{last = }\")"
   ]
  },
  {
   "cell_type": "markdown",
   "metadata": {},
   "source": [
    "### Listcomps Versus map and filter\n",
    "Listcomps do everything the map and filter functions do, without the contortions of the functionally challenged Python `lambda`. And listcomps are not slower than map and filter"
   ]
  },
  {
   "cell_type": "code",
   "execution_count": 18,
   "metadata": {},
   "outputs": [
    {
     "name": "stdout",
     "output_type": "stream",
     "text": [
      "beyond_ascii == beyond_ascii_filter_map = True\n"
     ]
    }
   ],
   "source": [
    "symbols = '$¢£¥€¤'\n",
    "beyond_ascii = [ord(s) for s in symbols if ord(s) > 127]\n",
    "beyond_ascii_filter_map = list(filter(lambda c: c > 127, map(ord, symbols)))\n",
    "print(f\"{beyond_ascii == beyond_ascii_filter_map = }\")"
   ]
  },
  {
   "cell_type": "code",
   "execution_count": null,
   "metadata": {},
   "outputs": [],
   "source": []
  },
  {
   "cell_type": "code",
   "execution_count": null,
   "metadata": {},
   "outputs": [],
   "source": []
  }
 ],
 "metadata": {
  "kernelspec": {
   "display_name": "base",
   "language": "python",
   "name": "python3"
  },
  "language_info": {
   "codemirror_mode": {
    "name": "ipython",
    "version": 3
   },
   "file_extension": ".py",
   "mimetype": "text/x-python",
   "name": "python",
   "nbconvert_exporter": "python",
   "pygments_lexer": "ipython3",
   "version": "3.10.8"
  }
 },
 "nbformat": 4,
 "nbformat_minor": 2
}
