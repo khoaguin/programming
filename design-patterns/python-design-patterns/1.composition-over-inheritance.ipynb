{
 "cells": [
  {
   "cell_type": "markdown",
   "metadata": {},
   "source": [
    "## Problem: the subclass explosion"
   ]
  },
  {
   "cell_type": "code",
   "execution_count": 4,
   "metadata": {},
   "outputs": [],
   "source": [
    "import sys\n",
    "import syslog\n",
    "\n",
    "# The initial class.\n",
    "class Logger(object):\n",
    "    def __init__(self, file):\n",
    "        self.file = file\n",
    "\n",
    "    def log(self, message):\n",
    "        self.file.write(message + '\\n')\n",
    "        self.file.flush()\n",
    "\n",
    "\n",
    "# Two more classes, that send messages elsewhere.\n",
    "class SocketLogger(Logger):\n",
    "    def __init__(self, sock):\n",
    "        self.sock = sock\n",
    "\n",
    "    def log(self, message):\n",
    "        self.sock.sendall((message + '\\n').encode('ascii'))\n",
    "\n",
    "class SyslogLogger(Logger):\n",
    "    def __init__(self, priority):\n",
    "        self.priority = priority\n",
    "\n",
    "    def log(self, message):\n",
    "        syslog.syslog(self.priority, message)\n"
   ]
  },
  {
   "cell_type": "code",
   "execution_count": 5,
   "metadata": {},
   "outputs": [
    {
     "name": "stdout",
     "output_type": "stream",
     "text": [
      "Error: but you want to see this\n"
     ]
    }
   ],
   "source": [
    "# New design direction: filtering messages.\n",
    "class FilteredLogger(Logger):\n",
    "    def __init__(self, pattern, file):\n",
    "        self.pattern = pattern\n",
    "        super().__init__(file)\n",
    "\n",
    "    def log(self, message):\n",
    "        if self.pattern in message:\n",
    "            super().log(message)\n",
    "\n",
    "# It works.\n",
    "f = FilteredLogger('Error', sys.stdout)\n",
    "f.log('Ignored: this is not important')\n",
    "f.log('Error: but you want to see this')"
   ]
  },
  {
   "cell_type": "markdown",
   "metadata": {},
   "source": [
    "If we want socker log filtered, we will do `FilteredSocketLogger` => application will wind up with 3×2=6 classes: `Logger`, `FilteredLogger`, `SocketLogger`, `FilteredSocketLogger`, `SyslogLogger`, `FilteredSyslogLogger`.  \n",
    "The total number of classes will increase geometrically if m and n both continue to grow. This is the “proliferation of classes” and “explosion of subclasses” that the Gang of Four want to avoid."
   ]
  },
  {
   "cell_type": "markdown",
   "metadata": {},
   "source": [
    "## Solution #1: The Adapter Pattern\n",
    "\n",
    "One solution is the Adapter Pattern: to decide that the original logger class doesn’t need to be improved, because any mechanism for outputting messages can be wrapped up to look like the file object that the logger is expecting.\n",
    "\n",
    "1. So we keep the original `Logger`.\n",
    "2. Also keep the `FilteredLogger`.\n",
    "3. Instead of creating destination-specific subclasses, we adapt each destination to the behavior of a file and then pass the adapter to a `Logger` as its output file."
   ]
  },
  {
   "cell_type": "code",
   "execution_count": 6,
   "metadata": {},
   "outputs": [],
   "source": [
    "import socket\n",
    "\n",
    "\n",
    "class FileLikeSocket:\n",
    "    # can also use socket.makefile() method to receive a complete adapter that makes the socket look like a file.\n",
    "    def __init__(self, sock):\n",
    "        self.sock = sock\n",
    "\n",
    "    def write(self, message_and_newline):\n",
    "        self.sock.sendall(message_and_newline.encode('ascii'))\n",
    "\n",
    "    def flush(self):\n",
    "        pass\n",
    "\n",
    "\n",
    "class FileLikeSyslog:\n",
    "    def __init__(self, priority):\n",
    "        self.priority = priority\n",
    "\n",
    "    def write(self, message_and_newline):\n",
    "        message = message_and_newline.rstrip('\\n')\n",
    "        syslog.syslog(self.priority, message)\n",
    "\n",
    "    def flush(self):\n",
    "        pass"
   ]
  },
  {
   "cell_type": "markdown",
   "metadata": {},
   "source": [
    "- our adapters are exempt from the need to inherit from either the classes they wrap or from the file type they are imitating\n",
    "- And so the subclass explosion is avoided! Logger objects and adapter objects can be freely mixed and matched at runtime without the need to create any further classes:"
   ]
  },
  {
   "cell_type": "code",
   "execution_count": 7,
   "metadata": {},
   "outputs": [
    {
     "name": "stdout",
     "output_type": "stream",
     "text": [
      "The socket received: b'Error: message number two\\n'\n"
     ]
    }
   ],
   "source": [
    "sock1, sock2 = socket.socketpair()\n",
    "\n",
    "fs = FileLikeSocket(sock1)\n",
    "logger = FilteredLogger('Error', fs)\n",
    "logger.log('Warning: message number one')\n",
    "logger.log('Error: message number two')\n",
    "\n",
    "print('The socket received: %r' % sock2.recv(512))"
   ]
  },
  {
   "cell_type": "markdown",
   "metadata": {},
   "source": [
    "## Solution #2: The Bridge Pattern\n",
    "\n",
    "The Bridge Pattern splits a class’s behavior between an outer “abstraction” object that the caller sees and an “implementation” object that’s wrapped inside.  \n",
    "instead of having to contort our output classes to match the interface of a Python file object like in the Adapters pattern (`fs = FileLikeSocket(sock1)`), we now get to define the interface of the wrapped class ourselves."
   ]
  },
  {
   "cell_type": "code",
   "execution_count": 8,
   "metadata": {},
   "outputs": [],
   "source": [
    "# The “abstractions” that callers will see.\n",
    "class Logger(object):\n",
    "    def __init__(self, handler):\n",
    "        self.handler = handler\n",
    "\n",
    "    def log(self, message):\n",
    "        self.handler.emit(message)\n",
    "\n",
    "class FilteredLogger(Logger):\n",
    "    def __init__(self, pattern, handler):\n",
    "        self.pattern = pattern\n",
    "        super().__init__(handler)\n",
    "\n",
    "    def log(self, message):\n",
    "        if self.pattern in message:\n",
    "            super().log(message)\n",
    "            \n",
    "            \n",
    "# The “implementations” hidden behind the scenes.\n",
    "class FileHandler:\n",
    "    def __init__(self, file):\n",
    "        self.file = file\n",
    "\n",
    "    def emit(self, message):\n",
    "        self.file.write(message + '\\n')\n",
    "        self.file.flush()\n",
    "\n",
    "class SocketHandler:\n",
    "    def __init__(self, sock):\n",
    "        self.sock = sock\n",
    "\n",
    "    def emit(self, message):\n",
    "        self.sock.sendall((message + '\\n').encode('ascii'))\n",
    "\n",
    "class SyslogHandler:\n",
    "    def __init__(self, priority):\n",
    "        self.priority = priority\n",
    "\n",
    "    def emit(self, message):\n",
    "        syslog.syslog(self.priority, message)\n"
   ]
  },
  {
   "cell_type": "code",
   "execution_count": 9,
   "metadata": {},
   "outputs": [
    {
     "name": "stdout",
     "output_type": "stream",
     "text": [
      "Error: this is important\n"
     ]
    }
   ],
   "source": [
    "handler = FileHandler(sys.stdout)\n",
    "logger = FilteredLogger('Error', handler)\n",
    "\n",
    "logger.log('Ignored: this will not be logged')\n",
    "logger.log('Error: this is important')"
   ]
  },
  {
   "cell_type": "markdown",
   "metadata": {},
   "source": [
    "## Solution #3: The Decorator Pattern\n",
    "\n",
    "What if we wanted to apply two different filters to the same log? Neither of the above solutions supports multiple filters — say, one filtering by priority and the other matching a keyword.\n",
    "\n",
    "Look back at the filters defined in the previous section. The reason we cannot stack two filters is that there’s an asymmetry between the interface they offer and the interface they wrap: they offer a `log()` method but call their handler’s `emit()` method. Wrapping one filter in another would result in an `AttributeError` when the outer filter tried to call the inner filter’s `emit()`."
   ]
  },
  {
   "cell_type": "code",
   "execution_count": 11,
   "metadata": {},
   "outputs": [],
   "source": [
    "# The loggers all perform real output.\n",
    "class FileLogger:\n",
    "    def __init__(self, file):\n",
    "        self.file = file\n",
    "\n",
    "    def log(self, message):\n",
    "        self.file.write(message + '\\n')\n",
    "        self.file.flush()\n",
    "\n",
    "class SocketLogger:\n",
    "    def __init__(self, sock):\n",
    "        self.sock = sock\n",
    "\n",
    "    def log(self, message):\n",
    "        self.sock.sendall((message + '\\n').encode('ascii'))\n",
    "\n",
    "class SyslogLogger:\n",
    "    def __init__(self, priority):\n",
    "        self.priority = priority\n",
    "\n",
    "    def log(self, message):\n",
    "        syslog.syslog(self.priority, message)\n",
    "\n",
    "\n",
    "# The filter calls the same method it offers.\n",
    "class LogFilter:\n",
    "    def __init__(self, pattern, logger):\n",
    "        self.pattern = pattern\n",
    "        self.logger = logger\n",
    "\n",
    "    def log(self, message):\n",
    "        if self.pattern in message:\n",
    "            self.logger.log(message)"
   ]
  },
  {
   "cell_type": "markdown",
   "metadata": {},
   "source": [
    "For the first time, the filtering code has moved outside of any particular logger class. Instead, it’s now a stand-alone feature that can be wrapped around any logger we want."
   ]
  },
  {
   "cell_type": "code",
   "execution_count": 12,
   "metadata": {},
   "outputs": [
    {
     "name": "stdout",
     "output_type": "stream",
     "text": [
      "Noisy: this logger always produces output\n",
      "Error: this is important and gets printed\n"
     ]
    }
   ],
   "source": [
    "log1 = FileLogger(sys.stdout)\n",
    "log2 = LogFilter('Error', log1)\n",
    "\n",
    "log1.log('Noisy: this logger always produces output')\n",
    "\n",
    "log2.log('Ignored: this will be filtered out')\n",
    "log2.log('Error: this is important and gets printed')\n"
   ]
  },
  {
   "cell_type": "markdown",
   "metadata": {},
   "source": [
    "And because Decorator classes are symmetric — they offer exactly the same interface they wrap — we can now stack several different filters atop the same log!"
   ]
  },
  {
   "cell_type": "code",
   "execution_count": 14,
   "metadata": {},
   "outputs": [
    {
     "name": "stdout",
     "output_type": "stream",
     "text": [
      "Error (severe): this is pretty severe\n"
     ]
    }
   ],
   "source": [
    "log3 = LogFilter('severe', log2)\n",
    "\n",
    "log3.log('Error: this is bad, but not that bad')\n",
    "log3.log('Error: this is pretty severe')"
   ]
  },
  {
   "cell_type": "markdown",
   "metadata": {},
   "source": [
    "## Solution #4: Beyond the Gang of Four patterns"
   ]
  },
  {
   "cell_type": "markdown",
   "metadata": {},
   "source": [
    " the Python logging module implements its own Composition Over Inheritance pattern.\n",
    "- The `Logger` class that callers interact with doesn’t itself implement either filtering or output. Instead, it maintains a list of filters and a list of handlers.\n",
    "- For each log message, the logger calls each of its filters. The message is discarded if any filter rejects it.\n",
    "- For each log message that’s accepted by all the filters, the logger loops over its output handlers and asks every one of them to `emit()` the message.\n"
   ]
  },
  {
   "cell_type": "code",
   "execution_count": 16,
   "metadata": {},
   "outputs": [],
   "source": [
    "# There is now only one logger.\n",
    "class Logger:\n",
    "    def __init__(self, filters, handlers):\n",
    "        self.filters = filters\n",
    "        self.handlers = handlers\n",
    "\n",
    "    def log(self, message):\n",
    "        if all(f.match(message) for f in self.filters):\n",
    "            for h in self.handlers:\n",
    "                h.emit(message)\n",
    "\n",
    "# Filters now know only about strings!\n",
    "class TextFilter:\n",
    "    def __init__(self, pattern):\n",
    "        self.pattern = pattern\n",
    "\n",
    "    def match(self, text):\n",
    "        return self.pattern in text\n",
    "\n",
    "# Handlers look like “loggers” did in the previous solution.\n",
    "class FileHandler:\n",
    "    def __init__(self, file):\n",
    "        self.file = file\n",
    "\n",
    "    def emit(self, message):\n",
    "        self.file.write(message + '\\n')\n",
    "        self.file.flush()\n",
    "\n",
    "class SocketHandler:\n",
    "    def __init__(self, sock):\n",
    "        self.sock = sock\n",
    "\n",
    "    def emit(self, message):\n",
    "        self.sock.sendall((message + '\\n').encode('ascii'))\n",
    "\n",
    "class SyslogHandler:\n",
    "    def __init__(self, priority):\n",
    "        self.priority = priority\n",
    "\n",
    "    def emit(self, message):\n",
    "        syslog.syslog(self.priority, message)"
   ]
  },
  {
   "cell_type": "code",
   "execution_count": 17,
   "metadata": {},
   "outputs": [
    {
     "name": "stdout",
     "output_type": "stream",
     "text": [
      "Error: this is important\n"
     ]
    }
   ],
   "source": [
    "f = TextFilter('Error')\n",
    "h = FileHandler(sys.stdout)\n",
    "logger = Logger([f], [h])\n",
    "\n",
    "logger.log('Ignored: this will not be logged')\n",
    "logger.log('Error: this is important')"
   ]
  },
  {
   "cell_type": "markdown",
   "metadata": {},
   "source": []
  }
 ],
 "metadata": {
  "kernelspec": {
   "display_name": "concrete-ml",
   "language": "python",
   "name": "python3"
  },
  "language_info": {
   "codemirror_mode": {
    "name": "ipython",
    "version": 3
   },
   "file_extension": ".py",
   "mimetype": "text/x-python",
   "name": "python",
   "nbconvert_exporter": "python",
   "pygments_lexer": "ipython3",
   "version": "3.12.2"
  }
 },
 "nbformat": 4,
 "nbformat_minor": 2
}
