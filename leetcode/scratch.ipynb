{
 "cells": [
  {
   "cell_type": "code",
   "execution_count": 5,
   "metadata": {},
   "outputs": [
    {
     "name": "stdout",
     "output_type": "stream",
     "text": [
      "{'name': 1, 'age': 44}\n",
      "{'name': 1, 'age': 44}\n"
     ]
    }
   ],
   "source": [
    "class AF:   \n",
    "    def __repr__(self):\n",
    "        return  str({'name':1, 'age':44})\n",
    "\n",
    "c = AF()        \n",
    "print(c.__repr__())\n",
    "print(repr(c))"
   ]
  },
  {
   "cell_type": "code",
   "execution_count": 16,
   "metadata": {},
   "outputs": [],
   "source": [
    "from typing import Dict\n",
    "class TrieNode:\n",
    "    word_end: bool = False\n",
    "    children: Dict = {}"
   ]
  },
  {
   "cell_type": "code",
   "execution_count": 11,
   "metadata": {},
   "outputs": [
    {
     "data": {
      "text/plain": [
       "{}"
      ]
     },
     "execution_count": 11,
     "metadata": {},
     "output_type": "execute_result"
    }
   ],
   "source": [
    "a = TrieNode()\n",
    "a.children"
   ]
  },
  {
   "cell_type": "code",
   "execution_count": 13,
   "metadata": {},
   "outputs": [],
   "source": [
    "b = TrieNode()\n",
    "b.children[\"b\"] = 1"
   ]
  },
  {
   "cell_type": "code",
   "execution_count": 14,
   "metadata": {},
   "outputs": [
    {
     "data": {
      "text/plain": [
       "{'b': 1}"
      ]
     },
     "execution_count": 14,
     "metadata": {},
     "output_type": "execute_result"
    }
   ],
   "source": [
    "a.children"
   ]
  },
  {
   "cell_type": "code",
   "execution_count": 12,
   "metadata": {},
   "outputs": [
    {
     "name": "stdout",
     "output_type": "stream",
     "text": [
      "\n",
      "              2               \n",
      "       3              5       \n",
      "   4      4      8      10  \n",
      " 9  5 \n",
      "------------------------------\n"
     ]
    }
   ],
   "source": [
    "import heapq\n",
    "new_heap = []\n",
    "heapq.heappush(new_heap, 4)\n",
    "heapq.heappush(new_heap, 5)\n",
    "heapq.heappush(new_heap, 8)\n",
    "heapq.heappush(new_heap, 2)\n",
    "heapq.heappush(new_heap, 3)\n",
    "heapq.heappush(new_heap, 5)\n",
    "heapq.heappush(new_heap, 10)\n",
    "heapq.heappush(new_heap, 9)\n",
    "heapq.heappush(new_heap, 4)\n",
    "\n",
    "\n",
    "import math\n",
    "from io import StringIO\n",
    "def show_tree(tree, total_width=30, fill=' '):\n",
    "    \"\"\"Pretty-print a tree total_width depends on your input size\n",
    "    source: https://bit.ly/38HXSoU\n",
    "    \"\"\"\n",
    "    output = StringIO()\n",
    "    last_row = -1\n",
    "    for i, n in enumerate(tree):\n",
    "        if i:\n",
    "            row = int(math.floor(math.log(i+1, 2)))\n",
    "        else:\n",
    "            row = 0\n",
    "        if row != last_row:\n",
    "            output.write('\\n')\n",
    "        columns = 2**row\n",
    "        col_width = int(math.floor((total_width * 1.0) / columns))\n",
    "        output.write(str(n).center(col_width, fill))\n",
    "        last_row = row\n",
    "    print (output.getvalue())\n",
    "    print ('-' * total_width)\n",
    "\n",
    "show_tree(new_heap)"
   ]
  },
  {
   "cell_type": "code",
   "execution_count": null,
   "metadata": {},
   "outputs": [],
   "source": []
  }
 ],
 "metadata": {
  "kernelspec": {
   "display_name": "base",
   "language": "python",
   "name": "python3"
  },
  "language_info": {
   "codemirror_mode": {
    "name": "ipython",
    "version": 3
   },
   "file_extension": ".py",
   "mimetype": "text/x-python",
   "name": "python",
   "nbconvert_exporter": "python",
   "pygments_lexer": "ipython3",
   "version": "3.10.13"
  }
 },
 "nbformat": 4,
 "nbformat_minor": 2
}
