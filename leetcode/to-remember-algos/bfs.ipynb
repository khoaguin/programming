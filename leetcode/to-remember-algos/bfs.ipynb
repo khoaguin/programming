{
 "cells": [
  {
   "cell_type": "code",
   "execution_count": 9,
   "metadata": {},
   "outputs": [
    {
     "name": "stdout",
     "output_type": "stream",
     "text": [
      "Following is the Breadth-First Search\n",
      "5 3 7 2 4 8 "
     ]
    }
   ],
   "source": [
    "graph = {\n",
    "  '5' : ['3','7'],\n",
    "  '3' : ['2', '4'],\n",
    "  '7' : ['8'],\n",
    "  '2' : [],\n",
    "  '4' : ['8'],\n",
    "  '8' : []\n",
    "}\n",
    "\n",
    "from collections import deque\n",
    "\n",
    "def bfs(graph, start_node) ->  None:\n",
    "    visited = set()  # Use a set for faster lookup\n",
    "    to_visit = deque([start_node])  # Initialize a queue with the start node\n",
    "\n",
    "    while to_visit:\n",
    "        node = to_visit.popleft()  # Dequeue a node\n",
    "        if node not in visited:\n",
    "            visited.add(node)\n",
    "            # Process node here if needed (e.g., print or store)\n",
    "            print(node, end = \" \")\n",
    "            for neighbor in graph[node]:\n",
    "                if neighbor not in visited:\n",
    "                    to_visit.append(neighbor)\n",
    "\n",
    "print(\"Following is the Breadth-First Search\")\n",
    "bfs(graph, '5')    # function calling"
   ]
  },
  {
   "cell_type": "code",
   "execution_count": null,
   "metadata": {},
   "outputs": [],
   "source": []
  }
 ],
 "metadata": {
  "kernelspec": {
   "display_name": "base",
   "language": "python",
   "name": "python3"
  },
  "language_info": {
   "codemirror_mode": {
    "name": "ipython",
    "version": 3
   },
   "file_extension": ".py",
   "mimetype": "text/x-python",
   "name": "python",
   "nbconvert_exporter": "python",
   "pygments_lexer": "ipython3",
   "version": "3.10.13"
  }
 },
 "nbformat": 4,
 "nbformat_minor": 2
}
