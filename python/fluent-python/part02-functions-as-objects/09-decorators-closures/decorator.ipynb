{
 "cells": [
  {
   "cell_type": "markdown",
   "metadata": {},
   "source": [
    "## Introduction\n",
    "\n",
    "Function decorators let us “mark” functions in the source code to enhance their behavior in some way. This is powerful stuff, but mastering it requires understanding closures — which is what we get when functions capture variables defined outside of their bodies.\n",
    "\n",
    "To understand how decorators work, we will cover:  \n",
    "- How Python evaluates decorator syntax\n",
    "- How Python decides whether a variable is local\n",
    "- Why closures exist and how they work\n",
    "- What problem is solved by nonlocal\n",
    "\n",
    "This knowledge will allow us to:\n",
    "- Implementing a well-behaved decorator\n",
    "- Powerful decorators in the standard library: `@cache`, `@lru_cache`, and `@single dispatch`\n",
    "- Implementing a parameterized decorator"
   ]
  },
  {
   "cell_type": "markdown",
   "metadata": {},
   "source": [
    "## Decorators 101\n",
    "\n",
    "A decorator is a callable that takes another function as an argument (the decorated function). A decorator may perform some processing with the decorated function, and returns it or replaces it with another function or callable object\n",
    "\n",
    "A decorator usually replaces a function with a different one"
   ]
  },
  {
   "cell_type": "code",
   "execution_count": 2,
   "metadata": {},
   "outputs": [
    {
     "name": "stdout",
     "output_type": "stream",
     "text": [
      "running inner()\n"
     ]
    }
   ],
   "source": [
    "def deco(func):\n",
    "    def inner():\n",
    "        print('running inner()')\n",
    "    return inner\n",
    "\n",
    "@deco\n",
    "def target():\n",
    "    print('running target()')\n",
    "    \n",
    "target()  # Invoking the decorated target actually runs inner."
   ]
  },
  {
   "cell_type": "code",
   "execution_count": 3,
   "metadata": {},
   "outputs": [
    {
     "data": {
      "text/plain": [
       "<function __main__.deco.<locals>.inner()>"
      ]
     },
     "execution_count": 3,
     "metadata": {},
     "output_type": "execute_result"
    }
   ],
   "source": [
    "target  # Inspection reveals that target is a now a reference to inner."
   ]
  },
  {
   "cell_type": "markdown",
   "metadata": {},
   "source": [
    "Strictly speaking, decorators are just syntactic sugar. As we just saw, you can always simply call a decorator like any regular callable, passing another function. Three essential facts make a good summary of decorators:\n",
    "- A decorator is a function or another callable.\n",
    "- A decorator may replace the decorated function with a different one.\n",
    "- Decorators are executed immediately when a module is loaded."
   ]
  },
  {
   "cell_type": "markdown",
   "metadata": {},
   "source": [
    "## When Python Executes Decorators\n",
    "**A key feature of decorators is that they run right after the decorated function is\n",
    "defined. That is usually at import time (i.e., when a module is loaded by Python).**"
   ]
  },
  {
   "cell_type": "code",
   "execution_count": 5,
   "metadata": {},
   "outputs": [
    {
     "name": "stdout",
     "output_type": "stream",
     "text": [
      "running register(<function f1 at 0x7ff0cf5b04a0>)\n",
      "running register(<function f2 at 0x7ff0cf5b0b80>)\n",
      "registry -> [<function f1 at 0x7ff0cf5b04a0>, <function f2 at 0x7ff0cf5b0b80>]\n",
      "running f1()\n",
      "running f2()\n",
      "running f3()\n",
      "running main()\n"
     ]
    }
   ],
   "source": [
    "registry = []\n",
    "def register(func):\n",
    "    print(f'running register({func})')\n",
    "    registry.append(func)\n",
    "    return func\n",
    "\n",
    "@register\n",
    "def f1():\n",
    "    print('running f1()')\n",
    "\n",
    "@register\n",
    "def f2():\n",
    "    print('running f2()')\n",
    "\n",
    "def f3():\n",
    "    print('running f3()')\n",
    "\n",
    "def main():\n",
    "    print('running main()')\n",
    "\n",
    "print('registry ->', registry)\n",
    "f1()\n",
    "f2()\n",
    "f3()\n",
    "main()"
   ]
  },
  {
   "cell_type": "markdown",
   "metadata": {},
   "source": [
    "The main point is to emphasize that *function decorators are executed as soon as the module is imported, but the decorated functions only run when they are explicitly invoked*. This highlights the difference between what Pythonistas call import time and runtime.\n",
    "\n",
    "The example is unusual in 2 ways:\n",
    "- *The decorator function is defined in the same module as the decorated functions. **A real decorator is usually defined in one module and applied to functions in other modules**.*\n",
    "- *The register decorator returns the same function passed as an argument. **In practice, most decorators define an inner function and return it to replace the decorated function.***"
   ]
  },
  {
   "cell_type": "markdown",
   "metadata": {},
   "source": [
    "## Variable Scope Rules"
   ]
  },
  {
   "cell_type": "code",
   "execution_count": 6,
   "metadata": {},
   "outputs": [
    {
     "name": "stdout",
     "output_type": "stream",
     "text": [
      "3\n"
     ]
    },
    {
     "ename": "UnboundLocalError",
     "evalue": "cannot access local variable 'b' where it is not associated with a value",
     "output_type": "error",
     "traceback": [
      "\u001b[0;31m---------------------------------------------------------------------------\u001b[0m",
      "\u001b[0;31mUnboundLocalError\u001b[0m                         Traceback (most recent call last)",
      "Cell \u001b[0;32mIn[6], line 7\u001b[0m\n\u001b[1;32m      4\u001b[0m     \u001b[38;5;28mprint\u001b[39m(b)\n\u001b[1;32m      5\u001b[0m     b \u001b[38;5;241m=\u001b[39m \u001b[38;5;241m9\u001b[39m\n\u001b[0;32m----> 7\u001b[0m \u001b[43mf2\u001b[49m\u001b[43m(\u001b[49m\u001b[38;5;241;43m3\u001b[39;49m\u001b[43m)\u001b[49m\n",
      "Cell \u001b[0;32mIn[6], line 4\u001b[0m, in \u001b[0;36mf2\u001b[0;34m(a)\u001b[0m\n\u001b[1;32m      2\u001b[0m \u001b[38;5;28;01mdef\u001b[39;00m \u001b[38;5;21mf2\u001b[39m(a):\n\u001b[1;32m      3\u001b[0m     \u001b[38;5;28mprint\u001b[39m(a)\n\u001b[0;32m----> 4\u001b[0m     \u001b[38;5;28mprint\u001b[39m(\u001b[43mb\u001b[49m)\n\u001b[1;32m      5\u001b[0m     b \u001b[38;5;241m=\u001b[39m \u001b[38;5;241m9\u001b[39m\n",
      "\u001b[0;31mUnboundLocalError\u001b[0m: cannot access local variable 'b' where it is not associated with a value"
     ]
    }
   ],
   "source": [
    "b = 6\n",
    "def f2(a):\n",
    "    print(a)\n",
    "    print(b)\n",
    "    b = 9\n",
    "\n",
    "f2(3)"
   ]
  },
  {
   "cell_type": "markdown",
   "metadata": {},
   "source": [
    "When Python compiles the body of the function, it decides that `b` is a local variable because it is assigned within the function. The generated bytecode reflects this decision and will try to fetch `b` from the local scope. Later, when the call `f2(3)` is made, the body of `f2` fetches and prints the value of the local variable `a`, but when trying to fetch the value of local variable `b`, it discovers that `b` is unbound.  \n",
    "This is not a bug, but a design choice: Python does not require you to declare variables, but assumes that a variable assigned in the body of a function is local.\n",
    "\n",
    "This is much better than the behavior of JavaScript, which does not require variable declarations either, but if you do forget to declare that a variable is local (with `var`), you may clobber a global variable without knowing."
   ]
  },
  {
   "cell_type": "markdown",
   "metadata": {},
   "source": [
    "If we want the interpreter to treat `b` as a global variable and still assign a new value to it within the function, we use the `global` declaration:"
   ]
  },
  {
   "cell_type": "code",
   "execution_count": 8,
   "metadata": {},
   "outputs": [
    {
     "name": "stdout",
     "output_type": "stream",
     "text": [
      "2\n",
      "9\n"
     ]
    }
   ],
   "source": [
    "b = 6\n",
    "def f3(a):\n",
    "    global b\n",
    "    print(a)\n",
    "    print(b)\n",
    "\n",
    "b = 9\n",
    "\n",
    "f3(2)"
   ]
  },
  {
   "cell_type": "markdown",
   "metadata": {},
   "source": [
    "## Closures\n",
    "\n",
    "*It does not matter whether the function is anonymous or not; what matters is that it can access nonglobal variables that are defined outside of its body*. Let's learn this through an example of a function that calculates the avg of all numbers so far:\n",
    "```\n",
    ">>> avg(10)\n",
    "10.0\n",
    ">>> avg(11)\n",
    "10.5\n",
    ">>> avg(12)\n",
    "11.0\n",
    "```\n",
    "Where does `avg` come from, and where does it keep the history of previous values?\n",
    "\n",
    "**Method 1: Implement with a class**"
   ]
  },
  {
   "cell_type": "code",
   "execution_count": 10,
   "metadata": {},
   "outputs": [
    {
     "name": "stdout",
     "output_type": "stream",
     "text": [
      "avg(10) = 10.0\n",
      "avg(11) = 10.5\n",
      "avg(12) = 11.0\n"
     ]
    }
   ],
   "source": [
    "class Averager():\n",
    "    \n",
    "    def __init__(self):\n",
    "        self.series = []\n",
    "\n",
    "    def __call__(self, new_value):\n",
    "        self.series.append(new_value)\n",
    "        total = sum(self.series)\n",
    "        return total / len(self.series)\n",
    "    \n",
    "avg = Averager()\n",
    "print(f\"{avg(10) = }\")\n",
    "print(f\"{avg(11) = }\")\n",
    "print(f\"{avg(12) = }\")"
   ]
  },
  {
   "cell_type": "markdown",
   "metadata": {},
   "source": [
    "The `avg` of the `Averager` class keeps the history in the `self.series` instance attribute"
   ]
  },
  {
   "cell_type": "markdown",
   "metadata": {},
   "source": [
    "**Method 2: Using a higher-order function**"
   ]
  },
  {
   "cell_type": "code",
   "execution_count": 14,
   "metadata": {},
   "outputs": [],
   "source": [
    "def make_averager():\n",
    "    series = []\n",
    "    def averager(new_value):\n",
    "        series.append(new_value)\n",
    "        total = sum(series)\n",
    "        return total / len(series)\n",
    "    return averager"
   ]
  },
  {
   "cell_type": "markdown",
   "metadata": {},
   "source": [
    "When invoked, `make_averager` returns an averager function object. Each time an averager is called, it appends the passed argument to the series, and computes the current average"
   ]
  },
  {
   "cell_type": "code",
   "execution_count": 15,
   "metadata": {},
   "outputs": [
    {
     "name": "stdout",
     "output_type": "stream",
     "text": [
      "avg(10) = 10.0\n",
      "avg(11) = 10.5\n",
      "avg(12) = 11.0\n"
     ]
    }
   ],
   "source": [
    "avg = make_averager()\n",
    "print(f\"{avg(10) = }\")\n",
    "print(f\"{avg(11) = }\")\n",
    "print(f\"{avg(12) = }\")"
   ]
  },
  {
   "cell_type": "markdown",
   "metadata": {},
   "source": [
    "Note that `series` is a local variable of `make_averager` because the assignment `series = []` happens in the body of that function. But when `avg(10)` is called, `make_averager` has already returned, and its local scope is long gone.\n",
    "\n",
    "**Within `averager`, `series` is a free variable. This is a technical term meaning a variable that is not bound in the local scope**\n",
    "\n",
    "<img src=\"../images/2.png\" style=\"width: 80%;\">\n"
   ]
  },
  {
   "cell_type": "code",
   "execution_count": 19,
   "metadata": {},
   "outputs": [
    {
     "name": "stdout",
     "output_type": "stream",
     "text": [
      "avg.__code__.co_varnames = ('new_value', 'total')\n",
      "avg.__code__.co_freevars = ('series',)\n"
     ]
    }
   ],
   "source": [
    "print(f\"{avg.__code__.co_varnames = }\")\n",
    "print(f\"{avg.__code__.co_freevars = }\")"
   ]
  },
  {
   "cell_type": "markdown",
   "metadata": {},
   "source": [
    "The value for series is kept in the `__closure__` attribute of the returned function `avg`. Each item in `avg.__closure__` corresponds to a name in `avg.__code__.co_freevars`."
   ]
  },
  {
   "cell_type": "code",
   "execution_count": 20,
   "metadata": {},
   "outputs": [
    {
     "data": {
      "text/plain": [
       "(<cell at 0x7ff0d4243700: list object at 0x7ff0ceb3d7c0>,)"
      ]
     },
     "execution_count": 20,
     "metadata": {},
     "output_type": "execute_result"
    }
   ],
   "source": [
    "avg.__closure__"
   ]
  },
  {
   "cell_type": "code",
   "execution_count": 22,
   "metadata": {},
   "outputs": [
    {
     "data": {
      "text/plain": [
       "[10, 11, 12]"
      ]
     },
     "execution_count": 22,
     "metadata": {},
     "output_type": "execute_result"
    }
   ],
   "source": [
    "avg.__closure__[0].cell_contents"
   ]
  },
  {
   "cell_type": "markdown",
   "metadata": {},
   "source": [
    "**To summarize**: ***a closure is a function that retains the bindings of the free variables that exist when the function is defined, so that they can be used later when the function is invoked and the defining scope is no longer available.***\n",
    "Note that the only situation in which a function may need to deal with external variables that are nonglobal is when it is nested in another function and those variables are part of the local scope of the outer function."
   ]
  },
  {
   "cell_type": "markdown",
   "metadata": {},
   "source": [
    "## The `nonlocal` Declaration\n",
    "\n",
    "The code below won't work since the statement `count += 1` actually means the same as `count = count + 1`"
   ]
  },
  {
   "cell_type": "code",
   "execution_count": 24,
   "metadata": {},
   "outputs": [
    {
     "ename": "UnboundLocalError",
     "evalue": "cannot access local variable 'count' where it is not associated with a value",
     "output_type": "error",
     "traceback": [
      "\u001b[0;31m---------------------------------------------------------------------------\u001b[0m",
      "\u001b[0;31mUnboundLocalError\u001b[0m                         Traceback (most recent call last)",
      "Cell \u001b[0;32mIn[24], line 13\u001b[0m\n\u001b[1;32m     10\u001b[0m     \u001b[38;5;28;01mreturn\u001b[39;00m averager\n\u001b[1;32m     12\u001b[0m avg \u001b[38;5;241m=\u001b[39m make_averager()\n\u001b[0;32m---> 13\u001b[0m \u001b[43mavg\u001b[49m\u001b[43m(\u001b[49m\u001b[38;5;241;43m10\u001b[39;49m\u001b[43m)\u001b[49m\n",
      "Cell \u001b[0;32mIn[24], line 6\u001b[0m, in \u001b[0;36mmake_averager.<locals>.averager\u001b[0;34m(new_value)\u001b[0m\n\u001b[1;32m      5\u001b[0m \u001b[38;5;28;01mdef\u001b[39;00m \u001b[38;5;21maverager\u001b[39m(new_value):\n\u001b[0;32m----> 6\u001b[0m     \u001b[43mcount\u001b[49m \u001b[38;5;241m+\u001b[39m\u001b[38;5;241m=\u001b[39m \u001b[38;5;241m1\u001b[39m\n\u001b[1;32m      7\u001b[0m     total \u001b[38;5;241m+\u001b[39m\u001b[38;5;241m=\u001b[39m new_value\n\u001b[1;32m      8\u001b[0m     \u001b[38;5;28;01mreturn\u001b[39;00m total \u001b[38;5;241m/\u001b[39m count\n",
      "\u001b[0;31mUnboundLocalError\u001b[0m: cannot access local variable 'count' where it is not associated with a value"
     ]
    }
   ],
   "source": [
    "def make_averager():\n",
    "    count = 0\n",
    "    total = 0\n",
    "\n",
    "    def averager(new_value):\n",
    "        count += 1\n",
    "        total += new_value\n",
    "        return total / count\n",
    "\n",
    "    return averager\n",
    "\n",
    "avg = make_averager()\n",
    "avg(10)"
   ]
  },
  {
   "cell_type": "markdown",
   "metadata": {},
   "source": [
    "To work around this, the `nonlocal` keyword was introduced in Python 3. It lets you declare a variable as a free variable even when it is assigned within the function"
   ]
  },
  {
   "cell_type": "code",
   "execution_count": 25,
   "metadata": {},
   "outputs": [],
   "source": [
    "def make_averager():\n",
    "    count = 0\n",
    "    total = 0\n",
    "    def averager(new_value):\n",
    "        nonlocal count, total\n",
    "        count += 1\n",
    "        total += new_value\n",
    "        return total / count\n",
    "    return averager"
   ]
  },
  {
   "cell_type": "markdown",
   "metadata": {},
   "source": [
    "### Variable Lookup Logic\n",
    "\n",
    "When a function is defined, the Python bytecode compiler determines how to fetch a variable `x` that appears in it, based on these rules:\n",
    "- If there is a global `x` declaration, `x` comes from and is assigned to the `x` global\n",
    "variable module\n",
    "- If there is a `nonlocal x` declaration, `x` comes from and is assigned to the `x` local variable of the nearest surrounding function where `x` is defined.\n",
    "- If `x` is a parameter or is assigned a value in the function body, then `x` is the local\n",
    "variable.\n",
    "- If `x` is referenced but is not assigned and is not a parameter:  \n",
    "    - `x` will be looked up in the local scopes of the surrounding function bodies (nonlocal scopes).   \n",
    "    - If not found in surrounding scopes, it will be read from the module global scope.  \n",
    "    - If not found in the global scope, it will be read from `__builtins__.__dict__`.  "
   ]
  },
  {
   "cell_type": "markdown",
   "metadata": {},
   "source": [
    "## Implementing a Simple Decorator\n",
    "\n",
    "Below is a simple decorator to show the running time of functions"
   ]
  },
  {
   "cell_type": "code",
   "execution_count": 27,
   "metadata": {},
   "outputs": [],
   "source": [
    "import time\n",
    "\n",
    "def clock(func):\n",
    "    def clocked(*args):  # Define inner function clocked to accept any number of positional arguments\n",
    "        t0 = time.perf_counter()\n",
    "        result = func(*args)  # This line only works because the closure for `clocked` encompasses the `func` free variable.\n",
    "        elapsed = time.perf_counter() - t0\n",
    "        name = func.__name__\n",
    "        arg_str = ', '.join(repr(arg) for arg in args)\n",
    "        print(f'[{elapsed:0.8f}s] {name}({arg_str}) -> {result!r}')\n",
    "        return result\n",
    "    return clocked  # Return the inner function to replace the decorated function."
   ]
  },
  {
   "cell_type": "markdown",
   "metadata": {},
   "source": [
    "Let's use the decorator"
   ]
  },
  {
   "cell_type": "code",
   "execution_count": 28,
   "metadata": {},
   "outputs": [
    {
     "name": "stdout",
     "output_type": "stream",
     "text": [
      "**************************************** Calling snooze(.123)\n",
      "[0.12309731s] snooze(0.123) -> None\n",
      "**************************************** Calling factorial(6)\n",
      "[0.00000047s] factorial(1) -> 1\n",
      "[0.00002002s] factorial(2) -> 2\n",
      "[0.00002968s] factorial(3) -> 6\n",
      "[0.00003862s] factorial(4) -> 24\n",
      "[0.00004699s] factorial(5) -> 120\n",
      "[0.00005780s] factorial(6) -> 720\n",
      "6! = 720\n"
     ]
    }
   ],
   "source": [
    "@clock\n",
    "def snooze(seconds):\n",
    "    time.sleep(seconds)\n",
    "    \n",
    "\n",
    "@clock\n",
    "def factorial(n):\n",
    "    return 1 if n < 2 else n * factorial(n-1)\n",
    "\n",
    "print('*' * 40, 'Calling snooze(.123)')\n",
    "snooze(.123)\n",
    "print('*' * 40, 'Calling factorial(6)')\n",
    "print('6! =', factorial(6))"
   ]
  },
  {
   "cell_type": "markdown",
   "metadata": {},
   "source": [
    "Remember that this code:\n",
    "```python\n",
    "@clock\n",
    "def factorial(n):\n",
    "    return 1 if n < 2 else n*factorial(n-1)\n",
    "```\n",
    "actually does this:\n",
    "```python\n",
    "def factorial(n):\n",
    "    return 1 if n < 2 else n*factorial(n-1)\n",
    "\n",
    "factorial = clock(factorial)\n",
    "```"
   ]
  },
  {
   "cell_type": "markdown",
   "metadata": {},
   "source": [
    "So, `clock` gets the `factorial` function as its func argument. It then creates and returns the `clocked` function, which the Python interpreter assigns to `factorial`"
   ]
  },
  {
   "cell_type": "markdown",
   "metadata": {},
   "source": [
    "The `clock` decorator implemented above has a few shortcomings: it does not support keyword arguments, and it masks the `__name__` and `__doc__` of the decorated function"
   ]
  },
  {
   "cell_type": "code",
   "execution_count": null,
   "metadata": {},
   "outputs": [],
   "source": [
    "import time\n",
    "import functools\n",
    "\n",
    "def clock(func):\n",
    "    @functools.wraps(func)\n",
    "    def clocked(*args, **kwargs):\n",
    "        t0 = time.perf_counter()\n",
    "        result = func(*args, **kwargs)\n",
    "        elapsed = time.perf_counter() - t0\n",
    "        name = func.__name__\n",
    "        arg_lst = [repr(arg) for arg in args]\n",
    "        arg_lst.extend(f'{k}={v!r}' for k, v in kwargs.items())\n",
    "        arg_str = ', '.join(arg_lst)\n",
    "        print(f'[{elapsed:0.8f}s] {name}({arg_str}) -> {result!r}')\n",
    "        return result\n",
    "    return clocked"
   ]
  },
  {
   "cell_type": "markdown",
   "metadata": {},
   "source": [
    "## Decorators in the Standard Library\n",
    "\n",
    "Some of the most interesting decorators in the standard library are `cache`, `lru_cache`, and `singledispatch` — all from the `functools` module"
   ]
  },
  {
   "cell_type": "markdown",
   "metadata": {},
   "source": [
    "### Memoization with `functools.cache`\n",
    "\n",
    "The `functools.cache` decorator implements memoization - an optimization technique that works by saving the results of previous invocations of an expensive function, avoiding repeat computations on previously used arguments"
   ]
  },
  {
   "cell_type": "markdown",
   "metadata": {},
   "source": [
    "Below is a very costly recursive way to compute the nth number in the Finobacci series "
   ]
  },
  {
   "cell_type": "code",
   "execution_count": 30,
   "metadata": {},
   "outputs": [
    {
     "name": "stdout",
     "output_type": "stream",
     "text": [
      "[0.00000067s] fibonacci(0) -> 0\n",
      "[0.00000068s] fibonacci(1) -> 1\n",
      "[0.00011204s] fibonacci(2) -> 1\n",
      "[0.00000035s] fibonacci(1) -> 1\n",
      "[0.00000039s] fibonacci(0) -> 0\n",
      "[0.00000040s] fibonacci(1) -> 1\n",
      "[0.00002204s] fibonacci(2) -> 1\n",
      "[0.00004297s] fibonacci(3) -> 2\n",
      "[0.00017880s] fibonacci(4) -> 3\n",
      "[0.00000035s] fibonacci(1) -> 1\n",
      "[0.00000024s] fibonacci(0) -> 0\n",
      "[0.00000032s] fibonacci(1) -> 1\n",
      "[0.00001994s] fibonacci(2) -> 1\n",
      "[0.00003956s] fibonacci(3) -> 2\n",
      "[0.00000030s] fibonacci(0) -> 0\n",
      "[0.00000041s] fibonacci(1) -> 1\n",
      "[0.00002016s] fibonacci(2) -> 1\n",
      "[0.00000035s] fibonacci(1) -> 1\n",
      "[0.00000025s] fibonacci(0) -> 0\n",
      "[0.00000040s] fibonacci(1) -> 1\n",
      "[0.00002151s] fibonacci(2) -> 1\n",
      "[0.00004157s] fibonacci(3) -> 2\n",
      "[0.00008503s] fibonacci(4) -> 3\n",
      "[0.00014434s] fibonacci(5) -> 5\n",
      "[0.00034718s] fibonacci(6) -> 8\n",
      "8\n"
     ]
    }
   ],
   "source": [
    "@clock\n",
    "def fibonacci(n):\n",
    "    if n < 2:\n",
    "        return n\n",
    "    return fibonacci(n - 2) + fibonacci(n - 1)\n",
    "\n",
    "print(fibonacci(6))"
   ]
  },
  {
   "cell_type": "markdown",
   "metadata": {},
   "source": [
    "We can see that `fibonacci(1)` is called eight times, `fibonacci(2)` five times.  \n",
    "\n",
    "Below is a faster way to implement it using caching:"
   ]
  },
  {
   "cell_type": "code",
   "execution_count": 31,
   "metadata": {},
   "outputs": [
    {
     "name": "stdout",
     "output_type": "stream",
     "text": [
      "[0.00000066s] fibonacci(0) -> 0\n",
      "[0.00000058s] fibonacci(1) -> 1\n",
      "[0.00012059s] fibonacci(2) -> 1\n",
      "[0.00000130s] fibonacci(3) -> 2\n",
      "[0.00014710s] fibonacci(4) -> 3\n",
      "[0.00000095s] fibonacci(5) -> 5\n",
      "[0.00017158s] fibonacci(6) -> 8\n",
      "8\n"
     ]
    }
   ],
   "source": [
    "import functools\n",
    "\n",
    "@functools.cache\n",
    "@clock\n",
    "def fibonacci(n):\n",
    "    if n < 2:\n",
    "        return n\n",
    "    return fibonacci(n - 2) + fibonacci(n - 1)\n",
    "\n",
    "print(fibonacci(6))"
   ]
  },
  {
   "cell_type": "markdown",
   "metadata": {},
   "source": [
    "All the arguments taken by the decorated function must be hashable, because the underlying `lru_cache` uses a dict to store the results, and the keys are made from the positional and keyword arguments used in the calls.\n",
    "\n",
    "Using `cache`, the `fibonacci` function is called only once for each value of `n`. \n",
    "\n",
    "Besides making silly recursive algorithms viable, `@cache` really shines in applications that need to fetch information from remote API"
   ]
  },
  {
   "cell_type": "markdown",
   "metadata": {},
   "source": [
    "### Using `lru_cache`\n",
    "\n",
    "The `functools.cache` decorator is actually a simple wrapper around the older func\n",
    "`tools.lru_cache` function, which is more flexible and compatible with Python 3.8 and earlier versions.  \n",
    "\n",
    "The main advantage of `@lru_cache` is that its memory usage is bounded by the maxsize parameter, which has a rather conservative default value of 128—which means the cache will hold at most 128 entries at any time.\n",
    "\n",
    "```python\n",
    "@lru_cache(maxsize=2**20, typed=True)\n",
    "def costly_function(a, b):\n",
    "    ...\n",
    "```"
   ]
  },
  {
   "cell_type": "markdown",
   "metadata": {},
   "source": [
    "## Single Dispatch Generic Functions\n",
    "\n",
    "Imagine we are creating a tool to debug web applications. We want to generate HTML displays for different types of Python objects."
   ]
  },
  {
   "cell_type": "code",
   "execution_count": 32,
   "metadata": {},
   "outputs": [
    {
     "data": {
      "text/plain": [
       "'<pre>{1, 2, 3}</pre>'"
      ]
     },
     "execution_count": 32,
     "metadata": {},
     "output_type": "execute_result"
    }
   ],
   "source": [
    "import html\n",
    "\n",
    "def htmlize(obj):\n",
    "    content = html.escape(repr(obj))\n",
    "    return f'<pre>{content}</pre>'\n",
    "\n",
    "htmlize({1, 2, 3})"
   ]
  },
  {
   "cell_type": "code",
   "execution_count": 33,
   "metadata": {},
   "outputs": [
    {
     "data": {
      "text/plain": [
       "'<pre>&lt;built-in function abs&gt;</pre>'"
      ]
     },
     "execution_count": 33,
     "metadata": {},
     "output_type": "execute_result"
    }
   ],
   "source": [
    "htmlize(abs)"
   ]
  },
  {
   "cell_type": "code",
   "execution_count": 34,
   "metadata": {},
   "outputs": [
    {
     "data": {
      "text/plain": [
       "'<pre>&#x27;Heimlich &amp; Co.\\\\n- a game&#x27;</pre>'"
      ]
     },
     "execution_count": 34,
     "metadata": {},
     "output_type": "execute_result"
    }
   ],
   "source": [
    "htmlize('Heimlich & Co.\\n- a game')"
   ]
  },
  {
   "cell_type": "code",
   "execution_count": 35,
   "metadata": {},
   "outputs": [
    {
     "data": {
      "text/plain": [
       "'<pre>42</pre>'"
      ]
     },
     "execution_count": 35,
     "metadata": {},
     "output_type": "execute_result"
    }
   ],
   "source": [
    "htmlize(42)"
   ]
  },
  {
   "cell_type": "code",
   "execution_count": 36,
   "metadata": {},
   "outputs": [
    {
     "name": "stdout",
     "output_type": "stream",
     "text": [
      "<pre>[&#x27;alpha&#x27;, 66, {1, 2, 3}]</pre>\n"
     ]
    }
   ],
   "source": [
    "print(htmlize(['alpha', 66, {3, 2, 1}]))"
   ]
  },
  {
   "cell_type": "code",
   "execution_count": 37,
   "metadata": {},
   "outputs": [
    {
     "data": {
      "text/plain": [
       "'<pre>True</pre>'"
      ]
     },
     "execution_count": 37,
     "metadata": {},
     "output_type": "execute_result"
    }
   ],
   "source": [
    "htmlize(True)"
   ]
  },
  {
   "cell_type": "markdown",
   "metadata": {},
   "source": [
    "This works for any Python type, but now we want to extend it to generate custom displays for some types? The `functools.singledispatch` decorator allows different modules to contribute to\n",
    "the overall solution, and lets you easily provide specialized functions even for types\n",
    "that belong to third-party packages that you can’t edit."
   ]
  },
  {
   "cell_type": "code",
   "execution_count": 38,
   "metadata": {},
   "outputs": [],
   "source": [
    "from functools import singledispatch\n",
    "from collections import abc\n",
    "import fractions\n",
    "import decimal\n",
    "import html\n",
    "import numbers\n",
    "\n",
    "\n",
    "@singledispatch  # marks the base function that handles the object type.\n",
    "def htmlize(obj: object) -> str:\n",
    "    content = html.escape(repr(obj))\n",
    "    return f'<pre>{content}</pre>'\n",
    "\n",
    "\n",
    "@htmlize.register  # Each specialized function is decorated with @«base».register\n",
    "def _(text: str) -> str:  # The type of the first argument given at runtime determines when this particular function definition will be used\n",
    "    content = html.escape(text).replace('\\n', '<br/>\\n')\n",
    "    return f'<p>{content}</p>'\n",
    "\n",
    "\n",
    "@htmlize.register  # For each additional type to get special treatment, register a new function with a matching type hint in the first parameter\n",
    "def _(seq: abc.Sequence) -> str:\n",
    "    inner = '</li>\\n<li>'.join(htmlize(item) for item in seq)\n",
    "    return '<ul>\\n<li>' + inner + '</li>\\n</ul>'\n",
    "\n",
    "\n",
    "@htmlize.register\n",
    "def _(n: numbers.Integral) -> str:\n",
    "    return f'<pre>{n} (0x{n:x})</pre>'\n",
    "\n",
    "\n",
    "@htmlize.register\n",
    "def _(n: bool) -> str:\n",
    "    return f'<pre>{n}</pre>'\n",
    "\n",
    "\n",
    "@htmlize.register(fractions.Fraction)\n",
    "def _(x) -> str:\n",
    "    frac = fractions.Fraction(x)\n",
    "    return f'<pre>{frac.numerator}/{frac.denominator}</pre>'\n",
    "\n",
    "\n",
    "@htmlize.register(decimal.Decimal)\n",
    "@htmlize.register(float)\n",
    "def _(x) -> str:\n",
    "    frac = fractions.Fraction(x).limit_denominator()\n",
    "    return f'<pre>{x} ({frac.numerator}/{frac.denominator})</pre>'\n"
   ]
  },
  {
   "cell_type": "code",
   "execution_count": 39,
   "metadata": {},
   "outputs": [
    {
     "name": "stdout",
     "output_type": "stream",
     "text": [
      "<ul>\n",
      "<li><p>alpha</p></li>\n",
      "<li><pre>66 (0x42)</pre></li>\n",
      "<li><pre>{1, 2, 3}</pre></li>\n",
      "</ul>\n"
     ]
    }
   ],
   "source": [
    "print(htmlize(['alpha', 66, {3, 2, 1}]))"
   ]
  },
  {
   "cell_type": "code",
   "execution_count": 40,
   "metadata": {},
   "outputs": [
    {
     "data": {
      "text/plain": [
       "'<pre>42 (0x2a)</pre>'"
      ]
     },
     "execution_count": 40,
     "metadata": {},
     "output_type": "execute_result"
    }
   ],
   "source": [
    "htmlize(42)"
   ]
  },
  {
   "cell_type": "code",
   "execution_count": 41,
   "metadata": {},
   "outputs": [
    {
     "name": "stdout",
     "output_type": "stream",
     "text": [
      "<ul>\n",
      "<li><pre>1 (0x1)</pre></li>\n",
      "<li><pre>2 (0x2)</pre></li>\n",
      "<li><pre>3 (0x3)</pre></li>\n",
      "</ul>\n"
     ]
    }
   ],
   "source": [
    "print(htmlize([1, 2, 3]))"
   ]
  },
  {
   "cell_type": "markdown",
   "metadata": {},
   "source": [
    "## Parameterized Decorators\n",
    "\n",
    "When parsing a decorator in source code, Python takes the decorated function and passes it as the first argument to the decorator function. So how do you make a decorator accept other arguments? The answer is: **make a decorator factory that takes those arguments and returns a decorator, which is then applied to the function to be decorated**."
   ]
  },
  {
   "cell_type": "code",
   "execution_count": 45,
   "metadata": {},
   "outputs": [
    {
     "name": "stdout",
     "output_type": "stream",
     "text": [
      "running register(active=False)->decorate(<function f1 at 0x7ff0ceb4f420>)\n",
      "running register(active=True)->decorate(<function f2 at 0x7ff0ceb4f4c0>)\n"
     ]
    }
   ],
   "source": [
    "registry = set()  # registry is now a set, so adding and removing functions is faster.\n",
    "\n",
    "\n",
    "def register(active=True):  # register takes an optional keyword argument.\n",
    "    \n",
    "    def decorate(func):\n",
    "        print('running register'\n",
    "            f'(active={active})->decorate({func})')\n",
    "        if active:\n",
    "            registry.add(func)\n",
    "        else:\n",
    "            registry.discard(func)\n",
    "        return func  # Because decorate is a decorator, it must return a function.\n",
    "\n",
    "    return decorate  # register is our decorator factory, so it returns decorate.\n",
    "\n",
    "\n",
    "@register(active=False)\n",
    "def f1():\n",
    "    print('running f1()')\n",
    "\n",
    "\n",
    "@register()\n",
    "def f2():\n",
    "    print('running f2()')\n",
    "\n",
    "\n",
    "def f3():\n",
    "    print('running f3()')"
   ]
  },
  {
   "cell_type": "markdown",
   "metadata": {},
   "source": [
    "Note how only the `f2` function appears in the `registry`; `f1` does not appear because `active=False` was passed to the register decorator factory, so the decorate that was applied to `f1` did not add it to the registry."
   ]
  },
  {
   "cell_type": "code",
   "execution_count": 46,
   "metadata": {},
   "outputs": [
    {
     "data": {
      "text/plain": [
       "{<function __main__.f2()>}"
      ]
     },
     "execution_count": 46,
     "metadata": {},
     "output_type": "execute_result"
    }
   ],
   "source": [
    "registry"
   ]
  },
  {
   "cell_type": "markdown",
   "metadata": {},
   "source": [
    "We can use `register` as a regular function"
   ]
  },
  {
   "cell_type": "code",
   "execution_count": 48,
   "metadata": {},
   "outputs": [
    {
     "name": "stdout",
     "output_type": "stream",
     "text": [
      "running register(active=True)->decorate(<function f3 at 0x7ff0ceb4e0c0>)\n"
     ]
    },
    {
     "data": {
      "text/plain": [
       "<function __main__.f3()>"
      ]
     },
     "execution_count": 48,
     "metadata": {},
     "output_type": "execute_result"
    }
   ],
   "source": [
    "register()(f3)"
   ]
  },
  {
   "cell_type": "markdown",
   "metadata": {},
   "source": [
    "### The Parameterized Clock Decorator"
   ]
  },
  {
   "cell_type": "code",
   "execution_count": 49,
   "metadata": {},
   "outputs": [
    {
     "name": "stdout",
     "output_type": "stream",
     "text": [
      "[0.12309443s] snooze(0.123) -> None\n",
      "[0.12309452s] snooze(0.123) -> None\n",
      "[0.12314299s] snooze(0.123) -> None\n"
     ]
    }
   ],
   "source": [
    "import time\n",
    "DEFAULT_FMT = '[{elapsed:0.8f}s] {name}({args}) -> {result}'\n",
    "\n",
    "def clock(fmt=DEFAULT_FMT):\n",
    "    def decorate(func):\n",
    "        def clocked(*_args):\n",
    "            t0 = time.perf_counter()\n",
    "            _result = func(*_args)\n",
    "            elapsed = time.perf_counter() - t0\n",
    "            name = func.__name__\n",
    "            args = ', '.join(repr(arg) for arg in _args)\n",
    "            result = repr(_result)\n",
    "            print(fmt.format(**locals()))\n",
    "            return _result\n",
    "        return clocked\n",
    "    return decorate\n",
    "\n",
    "\n",
    "@clock()\n",
    "def snooze(seconds):\n",
    "    time.sleep(seconds)\n",
    "\n",
    "\n",
    "for i in range(3):\n",
    "    snooze(.123)"
   ]
  },
  {
   "cell_type": "code",
   "execution_count": 50,
   "metadata": {},
   "outputs": [
    {
     "name": "stdout",
     "output_type": "stream",
     "text": [
      "snooze: 0.12319976300932467s\n",
      "snooze: 0.12310446699848399s\n",
      "snooze: 0.12317454499134328s\n"
     ]
    }
   ],
   "source": [
    "@clock('{name}: {elapsed}s')\n",
    "def snooze(seconds):\n",
    "    time.sleep(seconds)\n",
    "\n",
    "for i in range(3):\n",
    "    snooze(.123)"
   ]
  },
  {
   "cell_type": "code",
   "execution_count": 51,
   "metadata": {},
   "outputs": [
    {
     "name": "stdout",
     "output_type": "stream",
     "text": [
      "snooze(0.123) dt=0.123s\n",
      "snooze(0.123) dt=0.123s\n",
      "snooze(0.123) dt=0.123s\n"
     ]
    }
   ],
   "source": [
    "@clock('{name}({args}) dt={elapsed:0.3f}s')\n",
    "def snooze(seconds):\n",
    "    time.sleep(seconds)\n",
    "\n",
    "for i in range(3):\n",
    "    snooze(.123)"
   ]
  },
  {
   "cell_type": "markdown",
   "metadata": {},
   "source": [
    "### A Class-Based Clock Decorator\n",
    "As a final example, let's implement a parameterized clock decorator implemented as a class with `__call__`."
   ]
  },
  {
   "cell_type": "code",
   "execution_count": 52,
   "metadata": {},
   "outputs": [],
   "source": [
    "import time\n",
    "DEFAULT_FMT = '[{elapsed:0.8f}s] {name}({args}) -> {result}'\n",
    "\n",
    "class clock_class:  # Instead of a clock outer function, the clock class is our parameterized decorator factory\n",
    "    def __init__(self, fmt=DEFAULT_FMT):\n",
    "        self.fmt = fmt\n",
    "\n",
    "    def __call__(self, func):\n",
    "        def clocked(*_args):\n",
    "            t0 = time.perf_counter()\n",
    "            _result = func(*_args)\n",
    "            elapsed = time.perf_counter() - t0\n",
    "            name = func.__name__\n",
    "            args = ', '.join(repr(arg) for arg in _args)\n",
    "            result = repr(_result)\n",
    "            print(self.fmt.format(**locals()))\n",
    "            return _result\n",
    "        return clocked"
   ]
  },
  {
   "cell_type": "code",
   "execution_count": 53,
   "metadata": {},
   "outputs": [
    {
     "name": "stdout",
     "output_type": "stream",
     "text": [
      "snooze(0.123) dt=0.123s\n",
      "snooze(0.123) dt=0.123s\n",
      "snooze(0.123) dt=0.123s\n"
     ]
    }
   ],
   "source": [
    "@clock_class('{name}({args}) dt={elapsed:0.3f}s')\n",
    "def snooze(seconds):\n",
    "    time.sleep(seconds)\n",
    "\n",
    "for i in range(3):\n",
    "    snooze(.123)"
   ]
  },
  {
   "cell_type": "markdown",
   "metadata": {},
   "source": [
    "## Chapter Summary\n",
    "\n",
    "- We started with a simple `@register` decorator without an inner function, and finished with a parameterized `@clock()` involving two levels of nested functions.\n",
    "- Understanding how decorators actually work required covering the differenc between import time and runtime, then diving into variable scoping, closures, and the new nonlocal declaration. Mastering closures and nonlocal is valuable not only to build decorators, but also to code event-oriented programs for GUIs or asynchronous I/O with callbacks, and to adopt a functional style when it makes sense.\n",
    "- Parameterized decorators almost always involve at least two nested functions, maybe more if you want to use `@functools.wraps` to produce a decorator that provides better support for more advanced techniques."
   ]
  },
  {
   "cell_type": "markdown",
   "metadata": {},
   "source": []
  }
 ],
 "metadata": {
  "kernelspec": {
   "display_name": "base",
   "language": "python",
   "name": "python3"
  },
  "language_info": {
   "codemirror_mode": {
    "name": "ipython",
    "version": 3
   },
   "file_extension": ".py",
   "mimetype": "text/x-python",
   "name": "python",
   "nbconvert_exporter": "python",
   "pygments_lexer": "ipython3",
   "version": "undefined.undefined.undefined"
  }
 },
 "nbformat": 4,
 "nbformat_minor": 2
}
