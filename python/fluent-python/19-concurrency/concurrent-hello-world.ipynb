{
 "cells": [
  {
   "attachments": {},
   "cell_type": "markdown",
   "metadata": {},
   "source": [
    "# 19 - Python Concurrency\n",
    "\n",
    "[Source Code from the Book](https://github.com/fluentpython/example-code-2e/tree/master/19-concurrency )"
   ]
  },
  {
   "attachments": {},
   "cell_type": "markdown",
   "metadata": {},
   "source": [
    "## Spinner with Threads"
   ]
  },
  {
   "attachments": {},
   "cell_type": "markdown",
   "metadata": {},
   "source": [
    "Below, we have 2 functions (`slow` and `spin`).  \n",
    "Start a function (`slow`) that blocks for 3 seconds, and this is to simulate a computing task, like a slow API call over the network.  \n",
    "The `spin` function makes an animated spinner displaying each character in the string `\\|/-` in the same screen position. When the `slow` computation finishes, the line with the spinner is cleared and the result is shown (42).  \n",
    "The spinner will spin simultaneously while we wait for `slow` to finish => we are doing 2 things at the same time.  "
   ]
  },
  {
   "cell_type": "code",
   "execution_count": 24,
   "metadata": {},
   "outputs": [
    {
     "name": "stdout",
     "output_type": "stream",
     "text": [
      "spinner object: <Thread(Thread-7 (spin), initial)>\n",
      "Answer: 42  \n"
     ]
    }
   ],
   "source": [
    "# spinner_thread.py\n",
    "\n",
    "import itertools\n",
    "import time\n",
    "from threading import Thread, Event\n",
    "\n",
    "\n",
    "def spin(msg: str, done: Event) -> None:  # This function will run in a separate thread. Event is used to synchronize threads \n",
    "    for char in itertools.cycle(r'\\|/-'):  # This is an infinite loop because itertools.cycle yields one character at a time\n",
    "        status = f'\\r{char} {msg}'  # Trick for text-mode animation: move the cursor back to the start of the line with the carriage return ASCII control character ('\\r').\n",
    "        print(status, end='', flush=True)\n",
    "        if done.wait(.1):  # .wait returns True when the event is set() by another thread; if the timeout elapses, it returns False\n",
    "            break  # Exit the infinite loop\n",
    "    blanks = ' ' * len(status)\n",
    "    print(f'\\r{blanks}\\r', end='')  # Clear the status line by overwriting with spaces and moving the cursor back to the beginning.\n",
    "\n",
    "\n",
    "def slow() -> int:\n",
    "    time.sleep(3)  # slow() will be called by the main thread. Imagine this is a slow API call over the network.\n",
    "    return 42\n",
    "\n",
    "\n",
    "def supervisor() -> int:  # supervisor will return the result of slow\n",
    "    done = Event()  # Event is used to coordinate the main thread and spinner thread\n",
    "    spinner = Thread(target=spin, args=('thinking!', done))  # Run a new thread with the spin function as target\n",
    "    print(f'spinner object: {spinner}')  # the spinner object will be <Thread(Thread-1, initial)>, where initial means the thread is not started yet\n",
    "    spinner.start()  # Start the spinner thread.\n",
    "    result = slow()  # Call slow, which blocks the main thread. Meanwhile, the spinner thread is running.\n",
    "    done.set()  # Set the Event flag to True; this will terminate the for loop inside the spin function\n",
    "    spinner.join()  # Wait until the spinner thread finishes.\n",
    "    return result\n",
    "\n",
    "\n",
    "def main() -> None:\n",
    "    result = supervisor()  # Run the supervisor function.\n",
    "    print(f'Answer: {result}')\n",
    "\n",
    "\n",
    "main()"
   ]
  },
  {
   "attachments": {},
   "cell_type": "markdown",
   "metadata": {},
   "source": [
    "&#128212; `time.sleep()` blocks the calling thread but releases the GIL, allowing other Python threads to run."
   ]
  },
  {
   "attachments": {},
   "cell_type": "markdown",
   "metadata": {},
   "source": [
    "## Spinner with Processes"
   ]
  },
  {
   "attachments": {},
   "cell_type": "markdown",
   "metadata": {},
   "source": [
    "The `multiprocessing` package supports running concurrent tasks in _separate Python processes_ instead of threads. When you create a `multiprocessing.Process` instance, a whole new Python interpreter is started as a child process in the background. Since each python interpreter has its own GIL, this allows the program to use all available CPU cores."
   ]
  },
  {
   "cell_type": "code",
   "execution_count": 26,
   "metadata": {},
   "outputs": [
    {
     "name": "stdout",
     "output_type": "stream",
     "text": [
      "spinner object: <Process name='Process-4' parent=67182 initial>\n",
      "Answer: 42  \n"
     ]
    }
   ],
   "source": [
    "# spinner_proc.py\n",
    "\n",
    "import itertools\n",
    "import time\n",
    "from multiprocessing import Process, Event  \n",
    "from multiprocessing import synchronize     \n",
    "\n",
    "\n",
    "def spin(msg: str, done: synchronize.Event) -> None:  # difference to the thread version here\n",
    "    for char in itertools.cycle(r'\\|/-'):\n",
    "        status = f'\\r{char} {msg}'\n",
    "        print(status, end='', flush=True)\n",
    "        if done.wait(.1):\n",
    "            break\n",
    "    blanks = ' ' * len(status)\n",
    "    print(f'\\r{blanks}\\r', end='')\n",
    "\n",
    "\n",
    "def slow() -> int:\n",
    "    time.sleep(3)\n",
    "    return 42\n",
    "\n",
    "\n",
    "def supervisor() -> int:\n",
    "    done = Event()\n",
    "    spinner = Process(target=spin, args=('thinking!', done))  # difference to the thread version here\n",
    "    print(f'spinner object: {spinner}')          \n",
    "    spinner.start()\n",
    "    result = slow()\n",
    "    done.set()\n",
    "    spinner.join()\n",
    "    return result\n",
    "\n",
    "\n",
    "def main() -> None:\n",
    "    result = supervisor()\n",
    "    print(f'Answer: {result}')\n",
    "\n",
    "\n",
    "main()"
   ]
  },
  {
   "attachments": {},
   "cell_type": "markdown",
   "metadata": {},
   "source": [
    "`67182` is the process ID of the Python instance running `spinner_proc.py`"
   ]
  },
  {
   "attachments": {},
   "cell_type": "markdown",
   "metadata": {},
   "source": [
    "&#128212; The basic API of `thread` and `multiprocessing` are similar, but their implementation is very different, and `multiprocessing` has a much larger API to handle the added complexity of multiprocess programming, e.g. how to communicate between processes by serializing and deserializing objects"
   ]
  },
  {
   "attachments": {},
   "cell_type": "markdown",
   "metadata": {},
   "source": [
    "## Spinner with Coroutines"
   ]
  },
  {
   "attachments": {},
   "cell_type": "markdown",
   "metadata": {},
   "source": [
    "Python coroutines usually run within a single thread under the supervision of an event loop, also in the same thread. Coroutines support cooperative multitasking: each coroutine must explicitly cede control with the `yield` or `await` keyword, so that another may proceed concurrently (but not in parallel)"
   ]
  },
  {
   "attachments": {},
   "cell_type": "markdown",
   "metadata": {},
   "source": [
    "In the code below in `spinner_async.py`, we only have `main` as a function. Others are `coroutines`"
   ]
  },
  {
   "cell_type": "code",
   "execution_count": 25,
   "metadata": {},
   "outputs": [
    {
     "name": "stdout",
     "output_type": "stream",
     "text": [
      "spinner object: <Task pending name='Task-2' coro=<spin() running at /home/dk/Desktop/projects/programming/fluent-python/19-concurrency/spinner_async.py:5>>\n",
      "END OF SPIN \n",
      "Answer: 42\n"
     ]
    }
   ],
   "source": [
    "!python spinner_async.py"
   ]
  },
  {
   "attachments": {},
   "cell_type": "markdown",
   "metadata": {},
   "source": [
    "### Spinner with `async` and `time.sleep`  "
   ]
  },
  {
   "attachments": {},
   "cell_type": "markdown",
   "metadata": {},
   "source": [
    "In this experiement, we use `time.sleep` instead of `asyncio.sleep`, hence pause the whole program and we will not be able to see the spinner at all"
   ]
  },
  {
   "cell_type": "code",
   "execution_count": 22,
   "metadata": {},
   "outputs": [
    {
     "name": "stdout",
     "output_type": "stream",
     "text": [
      "spinner object: <Task pending name='Task-2' coro=<spin() running at /home/dk/Desktop/projects/programming/fluent-python/19-concurrency/spinner_async_experiment.py:6>>\n",
      "Answer: 42\n"
     ]
    }
   ],
   "source": [
    "!python spinner_async_experiment.py"
   ]
  },
  {
   "attachments": {},
   "cell_type": "markdown",
   "metadata": {},
   "source": [
    "&#128212; When `time.sleep()` is called, it will block the entire execution of the script and it will be put on hold, just frozen, doing nothing. But when you call await `asyncio.sleep()`, it will ask the asyncio event loop to run something else while your `await` statement finishes its execution."
   ]
  },
  {
   "attachments": {},
   "cell_type": "markdown",
   "metadata": {},
   "source": [
    "## Spinner using Threads and Coroutines: Differences and Similarities "
   ]
  },
  {
   "attachments": {},
   "cell_type": "markdown",
   "metadata": {},
   "source": [
    "<table>\n",
    "<tr>\n",
    "<th> threaded supervisor function in `spinner_thread.py` </th>\n",
    "<th> the asynchronous supervisor coroutine in `spinner_async.py` </th>\n",
    "</tr>\n",
    "<tr>\n",
    "<td>\n",
    "\n",
    "```python\n",
    "def supervisor() -> int: \n",
    "    done = Event()  \n",
    "    spinner = Thread(target=spin, args=('thinking!', done))  \n",
    "    print(f'spinner object: {spinner}') \n",
    "    spinner.start()  \n",
    "    result = slow() \n",
    "    done.set()  \n",
    "    spinner.join()  \n",
    "    return result\n",
    "```\n",
    "\n",
    "</td>\n",
    "<td>\n",
    "\n",
    "```python\n",
    "async def supervisor() -> int:\n",
    "    spinner = asyncio.create_task(spin('thinking!'))\n",
    "    print('spinner object:', spinner)\n",
    "    result = await slow()\n",
    "    spinner.cancel()\n",
    "    return result\n",
    "```"
   ]
  },
  {
   "attachments": {},
   "cell_type": "markdown",
   "metadata": {},
   "source": [
    "• An `asyncio.Task` is roughly the equivalent of a `threading.Thread`  \n",
    "• A `Task` drives a coroutine object, and a `Thread` invokes a callable.  \n",
    "• A coroutine yields control explicitly with the `await` keyword.  \n",
    "• You don’t instantiate Task objects yourself, you get them by passing a coroutine to `asyncio.create_task(…)`.  \n",
    "• When `asyncio.create_task(…)` returns a `Task` object, it is already scheduled to run, but a `Thread` instance must be explicitly told to run by calling its start method.  \n",
    "• In the threaded `supervisor`, `slow` is a plain function and is directly invoked by the main thread (it uses `time.sleep(...)`). In the asynchronous `supervisor`, `slow` is a coroutine driven by `await` (it uses `asyncio.await`).  \n",
    "• There’s no API to terminate a thread from the outside; instead, you must send a signal (the `Event.set()` function). For tasks, there is the `Task.cancel()` instance method, which raises `CancelledError` at the `await` expression where the coroutine body is currently suspended.  \n",
    "• The supervisor coroutine must be started with `asyncio.run` in the `main` function."
   ]
  },
  {
   "attachments": {},
   "cell_type": "markdown",
   "metadata": {},
   "source": [
    "&#128212; With thread, the scheduler can interrupt a thread at any time. You must remember to hold locks to protect the critical sections of your program, to avoid getting interrupted in the middle of a multistep operation, which could leave data in an invalid state.\n",
    "\n",
    "With coroutines, your code is protected against interruption by default. Coroutines are “synchronized” by definition: only one of them is running at any time. You must explicitly `await` to let the rest of the program run"
   ]
  },
  {
   "cell_type": "code",
   "execution_count": null,
   "metadata": {},
   "outputs": [],
   "source": []
  }
 ],
 "metadata": {
  "kernelspec": {
   "display_name": ".venv",
   "language": "python",
   "name": "python3"
  },
  "language_info": {
   "codemirror_mode": {
    "name": "ipython",
    "version": 3
   },
   "file_extension": ".py",
   "mimetype": "text/x-python",
   "name": "python",
   "nbconvert_exporter": "python",
   "pygments_lexer": "ipython3",
   "version": "3.10.8"
  },
  "orig_nbformat": 4
 },
 "nbformat": 4,
 "nbformat_minor": 2
}
