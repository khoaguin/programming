{
 "cells": [
  {
   "attachments": {},
   "cell_type": "markdown",
   "metadata": {},
   "source": [
    "# The Real Impact of the GIL"
   ]
  },
  {
   "attachments": {},
   "cell_type": "markdown",
   "metadata": {},
   "source": [
    "In `concurrent-hello-world` (thread version), we have `time.sleep()` that represents like a HTTP client request and the spinner keeps spining. That’s because a well-designed network library will release the GIL while waiting for the network.\n",
    "\n",
    "However, with CPU intensive works, the story is different"
   ]
  },
  {
   "cell_type": "code",
   "execution_count": 1,
   "metadata": {},
   "outputs": [
    {
     "data": {
      "text/plain": [
       "True"
      ]
     },
     "execution_count": 1,
     "metadata": {},
     "output_type": "execute_result"
    }
   ],
   "source": [
    "import math\n",
    "\n",
    "def is_prime(n: int) -> bool:\n",
    "    if n < 2:\n",
    "        return False\n",
    "    if n == 2:\n",
    "        return True\n",
    "    if n % 2 == 0:\n",
    "        return False\n",
    "    \n",
    "    root = math.isqrt(n)\n",
    "    for i in range(3, root + 1, 2):\n",
    "        if n % i == 0:\n",
    "            return False\n",
    "    return True\n",
    "\n",
    "is_prime(5_000_111_000_222_021)  # this will take about 3 secs"
   ]
  },
  {
   "attachments": {},
   "cell_type": "markdown",
   "metadata": {},
   "source": [
    "Now let's substitute `time.sleep` with `is_prime`"
   ]
  },
  {
   "attachments": {},
   "cell_type": "markdown",
   "metadata": {},
   "source": [
    "## Processes"
   ]
  },
  {
   "cell_type": "code",
   "execution_count": 2,
   "metadata": {},
   "outputs": [
    {
     "name": "stdout",
     "output_type": "stream",
     "text": [
      "spinner object: <Process name='Process-1' parent=58090 initial>\n",
      "Answer: 42  \n"
     ]
    }
   ],
   "source": [
    "# spinner_proc.py\n",
    "\n",
    "import itertools\n",
    "import time\n",
    "from multiprocessing import Process, Event  \n",
    "from multiprocessing import synchronize     \n",
    "\n",
    "\n",
    "def spin(msg: str, done: synchronize.Event) -> None:  # difference to the thread version here\n",
    "    for char in itertools.cycle(r'\\|/-'):\n",
    "        status = f'\\r{char} {msg}'\n",
    "        print(status, end='', flush=True)\n",
    "        if done.wait(.1):\n",
    "            break\n",
    "    blanks = ' ' * len(status)\n",
    "    print(f'\\r{blanks}\\r', end='')\n",
    "\n",
    "\n",
    "def slow() -> int:\n",
    "    is_prime(5_000_111_000_222_021)\n",
    "    return 42\n",
    "\n",
    "\n",
    "def supervisor() -> int:\n",
    "    done = Event()\n",
    "    spinner = Process(target=spin, args=('thinking!', done))  # difference to the thread version here\n",
    "    print(f'spinner object: {spinner}')          \n",
    "    spinner.start()\n",
    "    result = slow()\n",
    "    done.set()\n",
    "    spinner.join()\n",
    "    return result\n",
    "\n",
    "\n",
    "def main() -> None:\n",
    "    result = supervisor()\n",
    "    print(f'Answer: {result}')\n",
    "\n",
    "\n",
    "main()"
   ]
  },
  {
   "attachments": {},
   "cell_type": "markdown",
   "metadata": {},
   "source": [
    "&#128212; The spinner is controlled by a child process, so it continues spinning normally while the primality test is computed by the parent process"
   ]
  },
  {
   "attachments": {},
   "cell_type": "markdown",
   "metadata": {},
   "source": [
    "## Threading"
   ]
  },
  {
   "cell_type": "code",
   "execution_count": 3,
   "metadata": {},
   "outputs": [
    {
     "name": "stdout",
     "output_type": "stream",
     "text": [
      "spinner object: <Thread(Thread-4 (spin), initial)>\n",
      "Answer: 42  \n"
     ]
    }
   ],
   "source": [
    "import itertools\n",
    "import time\n",
    "from threading import Thread, Event\n",
    "\n",
    "\n",
    "def spin(msg: str, done: Event) -> None:  # This function will run in a separate thread. Event is used to synchronize threads \n",
    "    for char in itertools.cycle(r'\\|/-'):  # This is an infinite loop because itertools.cycle yields one character at a time\n",
    "        status = f'\\r{char} {msg}'  # Trick for text-mode animation: move the cursor back to the start of the line with the carriage return ASCII control character ('\\r').\n",
    "        print(status, end='', flush=True)\n",
    "        if done.wait(.1):  # .wait returns True when the event is set() by another thread; if the timeout elapses, it returns False\n",
    "            break  # Exit the infinite loop\n",
    "    blanks = ' ' * len(status)\n",
    "    print(f'\\r{blanks}\\r', end='')  # Clear the status line by overwriting with spaces and moving the cursor back to the beginning.\n",
    "\n",
    "\n",
    "def slow() -> int:\n",
    "    is_prime(5_000_111_000_222_021)\n",
    "    return 42\n",
    "\n",
    "\n",
    "def supervisor() -> int:  # supervisor will return the result of slow\n",
    "    done = Event()  # Event is used to coordinate the main thread and spinner thread\n",
    "    spinner = Thread(target=spin, args=('thinking!', done))  # Run a new thread with the spin function as target\n",
    "    print(f'spinner object: {spinner}')  # the spinner object will be <Thread(Thread-1, initial)>, where initial means the thread is not started yet\n",
    "    spinner.start()  # Start the spinner thread.\n",
    "    result = slow()  # Call slow, which blocks the main thread. Meanwhile, the spinner thread is running.\n",
    "    done.set()  # Set the Event flag to True; this will terminate the for loop inside the spin function\n",
    "    spinner.join()  # Wait until the spinner thread finishes.\n",
    "    return result\n",
    "\n",
    "\n",
    "def main() -> None:\n",
    "    result = supervisor()  # Run the supervisor function.\n",
    "    print(f'Answer: {result}')\n",
    "\n",
    "\n",
    "main()"
   ]
  },
  {
   "attachments": {},
   "cell_type": "markdown",
   "metadata": {},
   "source": [
    "&#128212; The threaded version of the experiment worked—despite the GIL—because Python periodically interrupts threads (Python suspends the running thread every 5ms). Our example used only two threads: One doing compute-intensive work, and the other driving the animation only 10 times per second"
   ]
  },
  {
   "attachments": {},
   "cell_type": "markdown",
   "metadata": {},
   "source": [
    "## Coroutines"
   ]
  },
  {
   "cell_type": "code",
   "execution_count": 6,
   "metadata": {},
   "outputs": [
    {
     "name": "stdout",
     "output_type": "stream",
     "text": [
      "spinner object: <Task pending name='Task-2' coro=<spin() running at /home/dk/Desktop/projects/programming/fluent-python/19-concurrency/spinner_async_cpu_intensive.py:7>>\n",
      "5000111000222021 is a prime: True\n"
     ]
    }
   ],
   "source": [
    "!python spinner_async_cpu_intensive.py"
   ]
  },
  {
   "attachments": {},
   "cell_type": "markdown",
   "metadata": {},
   "source": [
    "The spin did not appear at all because the flow of control will pass from `supervisor` to `is_prime`. When `is_prime` returns, `supervisor` resumes and cancel the spinner task before it is executed even once."
   ]
  },
  {
   "cell_type": "code",
   "execution_count": null,
   "metadata": {},
   "outputs": [],
   "source": []
  }
 ],
 "metadata": {
  "kernelspec": {
   "display_name": "base",
   "language": "python",
   "name": "python3"
  },
  "language_info": {
   "codemirror_mode": {
    "name": "ipython",
    "version": 3
   },
   "file_extension": ".py",
   "mimetype": "text/x-python",
   "name": "python",
   "nbconvert_exporter": "python",
   "pygments_lexer": "ipython3",
   "version": "3.10.8"
  },
  "orig_nbformat": 4
 },
 "nbformat": 4,
 "nbformat_minor": 2
}
