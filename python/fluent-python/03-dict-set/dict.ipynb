{
 "cells": [
  {
   "cell_type": "markdown",
   "metadata": {},
   "source": [
    "## Modern `dict` syntax"
   ]
  },
  {
   "cell_type": "markdown",
   "metadata": {},
   "source": [
    "### `dict` Comprehensions (python3)"
   ]
  },
  {
   "cell_type": "code",
   "execution_count": 1,
   "metadata": {},
   "outputs": [
    {
     "data": {
      "text/plain": [
       "{'Bangladesh': 880,\n",
       " 'Brazil': 55,\n",
       " 'China': 86,\n",
       " 'India': 91,\n",
       " 'Indonesia': 62,\n",
       " 'Japan': 81,\n",
       " 'Nigeria': 234,\n",
       " 'Pakistan': 92,\n",
       " 'Russia': 7,\n",
       " 'United States': 1}"
      ]
     },
     "execution_count": 1,
     "metadata": {},
     "output_type": "execute_result"
    }
   ],
   "source": [
    "dial_codes = [\n",
    "    (880, 'Bangladesh'),\n",
    "    (55, 'Brazil'),\n",
    "    (86, 'China'),\n",
    "    (91, 'India'),\n",
    "    (62, 'Indonesia'),\n",
    "    (81, 'Japan'),\n",
    "    (234, 'Nigeria'),\n",
    "    (92, 'Pakistan'),\n",
    "    (7, 'Russia'),\n",
    "    (1, 'United States')\n",
    "]\n",
    "\n",
    "country_dial = {country: code for code, country in dial_codes}\n",
    "country_dial"
   ]
  },
  {
   "cell_type": "code",
   "execution_count": 2,
   "metadata": {},
   "outputs": [
    {
     "data": {
      "text/plain": [
       "{55: 'BRAZIL', 62: 'INDONESIA', 7: 'RUSSIA', 1: 'UNITED STATES'}"
      ]
     },
     "execution_count": 2,
     "metadata": {},
     "output_type": "execute_result"
    }
   ],
   "source": [
    "{code: country.upper()\n",
    "    for country, code in sorted(country_dial.items())\n",
    "    if code < 70}"
   ]
  },
  {
   "cell_type": "markdown",
   "metadata": {},
   "source": [
    "### Unpacking Mappings (python 3.5)"
   ]
  },
  {
   "cell_type": "code",
   "execution_count": 3,
   "metadata": {},
   "outputs": [
    {
     "data": {
      "text/plain": [
       "{'x': 1, 'y': 2, 'z': 3}"
      ]
     },
     "execution_count": 3,
     "metadata": {},
     "output_type": "execute_result"
    }
   ],
   "source": [
    "def dump(**kwargs):\n",
    "    return kwargs\n",
    "dump(**{'x': 1}, y=2, **{'z': 3})"
   ]
  },
  {
   "cell_type": "code",
   "execution_count": 4,
   "metadata": {},
   "outputs": [
    {
     "data": {
      "text/plain": [
       "{'a': 0, 'x': 4, 'y': 2, 'z': 3}"
      ]
     },
     "execution_count": 4,
     "metadata": {},
     "output_type": "execute_result"
    }
   ],
   "source": [
    "{'a': 0, **{'x': 1}, 'y': 2, **{'z': 3, 'x': 4}}"
   ]
  },
  {
   "cell_type": "markdown",
   "metadata": {},
   "source": [
    "### Merging Mappings with | (python 3.9)"
   ]
  },
  {
   "cell_type": "code",
   "execution_count": 5,
   "metadata": {},
   "outputs": [
    {
     "data": {
      "text/plain": [
       "{'a': 2, 'b': 4, 'c': 6}"
      ]
     },
     "execution_count": 5,
     "metadata": {},
     "output_type": "execute_result"
    }
   ],
   "source": [
    "d1 = {'a': 1, 'b': 3}\n",
    "d2 = {'a': 2, 'b': 4, 'c': 6}\n",
    "d1 | d2"
   ]
  },
  {
   "cell_type": "code",
   "execution_count": 6,
   "metadata": {},
   "outputs": [
    {
     "data": {
      "text/plain": [
       "{'a': 1, 'b': 3}"
      ]
     },
     "execution_count": 6,
     "metadata": {},
     "output_type": "execute_result"
    }
   ],
   "source": [
    "d1"
   ]
  },
  {
   "cell_type": "code",
   "execution_count": 7,
   "metadata": {},
   "outputs": [
    {
     "data": {
      "text/plain": [
       "{'a': 2, 'b': 4, 'c': 6}"
      ]
     },
     "execution_count": 7,
     "metadata": {},
     "output_type": "execute_result"
    }
   ],
   "source": [
    "d1 |= d2\n",
    "d1"
   ]
  },
  {
   "cell_type": "markdown",
   "metadata": {},
   "source": [
    "## Pattern Matching with Mappings\n",
    "The `match/case` statement supports subjects that are mapping objects. Thanks to destructuring, *pattern matching is a powerful tool to process records structured like nested mappings and sequences, which we often need to read from JSON APIs* and databases with semi-structured schemas, like MongoDB, EdgeDB, or PostgreSQL.\n"
   ]
  },
  {
   "cell_type": "code",
   "execution_count": 8,
   "metadata": {},
   "outputs": [],
   "source": [
    "def get_creators(record: dict) -> list:\n",
    "    match record:\n",
    "        case {'type': 'book', 'api': 2, 'authors': [*names]}:\n",
    "            return names\n",
    "        case {'type': 'book', 'api': 1, 'author': name}:\n",
    "            return [name]\n",
    "        case {'type': 'book'}:\n",
    "            raise ValueError(f\"Invalid 'book' record: {record!r}\")\n",
    "        case {'type': 'movie', 'director': name}:\n",
    "            return [name]\n",
    "        case _:\n",
    "            raise ValueError(f'Invalid record: {record!r}')\n"
   ]
  },
  {
   "cell_type": "code",
   "execution_count": 9,
   "metadata": {},
   "outputs": [
    {
     "data": {
      "text/plain": [
       "['Douglas Hofstadter']"
      ]
     },
     "execution_count": 9,
     "metadata": {},
     "output_type": "execute_result"
    }
   ],
   "source": [
    "b1 = dict(api=1, author='Douglas Hofstadter',\n",
    "        type='book', title='Gödel, Escher, Bach')\n",
    "get_creators(b1)"
   ]
  },
  {
   "cell_type": "code",
   "execution_count": 12,
   "metadata": {},
   "outputs": [
    {
     "data": {
      "text/plain": [
       "['Martelli', 'Ravenscroft', 'Holden']"
      ]
     },
     "execution_count": 12,
     "metadata": {},
     "output_type": "execute_result"
    }
   ],
   "source": [
    "from collections import OrderedDict\n",
    "b2 = OrderedDict(api=2, type='book', title='Python in a Nutshell',\n",
    "            authors=['Martelli', 'Ravenscroft', 'Holden'])\n",
    "get_creators(b2)"
   ]
  },
  {
   "cell_type": "code",
   "execution_count": 13,
   "metadata": {},
   "outputs": [
    {
     "ename": "ValueError",
     "evalue": "Invalid 'book' record: {'type': 'book', 'pages': 770}",
     "output_type": "error",
     "traceback": [
      "\u001b[0;31m---------------------------------------------------------------------------\u001b[0m",
      "\u001b[0;31mValueError\u001b[0m                                Traceback (most recent call last)",
      "Cell \u001b[0;32mIn[13], line 1\u001b[0m\n\u001b[0;32m----> 1\u001b[0m \u001b[43mget_creators\u001b[49m\u001b[43m(\u001b[49m\u001b[43m{\u001b[49m\u001b[38;5;124;43m'\u001b[39;49m\u001b[38;5;124;43mtype\u001b[39;49m\u001b[38;5;124;43m'\u001b[39;49m\u001b[43m:\u001b[49m\u001b[43m \u001b[49m\u001b[38;5;124;43m'\u001b[39;49m\u001b[38;5;124;43mbook\u001b[39;49m\u001b[38;5;124;43m'\u001b[39;49m\u001b[43m,\u001b[49m\u001b[43m \u001b[49m\u001b[38;5;124;43m'\u001b[39;49m\u001b[38;5;124;43mpages\u001b[39;49m\u001b[38;5;124;43m'\u001b[39;49m\u001b[43m:\u001b[49m\u001b[43m \u001b[49m\u001b[38;5;241;43m770\u001b[39;49m\u001b[43m}\u001b[49m\u001b[43m)\u001b[49m\n",
      "Cell \u001b[0;32mIn[8], line 8\u001b[0m, in \u001b[0;36mget_creators\u001b[0;34m(record)\u001b[0m\n\u001b[1;32m      1\u001b[0m \u001b[38;5;28;01mdef\u001b[39;00m \u001b[38;5;21mget_creators\u001b[39m(record: \u001b[38;5;28mdict\u001b[39m) \u001b[38;5;241m-\u001b[39m\u001b[38;5;241m>\u001b[39m \u001b[38;5;28mlist\u001b[39m:\n\u001b[1;32m      2\u001b[0m     \u001b[38;5;28;01mmatch\u001b[39;00m record:\n\u001b[1;32m      3\u001b[0m         \u001b[38;5;28;01mcase\u001b[39;00m {\u001b[38;5;124m'\u001b[39m\u001b[38;5;124mtype\u001b[39m\u001b[38;5;124m'\u001b[39m: \u001b[38;5;124m'\u001b[39m\u001b[38;5;124mbook\u001b[39m\u001b[38;5;124m'\u001b[39m, \u001b[38;5;124m'\u001b[39m\u001b[38;5;124mapi\u001b[39m\u001b[38;5;124m'\u001b[39m: \u001b[38;5;241m2\u001b[39m, \u001b[38;5;124m'\u001b[39m\u001b[38;5;124mauthors\u001b[39m\u001b[38;5;124m'\u001b[39m: [\u001b[38;5;241m*\u001b[39mnames]}:\n\u001b[1;32m      4\u001b[0m             \u001b[38;5;28;01mreturn\u001b[39;00m names\n\u001b[1;32m      5\u001b[0m         \u001b[38;5;28;01mcase\u001b[39;00m {\u001b[38;5;124m'\u001b[39m\u001b[38;5;124mtype\u001b[39m\u001b[38;5;124m'\u001b[39m: \u001b[38;5;124m'\u001b[39m\u001b[38;5;124mbook\u001b[39m\u001b[38;5;124m'\u001b[39m, \u001b[38;5;124m'\u001b[39m\u001b[38;5;124mapi\u001b[39m\u001b[38;5;124m'\u001b[39m: \u001b[38;5;241m1\u001b[39m, \u001b[38;5;124m'\u001b[39m\u001b[38;5;124mauthor\u001b[39m\u001b[38;5;124m'\u001b[39m: name}:\n\u001b[1;32m      6\u001b[0m             \u001b[38;5;28;01mreturn\u001b[39;00m [name]\n\u001b[1;32m      7\u001b[0m         \u001b[38;5;28;01mcase\u001b[39;00m {\u001b[38;5;124m'\u001b[39m\u001b[38;5;124mtype\u001b[39m\u001b[38;5;124m'\u001b[39m: \u001b[38;5;124m'\u001b[39m\u001b[38;5;124mbook\u001b[39m\u001b[38;5;124m'\u001b[39m}:\n\u001b[0;32m----> 8\u001b[0m             \u001b[38;5;28;01mraise\u001b[39;00m \u001b[38;5;167;01mValueError\u001b[39;00m(\u001b[38;5;124mf\u001b[39m\u001b[38;5;124m\"\u001b[39m\u001b[38;5;124mInvalid \u001b[39m\u001b[38;5;124m'\u001b[39m\u001b[38;5;124mbook\u001b[39m\u001b[38;5;124m'\u001b[39m\u001b[38;5;124m record: \u001b[39m\u001b[38;5;132;01m{\u001b[39;00mrecord\u001b[38;5;132;01m!r}\u001b[39;00m\u001b[38;5;124m\"\u001b[39m)\n\u001b[1;32m      9\u001b[0m         \u001b[38;5;28;01mcase\u001b[39;00m {\u001b[38;5;124m'\u001b[39m\u001b[38;5;124mtype\u001b[39m\u001b[38;5;124m'\u001b[39m: \u001b[38;5;124m'\u001b[39m\u001b[38;5;124mmovie\u001b[39m\u001b[38;5;124m'\u001b[39m, \u001b[38;5;124m'\u001b[39m\u001b[38;5;124mdirector\u001b[39m\u001b[38;5;124m'\u001b[39m: name}:\n\u001b[1;32m     10\u001b[0m             \u001b[38;5;28;01mreturn\u001b[39;00m [name]\n\u001b[1;32m     11\u001b[0m         \u001b[38;5;28;01mcase\u001b[39;00m\u001b[38;5;250m \u001b[39m\u001b[38;5;28;01m_\u001b[39;00m:\n\u001b[1;32m     12\u001b[0m             \u001b[38;5;28;01mraise\u001b[39;00m \u001b[38;5;167;01mValueError\u001b[39;00m(\u001b[38;5;124mf\u001b[39m\u001b[38;5;124m'\u001b[39m\u001b[38;5;124mInvalid record: \u001b[39m\u001b[38;5;132;01m{\u001b[39;00mrecord\u001b[38;5;132;01m!r}\u001b[39;00m\u001b[38;5;124m'\u001b[39m)\n",
      "\u001b[0;31mValueError\u001b[0m: Invalid 'book' record: {'type': 'book', 'pages': 770}"
     ]
    }
   ],
   "source": [
    "get_creators({'type': 'book', 'pages': 770})"
   ]
  },
  {
   "cell_type": "code",
   "execution_count": 14,
   "metadata": {},
   "outputs": [
    {
     "name": "stdout",
     "output_type": "stream",
     "text": [
      "Ice cream details: {'flavor': 'vanilla', 'cost': 199}\n"
     ]
    }
   ],
   "source": [
    "food = dict(category='ice cream', flavor='vanilla', cost=199)\n",
    "match food:\n",
    "    case {'category': 'ice cream', **details}:\n",
    "        print(f'Ice cream details: {details}')"
   ]
  },
  {
   "cell_type": "markdown",
   "metadata": {},
   "source": [
    "## Standard API of Mapping Types\n",
    "The `collections.abc` module provides the `Mapping` and `MutableMapping` ABCs describing the interfaces of `dict` and similar types\n",
    "<img src=\"../images/7.png\" style=\"width: 70%;\">\n",
    "\n",
    "To implement a custom mapping, it’s easier to extend `collections.UserDict`, or to wrap a dict by composition, instead of subclassing these ABCs. The `collections.UserDict` class and all concrete mapping classes in the standard library encapsulate the basic dict in their implementation, which in turn is built on a hash table. Therefore, they all share the limitation that *the keys must be hashable (the values need not be hashable, only the keys)*"
   ]
  },
  {
   "cell_type": "code",
   "execution_count": 16,
   "metadata": {},
   "outputs": [
    {
     "name": "stdout",
     "output_type": "stream",
     "text": [
      "hash(tt) = -3907003130834322577\n"
     ]
    }
   ],
   "source": [
    "tt = (1, 2, (30, 40))\n",
    "print(f\"{hash(tt) = }\")"
   ]
  },
  {
   "cell_type": "code",
   "execution_count": 18,
   "metadata": {},
   "outputs": [
    {
     "ename": "TypeError",
     "evalue": "unhashable type: 'list'",
     "output_type": "error",
     "traceback": [
      "\u001b[0;31m---------------------------------------------------------------------------\u001b[0m",
      "\u001b[0;31mTypeError\u001b[0m                                 Traceback (most recent call last)",
      "Cell \u001b[0;32mIn[18], line 2\u001b[0m\n\u001b[1;32m      1\u001b[0m tl \u001b[38;5;241m=\u001b[39m (\u001b[38;5;241m1\u001b[39m, \u001b[38;5;241m2\u001b[39m, [\u001b[38;5;241m30\u001b[39m, \u001b[38;5;241m40\u001b[39m])\n\u001b[0;32m----> 2\u001b[0m \u001b[38;5;28;43mhash\u001b[39;49m\u001b[43m(\u001b[49m\u001b[43mtl\u001b[49m\u001b[43m)\u001b[49m\n",
      "\u001b[0;31mTypeError\u001b[0m: unhashable type: 'list'"
     ]
    }
   ],
   "source": [
    "tl = (1, 2, [30, 40])\n",
    "hash(tl)"
   ]
  },
  {
   "cell_type": "markdown",
   "metadata": {},
   "source": [
    "User-defined types are hashable by default because their hash code is their `id()`, and the `__eq__()` method inherited from the object class simply compares the object IDs.  \n",
    "If an object implements a custom `__eq__()` that takes into account its internal state, it will be hashable only if its `__hash__()` always returns the same hash code. In practice, this requires that `__eq__()` and `__hash__()` only take into account instance attributes that never change during the life of the object."
   ]
  },
  {
   "cell_type": "markdown",
   "metadata": {},
   "source": [
    "### Overview of Common Mapping Methods\n",
    "\n",
    "<img src=\"../images/8.png\" style=\"width: 80%;\">"
   ]
  },
  {
   "cell_type": "markdown",
   "metadata": {},
   "source": [
    "`my_dict.setdefault(key, []).append(new_value)` is equal to\n",
    "```python\n",
    "if key not in my_dict:\n",
    "    my_dict[key] = []\n",
    "my_dict[key].append(new_value)\n",
    "```\n",
    "except that the latter code performs at least two searches for key — or even three if it’s not found — while `setdefault` does it all with a single lookup."
   ]
  },
  {
   "cell_type": "code",
   "execution_count": 24,
   "metadata": {},
   "outputs": [
    {
     "name": "stdout",
     "output_type": "stream",
     "text": [
      "{'a': [1]}\n",
      "{'a': [1, 2]}\n"
     ]
    }
   ],
   "source": [
    "my_dict = {}\n",
    "my_dict.setdefault(\"a\", []).append(1)\n",
    "print(my_dict)\n",
    "my_dict.setdefault(\"a\", []).append(2)\n",
    "print(my_dict)"
   ]
  },
  {
   "cell_type": "markdown",
   "metadata": {},
   "source": [
    "## Automatic Handling of Missing Keys\n",
    "Sometimes it is convenient to have mappings that return some made-up value when a missing key is searched. There are two main approaches to this: \n",
    "1. Use a `defaultdict` instead of a plain `dict`. 2\n",
    "2. Subclass `dict` or any other mapping type and add a `__missing__` method"
   ]
  },
  {
   "cell_type": "markdown",
   "metadata": {},
   "source": [
    "### `defaultdict`: Another Take on Missing Keys\n",
    "A `collections.defaultdict` instance creates items with a default value on demand whenever a missing key is searched using `d[k]` syntax"
   ]
  },
  {
   "cell_type": "code",
   "execution_count": 36,
   "metadata": {},
   "outputs": [
    {
     "name": "stdout",
     "output_type": "stream",
     "text": [
      "init A\n",
      "defaultdict(<class '__main__.A'>, {'a1': <__main__.A object at 0x7f43212cba60>})\n"
     ]
    }
   ],
   "source": [
    "import collections\n",
    "from typing import DefaultDict\n",
    "\n",
    "class A:\n",
    "    def __init__(self) -> None:\n",
    "        print(\"init A\")\n",
    "\n",
    "d: DefaultDict[str, A] = collections.defaultdict(A)\n",
    "d[\"a1\"]\n",
    "print(d)"
   ]
  },
  {
   "cell_type": "markdown",
   "metadata": {},
   "source": [
    "### The `__missing__` Method\n",
    "Underlying the way mappings deal with missing keys is the aptly named `__missing__` method. This method is not defined in the base dict class, but dict is aware of it: if you subclass dict and provide a `__missing__` method, the standard `dict.__getitem__` will call it whenever a key is not found, instead of raising KeyError."
   ]
  },
  {
   "cell_type": "code",
   "execution_count": 54,
   "metadata": {},
   "outputs": [
    {
     "data": {
      "text/plain": [
       "'two'"
      ]
     },
     "execution_count": 54,
     "metadata": {},
     "output_type": "execute_result"
    }
   ],
   "source": [
    "class StrKeyDict0(dict):\n",
    "    def __missing__(self, key):\n",
    "        if isinstance(key, str):\n",
    "            raise KeyError(key)\n",
    "        return self[str(key)]\n",
    "    \n",
    "    def get(self, key, default=None):\n",
    "        try:\n",
    "            return self[key]  # calls __getitem__ which calls __missing__\n",
    "        except KeyError:\n",
    "            return default\n",
    "    \n",
    "    def __contains__(self, key):\n",
    "        return key in self.keys() or str(key) in self.keys()\n",
    "    \n",
    "d = StrKeyDict0()\n",
    "d['2'] = 'two'\n",
    "d[2]"
   ]
  },
  {
   "cell_type": "code",
   "execution_count": 58,
   "metadata": {},
   "outputs": [
    {
     "data": {
      "text/plain": [
       "True"
      ]
     },
     "execution_count": 58,
     "metadata": {},
     "output_type": "execute_result"
    }
   ],
   "source": [
    "2 in d"
   ]
  },
  {
   "cell_type": "markdown",
   "metadata": {},
   "source": [
    "## Variations of `dict`"
   ]
  },
  {
   "cell_type": "markdown",
   "metadata": {},
   "source": [
    "### `collections.OrderedDict`\n",
    "\n",
    "`dict` vs `OrderedDict`:\n",
    "- The equality operation for `OrderedDict` checks for matching order.  \n",
    "- The `popitem()` method of `OrderedDict` has a different signature. It accepts an optional argument to specify which item is popped.\n",
    "- `OrderedDict` has a `move_to_end()` method to efficiently reposition an element to an endpoint.\n",
    "- **The regular `dict` was designed to be very good at mapping operations**. Tracking insertion order was secondary.\n",
    "- **`OrderedDict` was designed to be good at reordering operations**. Space efficiency, iteration speed, and the performance of update operations were secondary.\n",
    "- Algorithmically, `OrderedDict` can handle frequent reordering operations better than `dict`. This makes it suitable for **tracking recent accesses** (for example, in an LRU cache)."
   ]
  },
  {
   "cell_type": "markdown",
   "metadata": {},
   "source": [
    "### `collections.ChainMap`\n",
    "\n",
    "A `ChainMap` instance holds a list of mappings that can be searched as one. The lookup is performed on each input mapping in the order it appears in the constructor call, and succeeds as soon as the key is found in one of those mappings"
   ]
  },
  {
   "cell_type": "code",
   "execution_count": 3,
   "metadata": {},
   "outputs": [
    {
     "name": "stdout",
     "output_type": "stream",
     "text": [
      "chain['a'] = 1\n",
      "chain['c'] = 6\n"
     ]
    }
   ],
   "source": [
    "d1 = dict(a=1, b=3)\n",
    "d2 = dict(a=2, b=4, c=6)\n",
    "from collections import ChainMap\n",
    "chain = ChainMap(d1, d2)\n",
    "print(f\"{chain['a'] = }\")\n",
    "print(f\"{chain['c'] = }\")"
   ]
  },
  {
   "cell_type": "markdown",
   "metadata": {},
   "source": [
    "The `ChainMap` instance does not copy the input mappings, but holds references to them. Updates or insertions to a `ChainMap` only affect the first input mapping"
   ]
  },
  {
   "cell_type": "code",
   "execution_count": 4,
   "metadata": {},
   "outputs": [
    {
     "data": {
      "text/plain": [
       "{'a': 1, 'b': 3, 'c': -1}"
      ]
     },
     "execution_count": 4,
     "metadata": {},
     "output_type": "execute_result"
    }
   ],
   "source": [
    "chain['c'] = -1\n",
    "d1"
   ]
  },
  {
   "cell_type": "markdown",
   "metadata": {},
   "source": [
    "### `collections.Counter`\n",
    "\n",
    "`collections.Counter` is a mapping that holds an integer count for each key. Updating an existing key adds to its count. This can be used to count instances of hashable objects or as a multiset"
   ]
  },
  {
   "cell_type": "code",
   "execution_count": 6,
   "metadata": {},
   "outputs": [
    {
     "data": {
      "text/plain": [
       "Counter({'a': 5, 'b': 2, 'r': 2, 'c': 1, 'd': 1})"
      ]
     },
     "execution_count": 6,
     "metadata": {},
     "output_type": "execute_result"
    }
   ],
   "source": [
    "import collections\n",
    "\n",
    "ct = collections.Counter('abracadabra')\n",
    "ct"
   ]
  },
  {
   "cell_type": "code",
   "execution_count": 7,
   "metadata": {},
   "outputs": [
    {
     "data": {
      "text/plain": [
       "Counter({'a': 10, 'z': 3, 'b': 2, 'r': 2, 'c': 1, 'd': 1})"
      ]
     },
     "execution_count": 7,
     "metadata": {},
     "output_type": "execute_result"
    }
   ],
   "source": [
    "ct.update('aaaaazzz')\n",
    "ct"
   ]
  },
  {
   "cell_type": "code",
   "execution_count": 8,
   "metadata": {},
   "outputs": [
    {
     "data": {
      "text/plain": [
       "[('a', 10), ('z', 3), ('b', 2)]"
      ]
     },
     "execution_count": 8,
     "metadata": {},
     "output_type": "execute_result"
    }
   ],
   "source": [
    "ct.most_common(3)"
   ]
  },
  {
   "cell_type": "markdown",
   "metadata": {},
   "source": [
    "### `shelve.Shelf`\n",
    "The `shelve` module in the standard library provides persistent storage for a mapping of string keys to Python objects serialized in the pickle binary forma"
   ]
  },
  {
   "cell_type": "markdown",
   "metadata": {},
   "source": [
    "### Subclassing `UserDict` Instead of `dict`\n",
    "It’s better to subclass `UserDict` rather than `dict` since the built-in has some implementation shortcuts that end up forcing us to override methods that we can just inherit from `UserDict` with no problems. Note that `UserDict` does not inherit from `dict`, but uses composition: it has an internal `dict` instance, called data, which holds the actual items to avoid undesired recursion when coding special methods like `__setitem__`, and simplifies the coding of `__contains__`\n",
    "\n",
    "Example: `StrKeyDict` always converts nonstring keys to str on insertion, update, and lookup"
   ]
  },
  {
   "cell_type": "code",
   "execution_count": 9,
   "metadata": {},
   "outputs": [],
   "source": [
    "import collections\n",
    "\n",
    "class StrKeyDict(collections.UserDict):\n",
    "    def __missing__(self, key):\n",
    "        if isinstance(key, str):\n",
    "            raise KeyError(key)\n",
    "        return self[str(key)]\n",
    "    \n",
    "    def __contains__(self, key):\n",
    "        return str(key) in self.data\n",
    "    \n",
    "    def __setitem__(self, key, item):\n",
    "        self.data[str(key)] = item\n"
   ]
  },
  {
   "cell_type": "markdown",
   "metadata": {},
   "source": [
    "## Immutable Mappings\n",
    "\n",
    "The mapping types provided by the standard library are all mutable, but you may need to prevent users from changing a mapping by accident. The types module provides a wrapper class called `MappingProxyType`, which, given a mapping, returns a `mappingproxy` instance that is a read-only but dynamic proxy for the original mapping. This means that updates to the original mapping can be seen in the `mappingproxy`, but changes cannot be made through it"
   ]
  },
  {
   "cell_type": "code",
   "execution_count": 10,
   "metadata": {},
   "outputs": [
    {
     "data": {
      "text/plain": [
       "mappingproxy({1: 'A'})"
      ]
     },
     "execution_count": 10,
     "metadata": {},
     "output_type": "execute_result"
    }
   ],
   "source": [
    "from types import MappingProxyType\n",
    "d = {1: 'A'}\n",
    "d_proxy = MappingProxyType(d)\n",
    "d_proxy"
   ]
  },
  {
   "cell_type": "code",
   "execution_count": 11,
   "metadata": {},
   "outputs": [
    {
     "ename": "TypeError",
     "evalue": "'mappingproxy' object does not support item assignment",
     "output_type": "error",
     "traceback": [
      "\u001b[0;31m---------------------------------------------------------------------------\u001b[0m",
      "\u001b[0;31mTypeError\u001b[0m                                 Traceback (most recent call last)",
      "Cell \u001b[0;32mIn[11], line 1\u001b[0m\n\u001b[0;32m----> 1\u001b[0m d_proxy[\u001b[38;5;241m2\u001b[39m] \u001b[38;5;241m=\u001b[39m \u001b[38;5;124m'\u001b[39m\u001b[38;5;124mx\u001b[39m\u001b[38;5;124m'\u001b[39m\n",
      "\u001b[0;31mTypeError\u001b[0m: 'mappingproxy' object does not support item assignment"
     ]
    }
   ],
   "source": [
    "d_proxy[2] = 'x'"
   ]
  },
  {
   "cell_type": "code",
   "execution_count": 12,
   "metadata": {},
   "outputs": [],
   "source": [
    "d[2] = 'B'"
   ]
  },
  {
   "cell_type": "code",
   "execution_count": 13,
   "metadata": {},
   "outputs": [
    {
     "data": {
      "text/plain": [
       "mappingproxy({1: 'A', 2: 'B'})"
      ]
     },
     "execution_count": 13,
     "metadata": {},
     "output_type": "execute_result"
    }
   ],
   "source": [
    "d_proxy"
   ]
  },
  {
   "cell_type": "markdown",
   "metadata": {},
   "source": [
    "## Dictionary Views\n",
    "\n",
    "Dictionary views allow high-performance operations on a `dict`, without unnecessary copying of data. The `dict` instance methods `.keys(), .values(), and .items()` return instances of classes called `dict_keys`, `dict_values`, and `dict_items`, respectively"
   ]
  },
  {
   "cell_type": "markdown",
   "metadata": {},
   "source": []
  }
 ],
 "metadata": {
  "kernelspec": {
   "display_name": "base",
   "language": "python",
   "name": "python3"
  },
  "language_info": {
   "codemirror_mode": {
    "name": "ipython",
    "version": 3
   },
   "file_extension": ".py",
   "mimetype": "text/x-python",
   "name": "python",
   "nbconvert_exporter": "python",
   "pygments_lexer": "ipython3",
   "version": "3.10.13"
  }
 },
 "nbformat": 4,
 "nbformat_minor": 2
}
