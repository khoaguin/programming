{
 "cells": [
  {
   "cell_type": "markdown",
   "metadata": {},
   "source": [
    "## Introduction\n",
    "\n",
    "<span style=\"color:lightgreen\">***Class metaprogramming is the art of creating or customizing classes at runtime.***</span>\n",
    "\n",
    "\n",
    "Functions, class decorators and class metaprogramming:\n",
    "- Classes are first-class objects in Python, so a function can be used to create a new class at any time, without using the `class` keyword. \n",
    "- Class decorators are also functions, but designed to inspect, change, and even replace the decorated class with another class. \n",
    "- Finally, metaclasses are the most advanced tool for class metaprogramming: they let you create whole new categories of classes with special traits, such as the abstract base classes we’ve already seen.\n",
    "\n",
    "Note: <span style=\"color:orange\">*Metaclasses are powerful, but hard to justify and even harder to get right. Class decorators solve many of the same problems and are easier to understand*</span>"
   ]
  },
  {
   "cell_type": "code",
   "execution_count": null,
   "metadata": {},
   "outputs": [],
   "source": []
  }
 ],
 "metadata": {
  "language_info": {
   "name": "python"
  }
 },
 "nbformat": 4,
 "nbformat_minor": 2
}
