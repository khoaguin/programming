{
 "cells": [
  {
   "cell_type": "markdown",
   "metadata": {},
   "source": [
    "## Intro"
   ]
  },
  {
   "cell_type": "markdown",
   "metadata": {},
   "source": [
    "With threads, 99% of the use cases an application programmer is likely to run into is the simple pattern of \"spawning a bunch of independent threads and collecting the results in a queue\". This chapter focuses on the `concurrent.futures.Executor` classes that encapsulate this pattern. \n",
    "\n",
    "We will also learn the concept of `futures` — objects representing the asynchronous execution of an operation (and foundational to the `asyncio` package), similar to JavaScript's `promises`."
   ]
  },
  {
   "cell_type": "markdown",
   "metadata": {},
   "source": [
    "## Concurrent Web Downloads\n",
    "\n",
    "<span style=\"color:skyblue\">***Concurrency is essential for efficient network I/O: instead of idly waiting for remote machines, the application should do something else until a response comes back***</span>.\n",
    "\n",
    "We will learn 3 scripts to download 20 flags from the web: \n",
    "- `flags.py`: run downloads sequentially\n",
    "- `flags_threadpool.py`: make concurrent downloads using `concurrent.futures`\n",
    "- `flags_asyncio.py`: make concurrent downloads using `asyncio`\n",
    "\n",
    "The sequential code will take the longest, while the 2 others make similar perfomance with much shorter time. And also, the order of the flags downloaded will be different in each code"
   ]
  },
  {
   "cell_type": "markdown",
   "metadata": {},
   "source": [
    "### A sequential download script"
   ]
  },
  {
   "cell_type": "code",
   "execution_count": null,
   "metadata": {},
   "outputs": [],
   "source": [
    "import time\n",
    "from pathlib import Path\n",
    "from typing import Callable\n",
    "\n",
    "import httpx\n",
    "\n",
    "POP20_CC = ('CN IN US ID BR PK NG BD RU JP '\n",
    "            'MX PH VN ET EG DE IR TR CD FR').split()  # country codes for the 20 most populous countries\n",
    "\n",
    "BASE_URL = 'https://www.fluentpython.com/data/flags'  # The directory with the flag images\n",
    "DEST_DIR = Path('downloaded')                         # Local directory where the images are saved.\n",
    "\n",
    "def save_flag(img: bytes, filename: str) -> None:     # Save the img bytes to filename in the DEST_DIR\n",
    "    (DEST_DIR / filename).write_bytes(img)\n",
    "\n",
    "def get_flag(cc: str) -> bytes:  # <6>\n",
    "    url = f'{BASE_URL}/{cc}/{cc}.gif'.lower()\n",
    "    resp = httpx.get(url, timeout=6.1,       # <7>\n",
    "                     follow_redirects=True)  # <8>\n",
    "    resp.raise_for_status()  # <9>\n",
    "    return resp.content\n",
    "\n",
    "def download_many(cc_list: list[str]) -> int:  # <10>\n",
    "    for cc in sorted(cc_list):                 # <11>\n",
    "        image = get_flag(cc)\n",
    "        save_flag(image, f'{cc}.gif')\n",
    "        print(cc, end=' ', flush=True)         # <12>\n",
    "    return len(cc_list)\n",
    "\n",
    "def main(downloader: Callable[[list[str]], int]) -> None:  # <13>\n",
    "    DEST_DIR.mkdir(exist_ok=True)                          # <14>\n",
    "    t0 = time.perf_counter()                               # <15>\n",
    "    count = downloader(POP20_CC)\n",
    "    elapsed = time.perf_counter() - t0\n",
    "    print(f'\\n{count} downloads in {elapsed:.2f}s')\n",
    "\n",
    "if __name__ == '__main__':\n",
    "    main(download_many)     # <16>"
   ]
  },
  {
   "cell_type": "markdown",
   "metadata": {},
   "source": [
    "## Launching Processes with `concurrent.futures`"
   ]
  },
  {
   "cell_type": "markdown",
   "metadata": {},
   "source": [
    "## Experimenting with `Executor.map`"
   ]
  },
  {
   "cell_type": "markdown",
   "metadata": {},
   "source": [
    "## Downloads with Progress Display and Error Handling"
   ]
  },
  {
   "cell_type": "markdown",
   "metadata": {},
   "source": [
    "## Summary"
   ]
  },
  {
   "cell_type": "markdown",
   "metadata": {},
   "source": [
    "## Further Reading"
   ]
  },
  {
   "cell_type": "markdown",
   "metadata": {},
   "source": []
  }
 ],
 "metadata": {
  "language_info": {
   "name": "python"
  }
 },
 "nbformat": 4,
 "nbformat_minor": 2
}
