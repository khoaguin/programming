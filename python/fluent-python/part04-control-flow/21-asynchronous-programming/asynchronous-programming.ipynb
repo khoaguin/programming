{
 "cells": [
  {
   "cell_type": "markdown",
   "metadata": {},
   "source": [
    "## Introduction\n",
    "\n",
    "This chapter addresses three major topics that are closely related:\n",
    "- Python's `async def`, `await`, `async with`, and `async for` constructs\n",
    "- Objects supporting those constructs: native coroutines and asynchronous variants of context managers, iterables, generators, and comprehensions\n",
    "- `asyncio` and other asynchronous libraries"
   ]
  },
  {
   "cell_type": "markdown",
   "metadata": {},
   "source": [
    "## A Few Definitions\n",
    "- <span style=\"color:skyblue\">***Native coroutine***</span>: A coroutine function defined with `async def`. You can delegate from a native coroutine to another native coroutine using the `await` keyword, similar to how classic coroutines use `yield` from. The `async def` statement always defines a native coroutine, even if the await keyword is not used in its body. The `await` keyword cannot be used outside of a native coroutine\n",
    "- <span style=\"color:skyblue\">***Classic coroutine***</span>: A generator function that consumes data sent to it via `my_coro.send(data)` calls, and reads that data by using `yield` in an expression. Classic coroutines can delegate to other classic coroutines using `yield` from. Classic coroutines cannot be driven by `await`, and are no longer supported by `asyncio`.\n",
    "- <span style=\"color:skyblue\">***Generator-based coroutine***</span>: A generator function decorated with `@types.coroutine` — introduced in Python 3.5. That decorator makes the generator compatible with the new `await` keyword.\n",
    "- <span style=\"color:skyblue\">***Asynchronous generator***</span>: A generator function defined with `async def` and using `yield` in its body. It returns an asynchronous generator object that provides `__anext__`, a coroutine method to retrieve the next item."
   ]
  },
  {
   "cell_type": "markdown",
   "metadata": {},
   "source": [
    "## An `asyncio` Example: Probing Domains\n",
    "\n",
    "We want to write a script (`blogdom.py`) to concurrently check if domains `<name>.dev` are available for our Python blog. The output should be  \n",
    "```bash\n",
    "python3 blogdom.py\n",
    "with.dev\n",
    "+ elif.dev\n",
    "+ def.dev\n",
    "from.dev\n",
    "```\n",
    "Compared to checking domains sequentially, probing DNS via native coroutine objects should be much faster, almost the same as the time to check the single slowest DNS, instead of the sum of all responses"
   ]
  },
  {
   "cell_type": "code",
   "execution_count": null,
   "metadata": {},
   "outputs": [],
   "source": [
    "import asyncio\n",
    "import socket\n",
    "from keyword import kwlist\n",
    "\n",
    "MAX_KEYWORD_LEN = 4  # Max length of keyword for domains, because shorter is better.\n",
    "\n",
    "\n",
    "async def probe(domain: str) -> tuple[str, bool]:  # <2>\n",
    "    loop = asyncio.get_running_loop()  # <3>\n",
    "    try:\n",
    "        await loop.getaddrinfo(domain, None)  # <4>\n",
    "    except socket.gaierror:\n",
    "        return (domain, False)\n",
    "    return (domain, True)\n",
    "\n",
    "\n",
    "async def main() -> None:  # <5>\n",
    "    names = (kw for kw in kwlist if len(kw) <= MAX_KEYWORD_LEN)  # <6>\n",
    "    domains = (f'{name}.dev'.lower() for name in names)  # <7>\n",
    "    coros = [probe(domain) for domain in domains]  # <8>\n",
    "    for coro in asyncio.as_completed(coros):  # <9>\n",
    "        domain, found = await coro  # <10>\n",
    "        mark = '+' if found else ' '\n",
    "        print(f'{mark} {domain}')"
   ]
  }
 ],
 "metadata": {
  "language_info": {
   "name": "python"
  }
 },
 "nbformat": 4,
 "nbformat_minor": 2
}
