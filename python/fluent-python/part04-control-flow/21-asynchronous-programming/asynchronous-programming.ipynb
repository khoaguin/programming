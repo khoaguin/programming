{
 "cells": [
  {
   "cell_type": "markdown",
   "metadata": {},
   "source": [
    "## Introduction\n",
    "\n",
    "This chapter addresses three major topics that are closely related:\n",
    "- Python's `async def`, `await`, `async with`, and `async for` constructs\n",
    "- Objects supporting those constructs: native coroutines and asynchronous variants of context managers, iterables, generators, and comprehensions\n",
    "- `asyncio` and other asynchronous libraries"
   ]
  },
  {
   "cell_type": "markdown",
   "metadata": {},
   "source": [
    "## A Few Definitions\n",
    "- <span style=\"color:skyblue\">***Native coroutine***</span>: A coroutine function defined with `async def`. You can delegate from a native coroutine to another native coroutine using the `await` keyword, similar to how classic coroutines use `yield` from. The `async def` statement always defines a native coroutine, even if the await keyword is not used in its body. The `await` keyword cannot be used outside of a native coroutine\n",
    "- <span style=\"color:skyblue\">***Classic coroutine***</span>: A generator function that consumes data sent to it via `my_coro.send(data)` calls, and reads that data by using `yield` in an expression. Classic coroutines can delegate to other classic coroutines using `yield` from. Classic coroutines cannot be driven by `await`, and are no longer supported by `asyncio`.\n",
    "- <span style=\"color:skyblue\">***Generator-based coroutine***</span>: A generator function decorated with `@types.coroutine` — introduced in Python 3.5. That decorator makes the generator compatible with the new `await` keyword.\n",
    "- <span style=\"color:skyblue\">***Asynchronous generator***</span>: A generator function defined with `async def` and using `yield` in its body. It returns an asynchronous generator object that provides `__anext__`, a coroutine method to retrieve the next item."
   ]
  },
  {
   "cell_type": "markdown",
   "metadata": {},
   "source": [
    "## An `asyncio` Example: Probing Domains\n",
    "\n",
    "We want to write a script (`blogdom.py`) to concurrently check if domains `<name>.dev` are available for our Python blog. The output should be  \n",
    "```bash\n",
    "python3 blogdom.py\n",
    "with.dev\n",
    "+ elif.dev\n",
    "+ def.dev\n",
    "from.dev\n",
    "```\n",
    "Compared to checking domains sequentially, probing DNS via native coroutine objects should be much faster, almost the same as the time to check the single slowest DNS, instead of the sum of all responses"
   ]
  },
  {
   "cell_type": "code",
   "execution_count": 1,
   "metadata": {},
   "outputs": [
    {
     "name": "stdout",
     "output_type": "stream",
     "text": [
      "+ as.dev\n",
      "+ in.dev\n",
      "+ try.dev\n",
      "+ def.dev\n",
      "+ from.dev\n",
      "+ and.dev\n",
      "  is.dev\n",
      "  true.dev\n",
      "  with.dev\n",
      "  elif.dev\n",
      "  pass.dev\n",
      "  for.dev\n",
      "  if.dev\n",
      "+ not.dev\n",
      "  none.dev\n",
      "  or.dev\n",
      "  else.dev\n",
      "+ del.dev\n"
     ]
    }
   ],
   "source": [
    "import asyncio\n",
    "import socket\n",
    "from keyword import kwlist\n",
    "import nest_asyncio\n",
    "\n",
    "nest_asyncio.apply()  # allow nested usage of asyncio. Only needs for jupyter notebook\n",
    "\n",
    "MAX_KEYWORD_LEN = 4  # Max length of keyword for domains, because shorter is better.\n",
    "\n",
    "\n",
    "async def probe(domain: str) -> tuple[str, bool]:\n",
    "    \"\"\"\n",
    "    Returns a tuple with the domain name and a boolean; True means the domain resolved\n",
    "    Returning the domain name will make it easier to display the results\n",
    "    \"\"\"\n",
    "    loop = asyncio.get_running_loop()  # Get a reference to the asyncio event loop, so we can use it next.\n",
    "    try:\n",
    "        await loop.getaddrinfo(domain, None)  # loop.getaddrinfo coroutine returns a five-part tuple of\n",
    "                                              # parameters to connect to the given address using a socket\n",
    "                                              # In this example, we don’t need the result. \n",
    "                                              # If we got it, the domain resolves; otherwise, it doesn’t.\n",
    "    except socket.gaierror:  # `gai` stands for get address info \n",
    "        return (domain, False)\n",
    "    return (domain, True)\n",
    "\n",
    "\n",
    "async def main() -> None:  # main must be a coroutine, so that we can use await in it.\n",
    "    names = (kw for kw in kwlist if len(kw) <= MAX_KEYWORD_LEN)  # Generator to yield Python \n",
    "                                                                 # keywords with length up to `MAX_KEYWORD_LEN`\n",
    "    domains = (f'{name}.dev'.lower() for name in names)  # Generator to yield domain names with the `.dev` suffix\n",
    "    coros = [probe(domain) for domain in domains]  # Build a list of coroutine objects\n",
    "    for coro in asyncio.as_completed(coros):  # `asyncio.as_completed` is a generator that yields \n",
    "                                              # coroutines that return the results of the \n",
    "                                              # coroutines passed to it in the order they are completed\n",
    "        domain, found = await coro  # At this point, we know the coroutine is done \n",
    "                                    # because that’s how as_completed works\n",
    "        mark = '+' if found else ' '\n",
    "        print(f'{mark} {domain}')\n",
    "\n",
    "\n",
    "asyncio.run(main())  # starts the event loop and returns only when the event loop exits."
   ]
  },
  {
   "cell_type": "markdown",
   "metadata": {},
   "source": [
    "**Low-level Explainations:**\n",
    "\n",
    "<span style=\"color:lightgreen\">***Using the syntax `await loop.getaddrinfo(...)` avoids blocking because `await` suspends the current coroutine object. For example, during the execution of the `probe('if.dev')` coroutine, a new coroutine object is created by `getaddrinfo('if.dev', None)`. Awaiting it starts the low-level `addrinfo` query and yields control back to the event loop, not to the `probe(‘if.dev’)` coroutine, which is suspended. The event loop can then drive other pending coroutine objects, such as `probe('or.dev')`. When the event loop gets a response for the `getaddrinfo('if.dev', None)` query, that specific coroutine object resumes and returns control back to the `probe('if.dev')` — which was suspended at `await` — and can now handle a possible exception and return the result tuple.***</span>"
   ]
  },
  {
   "cell_type": "markdown",
   "metadata": {},
   "source": [
    "## Guido's Trick to Read Async Code\n",
    "\n",
    "<span style=\"color:skyblue\">***The trick is to pretend that the `async` and `await` keywords are not there. If you do that, you’ll realize that coroutines read like plain old sequential functions, but they just magically never block.***</span>"
   ]
  },
  {
   "cell_type": "markdown",
   "metadata": {},
   "source": [
    "## Awaitables\n",
    "\n",
    "<span style=\"color:skyblue\">*The `for` keyword works with iterables. The `await` keyword works with awaitables.*</span> As an end user of `asyncio`, these are the awaitables you will see on a daily basis:  \n",
    "- <span style=\"color:skyblue\">*A native coroutine object, which you get by calling a native coroutine function. We use `await other_coro()` to run `other_coro` right now and `wait` for its completion because we need its result before we can proceed.*</span>\n",
    "- <span style=\"color:skyblue\">*An `asyncio.Task`, which you usually get by passing a coroutine object to `asyncio.create_task()`. However, end-user code does not always need to `await` on a `Task`. We use `asyncio.create_task(one_coro())` to schedule `one_coro` for concurrent execution, without waiting for its return.*</span>\n",
    "\n",
    "Awaitables are \n",
    "- Objects with an `__await__` method that returns an iterator, e.g. an `asyncio.Future` instance\n",
    "- Objects written in other languages using the Python / C API with a `tp_as_async.am_await` function, returning an iterator"
   ]
  },
  {
   "cell_type": "markdown",
   "metadata": {},
   "source": [
    "## Downloading with `asyncio` and `HTTPX`\n",
    "\n",
    "Look into the code of `flags_asyncio`:\n",
    "\n",
    "```python\n",
    "import asyncio\n",
    "\n",
    "from httpx import AsyncClient\n",
    "\n",
    "from flags import BASE_URL, save_flag, main\n",
    "\n",
    "\n",
    "async def download_one(client: AsyncClient, cc: str):\n",
    "    \"\"\"\n",
    "    `download_one` must be a native coroutine, so it can await on `get_flag` — \n",
    "    which does the HTTP request. Then it displays the code of the downloaded flag, and\n",
    "    saves the image.\n",
    "    \"\"\"\n",
    "    image = await get_flag(client, cc)\n",
    "    save_flag(image, f'{cc}.gif')\n",
    "    print(cc, end=' ', flush=True)\n",
    "    return cc\n",
    "\n",
    "\n",
    "async def get_flag(client: AsyncClient, cc: str) -> bytes:\n",
    "    \"\"\"\n",
    "    get_flag needs to receive the AsyncClient to make the request.\n",
    "    \"\"\"\n",
    "    url = f'{BASE_URL}/{cc}/{cc}.gif'.lower()\n",
    "    resp = await client.get(url, timeout=6.1,\n",
    "                follow_redirects=True)  # The get method of an httpx.AsyncClient \n",
    "                                        # instance returns a ClientResponse\n",
    "                                        # object that is also an asynchronous context manager\n",
    "    return resp.read()  # Network I/O operations are implemented as coroutine methods, so they are\n",
    "                        # driven asynchronously by the asyncio event loop\n",
    "```"
   ]
  },
  {
   "cell_type": "markdown",
   "metadata": {},
   "source": [
    "The code delegates to the `httpx` coroutines explicitly through `await` or implicitly through the special methods of the asynchronous context managers, such as `AsyncClient` and `ClientResponse`"
   ]
  },
  {
   "cell_type": "markdown",
   "metadata": {},
   "source": [
    "## The Secret of Native Coroutines: Humble Generators\n",
    "\n",
    "Using `httpx`, we don't need to use `.send()` calls or `yield` expressions. The code sits beteen the `asyncio` library and the async libraries we are using, e.g. `httpx`\n",
    "\n",
    "<img src=\"../images/async.png\" style=\"width: 50%;\">.  \n",
    "\n",
    "Under the hood, the asyncio event loop makes the `.send` calls that drive your coroutines, and your coroutines `await` on other coroutines, including library coroutines. Using functions like `asyncio.gather` and `asyncio.create_task`, you can start multiple concurrent await channels, enabling concurrent execution of multiple I/O operations driven by a single event loop, in a single thread."
   ]
  },
  {
   "cell_type": "markdown",
   "metadata": {},
   "source": [
    "## The All-or-Nothing Problem\n",
    "\n",
    "<span style=\"color:skyblue\">***For peak performance with `asyncio`, we must replace every function that does I/O with an asynchronous version that is activated with `await` or `asyncio.create_task`, so that control is given back to the event loop while the function waits for I/O. If you can’t rewrite a blocking function as a coroutine, you should run it in a separate thread or process.***</span>\n",
    "\n",
    "<span style=\"color:orange\">***“You rewrite all your code so none of it blocks or you’re just wasting your time.”***</span>. This is why in `flags_asyncio.py`, all functions (except for `download_many` which calls `asyncio.run`) are coroutines"
   ]
  },
  {
   "cell_type": "code",
   "execution_count": null,
   "metadata": {},
   "outputs": [],
   "source": []
  }
 ],
 "metadata": {
  "kernelspec": {
   "display_name": "base",
   "language": "python",
   "name": "python3"
  },
  "language_info": {
   "codemirror_mode": {
    "name": "ipython",
    "version": 3
   },
   "file_extension": ".py",
   "mimetype": "text/x-python",
   "name": "python",
   "nbconvert_exporter": "python",
   "pygments_lexer": "ipython3",
   "version": "3.12.2"
  }
 },
 "nbformat": 4,
 "nbformat_minor": 2
}
