{
 "cells": [
  {
   "cell_type": "markdown",
   "metadata": {},
   "source": [
    "## Iterators"
   ]
  },
  {
   "cell_type": "markdown",
   "metadata": {},
   "source": [
    "Iteration is fundamental to data processing: programs apply computations to data series, from pixels to nucleotides. *If the data doesn’t fit in memory, we need to fetch the items lazily—one at a time and on demand*. That’s what an iterator does.  \n",
    "\n",
    "Every standard collection in Python is iterable. *An iterable is an object that provides an iterator*, which Python uses to support operations like:\n",
    "- `for` loops  \n",
    "- List, dict, and set comprehensions  \n",
    "- Unpacking assignments  \n",
    "- Construction of collection instances  "
   ]
  },
  {
   "cell_type": "markdown",
   "metadata": {},
   "source": []
  },
  {
   "cell_type": "code",
   "execution_count": null,
   "metadata": {},
   "outputs": [],
   "source": []
  },
  {
   "cell_type": "code",
   "execution_count": null,
   "metadata": {},
   "outputs": [],
   "source": []
  }
 ],
 "metadata": {
  "language_info": {
   "name": "python"
  }
 },
 "nbformat": 4,
 "nbformat_minor": 2
}
