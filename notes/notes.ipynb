{
 "cells": [
  {
   "cell_type": "markdown",
   "metadata": {},
   "source": [
    "## Class and Instance Attributes (with and without `self`)"
   ]
  },
  {
   "cell_type": "markdown",
   "metadata": {},
   "source": [
    "### Class Attributes (without `self`)"
   ]
  },
  {
   "cell_type": "code",
   "execution_count": 1,
   "metadata": {},
   "outputs": [],
   "source": [
    "from typing import Dict, List\n",
    "\n",
    "class Node:\n",
    "    children: Dict = {}\n",
    "    vals: List = []\n",
    "    word_end: bool = False"
   ]
  },
  {
   "cell_type": "markdown",
   "metadata": {},
   "source": [
    "With this syntax, `children`, `vals` and `word_end` are defined as class attributes and are shared across all instances of `Node`. If you change the value of `word_end` or modify the `children` dictionary or `vals` list in one instance, it affects all other instances of `Node`"
   ]
  },
  {
   "cell_type": "code",
   "execution_count": 2,
   "metadata": {},
   "outputs": [
    {
     "name": "stdout",
     "output_type": "stream",
     "text": [
      "a.children = {}\n",
      "a.vals = []\n",
      "a.word_end = False\n"
     ]
    }
   ],
   "source": [
    "a = Node()\n",
    "print(f\"{a.children = }\")\n",
    "print(f\"{a.vals = }\")\n",
    "print(f\"{a.word_end = }\")"
   ]
  },
  {
   "cell_type": "code",
   "execution_count": 3,
   "metadata": {},
   "outputs": [
    {
     "name": "stdout",
     "output_type": "stream",
     "text": [
      "b.children = {'b': 1}\n",
      "b.vals = [1]\n",
      "b.word_end = True\n"
     ]
    }
   ],
   "source": [
    "b = Node()\n",
    "b.children[\"b\"] = 1\n",
    "b.word_end = True\n",
    "b.vals.append(1)\n",
    "\n",
    "print(f\"{b.children = }\")\n",
    "print(f\"{b.vals = }\")\n",
    "print(f\"{b.word_end = }\")"
   ]
  },
  {
   "cell_type": "code",
   "execution_count": 4,
   "metadata": {},
   "outputs": [
    {
     "name": "stdout",
     "output_type": "stream",
     "text": [
      "a.children = {'b': 1}\n",
      "a.vals = [1]\n",
      "a.word_end = False\n"
     ]
    }
   ],
   "source": [
    "print(f\"{a.children = }\")\n",
    "print(f\"{a.vals = }\")\n",
    "print(f\"{a.word_end = }\")"
   ]
  },
  {
   "cell_type": "markdown",
   "metadata": {},
   "source": [
    "When you execute `b.children[\"b\"] = 1` or `b.vals.append(1)`, you're modifying the children dictionary shared by all instances of `Node`. Therefore, `a.children` and `a.vals` also show this modification.\n",
    "\n",
    "When you execute `b.word_end = True`, you're setting an instance attribute `word_end` for `b`. The instance `a` does not have an instance attribute `word_end`, so when you access `a.word_end`, it refers to the class attribute, which is still `False`."
   ]
  },
  {
   "cell_type": "markdown",
   "metadata": {},
   "source": [
    "### Instance Attributes (with `self`)"
   ]
  },
  {
   "cell_type": "code",
   "execution_count": 7,
   "metadata": {},
   "outputs": [],
   "source": [
    "class Node:\n",
    "    def __init__(self):\n",
    "        self.word_end: bool = False\n",
    "        self.vals: List = []\n",
    "        self.children: Dict = {}"
   ]
  },
  {
   "cell_type": "markdown",
   "metadata": {},
   "source": [
    "In this version, `word_end`, `vals` and `children` are defined as instance attributes inside the `__init__` method. This means every time a `Node` object is instantiated, it will have its own unique `word_end` and `children` and `vals` attributes. Each `Node` object will have separate memory allocations for these attributes"
   ]
  },
  {
   "cell_type": "code",
   "execution_count": 8,
   "metadata": {},
   "outputs": [
    {
     "name": "stdout",
     "output_type": "stream",
     "text": [
      "a.children = {}\n",
      "a.vals = []\n",
      "a.word_end = False\n"
     ]
    }
   ],
   "source": [
    "a = Node()\n",
    "print(f\"{a.children = }\")\n",
    "print(f\"{a.vals = }\")\n",
    "print(f\"{a.word_end = }\")"
   ]
  },
  {
   "cell_type": "code",
   "execution_count": 9,
   "metadata": {},
   "outputs": [
    {
     "name": "stdout",
     "output_type": "stream",
     "text": [
      "b.children = {'b': 1}\n",
      "b.vals = [1]\n",
      "b.word_end = True\n"
     ]
    }
   ],
   "source": [
    "b = Node()\n",
    "b.children[\"b\"] = 1\n",
    "b.word_end = True\n",
    "b.vals.append(1)\n",
    "\n",
    "print(f\"{b.children = }\")\n",
    "print(f\"{b.vals = }\")\n",
    "print(f\"{b.word_end = }\")"
   ]
  },
  {
   "cell_type": "code",
   "execution_count": 10,
   "metadata": {},
   "outputs": [
    {
     "name": "stdout",
     "output_type": "stream",
     "text": [
      "a.children = {}\n",
      "a.vals = []\n",
      "a.word_end = False\n"
     ]
    }
   ],
   "source": [
    "a = Node()\n",
    "print(f\"{a.children = }\")\n",
    "print(f\"{a.vals = }\")\n",
    "print(f\"{a.word_end = }\")"
   ]
  },
  {
   "cell_type": "markdown",
   "metadata": {},
   "source": [
    "### Pydantic Class Attributes"
   ]
  },
  {
   "cell_type": "code",
   "execution_count": 11,
   "metadata": {},
   "outputs": [],
   "source": [
    "from pydantic import BaseModel\n",
    "\n",
    "class Node(BaseModel):\n",
    "    children: Dict = {}\n",
    "    vals: List = []\n",
    "    word_end: bool = False"
   ]
  },
  {
   "cell_type": "markdown",
   "metadata": {},
   "source": [
    "with `Pydantic`'s `BaseModel`, each instance of your `Node` class will indeed have its own separate `children` and `vals`, as Pydantic correctly handles mutable default values. "
   ]
  },
  {
   "cell_type": "code",
   "execution_count": 12,
   "metadata": {},
   "outputs": [
    {
     "name": "stdout",
     "output_type": "stream",
     "text": [
      "a.children = {}\n",
      "a.vals = []\n",
      "a.word_end = False\n"
     ]
    }
   ],
   "source": [
    "a = Node()\n",
    "print(f\"{a.children = }\")\n",
    "print(f\"{a.vals = }\")\n",
    "print(f\"{a.word_end = }\")"
   ]
  },
  {
   "cell_type": "code",
   "execution_count": 13,
   "metadata": {},
   "outputs": [
    {
     "name": "stdout",
     "output_type": "stream",
     "text": [
      "b.children = {'b': 1}\n",
      "b.vals = [1]\n",
      "b.word_end = True\n"
     ]
    }
   ],
   "source": [
    "b = Node()\n",
    "b.children[\"b\"] = 1\n",
    "b.word_end = True\n",
    "b.vals.append(1)\n",
    "\n",
    "print(f\"{b.children = }\")\n",
    "print(f\"{b.vals = }\")\n",
    "print(f\"{b.word_end = }\")"
   ]
  },
  {
   "cell_type": "code",
   "execution_count": 14,
   "metadata": {},
   "outputs": [
    {
     "name": "stdout",
     "output_type": "stream",
     "text": [
      "a.children = {}\n",
      "a.vals = []\n",
      "a.word_end = False\n"
     ]
    }
   ],
   "source": [
    "a = Node()\n",
    "print(f\"{a.children = }\")\n",
    "print(f\"{a.vals = }\")\n",
    "print(f\"{a.word_end = }\")"
   ]
  },
  {
   "cell_type": "code",
   "execution_count": null,
   "metadata": {},
   "outputs": [],
   "source": []
  }
 ],
 "metadata": {
  "kernelspec": {
   "display_name": "base",
   "language": "python",
   "name": "python3"
  },
  "language_info": {
   "codemirror_mode": {
    "name": "ipython",
    "version": 3
   },
   "file_extension": ".py",
   "mimetype": "text/x-python",
   "name": "python",
   "nbconvert_exporter": "python",
   "pygments_lexer": "ipython3",
   "version": "3.10.13"
  }
 },
 "nbformat": 4,
 "nbformat_minor": 2
}
