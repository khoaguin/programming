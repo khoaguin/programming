{
 "cells": [
  {
   "cell_type": "markdown",
   "id": "26902ffc-19e2-479e-afbc-4092af6a84dd",
   "metadata": {},
   "source": [
    "## Introduction\n",
    "\n",
    "Patterns are a special syntax in Rust for matching against the structure of types, both complex and simple. Using patterns in conjunction with `match` expressions and other constructs gives you more control over a program’s control flow. A pattern consists of some combination of the following:\n",
    "\n",
    "- Literals\n",
    "- Destructured arrays, enums, structs, or tuples\n",
    "- Variables\n",
    "- Wildcards\n",
    "- Placeholders"
   ]
  },
  {
   "cell_type": "markdown",
   "id": "a334854a-c448-4c33-a150-cd763c537308",
   "metadata": {},
   "source": [
    "## All the Places Patterns Can Be Used"
   ]
  },
  {
   "cell_type": "markdown",
   "id": "efe96f18-f10c-4680-8383-ff59c99d4a16",
   "metadata": {},
   "source": [
    "### `match` Arms\n",
    "\n",
    "```rust\n",
    "match VALUE {\n",
    "    PATTERN => EXPRESSION,\n",
    "    PATTERN => EXPRESSION,\n",
    "    PATTERN => EXPRESSION,\n",
    "}\n",
    "```\n",
    "\n",
    "Example: \n",
    "```rust\n",
    "match x {\n",
    "    None => None,\n",
    "    Some(i) => Some(i + 1),\n",
    "}\n",
    "```\n",
    "\n",
    "<span style=\"color:lightgreen\">*One requirement for `match` expressions is that they need to be exhaustive in the sense that all possibilities for the value in the `match` expression must be accounted for.*</span>"
   ]
  },
  {
   "cell_type": "markdown",
   "id": "cd93309b-d041-4fe1-af05-4051a111ca12",
   "metadata": {},
   "source": [
    "### Conditional `if let` Expressions\n",
    "\n",
    "We can mix `if let`, `else if`, `else if let`, and `else`. For example, below we made a code to tell a story:  \n",
    "\"If the user specifies a favorite color, that color is used as the background. If no favorite color is specified and today is Tuesday, the background color is green. Otherwise, if the user specifies their age as a string and we can parse it as a number successfully, the color is either purple or orange depending on the value of the number. If none of these conditions apply, the background color is blue.\""
   ]
  },
  {
   "cell_type": "code",
   "execution_count": 3,
   "id": "778b5c81-a319-4e34-a12f-ff06b874fc49",
   "metadata": {},
   "outputs": [
    {
     "name": "stdout",
     "output_type": "stream",
     "text": [
      "Using purple as the background color\n"
     ]
    },
    {
     "data": {
      "text/plain": [
       "()"
      ]
     },
     "execution_count": 3,
     "metadata": {},
     "output_type": "execute_result"
    }
   ],
   "source": [
    "fn main() {\n",
    "    let favorite_color: Option<&str> = None;\n",
    "    let is_tuesday = false;\n",
    "    let age: Result<u8, _> = \"34\".parse();\n",
    "\n",
    "    if let Some(color) = favorite_color {\n",
    "        println!(\"Using your favorite color, {color}, as the background\");\n",
    "    } else if is_tuesday {\n",
    "        println!(\"Tuesday is green day!\");\n",
    "    } else if let Ok(age) = age {\n",
    "        if age > 30 {\n",
    "            println!(\"Using purple as the background color\");\n",
    "        } else {\n",
    "            println!(\"Using orange as the background color\");\n",
    "        }\n",
    "    } else {\n",
    "        println!(\"Using blue as the background color\");\n",
    "    }\n",
    "}\n",
    "\n",
    "main()"
   ]
  },
  {
   "cell_type": "markdown",
   "id": "556f2d9c-6537-4f81-9bc5-01a30abc6612",
   "metadata": {},
   "source": [
    "This conditional structure lets us support complex requirements. <span style=\"color:orange\">*The downside of using `if let` expressions is that the compiler doesn’t check for exhaustiveness, whereas with `match` expressions it does*</span>"
   ]
  },
  {
   "cell_type": "markdown",
   "id": "1a9b291e-b78a-4596-b6f4-ddca45045194",
   "metadata": {},
   "source": [
    "### `while let` Conditional Loops\n",
    "\n",
    "Similar in construction to if let, the while let conditional loop allows a while loop to run for as long as a pattern continues to match."
   ]
  },
  {
   "cell_type": "code",
   "execution_count": 2,
   "id": "d22f78c2-d999-4f88-8455-f101b86eb48b",
   "metadata": {},
   "outputs": [
    {
     "name": "stdout",
     "output_type": "stream",
     "text": [
      "3\n",
      "2\n",
      "1\n"
     ]
    },
    {
     "data": {
      "text/plain": [
       "()"
      ]
     },
     "execution_count": 2,
     "metadata": {},
     "output_type": "execute_result"
    }
   ],
   "source": [
    "fn main() {\n",
    "    let mut stack = Vec::new();\n",
    "\n",
    "    stack.push(1);\n",
    "    stack.push(2);\n",
    "    stack.push(3);\n",
    "\n",
    "    while let Some(top) = stack.pop() {\n",
    "        println!(\"{}\", top);\n",
    "    }\n",
    "}\n",
    "main()"
   ]
  },
  {
   "cell_type": "markdown",
   "id": "4579c0ae-dc37-49f2-8245-032636ca07b9",
   "metadata": {},
   "source": [
    "### `for` Loops\n",
    "\n",
    "In a `for` loop, the value that directly follows the keyword `for` is a pattern"
   ]
  },
  {
   "cell_type": "code",
   "execution_count": 4,
   "id": "24e881b5-1c66-42cc-aebf-71c18025b780",
   "metadata": {},
   "outputs": [
    {
     "name": "stdout",
     "output_type": "stream",
     "text": [
      "a is at index 0\n",
      "b is at index 1\n",
      "c is at index 2\n"
     ]
    },
    {
     "data": {
      "text/plain": [
       "()"
      ]
     },
     "execution_count": 4,
     "metadata": {},
     "output_type": "execute_result"
    }
   ],
   "source": [
    "let v = vec!['a', 'b', 'c'];\n",
    "\n",
    "for (index, value) in v.iter().enumerate() {\n",
    "    println!(\"{} is at index {}\", value, index);\n",
    "}\n"
   ]
  },
  {
   "cell_type": "markdown",
   "id": "74a3e0f0-7d0b-4f6a-8841-b5e82571ea38",
   "metadata": {},
   "source": [
    "### `let` Statements\n",
    "\n",
    "```rust\n",
    "let PATTERN = EXPRESSION;\n",
    "```\n",
    "\n",
    "For example:"
   ]
  },
  {
   "cell_type": "code",
   "execution_count": 6,
   "id": "a9397ca7-8b2a-43da-9b5d-490c5c36d11c",
   "metadata": {},
   "outputs": [],
   "source": [
    "let (x, y, z) = (1, 2, 3);  // this works"
   ]
  },
  {
   "cell_type": "code",
   "execution_count": 7,
   "id": "3a8e47ea-dc2b-4879-ade2-afa2e093a534",
   "metadata": {},
   "outputs": [
    {
     "ename": "Error",
     "evalue": "mismatched types",
     "output_type": "error",
     "traceback": [
      "\u001b[31m[E0308] Error:\u001b[0m mismatched types",
      "   \u001b[38;5;246m╭\u001b[0m\u001b[38;5;246m─\u001b[0m\u001b[38;5;246m[\u001b[0mcommand_7:1:1\u001b[38;5;246m]\u001b[0m",
      "   \u001b[38;5;246m│\u001b[0m",
      " \u001b[38;5;246m1 │\u001b[0m \u001b[38;5;249ml\u001b[0m\u001b[38;5;249me\u001b[0m\u001b[38;5;249mt\u001b[0m\u001b[38;5;249m \u001b[0m\u001b[38;5;54m(\u001b[0m\u001b[38;5;54mx\u001b[0m\u001b[38;5;54m,\u001b[0m\u001b[38;5;54m \u001b[0m\u001b[38;5;54my\u001b[0m\u001b[38;5;54m)\u001b[0m\u001b[38;5;249m \u001b[0m\u001b[38;5;249m=\u001b[0m\u001b[38;5;249m \u001b[0m\u001b[38;5;100m(\u001b[0m\u001b[38;5;100m1\u001b[0m\u001b[38;5;100m,\u001b[0m\u001b[38;5;100m \u001b[0m\u001b[38;5;100m2\u001b[0m\u001b[38;5;100m,\u001b[0m\u001b[38;5;100m \u001b[0m\u001b[38;5;100m3\u001b[0m\u001b[38;5;100m)\u001b[0m\u001b[38;5;249m;\u001b[0m\u001b[38;5;249m \u001b[0m\u001b[38;5;249m/\u001b[0m\u001b[38;5;249m/\u001b[0m\u001b[38;5;249m \u001b[0m\u001b[38;5;249mt\u001b[0m\u001b[38;5;249mh\u001b[0m\u001b[38;5;249mi\u001b[0m\u001b[38;5;249ms\u001b[0m\u001b[38;5;249m \u001b[0m\u001b[38;5;249md\u001b[0m\u001b[38;5;249mo\u001b[0m\u001b[38;5;249me\u001b[0m\u001b[38;5;249ms\u001b[0m\u001b[38;5;249m \u001b[0m\u001b[38;5;249mn\u001b[0m\u001b[38;5;249mo\u001b[0m\u001b[38;5;249mt\u001b[0m\u001b[38;5;249m \u001b[0m\u001b[38;5;249mw\u001b[0m\u001b[38;5;249mo\u001b[0m\u001b[38;5;249mr\u001b[0m\u001b[38;5;249mk\u001b[0m",
      " \u001b[38;5;240m  │\u001b[0m     \u001b[38;5;54m─\u001b[0m\u001b[38;5;54m─\u001b[0m\u001b[38;5;54m─\u001b[0m\u001b[38;5;54m┬\u001b[0m\u001b[38;5;54m─\u001b[0m\u001b[38;5;54m─\u001b[0m   \u001b[38;5;100m─\u001b[0m\u001b[38;5;100m─\u001b[0m\u001b[38;5;100m─\u001b[0m\u001b[38;5;100m─\u001b[0m\u001b[38;5;100m┬\u001b[0m\u001b[38;5;100m─\u001b[0m\u001b[38;5;100m─\u001b[0m\u001b[38;5;100m─\u001b[0m\u001b[38;5;100m─\u001b[0m  ",
      " \u001b[38;5;240m  │\u001b[0m        \u001b[38;5;54m╰\u001b[0m\u001b[38;5;54m─\u001b[0m\u001b[38;5;54m─\u001b[0m\u001b[38;5;54m─\u001b[0m\u001b[38;5;54m─\u001b[0m\u001b[38;5;54m─\u001b[0m\u001b[38;5;54m─\u001b[0m\u001b[38;5;54m─\u001b[0m\u001b[38;5;54m─\u001b[0m\u001b[38;5;54m─\u001b[0m\u001b[38;5;54m─\u001b[0m\u001b[38;5;54m─\u001b[0m\u001b[38;5;54m─\u001b[0m\u001b[38;5;54m─\u001b[0m\u001b[38;5;54m─\u001b[0m\u001b[38;5;54m─\u001b[0m\u001b[38;5;54m─\u001b[0m expected a tuple with 3 elements, found one with 2 elements",
      " \u001b[38;5;240m  │\u001b[0m                  \u001b[38;5;100m│\u001b[0m      ",
      " \u001b[38;5;240m  │\u001b[0m                  \u001b[38;5;100m╰\u001b[0m\u001b[38;5;100m─\u001b[0m\u001b[38;5;100m─\u001b[0m\u001b[38;5;100m─\u001b[0m\u001b[38;5;100m─\u001b[0m\u001b[38;5;100m─\u001b[0m\u001b[38;5;100m─\u001b[0m this expression has type `({integer}, {integer}, {integer})`",
      "\u001b[38;5;246m───╯\u001b[0m"
     ]
    }
   ],
   "source": [
    "let (x, y) = (1, 2, 3); // this does not work"
   ]
  },
  {
   "cell_type": "markdown",
   "id": "c08ae616-68c7-44de-a58e-3b9d9263baba",
   "metadata": {},
   "source": [
    "### Function Parameters\n",
    "\n",
    "Function parameters can also be patterns, for example"
   ]
  },
  {
   "cell_type": "code",
   "execution_count": 8,
   "id": "99f838a2-beaf-49aa-ab47-befc6a012715",
   "metadata": {},
   "outputs": [
    {
     "name": "stdout",
     "output_type": "stream",
     "text": [
      "Current location: (3, 5)\n"
     ]
    },
    {
     "data": {
      "text/plain": [
       "()"
      ]
     },
     "execution_count": 8,
     "metadata": {},
     "output_type": "execute_result"
    }
   ],
   "source": [
    "fn print_coordinates(&(x, y): &(i32, i32)) {\n",
    "    println!(\"Current location: ({}, {})\", x, y);\n",
    "}\n",
    "\n",
    "fn main() {\n",
    "    let point = (3, 5);\n",
    "    print_coordinates(&point);\n",
    "}\n",
    "\n",
    "main()"
   ]
  },
  {
   "cell_type": "markdown",
   "id": "fc8a3d7e-066b-4953-9c4d-96205d874431",
   "metadata": {},
   "source": [
    "The values `&(3, 5)` match the pattern `&(x, y)`, so `x` is the value `3` and `y` is the value `5`"
   ]
  },
  {
   "cell_type": "markdown",
   "id": "198ea94a-f745-4722-b097-7c9fbb0ecbb9",
   "metadata": {},
   "source": [
    "## Refutability: Whether a Pattern Might Fail to Match\n",
    "\n",
    "Patterns come in two forms: refutable and irrefutable\n",
    "- Patterns that will match for any possible value passed are *irrefutable*. An example would be `x` in the statement `let x = 5`; because `x` matches anything and therefore cannot fail to match.\n",
    "- Patterns that can fail to match for some possible value are *refutable*. An example would be `Some(x)` in the expression `if let Some(x) = a_value` because if the value in the `a_value` variable is `None` rather than `Some`, the `Some(x)` pattern will not match.\n",
    "\n",
    "Function parameters, `let` statements, and `for` loops can only accept irrefutable patterns, because the program cannot do anything meaningful when values don’t match. The `if let` and `while let` expressions accept refutable and irrefutable patterns, but the compiler warns against irrefutable patterns because by definition they’re intended to handle possible failure: the functionality of a conditional is in its ability to perform differently depending on success or failure.\n",
    "\n",
    "In general, you shouldn’t have to worry about the distinction between refutable and irrefutable patterns; however, you do need to be familiar with the concept of refutability so you can respond when you see it in an error message.  \n",
    "If we have a refutable pattern where an irrefutable pattern is needed, we can fix it by changing the code that uses the pattern: instead of using `let`, we can use `if let`"
   ]
  },
  {
   "cell_type": "markdown",
   "id": "3f549b8d-d559-4621-af28-dd36dab96252",
   "metadata": {},
   "source": [
    "## Pattern Syntax"
   ]
  },
  {
   "cell_type": "markdown",
   "id": "0487c2bc-e255-4142-b84f-e3dfae643e66",
   "metadata": {},
   "source": [
    "### Matching Literals\n",
    "\n",
    "```rust\n",
    "    let x = 1;\n",
    "\n",
    "    match x {\n",
    "        1 => println!(\"one\"),\n",
    "        2 => println!(\"two\"),\n",
    "        3 => println!(\"three\"),\n",
    "        _ => println!(\"anything\"),\n",
    "    }\n",
    "```"
   ]
  },
  {
   "cell_type": "markdown",
   "id": "98de78e0-9363-4e9e-8465-b13039493523",
   "metadata": {},
   "source": [
    "### Matching Named Variables\n",
    "\n",
    "<span style=\"color:lightgreen\">*Because `match` starts a new scope, variables declared as part of a pattern inside the `match` expression will shadow those with the same name outside the match construct, as is the case with all variables.*</span>\n",
    "\n",
    "\n",
    "\n",
    "```rust\n",
    "    let x = Some(5);\n",
    "    let y = 10;\n",
    "\n",
    "    match x {\n",
    "        Some(50) => println!(\"Got 50\"),\n",
    "        Some(y) => println!(\"Matched, y = {y}\"),  // this is a new y variable, not the y we declared at the beginning with the value 10. This new y binding will match any value inside a Some, which is what we have in x. Therefore, this new y binds to the inner value of the Some in x.\n",
    "        _ => println!(\"Default case, x = {:?}\", x),\n",
    "    }\n",
    "\n",
    "    println!(\"at the end: x = {:?}, y = {y}\", x);\n",
    "```"
   ]
  },
  {
   "cell_type": "markdown",
   "id": "56ec81b2-9b2c-48d5-a7fa-523fe5fe5dd4",
   "metadata": {},
   "source": [
    "### Multiple Patterns\n",
    "\n",
    "In `match` expressions, you can `match` multiple patterns using the `|` syntax, which is the pattern or operator. "
   ]
  },
  {
   "cell_type": "code",
   "execution_count": 9,
   "id": "d21f226f-801f-4c36-98c6-ba4c36197783",
   "metadata": {},
   "outputs": [
    {
     "name": "stdout",
     "output_type": "stream",
     "text": [
      "one or two\n"
     ]
    },
    {
     "data": {
      "text/plain": [
       "()"
      ]
     },
     "execution_count": 9,
     "metadata": {},
     "output_type": "execute_result"
    }
   ],
   "source": [
    "fn main() {\n",
    "    let x = 1;\n",
    "\n",
    "    match x {\n",
    "        1 | 2 => println!(\"one or two\"),\n",
    "        3 => println!(\"three\"),\n",
    "        _ => println!(\"anything\"),\n",
    "    }\n",
    "}\n",
    "\n",
    "main()"
   ]
  },
  {
   "cell_type": "markdown",
   "id": "4f7681ff-a0b8-4ac7-a945-6255e5a4f4d9",
   "metadata": {},
   "source": [
    "### Matching Ranges of Values with `..=`\n",
    "\n",
    "The `..=` syntax allows us to match to an inclusive range of values."
   ]
  },
  {
   "cell_type": "code",
   "execution_count": 10,
   "id": "93511c67-32f9-44bb-9a64-4b7a0a1d942f",
   "metadata": {},
   "outputs": [
    {
     "name": "stdout",
     "output_type": "stream",
     "text": [
      "one through five\n"
     ]
    },
    {
     "data": {
      "text/plain": [
       "()"
      ]
     },
     "execution_count": 10,
     "metadata": {},
     "output_type": "execute_result"
    }
   ],
   "source": [
    "fn main() {\n",
    "    let x = 5;\n",
    "\n",
    "    match x {\n",
    "        1..=5 => println!(\"one through five\"),\n",
    "        _ => println!(\"something else\"),\n",
    "    }\n",
    "}\n",
    "\n",
    "main()"
   ]
  },
  {
   "cell_type": "code",
   "execution_count": 12,
   "id": "e0296731-f2a0-4a71-bb60-68f5e0c4c921",
   "metadata": {},
   "outputs": [
    {
     "name": "stdout",
     "output_type": "stream",
     "text": [
      "late ASCII letter\n"
     ]
    },
    {
     "data": {
      "text/plain": [
       "()"
      ]
     },
     "execution_count": 12,
     "metadata": {},
     "output_type": "execute_result"
    }
   ],
   "source": [
    "fn main() {\n",
    "    let x = 'z';\n",
    "\n",
    "    match x {\n",
    "        'a'..='j' => println!(\"early ASCII letter\"),\n",
    "        'k'..='z' => println!(\"late ASCII letter\"),\n",
    "        _ => println!(\"something else\"),\n",
    "    }\n",
    "}\n",
    "\n",
    "main()"
   ]
  },
  {
   "cell_type": "markdown",
   "id": "f07a2bd6-dfeb-4e54-9a09-c5f4cfd3517a",
   "metadata": {},
   "source": [
    "### Destructuring to Break Apart Values\n",
    "\n",
    "We can also use patterns to destructure structs, enums, and tuples to use different parts of these values. \n",
    "\n",
    "#### Destructuring Structs"
   ]
  },
  {
   "cell_type": "code",
   "execution_count": 14,
   "id": "d652b2c8-b212-4683-9bc4-b6f68fda095d",
   "metadata": {},
   "outputs": [
    {
     "name": "stdout",
     "output_type": "stream",
     "text": [
      "a = 0, b = 7\n"
     ]
    },
    {
     "data": {
      "text/plain": [
       "()"
      ]
     },
     "execution_count": 14,
     "metadata": {},
     "output_type": "execute_result"
    }
   ],
   "source": [
    "struct Point {\n",
    "    x: i32,\n",
    "    y: i32,\n",
    "}\n",
    "\n",
    "fn main() {\n",
    "    let p = Point { x: 0, y: 7 };\n",
    "\n",
    "    let Point { x: a, y: b } = p;\n",
    "    assert_eq!(0, a);\n",
    "    assert_eq!(7, b);\n",
    "\n",
    "    println!(\"a = {}, b = {}\", a, b);\n",
    "}\n",
    "\n",
    "main()"
   ]
  },
  {
   "cell_type": "markdown",
   "id": "e8494c4e-e954-4580-a838-cbbcd527b653",
   "metadata": {},
   "source": [
    "We can write this in a shorter way with"
   ]
  },
  {
   "cell_type": "code",
   "execution_count": 16,
   "id": "77e7e1f7-641c-41f2-9d57-641615f72a0a",
   "metadata": {},
   "outputs": [
    {
     "name": "stdout",
     "output_type": "stream",
     "text": [
      "x = 0, y = 7\n"
     ]
    },
    {
     "data": {
      "text/plain": [
       "()"
      ]
     },
     "execution_count": 16,
     "metadata": {},
     "output_type": "execute_result"
    }
   ],
   "source": [
    "struct Point {\n",
    "    x: i32,\n",
    "    y: i32,\n",
    "}\n",
    "\n",
    "fn main() {\n",
    "    let p = Point { x: 0, y: 7 };\n",
    "\n",
    "    let Point { x, y } = p;\n",
    "    assert_eq!(0, x);\n",
    "    assert_eq!(7, y);\n",
    "    println!(\"x = {}, y = {}\", x, y);\n",
    "}\n",
    "\n",
    "main()"
   ]
  },
  {
   "cell_type": "markdown",
   "id": "7732006d-fb7f-41b1-9daf-1343f7629555",
   "metadata": {},
   "source": [
    "We can also destructure and match literal values in one pattern"
   ]
  },
  {
   "cell_type": "code",
   "execution_count": 17,
   "id": "171ae593-bc62-48e3-9cf8-7c525fc1946f",
   "metadata": {},
   "outputs": [
    {
     "name": "stdout",
     "output_type": "stream",
     "text": [
      "On the y axis at 7\n"
     ]
    },
    {
     "data": {
      "text/plain": [
       "()"
      ]
     },
     "execution_count": 17,
     "metadata": {},
     "output_type": "execute_result"
    }
   ],
   "source": [
    "fn main() {\n",
    "    let p = Point { x: 0, y: 7 };\n",
    "\n",
    "    match p {\n",
    "        Point { x, y: 0 } => println!(\"On the x axis at {x}\"),\n",
    "        Point { x: 0, y } => println!(\"On the y axis at {y}\"),\n",
    "        Point { x, y } => {\n",
    "            println!(\"On neither axis: ({x}, {y})\");\n",
    "        }\n",
    "    }\n",
    "}\n",
    "\n",
    "main()"
   ]
  },
  {
   "cell_type": "markdown",
   "id": "fbdd1cbb-a364-4cc5-9e02-d1350b70239d",
   "metadata": {},
   "source": [
    "#### Destructuring Enums\n",
    "\n",
    "Below, we destructure enum variants that hold different kinds of values"
   ]
  },
  {
   "cell_type": "code",
   "execution_count": 22,
   "id": "7e11a921-9e39-4342-ac2b-e911a0efd1d7",
   "metadata": {},
   "outputs": [
    {
     "name": "stdout",
     "output_type": "stream",
     "text": [
      "Move in the x direction 32 and in the y direction 11\n"
     ]
    },
    {
     "data": {
      "text/plain": [
       "()"
      ]
     },
     "execution_count": 22,
     "metadata": {},
     "output_type": "execute_result"
    }
   ],
   "source": [
    "enum Message {\n",
    "    Quit,\n",
    "    Move { x: i32, y: i32 },\n",
    "    Write(String),\n",
    "    ChangeColor(i32, i32, i32),\n",
    "}\n",
    "\n",
    "fn main() {\n",
    "    // let msg = Message::ChangeColor(0, 160, 255);\n",
    "    let msg = Message::Move {x: 32, y: 11};\n",
    "\n",
    "    match msg {\n",
    "        Message::Quit => {\n",
    "            println!(\"The Quit variant has no data to destructure.\");\n",
    "        }\n",
    "        Message::Move { x, y } => {\n",
    "            println!(\"Move in the x direction {x} and in the y direction {y}\");\n",
    "        }\n",
    "        Message::Write(text) => {\n",
    "            println!(\"Text message: {text}\");\n",
    "        }\n",
    "        Message::ChangeColor(r, g, b) => {\n",
    "            println!(\"Change the color to red {r}, green {g}, and blue {b}\",)\n",
    "        }\n",
    "    }\n",
    "}\n",
    "\n",
    "main()"
   ]
  },
  {
   "cell_type": "markdown",
   "id": "3aa9003e-830f-4037-9f96-0d9f3a511a36",
   "metadata": {},
   "source": [
    "#### Destructuring Nested Structs and Enums"
   ]
  },
  {
   "cell_type": "code",
   "execution_count": 23,
   "id": "d13402c9-88ca-4fdd-8484-e7f3b56914b5",
   "metadata": {},
   "outputs": [
    {
     "name": "stdout",
     "output_type": "stream",
     "text": [
      "Change color to hue 0, saturation 160, value 255\n"
     ]
    },
    {
     "data": {
      "text/plain": [
       "()"
      ]
     },
     "execution_count": 23,
     "metadata": {},
     "output_type": "execute_result"
    }
   ],
   "source": [
    "enum Color {\n",
    "    Rgb(i32, i32, i32),\n",
    "    Hsv(i32, i32, i32),\n",
    "}\n",
    "\n",
    "enum Message {\n",
    "    Quit,\n",
    "    Move { x: i32, y: i32 },\n",
    "    Write(String),\n",
    "    ChangeColor(Color),\n",
    "}\n",
    "\n",
    "fn main() {\n",
    "    let msg = Message::ChangeColor(Color::Hsv(0, 160, 255));\n",
    "\n",
    "    match msg {\n",
    "        Message::ChangeColor(Color::Rgb(r, g, b)) => {\n",
    "            println!(\"Change color to red {r}, green {g}, and blue {b}\");\n",
    "        }\n",
    "        Message::ChangeColor(Color::Hsv(h, s, v)) => {\n",
    "            println!(\"Change color to hue {h}, saturation {s}, value {v}\")\n",
    "        }\n",
    "        _ => (),\n",
    "    }\n",
    "}\n",
    "\n",
    "main()"
   ]
  },
  {
   "cell_type": "markdown",
   "id": "2065fb07-e7af-46a0-a030-d947399d1e70",
   "metadata": {},
   "source": [
    "#### Destructuring Structs and Tuples\n",
    "We can mix, match, and nest destructuring patterns in even more complex ways"
   ]
  },
  {
   "cell_type": "code",
   "execution_count": 31,
   "id": "2cc8894b-5237-4535-bda1-490d21f4450c",
   "metadata": {},
   "outputs": [
    {
     "name": "stdout",
     "output_type": "stream",
     "text": [
      "feet = 3, x = 3, y = -10\n"
     ]
    }
   ],
   "source": [
    "let ((feet, inches), Point { x, y }) = ((3, 10), Point {x: 3, y: -10 });\n",
    "\n",
    "println!(\"feet = {}, x = {}, y = {}\", feet, x, y);"
   ]
  },
  {
   "cell_type": "markdown",
   "id": "c2fabfe9-6d15-412a-b9c1-a970108f6655",
   "metadata": {},
   "source": [
    "### Ignoring Values in a Pattern\n",
    "\n",
    "There are a few ways to ignore entire values or parts of values in a pattern:\n",
    "- Using the `_` pattern (which you’ve seen),\n",
    "- using the `_` pattern within another pattern,\n",
    "- using a name that starts with an underscore,\n",
    "- or using `..` to ignore remaining parts of a value. Let’s explore how and why to use each of these patterns."
   ]
  },
  {
   "cell_type": "markdown",
   "id": "d7541d8b-10dc-4052-99ff-129262a06a53",
   "metadata": {},
   "source": [
    "#### Ignoring an Entire Value with `_`"
   ]
  },
  {
   "cell_type": "code",
   "execution_count": 32,
   "id": "a3c51087-e98e-4332-8daa-956be2ef3717",
   "metadata": {},
   "outputs": [
    {
     "name": "stdout",
     "output_type": "stream",
     "text": [
      "This code only uses the y parameter: 4\n"
     ]
    },
    {
     "data": {
      "text/plain": [
       "()"
      ]
     },
     "execution_count": 32,
     "metadata": {},
     "output_type": "execute_result"
    }
   ],
   "source": [
    "fn foo(_: i32, y: i32) {\n",
    "    println!(\"This code only uses the y parameter: {}\", y);\n",
    "}\n",
    "\n",
    "fn main() {\n",
    "    foo(3, 4);\n",
    "}\n",
    "\n",
    "main()"
   ]
  },
  {
   "cell_type": "markdown",
   "id": "7e577578-8582-443e-8ec1-0831134316a3",
   "metadata": {},
   "source": [
    "#### Ignoring Parts of a Value with a Nested `_`"
   ]
  },
  {
   "cell_type": "code",
   "execution_count": 34,
   "id": "7f66b367-cbff-4a86-b818-faf34945c4fc",
   "metadata": {},
   "outputs": [
    {
     "name": "stdout",
     "output_type": "stream",
     "text": [
      "Can't overwrite an existing customized value\n",
      "setting is Some(5)\n"
     ]
    }
   ],
   "source": [
    "let mut setting_value = Some(5);\n",
    "let new_setting_value = Some(10);\n",
    "\n",
    "match (setting_value, new_setting_value) {\n",
    "    (Some(_), Some(_)) => { //  we don’t need to match on or use the values \n",
    "    // inside either Some variant, but we do need to test for the case when \n",
    "    // setting_value and new_setting_value are the Some variant.\n",
    "        println!(\"Can't overwrite an existing customized value\");\n",
    "    }\n",
    "    _ => {\n",
    "        setting_value = new_setting_value;\n",
    "    }\n",
    "}\n",
    "\n",
    "println!(\"setting is {:?}\", setting_value);"
   ]
  },
  {
   "cell_type": "code",
   "execution_count": 35,
   "id": "26e47838-9071-45bb-867b-3529b0c15fd8",
   "metadata": {},
   "outputs": [
    {
     "name": "stdout",
     "output_type": "stream",
     "text": [
      "Some numbers: 2, 8, 32\n"
     ]
    },
    {
     "data": {
      "text/plain": [
       "()"
      ]
     },
     "execution_count": 35,
     "metadata": {},
     "output_type": "execute_result"
    }
   ],
   "source": [
    "let numbers = (2, 4, 8, 16, 32);\n",
    "\n",
    "match numbers {\n",
    "    (first, _, third, _, fifth) => {\n",
    "        println!(\"Some numbers: {first}, {third}, {fifth}\")\n",
    "    }\n",
    "}"
   ]
  },
  {
   "cell_type": "markdown",
   "id": "3f3aa59d-03b2-4696-a689-2aa94ddcc230",
   "metadata": {},
   "source": [
    "#### Ignoring an Unused Variable by Starting Its Name with `_`\n"
   ]
  },
  {
   "cell_type": "code",
   "execution_count": 38,
   "id": "96f908d0-4cae-45d7-b125-c31a5fb2ed63",
   "metadata": {},
   "outputs": [],
   "source": [
    "fn main() {\n",
    "    let _x = 5;\n",
    "    let y = 10;\n",
    "} // Compiling this code will give a warning about not using the variable y, \n",
    "  // but we won’t get a warning about not using _x."
   ]
  },
  {
   "cell_type": "markdown",
   "id": "79b89d2e-a2e4-4d04-bbef-5afcb49bae37",
   "metadata": {},
   "source": [
    "<span style=\"color:lightgreen\">*Difference between `_` and `_x`: The syntax `_x` still binds the value to the variable, whereas `_` doesn’t bind at all*</span>\n",
    "\n",
    "For example, below we bound a string to `_s`, which is an unused variable starting with an underscore but still binds the value and might take ownership of the value"
   ]
  },
  {
   "cell_type": "code",
   "execution_count": 39,
   "id": "dfb4074e-00b2-4c83-952c-4b18ef763020",
   "metadata": {},
   "outputs": [
    {
     "ename": "Error",
     "evalue": "unused variable: `y`",
     "output_type": "error",
     "traceback": [
      "\u001b[31m[unused_variables] Error:\u001b[0m unused variable: `y`"
     ]
    },
    {
     "ename": "Error",
     "evalue": "borrow of partially moved value: `s`",
     "output_type": "error",
     "traceback": [
      "\u001b[31m[E0382] Error:\u001b[0m borrow of partially moved value: `s`",
      "   \u001b[38;5;246m╭\u001b[0m\u001b[38;5;246m─\u001b[0m\u001b[38;5;246m[\u001b[0mcommand_39:1:1\u001b[38;5;246m]\u001b[0m",
      "   \u001b[38;5;246m│\u001b[0m",
      " \u001b[38;5;246m3 │\u001b[0m \u001b[38;5;249mi\u001b[0m\u001b[38;5;249mf\u001b[0m\u001b[38;5;249m \u001b[0m\u001b[38;5;249ml\u001b[0m\u001b[38;5;249me\u001b[0m\u001b[38;5;249mt\u001b[0m\u001b[38;5;249m \u001b[0m\u001b[38;5;249mS\u001b[0m\u001b[38;5;249mo\u001b[0m\u001b[38;5;249mm\u001b[0m\u001b[38;5;249me\u001b[0m\u001b[38;5;249m(\u001b[0m\u001b[38;5;54m_\u001b[0m\u001b[38;5;54ms\u001b[0m\u001b[38;5;249m)\u001b[0m\u001b[38;5;249m \u001b[0m\u001b[38;5;249m=\u001b[0m\u001b[38;5;249m \u001b[0m\u001b[38;5;249ms\u001b[0m\u001b[38;5;249m \u001b[0m\u001b[38;5;249m{\u001b[0m",
      " \u001b[38;5;240m  │\u001b[0m             \u001b[38;5;68m┬\u001b[0m\u001b[38;5;54m┬\u001b[0m  ",
      " \u001b[38;5;240m  │\u001b[0m             \u001b[38;5;68m╰\u001b[0m\u001b[38;5;68m─\u001b[0m\u001b[38;5;68m─\u001b[0m\u001b[38;5;68m─\u001b[0m help: borrow this binding in the pattern to avoid moving the value: `ref `",
      " \u001b[38;5;240m  │\u001b[0m              \u001b[38;5;54m│\u001b[0m  ",
      " \u001b[38;5;240m  │\u001b[0m              \u001b[38;5;54m╰\u001b[0m\u001b[38;5;54m─\u001b[0m\u001b[38;5;54m─\u001b[0m value partially moved here",
      " \u001b[38;5;240m  │\u001b[0m ",
      " \u001b[38;5;246m7 │\u001b[0m \u001b[38;5;249mp\u001b[0m\u001b[38;5;249mr\u001b[0m\u001b[38;5;249mi\u001b[0m\u001b[38;5;249mn\u001b[0m\u001b[38;5;249mt\u001b[0m\u001b[38;5;249ml\u001b[0m\u001b[38;5;249mn\u001b[0m\u001b[38;5;249m!\u001b[0m\u001b[38;5;249m(\u001b[0m\u001b[38;5;249m\"\u001b[0m\u001b[38;5;249m{\u001b[0m\u001b[38;5;249m:\u001b[0m\u001b[38;5;249m?\u001b[0m\u001b[38;5;249m}\u001b[0m\u001b[38;5;249m\"\u001b[0m\u001b[38;5;249m,\u001b[0m\u001b[38;5;249m \u001b[0m\u001b[38;5;100ms\u001b[0m\u001b[38;5;249m)\u001b[0m\u001b[38;5;249m;\u001b[0m",
      " \u001b[38;5;240m  │\u001b[0m                  \u001b[38;5;100m┬\u001b[0m  ",
      " \u001b[38;5;240m  │\u001b[0m                  \u001b[38;5;100m╰\u001b[0m\u001b[38;5;100m─\u001b[0m\u001b[38;5;100m─\u001b[0m value borrowed here after partial move",
      "\u001b[38;5;246m───╯\u001b[0m"
     ]
    }
   ],
   "source": [
    "let s = Some(String::from(\"Hello!\"));\n",
    "\n",
    "if let Some(_s) = s {\n",
    "    println!(\"found a string\");\n",
    "}\n",
    "\n",
    "println!(\"{:?}\", s);"
   ]
  },
  {
   "cell_type": "markdown",
   "id": "b0799f15-1821-4b0e-b5c0-6f03bd917bf8",
   "metadata": {},
   "source": [
    "Using only `_`, the value will not be bound"
   ]
  },
  {
   "cell_type": "code",
   "execution_count": 40,
   "id": "e144c8e8-aacd-4fd8-92c7-db49c156955e",
   "metadata": {},
   "outputs": [
    {
     "name": "stdout",
     "output_type": "stream",
     "text": [
      "found a string\n",
      "Some(\"Hello!\")\n"
     ]
    }
   ],
   "source": [
    "let s = Some(String::from(\"Hello!\"));\n",
    "\n",
    "if let Some(_) = s {\n",
    "    println!(\"found a string\");\n",
    "}\n",
    "\n",
    "println!(\"{:?}\", s);"
   ]
  },
  {
   "cell_type": "markdown",
   "id": "f688b6fe-dccf-4fd7-93b7-4c94d19a76d0",
   "metadata": {},
   "source": [
    "#### Ignoring Remaining Parts of a Value with `..`"
   ]
  },
  {
   "cell_type": "code",
   "execution_count": 41,
   "id": "d0444cf4-daa3-4555-a50c-9bd1ffa22362",
   "metadata": {},
   "outputs": [
    {
     "name": "stdout",
     "output_type": "stream",
     "text": [
      "x is 0\n"
     ]
    },
    {
     "data": {
      "text/plain": [
       "()"
      ]
     },
     "execution_count": 41,
     "metadata": {},
     "output_type": "execute_result"
    }
   ],
   "source": [
    "fn main() {\n",
    "    struct Point {\n",
    "        x: i32,\n",
    "        y: i32,\n",
    "        z: i32,\n",
    "    }\n",
    "\n",
    "    let origin = Point { x: 0, y: 0, z: 0 };\n",
    "\n",
    "    match origin {\n",
    "        Point { x, .. } => println!(\"x is {}\", x),\n",
    "    }\n",
    "}\n",
    "\n",
    "main()"
   ]
  },
  {
   "cell_type": "code",
   "execution_count": 42,
   "id": "fb9cbaa2-d749-4bbc-81be-3902beb28790",
   "metadata": {},
   "outputs": [
    {
     "name": "stdout",
     "output_type": "stream",
     "text": [
      "Some numbers: 2, 32\n"
     ]
    },
    {
     "data": {
      "text/plain": [
       "()"
      ]
     },
     "execution_count": 42,
     "metadata": {},
     "output_type": "execute_result"
    }
   ],
   "source": [
    "fn main() {\n",
    "    let numbers = (2, 4, 8, 16, 32);\n",
    "\n",
    "    match numbers {\n",
    "        (first, .., last) => {\n",
    "            println!(\"Some numbers: {first}, {last}\");\n",
    "        }\n",
    "    }\n",
    "}\n",
    "\n",
    "main()"
   ]
  },
  {
   "cell_type": "markdown",
   "id": "abc8ac12-7c54-4870-a133-8cd8eed9481b",
   "metadata": {},
   "source": [
    "### Extra Conditionals with Match Guards\n",
    "\n",
    "*A match guard is an additional `if` condition, specified after the pattern in a match arm, that must also match for that arm to be chosen*. Match guards are useful for expressing more complex ideas than a pattern alone allows."
   ]
  },
  {
   "cell_type": "code",
   "execution_count": 46,
   "id": "303b3bb8-cb6d-4180-bb77-fb3f4733b80d",
   "metadata": {},
   "outputs": [
    {
     "name": "stdout",
     "output_type": "stream",
     "text": [
      "The number 4 is even\n"
     ]
    },
    {
     "data": {
      "text/plain": [
       "()"
      ]
     },
     "execution_count": 46,
     "metadata": {},
     "output_type": "execute_result"
    }
   ],
   "source": [
    "fn main() {\n",
    "    let num = Some(4);\n",
    "\n",
    "    match num {\n",
    "        Some(x) if x % 2 == 0 => println!(\"The number {} is even\", x),\n",
    "        Some(x) => println!(\"The number {} is odd\", x),\n",
    "        None => (),\n",
    "    }\n",
    "}\n",
    "\n",
    "main()"
   ]
  },
  {
   "cell_type": "markdown",
   "id": "9b044594-64ab-415a-814d-fb109b436124",
   "metadata": {},
   "source": [
    " <span style=\"color:orange\">*The downside of this additional expressiveness is that the compiler doesn't try to check for exhaustiveness when match guard expressions are involved.*</span>\n",
    "\n",
    "Also, we can use a match guard to test for equality with an outer variable:"
   ]
  },
  {
   "cell_type": "code",
   "execution_count": 48,
   "id": "cca0f3eb-5342-4d45-a6e3-5f22116686b6",
   "metadata": {},
   "outputs": [
    {
     "name": "stdout",
     "output_type": "stream",
     "text": [
      "Matched, n = 10\n",
      "at the end: x = Some(10), y = 10\n"
     ]
    },
    {
     "data": {
      "text/plain": [
       "()"
      ]
     },
     "execution_count": 48,
     "metadata": {},
     "output_type": "execute_result"
    }
   ],
   "source": [
    "fn main() {\n",
    "    let x = Some(10);\n",
    "    let y = 10;\n",
    "\n",
    "    match x {\n",
    "        Some(50) => println!(\"Got 50\"),\n",
    "        Some(n) if n == y => println!(\"Matched, n = {n}\"),  // The match guard if n == y is not a pattern \n",
    "                                        // and therefore doesn’t introduce new variables.\n",
    "                                        // This y is the outer y rather than a new shadowed y\n",
    "        _ => println!(\"Default case, x = {:?}\", x),\n",
    "    }\n",
    "\n",
    "    println!(\"at the end: x = {:?}, y = {y}\", x);\n",
    "\n",
    "}\n",
    "main()"
   ]
  },
  {
   "cell_type": "markdown",
   "id": "cae904f0-cdc1-4952-b2d4-19f4dc1675ff",
   "metadata": {},
   "source": [
    "You can also use the or operator `|` in a match guard to specify multiple patterns"
   ]
  },
  {
   "cell_type": "code",
   "execution_count": 49,
   "id": "68a40df3-c791-459e-8125-86895059d7bc",
   "metadata": {},
   "outputs": [
    {
     "name": "stdout",
     "output_type": "stream",
     "text": [
      "no\n"
     ]
    },
    {
     "data": {
      "text/plain": [
       "()"
      ]
     },
     "execution_count": 49,
     "metadata": {},
     "output_type": "execute_result"
    }
   ],
   "source": [
    "fn main() {\n",
    "    let x = 4;\n",
    "    let y = false;\n",
    "\n",
    "    match x {\n",
    "        4 | 5 | 6 if y => println!(\"yes\"),\n",
    "        _ => println!(\"no\"),\n",
    "    }\n",
    "}\n",
    "\n",
    "main()"
   ]
  },
  {
   "cell_type": "markdown",
   "id": "d3000bc4-9690-4609-9dd7-666f480796f4",
   "metadata": {},
   "source": [
    "### `@` Bindings\n",
    "\n",
    "The at operator `@` lets us create a variable that holds a value at the same time as we’re testing that value for a pattern match.\n",
    "\n",
    "For example, below we want to test that a `Message::Hello` `id` field is within the range `3..=7`. We also want to bind the value to the variable `id_variable` so we can use it in the code associated with the arm"
   ]
  },
  {
   "cell_type": "code",
   "execution_count": 57,
   "id": "044e20b4-d071-42c4-babc-fa6ed822784a",
   "metadata": {},
   "outputs": [
    {
     "name": "stdout",
     "output_type": "stream",
     "text": [
      "Found an id in another range: 11\n"
     ]
    },
    {
     "data": {
      "text/plain": [
       "()"
      ]
     },
     "execution_count": 57,
     "metadata": {},
     "output_type": "execute_result"
    }
   ],
   "source": [
    "enum Message {\n",
    "    Hello { id: i32 },\n",
    "}\n",
    "\n",
    "let msg = Message::Hello { id: 11 };\n",
    "\n",
    "match msg {\n",
    "    Message::Hello {\n",
    "        id: id_variable @ 3..=7,  // By specifying id_variable @ before the range 3..=7, \n",
    "                                // we’re capturing whatever value matched the range \n",
    "                                // while also testing that the value matched the range pattern.\n",
    "    } => println!(\"Found an id in range: {}\", id_variable),\n",
    "    Message::Hello { id: id_variable2 @ 10..=12 } => {\n",
    "        println!(\"Found an id in another range: {}\", id_variable2)\n",
    "    }\n",
    "    Message::Hello { id } => println!(\"Found some other id: {}\", id),\n",
    "}\n"
   ]
  },
  {
   "cell_type": "code",
   "execution_count": null,
   "id": "b4ccc186-b56d-41c2-b97a-79bfc24b3288",
   "metadata": {},
   "outputs": [],
   "source": []
  },
  {
   "cell_type": "code",
   "execution_count": null,
   "id": "a2ce4feb-20b0-41d7-bebb-28234f853053",
   "metadata": {},
   "outputs": [],
   "source": []
  }
 ],
 "metadata": {
  "kernelspec": {
   "display_name": "Rust",
   "language": "rust",
   "name": "rust"
  },
  "language_info": {
   "codemirror_mode": "rust",
   "file_extension": ".rs",
   "mimetype": "text/rust",
   "name": "Rust",
   "pygment_lexer": "rust",
   "version": ""
  }
 },
 "nbformat": 4,
 "nbformat_minor": 5
}
