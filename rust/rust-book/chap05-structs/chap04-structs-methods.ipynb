{
 "cells": [
  {
   "cell_type": "markdown",
   "metadata": {},
   "source": [
    "# Structs Introduction\n",
    "\n",
    "A struct, or structure, is a custom data type that <span style=\"color:lightgreen\">*lets you package together and name multiple related values*</span> that make up a meaningful group.  \n",
    "We will also learn <span style=\"color:lightgreen\">*struct associated functions, especially the kind of associated functions called methods*</span>, to specify behavior associated with a struct type"
   ]
  },
  {
   "cell_type": "markdown",
   "metadata": {},
   "source": [
    "# Defining and Instantiating Structs\n",
    "\n",
    "- **Structs vs Tuples**: Like tuples, the pieces of a struct can be different types. Unlike with tuples, in a struct you’ll name each piece of data so it’s clear what the values mean. We define a struct and its fields like below"
   ]
  },
  {
   "cell_type": "code",
   "execution_count": 2,
   "metadata": {
    "vscode": {
     "languageId": "rust"
    }
   },
   "outputs": [],
   "source": [
    "struct User {\n",
    "    active: bool,  // each piece of data is called 'field'\n",
    "    username: String,\n",
    "    email: String,\n",
    "    sign_in_count: u64,\n",
    "}\n"
   ]
  },
  {
   "cell_type": "markdown",
   "metadata": {},
   "source": [
    "Struct Instance: To use a struct after we’ve defined it, we *create an instance of that struct* by specifying concrete values for each of the fields. "
   ]
  },
  {
   "cell_type": "code",
   "execution_count": 5,
   "metadata": {
    "vscode": {
     "languageId": "rust"
    }
   },
   "outputs": [],
   "source": [
    "let user1: User = User {\n",
    "        active: true,\n",
    "        username: String::from(\"someusername123\"),\n",
    "        email: String::from(\"someone@example.com\"),\n",
    "        sign_in_count: 1,\n",
    "};"
   ]
  },
  {
   "cell_type": "markdown",
   "metadata": {},
   "source": [
    "Field Accessing: To get a specific value from a struct, we use dot notation. For example, to access this user’s email address, we use `user1.email`. If the instance is mutable, we can change a value by using the dot notation and assigning into a particular field."
   ]
  },
  {
   "cell_type": "code",
   "execution_count": 10,
   "metadata": {
    "vscode": {
     "languageId": "rust"
    }
   },
   "outputs": [
    {
     "name": "stdout",
     "output_type": "stream",
     "text": [
      "anotheremail@example.com\n"
     ]
    },
    {
     "data": {
      "text/plain": [
       "()"
      ]
     },
     "execution_count": 10,
     "metadata": {},
     "output_type": "execute_result"
    }
   ],
   "source": [
    "fn main() {\n",
    "    let mut user1 = User {\n",
    "        active: true,\n",
    "        username: String::from(\"someusername123\"),\n",
    "        email: String::from(\"someone@example.com\"),\n",
    "        sign_in_count: 1,\n",
    "    };\n",
    "\n",
    "    user1.email = String::from(\"anotheremail@example.com\");\n",
    "    println!(\"{}\", user1.email);\n",
    "}\n",
    "\n",
    "main()"
   ]
  },
  {
   "cell_type": "markdown",
   "metadata": {},
   "source": [
    "Note that the entire instance must be mutable; Rust doesn’t allow us to mark only certain fields as mutable."
   ]
  },
  {
   "cell_type": "markdown",
   "metadata": {},
   "source": [
    "## Using the Field Init Shorthand"
   ]
  },
  {
   "cell_type": "code",
   "execution_count": 14,
   "metadata": {
    "vscode": {
     "languageId": "rust"
    }
   },
   "outputs": [],
   "source": [
    "fn build_user(email: String, username: String) -> User {\n",
    "    User {\n",
    "        active: true,\n",
    "        username,  // same with username: username\n",
    "        email,  // same with email: email\n",
    "        sign_in_count: 1,\n",
    "    }\n",
    "}\n",
    "\n",
    "let a = build_user(String::from(\"anotheremail@example.com\"), String::from(\"user1\"));"
   ]
  },
  {
   "cell_type": "markdown",
   "metadata": {},
   "source": [
    "## Creating Instances from Other Instances with Struct Update Syntax\n",
    "\n",
    "Look at how we create the `user2` below, where the syntax `..` specifies that the remaining fields not explicitly set should have the same value as the fields in the given instance."
   ]
  },
  {
   "cell_type": "code",
   "execution_count": 16,
   "metadata": {
    "vscode": {
     "languageId": "rust"
    }
   },
   "outputs": [],
   "source": [
    "struct User {\n",
    "    active: bool,\n",
    "    username: String,\n",
    "    email: String,\n",
    "    sign_in_count: u64,\n",
    "}\n",
    "\n",
    "fn main() {\n",
    "    // --snip--\n",
    "\n",
    "    let user1 = User {\n",
    "        email: String::from(\"user1@example.com\"),\n",
    "        username: String::from(\"someusername123\"),\n",
    "        active: true,\n",
    "        sign_in_count: 1,\n",
    "    };\n",
    "\n",
    "    let user2 = User {\n",
    "        email: String::from(\"another@example.com\"),\n",
    "        ..user1  // this must come last\n",
    "    };\n",
    "}"
   ]
  },
  {
   "cell_type": "markdown",
   "metadata": {},
   "source": [
    "> 📙 **Note**  \n",
    "> <span style=\"color:orange\">*Note that **the struct update syntax uses `=` like an assignment and it moves the data, just as we saw in the “Variables and Data Interacting with Move” section**. In this example, we can no longer use `user1` as a whole after creating `user2` because the `String` in the username field of `user1` was moved into `user2`. If we had given `user2` new `String` values for both `email` and `username`, and thus only used the `active` and `sign_in_count` values from `user1`, then `user1` would still be valid after creating `user2` since `active` and `sign_in_count` are types that implement the `Copy` trait, so they are copied into `user2`. However, `String` does not implement `Copy` and was moved into `user2`* </span>"
   ]
  },
  {
   "cell_type": "markdown",
   "metadata": {},
   "source": [
    "## Using Tuple Structs Without Named Fields to Create Different Types\n",
    "\n",
    "<span style=\"color:lightgreen\">*Rust also supports structs that look similar to tuples, called tuple structs. **Tuple structs have the added meaning the struct name provides but don’t have names associated with their fields**; rather, they just have the types of the fields.*</span>"
   ]
  },
  {
   "cell_type": "code",
   "execution_count": 18,
   "metadata": {
    "vscode": {
     "languageId": "rust"
    }
   },
   "outputs": [],
   "source": [
    "struct Color(i32, i32, i32);\n",
    "struct Point(i32, i32, i32);\n",
    "\n",
    "let black = Color(0, 0, 0);\n",
    "let origin = Point(0, 0, 0);"
   ]
  },
  {
   "cell_type": "markdown",
   "metadata": {},
   "source": [
    "Note that `black` and `origin` are instances of different types, hence, a function that takes a parameter of type `Color` cannot take a `Point` as an argument, even though both types are made up of three `i32` values."
   ]
  },
  {
   "cell_type": "markdown",
   "metadata": {},
   "source": [
    "## Unit-Like Structs Without Any Fields\n",
    "\n",
    "<span style=\"color:lightgreen\">***Unit-like structs** are structs that don’t have any fields and can useful when you need to implement a trait on some type but don’t have any data that you want to store in the type itself.*</span>"
   ]
  },
  {
   "cell_type": "code",
   "execution_count": null,
   "metadata": {
    "vscode": {
     "languageId": "rust"
    }
   },
   "outputs": [],
   "source": [
    "struct AlwaysEqual;\n",
    "\n",
    "fn main() {\n",
    "    // Imagine that later we’ll implement behavior for this type such that every instance \n",
    "    // of AlwaysEqual is always equal to every instance of any other type, perhaps to \n",
    "    // have a known result for testing purposes\n",
    "    let subject = AlwaysEqual;\n",
    "}"
   ]
  },
  {
   "cell_type": "markdown",
   "metadata": {},
   "source": [
    "## Ownership of Struct Data\n",
    "Why in \n",
    "```rust\n",
    "struct User {\n",
    "    active: bool,  // each piece of data is called 'field'\n",
    "    username: String,\n",
    "    email: String,\n",
    "    sign_in_count: u64,\n",
    "}\n",
    "```\n",
    "we define `username` and `email` as `String`, not `&str`?  \n",
    "<span style=\"color:skyblue\">*Because we want each instance of this struct to own all of its data and for that data to be valid for as long as the entire struct is valid.*</span>\n",
    "\n",
    "<span style=\"color:orange\">*It’s also possible for structs to store references to data owned by something else, but to do so requires the use of **lifetimes**. **Lifetimes ensure that the data referenced by a struct is valid for as long as the struct is**. Let’s say you try to store a reference in a struct without specifying lifetimes, like the following; this won’t work and produce the error `missing lifetime specifier`:*</span>"
   ]
  },
  {
   "cell_type": "code",
   "execution_count": 19,
   "metadata": {
    "vscode": {
     "languageId": "rust"
    }
   },
   "outputs": [
    {
     "ename": "Error",
     "evalue": "missing lifetime specifier",
     "output_type": "error",
     "traceback": [
      "\u001b[31m[E0106] Error:\u001b[0m missing lifetime specifier",
      "   \u001b[38;5;246m╭\u001b[0m\u001b[38;5;246m─\u001b[0m\u001b[38;5;246m[\u001b[0mcommand_19:1:1\u001b[38;5;246m]\u001b[0m",
      "   \u001b[38;5;246m│\u001b[0m",
      " \u001b[38;5;246m3 │\u001b[0m \u001b[38;5;249m \u001b[0m\u001b[38;5;249m \u001b[0m\u001b[38;5;249m \u001b[0m\u001b[38;5;249m \u001b[0m\u001b[38;5;249mu\u001b[0m\u001b[38;5;249ms\u001b[0m\u001b[38;5;249me\u001b[0m\u001b[38;5;249mr\u001b[0m\u001b[38;5;249mn\u001b[0m\u001b[38;5;249ma\u001b[0m\u001b[38;5;249mm\u001b[0m\u001b[38;5;249me\u001b[0m\u001b[38;5;249m:\u001b[0m\u001b[38;5;249m \u001b[0m\u001b[38;5;54m&\u001b[0m\u001b[38;5;249ms\u001b[0m\u001b[38;5;249mt\u001b[0m\u001b[38;5;249mr\u001b[0m\u001b[38;5;249m,\u001b[0m",
      " \u001b[38;5;240m  │\u001b[0m               \u001b[38;5;54m┬\u001b[0m  ",
      " \u001b[38;5;240m  │\u001b[0m               \u001b[38;5;54m╰\u001b[0m\u001b[38;5;54m─\u001b[0m\u001b[38;5;54m─\u001b[0m expected named lifetime parameter",
      "\u001b[38;5;246m───╯\u001b[0m"
     ]
    },
    {
     "ename": "Error",
     "evalue": "missing lifetime specifier",
     "output_type": "error",
     "traceback": [
      "\u001b[31m[E0106] Error:\u001b[0m missing lifetime specifier",
      "   \u001b[38;5;246m╭\u001b[0m\u001b[38;5;246m─\u001b[0m\u001b[38;5;246m[\u001b[0mcommand_19:1:1\u001b[38;5;246m]\u001b[0m",
      "   \u001b[38;5;246m│\u001b[0m",
      " \u001b[38;5;246m4 │\u001b[0m \u001b[38;5;249m \u001b[0m\u001b[38;5;249m \u001b[0m\u001b[38;5;249m \u001b[0m\u001b[38;5;249m \u001b[0m\u001b[38;5;249me\u001b[0m\u001b[38;5;249mm\u001b[0m\u001b[38;5;249ma\u001b[0m\u001b[38;5;249mi\u001b[0m\u001b[38;5;249ml\u001b[0m\u001b[38;5;249m:\u001b[0m\u001b[38;5;249m \u001b[0m\u001b[38;5;54m&\u001b[0m\u001b[38;5;249ms\u001b[0m\u001b[38;5;249mt\u001b[0m\u001b[38;5;249mr\u001b[0m\u001b[38;5;249m,\u001b[0m",
      " \u001b[38;5;240m  │\u001b[0m            \u001b[38;5;54m┬\u001b[0m  ",
      " \u001b[38;5;240m  │\u001b[0m            \u001b[38;5;54m╰\u001b[0m\u001b[38;5;54m─\u001b[0m\u001b[38;5;54m─\u001b[0m expected named lifetime parameter",
      "\u001b[38;5;246m───╯\u001b[0m"
     ]
    },
    {
     "ename": "Error",
     "evalue": "mismatched types",
     "output_type": "error",
     "traceback": [
      "\u001b[31m[E0308] Error:\u001b[0m mismatched types"
     ]
    },
    {
     "ename": "Error",
     "evalue": "mismatched types",
     "output_type": "error",
     "traceback": [
      "\u001b[31m[E0308] Error:\u001b[0m mismatched types"
     ]
    }
   ],
   "source": [
    "struct User {\n",
    "    active: bool,\n",
    "    username: &str,\n",
    "    email: &str,\n",
    "    sign_in_count: u64,\n",
    "}\n",
    "\n",
    "fn main() {\n",
    "    let user1 = User {\n",
    "        active: true,\n",
    "        username: \"someusername123\",\n",
    "        email: \"someone@example.com\",\n",
    "        sign_in_count: 1,\n",
    "    };\n",
    "}"
   ]
  },
  {
   "cell_type": "markdown",
   "metadata": {},
   "source": [
    "# An Example Program Using Struct"
   ]
  },
  {
   "cell_type": "code",
   "execution_count": 2,
   "metadata": {
    "vscode": {
     "languageId": "rust"
    }
   },
   "outputs": [
    {
     "name": "stdout",
     "output_type": "stream",
     "text": [
      "The area is 3000\n"
     ]
    },
    {
     "name": "stderr",
     "output_type": "stream",
     "text": [
      "[src/lib.rs:6] 30 * scale = 60\n",
      "[src/lib.rs:11] &rect1 = Rectangle {\n",
      "    width: 60,\n",
      "    height: 50,\n",
      "}\n"
     ]
    },
    {
     "data": {
      "text/plain": [
       "()"
      ]
     },
     "execution_count": 2,
     "metadata": {},
     "output_type": "execute_result"
    }
   ],
   "source": [
    "#[derive(Debug)]\n",
    "struct Rectangle {\n",
    "    width: u32,\n",
    "    height: u32,\n",
    "}\n",
    "\n",
    "fn main() {\n",
    "    let scale = 2;\n",
    "    let rect1 = Rectangle {\n",
    "        height: 50,\n",
    "        width: dbg!(30 * scale), // Note that dbg! macro takes ownership of an expression\n",
    "                                 // Also, dbg! returns ownership of the expression’s value\n",
    "                                 // so width will have the value of 60\n",
    "    };\n",
    "\n",
    "    dbg!(&rect1);\n",
    "\n",
    "    println!(\"The area is {}\", area(&rect1))\n",
    "}\n",
    "\n",
    "fn area(rec: &Rectangle) -> u32 {\n",
    "    rec.width * rec.height\n",
    "}\n",
    "\n",
    "main()"
   ]
  },
  {
   "cell_type": "markdown",
   "metadata": {},
   "source": [
    "Our `area` function is very specific: it only computes the `area` of rectangles and won’t work with any other type.  \n",
    "Let’s look at how we tight the `area` function into an `area` method defined on only our `Rectangle` type."
   ]
  },
  {
   "cell_type": "markdown",
   "metadata": {},
   "source": [
    "# Method Syntax\n",
    "\n",
    "<span style=\"color:lightgreen\">**Methods are similar to functions, but they are defined within the context of a struct (or an enum or a trait object), and their first parameter is always `self`, which represents the instance of the struct the method is being called on.**</span>"
   ]
  },
  {
   "cell_type": "markdown",
   "metadata": {},
   "source": [
    "## Defining Methods\n",
    "\n",
    "Define methods of a struct using `impl` like below"
   ]
  },
  {
   "cell_type": "code",
   "execution_count": 15,
   "metadata": {
    "vscode": {
     "languageId": "rust"
    }
   },
   "outputs": [
    {
     "name": "stdout",
     "output_type": "stream",
     "text": [
      "The rectangle has width = 30, height = 50.\n",
      "The area of the rectangle is 1500 square pixels.\n",
      "Can rect1 hold rect2? true\n",
      "Changing the width of rect1\n",
      "The rectangle has width = 15, height = 50.\n",
      "Can rect1 hold rect2? false\n",
      "The area of the rectangle is 750 square pixels.\n"
     ]
    },
    {
     "data": {
      "text/plain": [
       "()"
      ]
     },
     "execution_count": 15,
     "metadata": {},
     "output_type": "execute_result"
    }
   ],
   "source": [
    "#[derive(Debug)]\n",
    "struct Rectangle {\n",
    "    width: u32,\n",
    "    height: u32,\n",
    "}\n",
    "\n",
    "impl Rectangle {\n",
    "    fn area(&self) -> u32 {\n",
    "        self.width * self.height\n",
    "    }\n",
    "\n",
    "    fn print(&self) {\n",
    "        println!(\"The rectangle has width = {}, height = {}.\", self.width, self.height);\n",
    "    }\n",
    "\n",
    "    fn change_width(&mut self, new_width: u32) {\n",
    "        self.width = new_width;\n",
    "    }\n",
    "\n",
    "    fn can_hold(&self, other: &Rectangle) -> bool {\n",
    "        self.width > other.width && self.height > other.height\n",
    "    }\n",
    "}\n",
    "\n",
    "fn main() {\n",
    "    let mut rect1 = Rectangle {\n",
    "        width: 30,\n",
    "        height: 50,\n",
    "    };\n",
    "\n",
    "    let rect2 = Rectangle {\n",
    "        width: 20,\n",
    "        height: 30,\n",
    "    };\n",
    "    \n",
    "    rect1.print();\n",
    "    println!(\n",
    "        \"The area of the rectangle is {} square pixels.\",\n",
    "        rect1.area()\n",
    "    );\n",
    "    println!(\"Can rect1 hold rect2? {}\", rect1.can_hold(&rect2));\n",
    "\n",
    "    println!(\"Changing the width of rect1\");\n",
    "    rect1.change_width(15);\n",
    "    rect1.print();\n",
    "    println!(\"Can rect1 hold rect2? {}\", rect1.can_hold(&rect2));\n",
    "    println!(\n",
    "        \"The area of the rectangle is {} square pixels.\",\n",
    "        rect1.area()\n",
    "    );\n",
    "\n",
    "\n",
    "}\n",
    "\n",
    "main()"
   ]
  },
  {
   "cell_type": "markdown",
   "metadata": {},
   "source": [
    "> **Notes on `&self`**\n",
    ">\n",
    "> In the signature for area, we use `&self` instead of `rectangle: &Rectangle`. <span style=\"color:lightgreen\">**The `&self` is actually short for `self: &Self`**</span>. Within an `impl` block, the type `Self` is an alias for the type that the `impl` block is for. Methods must have a parameter named `self` of type `Self` for their first parameter, so Rust lets you abbreviate this with only the name `self` in the first parameter spot. Note that we still need to use the `&` in front of the self shorthand to indicate that this method borrows the `Self` instance, just as we did in `rectangle: &Rectangle`.   \n",
    "> <span style=\"color:lightgreen\">***Methods can take ownership of `self` (by using just `self` as the first parameter, but this is very rare), borrow `self` immutably, as we’ve done here, or borrow `self` mutably, just as they can any other parameter.***</span>"
   ]
  },
  {
   "cell_type": "markdown",
   "metadata": {},
   "source": [
    "## Where’s the `->` Operator?\n",
    "\n",
    "> <span style=\"color:skyblue\">*In C and C++, you use `.` if you’re calling a method on the object directly and `->` if you’re calling the method on a pointer to the object and need to dereference the pointer first*</span>. In other words, if object is a pointer, `object->something()` is similar to `(*object).something()`.\n",
    ">\n",
    "> <span style=\"color:skyblue\">***Rust doesn’t have an equivalent to the `->` operator; instead, Rust has a feature called automatic referencing and dereferencing***</span>. Calling methods is one of the few places in Rust that has this behavior. <span style=\"color:lightgreen\">***When you call a method with `object.something()`, Rust automatically adds in `&`, `&mut`, or `*` so object matches the signature of the method***</span>. In other words, the following are the same:\n",
    "> ```rust\n",
    "> p1.distance(&p2);\n",
    "> (&p1).distance(&p2);\n",
    "> ```\n",
    "> The first one looks much cleaner. This automatic referencing behavior works because methods have a clear receiver—the type of `self`. Given the receiver and name of a method, Rust can figure out definitively whether the method is reading (`&self`), mutating (`&mut self`), or consuming (`self`). The fact that Rust makes borrowing implicit for method receivers is a big part of making ownership ergonomic in practice."
   ]
  },
  {
   "cell_type": "markdown",
   "metadata": {},
   "source": [
    "## Associated Functions\n",
    "\n",
    "All functions defined within an `impl` block are called *associated functions* because they’re associated with the type named after the `impl`. <span style=\"color:lightgreen\">***We can define associated functions that don’t have `self` as their first parameter (and thus are not methods) because they don’t need an instance of the type to work with. This is similar to Python's `@classmethod`.***</span>. We’ve already used one function like this: the `String::from` function that’s defined on the `String` type."
   ]
  },
  {
   "cell_type": "code",
   "execution_count": 17,
   "metadata": {
    "vscode": {
     "languageId": "rust"
    }
   },
   "outputs": [],
   "source": [
    "#[derive(Debug)]\n",
    "struct Rectangle {\n",
    "    width: u32,\n",
    "    height: u32,\n",
    "}\n",
    "\n",
    "impl Rectangle {\n",
    "    fn square(size: u32) -> Self {\n",
    "        Self {\n",
    "            width: size,\n",
    "            height: size,\n",
    "        }\n",
    "    }\n",
    "}\n",
    "\n",
    "fn main() {\n",
    "    let sq = Rectangle::square(3);\n",
    "}"
   ]
  },
  {
   "cell_type": "markdown",
   "metadata": {},
   "source": [
    "<span style=\"color:yellow\">Note that the `::` syntax is used for both associated functions and namespaces created by modules</span>"
   ]
  },
  {
   "cell_type": "markdown",
   "metadata": {},
   "source": [
    "## Multiple `impl` Blocks\n",
    "\n",
    "Each struct is allowed to have multiple `impl` blocks."
   ]
  },
  {
   "cell_type": "code",
   "execution_count": 20,
   "metadata": {
    "vscode": {
     "languageId": "rust"
    }
   },
   "outputs": [
    {
     "name": "stdout",
     "output_type": "stream",
     "text": [
      "Can rect1 hold rect2? true\n",
      "Can rect1 hold rect3? false\n"
     ]
    },
    {
     "data": {
      "text/plain": [
       "()"
      ]
     },
     "execution_count": 20,
     "metadata": {},
     "output_type": "execute_result"
    }
   ],
   "source": [
    "#[derive(Debug)]\n",
    "struct Rectangle {\n",
    "    width: u32,\n",
    "    height: u32,\n",
    "}\n",
    "\n",
    "impl Rectangle {\n",
    "    fn area(&self) -> u32 {\n",
    "        self.width * self.height\n",
    "    }\n",
    "}\n",
    "\n",
    "impl Rectangle {\n",
    "    fn can_hold(&self, other: &Rectangle) -> bool {\n",
    "        self.width > other.width && self.height > other.height\n",
    "    }\n",
    "}\n",
    "\n",
    "fn main() {\n",
    "    let rect1 = Rectangle {\n",
    "        width: 30,\n",
    "        height: 50,\n",
    "    };\n",
    "    let rect2 = Rectangle {\n",
    "        width: 10,\n",
    "        height: 40,\n",
    "    };\n",
    "    let rect3 = Rectangle {\n",
    "        width: 60,\n",
    "        height: 45,\n",
    "    };\n",
    "\n",
    "    println!(\"Can rect1 hold rect2? {}\", rect1.can_hold(&rect2));\n",
    "    println!(\"Can rect1 hold rect3? {}\", rect1.can_hold(&rect3));\n",
    "}\n",
    "\n",
    "main()"
   ]
  },
  {
   "cell_type": "code",
   "execution_count": null,
   "metadata": {
    "vscode": {
     "languageId": "rust"
    }
   },
   "outputs": [],
   "source": []
  }
 ],
 "metadata": {
  "kernelspec": {
   "display_name": "Rust",
   "language": "rust",
   "name": "rust"
  },
  "language_info": {
   "codemirror_mode": "rust",
   "file_extension": ".rs",
   "mimetype": "text/rust",
   "name": "Rust",
   "pygment_lexer": "rust",
   "version": ""
  }
 },
 "nbformat": 4,
 "nbformat_minor": 2
}
