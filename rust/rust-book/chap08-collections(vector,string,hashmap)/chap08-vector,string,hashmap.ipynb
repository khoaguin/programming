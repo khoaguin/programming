{
 "cells": [
  {
   "cell_type": "markdown",
   "metadata": {},
   "source": [
    "# Introduction\n",
    "\n",
    "We have already learned some Rust' collection data types such as arrays or tuple. However, they live on the stack.  \n",
    "<span style=\"color:lightgreen\">In this chapter, we will learn **vector**, **string** and **hash maps**. The data these collections point to is **stored on the heap**, which means the amount of data does not need to be known at compile time and **can grow or shrink as the program runs</span>\n",
    "\n",
    "- A vector allows you to store a variable number of values next to each other.\n",
    "- A string is a collection of characters. We’ve mentioned the `String` type previously, but in this chapter we’ll talk about it in depth.\n",
    "- A hash map allows you to associate a value with a particular key. It’s a particular implementation of the more general data structure called a `map`."
   ]
  },
  {
   "cell_type": "markdown",
   "metadata": {},
   "source": [
    "# Vectors: Storing Lists of Values with `Vec<T>`"
   ]
  },
  {
   "cell_type": "markdown",
   "metadata": {},
   "source": [
    "## Creating, Reading and Updating Vectors"
   ]
  },
  {
   "cell_type": "code",
   "execution_count": 12,
   "metadata": {
    "vscode": {
     "languageId": "rust"
    }
   },
   "outputs": [
    {
     "name": "stdout",
     "output_type": "stream",
     "text": [
      "v before updating is []\n",
      "v after updating is [5, 6, 7, 8]\n"
     ]
    }
   ],
   "source": [
    "// Creating a new vector (no initial values)\n",
    "let mut v: Vec<i32> = Vec::new();\n",
    "\n",
    "// Creating a new vector with initial values and inferred type\n",
    "let v2 = vec![1, 2, 3];\n",
    "\n",
    "// Updating the vector v (it needs to be mutable)\n",
    "println!(\"v before updating is {:?}\", v);\n",
    "v.push(5);\n",
    "v.push(6);\n",
    "v.push(7);\n",
    "v.push(8);\n",
    "println!(\"v after updating is {:?}\", v);\n"
   ]
  },
  {
   "cell_type": "code",
   "execution_count": 21,
   "metadata": {
    "vscode": {
     "languageId": "rust"
    }
   },
   "outputs": [
    {
     "name": "stdout",
     "output_type": "stream",
     "text": [
      "The third element is 3\n",
      "The third element is 3\n",
      "There is no senventh element.\n"
     ]
    },
    {
     "data": {
      "text/plain": [
       "()"
      ]
     },
     "execution_count": 21,
     "metadata": {},
     "output_type": "execute_result"
    }
   ],
   "source": [
    "// Reading elements of vectors: either using reference with &, or .get() method\n",
    "fn main() {\n",
    "    let v = vec![1, 2, 3, 4, 5];\n",
    "\n",
    "    let third: &i32 = &v[2];\n",
    "    println!(\"The third element is {third}\");\n",
    "\n",
    "    let third: Option<&i32> = v.get(2);  // get returns the Option<T> enum\n",
    "    match third {\n",
    "        Some(third) => println!(\"The third element is {third}\"),\n",
    "        None => println!(\"There is no third element.\"),\n",
    "    }\n",
    "\n",
    "    let senventh: Option<&i32> = v.get(6);  // what if we get the index out of range?\n",
    "    match senventh {\n",
    "        Some(senventh) => println!(\"The senventh element is {senventh}\"),\n",
    "        None => println!(\"There is no senventh element.\"),\n",
    "    }\n",
    "}\n",
    "\n",
    "main()"
   ]
  },
  {
   "cell_type": "markdown",
   "metadata": {},
   "source": [
    "- When using `&v[index]`, the program will panic if index is out of range\n",
    "- When using `v.get(index)`, the program returns `None` without pancking"
   ]
  },
  {
   "cell_type": "markdown",
   "metadata": {},
   "source": [
    "## Vector's Ownership and Borrowing Rules\n",
    "\n",
    "<span style=\"color:orange\">*When the program has a valid reference to an element of a vector, the borrow checker enforces the ownership and borrowing rules to ensure this reference and any other references to the contents of the vector remain valid*.</span>     \n",
    "We can’t have mutable and immutable references in the same scope. For example, in the code below we hold an immutable reference to the first element in a vector and try to add an element to the end, which won’t work if we also try to refer to that element later in the function:"
   ]
  },
  {
   "cell_type": "code",
   "execution_count": 29,
   "metadata": {
    "vscode": {
     "languageId": "rust"
    }
   },
   "outputs": [
    {
     "ename": "Error",
     "evalue": "cannot borrow `v` as mutable because it is also borrowed as immutable",
     "output_type": "error",
     "traceback": [
      "\u001b[31m[E0502] Error:\u001b[0m cannot borrow `v` as mutable because it is also borrowed as immutable",
      "   \u001b[38;5;246m╭\u001b[0m\u001b[38;5;246m─\u001b[0m\u001b[38;5;246m[\u001b[0mcommand_29:1:1\u001b[38;5;246m]\u001b[0m",
      "   \u001b[38;5;246m│\u001b[0m",
      " \u001b[38;5;246m3 │\u001b[0m \u001b[38;5;249m \u001b[0m\u001b[38;5;249m \u001b[0m\u001b[38;5;249m \u001b[0m\u001b[38;5;249m \u001b[0m\u001b[38;5;249ml\u001b[0m\u001b[38;5;249me\u001b[0m\u001b[38;5;249mt\u001b[0m\u001b[38;5;249m \u001b[0m\u001b[38;5;249mf\u001b[0m\u001b[38;5;249mi\u001b[0m\u001b[38;5;249mr\u001b[0m\u001b[38;5;249ms\u001b[0m\u001b[38;5;249mt\u001b[0m\u001b[38;5;249m \u001b[0m\u001b[38;5;249m=\u001b[0m\u001b[38;5;249m \u001b[0m\u001b[38;5;249m&\u001b[0m\u001b[38;5;100mv\u001b[0m\u001b[38;5;249m[\u001b[0m\u001b[38;5;249m0\u001b[0m\u001b[38;5;249m]\u001b[0m\u001b[38;5;249m;\u001b[0m",
      " \u001b[38;5;240m  │\u001b[0m                  \u001b[38;5;100m┬\u001b[0m  ",
      " \u001b[38;5;240m  │\u001b[0m                  \u001b[38;5;100m╰\u001b[0m\u001b[38;5;100m─\u001b[0m\u001b[38;5;100m─\u001b[0m immutable borrow occurs here",
      " \u001b[38;5;246m4 │\u001b[0m \u001b[38;5;249m \u001b[0m\u001b[38;5;249m \u001b[0m\u001b[38;5;249m \u001b[0m\u001b[38;5;249m \u001b[0m\u001b[38;5;54mv\u001b[0m\u001b[38;5;54m.\u001b[0m\u001b[38;5;54mp\u001b[0m\u001b[38;5;54mu\u001b[0m\u001b[38;5;54ms\u001b[0m\u001b[38;5;54mh\u001b[0m\u001b[38;5;54m(\u001b[0m\u001b[38;5;54m6\u001b[0m\u001b[38;5;54m)\u001b[0m\u001b[38;5;249m;\u001b[0m",
      " \u001b[38;5;240m  │\u001b[0m     \u001b[38;5;54m─\u001b[0m\u001b[38;5;54m─\u001b[0m\u001b[38;5;54m─\u001b[0m\u001b[38;5;54m─\u001b[0m\u001b[38;5;54m┬\u001b[0m\u001b[38;5;54m─\u001b[0m\u001b[38;5;54m─\u001b[0m\u001b[38;5;54m─\u001b[0m\u001b[38;5;54m─\u001b[0m  ",
      " \u001b[38;5;240m  │\u001b[0m         \u001b[38;5;54m╰\u001b[0m\u001b[38;5;54m─\u001b[0m\u001b[38;5;54m─\u001b[0m\u001b[38;5;54m─\u001b[0m\u001b[38;5;54m─\u001b[0m\u001b[38;5;54m─\u001b[0m\u001b[38;5;54m─\u001b[0m mutable borrow occurs here",
      " \u001b[38;5;246m5 │\u001b[0m \u001b[38;5;249m \u001b[0m\u001b[38;5;249m \u001b[0m\u001b[38;5;249m \u001b[0m\u001b[38;5;249m \u001b[0m\u001b[38;5;249mp\u001b[0m\u001b[38;5;249mr\u001b[0m\u001b[38;5;249mi\u001b[0m\u001b[38;5;249mn\u001b[0m\u001b[38;5;249mt\u001b[0m\u001b[38;5;249ml\u001b[0m\u001b[38;5;249mn\u001b[0m\u001b[38;5;249m!\u001b[0m\u001b[38;5;249m(\u001b[0m\u001b[38;5;249m\"\u001b[0m\u001b[38;5;249mT\u001b[0m\u001b[38;5;249mh\u001b[0m\u001b[38;5;249me\u001b[0m\u001b[38;5;249m \u001b[0m\u001b[38;5;249mf\u001b[0m\u001b[38;5;249mi\u001b[0m\u001b[38;5;249mr\u001b[0m\u001b[38;5;249ms\u001b[0m\u001b[38;5;249mt\u001b[0m\u001b[38;5;249m \u001b[0m\u001b[38;5;249me\u001b[0m\u001b[38;5;249ml\u001b[0m\u001b[38;5;249me\u001b[0m\u001b[38;5;249mm\u001b[0m\u001b[38;5;249me\u001b[0m\u001b[38;5;249mn\u001b[0m\u001b[38;5;249mt\u001b[0m\u001b[38;5;249m \u001b[0m\u001b[38;5;249mi\u001b[0m\u001b[38;5;249ms\u001b[0m\u001b[38;5;249m:\u001b[0m\u001b[38;5;249m \u001b[0m\u001b[38;5;68m{\u001b[0m\u001b[38;5;68mf\u001b[0m\u001b[38;5;68mi\u001b[0m\u001b[38;5;68mr\u001b[0m\u001b[38;5;68ms\u001b[0m\u001b[38;5;68mt\u001b[0m\u001b[38;5;68m}\u001b[0m\u001b[38;5;249m\"\u001b[0m\u001b[38;5;249m)\u001b[0m\u001b[38;5;249m;\u001b[0m",
      " \u001b[38;5;240m  │\u001b[0m                                     \u001b[38;5;68m─\u001b[0m\u001b[38;5;68m─\u001b[0m\u001b[38;5;68m─\u001b[0m\u001b[38;5;68m┬\u001b[0m\u001b[38;5;68m─\u001b[0m\u001b[38;5;68m─\u001b[0m\u001b[38;5;68m─\u001b[0m  ",
      " \u001b[38;5;240m  │\u001b[0m                                        \u001b[38;5;68m╰\u001b[0m\u001b[38;5;68m─\u001b[0m\u001b[38;5;68m─\u001b[0m\u001b[38;5;68m─\u001b[0m\u001b[38;5;68m─\u001b[0m\u001b[38;5;68m─\u001b[0m immutable borrow later used here",
      "\u001b[38;5;246m───╯\u001b[0m"
     ]
    }
   ],
   "source": [
    "fn main() {\n",
    "    let mut v = vec![1, 2, 3, 4, 5];\n",
    "    let first = &v[0];\n",
    "    v.push(6);\n",
    "    println!(\"The first element is: {first}\");\n",
    "}\n",
    "\n",
    "main()"
   ]
  },
  {
   "cell_type": "markdown",
   "metadata": {},
   "source": [
    "<span style=\"color:purple\">*This error is due to the way vectors work: because vectors put the values next to each other in memory, adding a new element onto the end of the vector might require allocating new memory and copying the old elements to the new space, if there isn’t enough room to put all the elements next to each other where the vector is currently stored. In that case, the reference to the first element would be pointing to deallocated memory. The borrowing rules prevent programs from ending up in that situation*</span>"
   ]
  },
  {
   "cell_type": "markdown",
   "metadata": {},
   "source": [
    "## Iterating over Vectors"
   ]
  },
  {
   "cell_type": "markdown",
   "metadata": {},
   "source": [
    "Using `for` loop with immutable references"
   ]
  },
  {
   "cell_type": "code",
   "execution_count": 32,
   "metadata": {
    "vscode": {
     "languageId": "rust"
    }
   },
   "outputs": [
    {
     "name": "stdout",
     "output_type": "stream",
     "text": [
      "100\n",
      "32\n",
      "57\n"
     ]
    },
    {
     "data": {
      "text/plain": [
       "()"
      ]
     },
     "execution_count": 32,
     "metadata": {},
     "output_type": "execute_result"
    }
   ],
   "source": [
    "let v = vec![100, 32, 57];\n",
    "for i in &v {\n",
    "    println!(\"{i}\");\n",
    "}"
   ]
  },
  {
   "cell_type": "markdown",
   "metadata": {},
   "source": [
    "Using `for` loop with mutable references to make changes"
   ]
  },
  {
   "cell_type": "code",
   "execution_count": 36,
   "metadata": {
    "vscode": {
     "languageId": "rust"
    }
   },
   "outputs": [
    {
     "name": "stdout",
     "output_type": "stream",
     "text": [
      "[150, 82, 107]\n"
     ]
    },
    {
     "data": {
      "text/plain": [
       "()"
      ]
     },
     "execution_count": 36,
     "metadata": {},
     "output_type": "execute_result"
    }
   ],
   "source": [
    "let mut v = vec![100, 32, 57];\n",
    "for i in &mut v {\n",
    "    *i += 50;\n",
    "}\n",
    "println!(\"{:?}\", v)"
   ]
  },
  {
   "cell_type": "markdown",
   "metadata": {},
   "source": [
    "> **📓 Note: Iterating and Ownership**  \n",
    "> *Iterating over a vector, whether immutably or mutably, is safe because of the borrow checker's rules. If we attempted to insert or remove items in the `for` loop bodies, we would get a compiler error. The reference to the vector that the `for` loop holds prevents simultaneous modification of the whole vector.*"
   ]
  },
  {
   "cell_type": "markdown",
   "metadata": {},
   "source": [
    "## Using an `Enum` to Store Multiple Types\n",
    "\n",
    "*Rust needs to know what types will be in the vector at compile time so it knows exactly how much memory on the heap will be needed to store each element. Using an enum plus a match expression means that Rust will ensure at compile time that every possible case is handled. If you don’t know the exhaustive set of types a program will get at runtime to store in a vector, the enum technique won’t work. Instead, you can use a trait object.*"
   ]
  },
  {
   "cell_type": "code",
   "execution_count": 44,
   "metadata": {
    "vscode": {
     "languageId": "rust"
    }
   },
   "outputs": [
    {
     "data": {
      "text/plain": [
       "()"
      ]
     },
     "execution_count": 44,
     "metadata": {},
     "output_type": "execute_result"
    }
   ],
   "source": [
    "fn main() {\n",
    "    #[derive(Debug)]\n",
    "    enum SpreadsheetCell {\n",
    "        Int(i32),\n",
    "        Float(f64),\n",
    "        Text(String),\n",
    "    }\n",
    "\n",
    "    let row = vec![\n",
    "        SpreadsheetCell::Int(3),\n",
    "        SpreadsheetCell::Text(String::from(\"blue\")),\n",
    "        SpreadsheetCell::Float(10.12),\n",
    "    ];\n",
    "}\n",
    "\n",
    "main()"
   ]
  },
  {
   "cell_type": "markdown",
   "metadata": {},
   "source": [
    "## Dropping a Vector Drops Its Elements\n",
    "\n",
    "Like any other `struct`, a vector is freed when it goes out of scope"
   ]
  },
  {
   "cell_type": "code",
   "execution_count": 49,
   "metadata": {
    "vscode": {
     "languageId": "rust"
    }
   },
   "outputs": [
    {
     "ename": "Error",
     "evalue": "cannot find value `v` in this scope",
     "output_type": "error",
     "traceback": [
      "\u001b[31m[E0425] Error:\u001b[0m cannot find value `v` in this scope",
      "   \u001b[38;5;246m╭\u001b[0m\u001b[38;5;246m─\u001b[0m\u001b[38;5;246m[\u001b[0mcommand_49:1:1\u001b[38;5;246m]\u001b[0m",
      "   \u001b[38;5;246m│\u001b[0m",
      " \u001b[38;5;246m3 │\u001b[0m \u001b[38;5;249m \u001b[0m\u001b[38;5;249m \u001b[0m\u001b[38;5;249m \u001b[0m\u001b[38;5;249m \u001b[0m\u001b[38;5;249m \u001b[0m\u001b[38;5;249m \u001b[0m\u001b[38;5;249m \u001b[0m\u001b[38;5;249m \u001b[0m\u001b[38;5;249ml\u001b[0m\u001b[38;5;249me\u001b[0m\u001b[38;5;249mt\u001b[0m\u001b[38;5;249m \u001b[0m\u001b[38;5;100mv\u001b[0m\u001b[38;5;249m \u001b[0m\u001b[38;5;249m=\u001b[0m\u001b[38;5;249m \u001b[0m\u001b[38;5;249mv\u001b[0m\u001b[38;5;249me\u001b[0m\u001b[38;5;249mc\u001b[0m\u001b[38;5;249m!\u001b[0m\u001b[38;5;249m[\u001b[0m\u001b[38;5;249m1\u001b[0m\u001b[38;5;249m,\u001b[0m\u001b[38;5;249m \u001b[0m\u001b[38;5;249m2\u001b[0m\u001b[38;5;249m,\u001b[0m\u001b[38;5;249m \u001b[0m\u001b[38;5;249m3\u001b[0m\u001b[38;5;249m,\u001b[0m\u001b[38;5;249m \u001b[0m\u001b[38;5;249m4\u001b[0m\u001b[38;5;249m]\u001b[0m\u001b[38;5;249m;\u001b[0m",
      " \u001b[38;5;240m  │\u001b[0m             \u001b[38;5;100m┬\u001b[0m  ",
      " \u001b[38;5;240m  │\u001b[0m             \u001b[38;5;100m╰\u001b[0m\u001b[38;5;100m─\u001b[0m\u001b[38;5;100m─\u001b[0m help: the binding `v` is available in a different scope in the same function",
      " \u001b[38;5;240m  │\u001b[0m ",
      " \u001b[38;5;246m6 │\u001b[0m \u001b[38;5;249m \u001b[0m\u001b[38;5;249m \u001b[0m\u001b[38;5;249m \u001b[0m\u001b[38;5;249m \u001b[0m\u001b[38;5;249mp\u001b[0m\u001b[38;5;249mr\u001b[0m\u001b[38;5;249mi\u001b[0m\u001b[38;5;249mn\u001b[0m\u001b[38;5;249mt\u001b[0m\u001b[38;5;249ml\u001b[0m\u001b[38;5;249mn\u001b[0m\u001b[38;5;249m!\u001b[0m\u001b[38;5;249m(\u001b[0m\u001b[38;5;249m\"\u001b[0m\u001b[38;5;249m{\u001b[0m\u001b[38;5;249m:\u001b[0m\u001b[38;5;249m?\u001b[0m\u001b[38;5;249m}\u001b[0m\u001b[38;5;249m\"\u001b[0m\u001b[38;5;249m,\u001b[0m\u001b[38;5;249m \u001b[0m\u001b[38;5;54mv\u001b[0m\u001b[38;5;249m)\u001b[0m\u001b[38;5;249m;\u001b[0m",
      " \u001b[38;5;240m  │\u001b[0m                      \u001b[38;5;54m┬\u001b[0m  ",
      " \u001b[38;5;240m  │\u001b[0m                      \u001b[38;5;54m╰\u001b[0m\u001b[38;5;54m─\u001b[0m\u001b[38;5;54m─\u001b[0m error: cannot find value `v` in this scope",
      "\u001b[38;5;246m───╯\u001b[0m"
     ]
    }
   ],
   "source": [
    "fn main() {\n",
    "    {\n",
    "        let v = vec![1, 2, 3, 4];\n",
    "        // do stuff with v\n",
    "    } // <- v goes out of scope and is freed here\n",
    "    println!(\"{:?}\", v);\n",
    "}"
   ]
  },
  {
   "cell_type": "markdown",
   "metadata": {},
   "source": [
    "# Strings: Storing UTF-8 Encoded Text\n",
    "\n",
    "We discuss strings in the context of collections because <span style=\"color:lightgreen\">*strings are implemented as a collection of bytes, together with some methods to provide useful functionality when those bytes are interpreted as text.*</span>\n",
    "\n",
    "In this section, we’ll talk about the operations on `String` that every collection type has, such as creating, updating, and reading. We’ll also discuss the ways in which `String` is different from the other collections, namely how indexing into a `String` is complicated by the differences between how people and computers interpret `String` data."
   ]
  },
  {
   "cell_type": "markdown",
   "metadata": {},
   "source": [
    "## String vs string slice\n",
    "Even though Rust's `String` and string slice (`str` which is usually seen in its borrowed form `&str`) are both UTF-8 encoded, they have some fundamental differences:\n",
    "- **Ownership**: `String` is an owned type with its own memory allocation, whereas `&str` is a borrowed reference to an existing string.\n",
    "- **Mutability**: `String` is mutable, while `&str` is an immutable reference.\n",
    "- **Memory Allocation**: `String` is heap-allocated, but `&str` could point to a portion of memory in various locations, including the stack (if it's a reference to a string literal) or the heap (if it's a reference to a part of `String`).\n",
    "- **Use Case**:\n",
    "    - Use `String` when you need to own and modify string data.\n",
    "    - Use `&str` when you just need to read or pass string data without taking ownership, which is more efficient, especially for function arguments."
   ]
  },
  {
   "cell_type": "markdown",
   "metadata": {},
   "source": [
    "## Creating a New `String`\n",
    "- Use `new()`\n",
    "- Use `to_string()` on types that implement the `Display` trait, e.g. string literals\n",
    "- Use `String::from`` to create a `String` from a string literal"
   ]
  },
  {
   "cell_type": "code",
   "execution_count": 55,
   "metadata": {
    "vscode": {
     "languageId": "rust"
    }
   },
   "outputs": [
    {
     "name": "stdout",
     "output_type": "stream",
     "text": [
      "\n"
     ]
    },
    {
     "name": "stdout",
     "output_type": "stream",
     "text": [
      "initial contents\n",
      "initial contents\n"
     ]
    }
   ],
   "source": [
    "let mut s = String::new();\n",
    "println!(\"{s}\");\n",
    "\n",
    "let s2 = \"initial contents\".to_string();\n",
    "println!(\"{s2}\");\n",
    "\n",
    "let s3 = String::from(\"initial contents\");\n",
    "println!(\"{s3}\");"
   ]
  },
  {
   "cell_type": "code",
   "execution_count": 57,
   "metadata": {
    "vscode": {
     "languageId": "rust"
    }
   },
   "outputs": [
    {
     "name": "stdout",
     "output_type": "stream",
     "text": [
      "안녕하세요\n"
     ]
    }
   ],
   "source": [
    "let hello = String::from(\"안녕하세요\");\n",
    "println!(\"{hello}\");"
   ]
  },
  {
   "cell_type": "markdown",
   "metadata": {},
   "source": [
    "## Updating a `String`"
   ]
  },
  {
   "cell_type": "markdown",
   "metadata": {},
   "source": [
    "### Appending to a `String` with `push_str` and `push`\n",
    "\n",
    "Note that `push_str` takes a string slice because we don’t necessarily want to take ownership of the parameter passed to it"
   ]
  },
  {
   "cell_type": "code",
   "execution_count": 60,
   "metadata": {
    "vscode": {
     "languageId": "rust"
    }
   },
   "outputs": [
    {
     "name": "stdout",
     "output_type": "stream",
     "text": [
      "we can still use s2, which is 'bar'\n"
     ]
    }
   ],
   "source": [
    "let mut s1 = String::from(\"foo\");\n",
    "let s2 = \"bar\";\n",
    "s1.push_str(s2);\n",
    "println!(\"we can still use s2, which is '{s2}'\");"
   ]
  },
  {
   "cell_type": "markdown",
   "metadata": {},
   "source": [
    "The `push` method takes a single character as a parameter and adds it to the `String`"
   ]
  },
  {
   "cell_type": "code",
   "execution_count": 67,
   "metadata": {
    "vscode": {
     "languageId": "rust"
    }
   },
   "outputs": [
    {
     "data": {
      "text/plain": [
       "\"lol\""
      ]
     },
     "execution_count": 67,
     "metadata": {},
     "output_type": "execute_result"
    }
   ],
   "source": [
    "let mut s = String::from(\"lo\");\n",
    "s.push('l');\n",
    "s"
   ]
  },
  {
   "cell_type": "markdown",
   "metadata": {},
   "source": [
    "### Concatenation with the `+` Operator or the `format!` Macro\n",
    "\n",
    "The `+` operator uses the `add` method, whose signature looks something like this \n",
    "```rust\n",
    "fn add(self, s: &str) -> String {\n",
    "```\n",
    "Hence we have to give a reference to the `String` after `+`"
   ]
  },
  {
   "cell_type": "code",
   "execution_count": 73,
   "metadata": {
    "vscode": {
     "languageId": "rust"
    }
   },
   "outputs": [
    {
     "data": {
      "text/plain": [
       "\"Hello, world!\""
      ]
     },
     "execution_count": 73,
     "metadata": {},
     "output_type": "execute_result"
    }
   ],
   "source": [
    "let s1 = String::from(\"Hello, \");\n",
    "let s2 = String::from(\"world!\");\n",
    "let s3 = s1 + &s2; // note s1 has been moved here and can no longer be used\n",
    "s3"
   ]
  },
  {
   "cell_type": "markdown",
   "metadata": {},
   "source": [
    "However, note that `&s2` is `&str`, not `&String` but the code above still compiles because <span style=\"color:lightgreen\">*the compiler can coerce the `&String` argument into a `&str`*</span>.  \n",
    "Also, add takes `self` as an argument, not `&self`, so it takes onwership of `self`"
   ]
  },
  {
   "cell_type": "markdown",
   "metadata": {},
   "source": [
    "Concatenating multiple strings with `+` works, but gets messy:"
   ]
  },
  {
   "cell_type": "code",
   "execution_count": 78,
   "metadata": {
    "vscode": {
     "languageId": "rust"
    }
   },
   "outputs": [
    {
     "data": {
      "text/plain": [
       "\"tic-tac-toe\""
      ]
     },
     "execution_count": 78,
     "metadata": {},
     "output_type": "execute_result"
    }
   ],
   "source": [
    "let s1 = String::from(\"tic\");\n",
    "let s2 = String::from(\"tac\");\n",
    "let s3 = String::from(\"toe\");\n",
    "\n",
    "let s = s1 + \"-\" + &s2 + \"-\" + &s3;  // s1 is moved here and can't be used\n",
    "s"
   ]
  },
  {
   "cell_type": "markdown",
   "metadata": {},
   "source": [
    "Hence we have the `format!` macro"
   ]
  },
  {
   "cell_type": "code",
   "execution_count": 82,
   "metadata": {
    "vscode": {
     "languageId": "rust"
    }
   },
   "outputs": [
    {
     "data": {
      "text/plain": [
       "\"toe\""
      ]
     },
     "execution_count": 82,
     "metadata": {},
     "output_type": "execute_result"
    }
   ],
   "source": [
    "let s1 = String::from(\"tic\");\n",
    "let s2 = String::from(\"tac\");\n",
    "let s3 = String::from(\"toe\");\n",
    "\n",
    "let s = format!(\"{s1}-{s2}-{s3}\");  // we can use s1, s2 and s3 after this"
   ]
  },
  {
   "cell_type": "markdown",
   "metadata": {},
   "source": [
    "The `format!` macro uses references so that it doesn’t take ownership of any of its parameters."
   ]
  },
  {
   "cell_type": "markdown",
   "metadata": {},
   "source": [
    "## Indexing into `String`s\n",
    "\n",
    "<span style=\"color:orange\">*In many other programming languages, accessing individual characters in a string by referencing them by index is a valid and common operation. However, **if you try to access parts of a String using indexing syntax in Rust, you’ll get an error**.*</span>"
   ]
  },
  {
   "cell_type": "code",
   "execution_count": 83,
   "metadata": {
    "vscode": {
     "languageId": "rust"
    }
   },
   "outputs": [
    {
     "ename": "Error",
     "evalue": "consider importing one of these items",
     "output_type": "error",
     "traceback": [
      "\u001b[31mError:\u001b[0m consider importing one of these items"
     ]
    },
    {
     "ename": "Error",
     "evalue": "the type `String` cannot be indexed by `{integer}`",
     "output_type": "error",
     "traceback": [
      "\u001b[31m[E0277] Error:\u001b[0m the type `String` cannot be indexed by `{integer}`",
      "   \u001b[38;5;246m╭\u001b[0m\u001b[38;5;246m─\u001b[0m\u001b[38;5;246m[\u001b[0mcommand_83:1:1\u001b[38;5;246m]\u001b[0m",
      "   \u001b[38;5;246m│\u001b[0m",
      " \u001b[38;5;246m2 │\u001b[0m \u001b[38;5;249ml\u001b[0m\u001b[38;5;249me\u001b[0m\u001b[38;5;249mt\u001b[0m\u001b[38;5;249m \u001b[0m\u001b[38;5;249mh\u001b[0m\u001b[38;5;249m \u001b[0m\u001b[38;5;249m=\u001b[0m\u001b[38;5;249m \u001b[0m\u001b[38;5;54ms\u001b[0m\u001b[38;5;54m1\u001b[0m\u001b[38;5;54m[\u001b[0m\u001b[38;5;54m0\u001b[0m\u001b[38;5;54m]\u001b[0m\u001b[38;5;249m;\u001b[0m",
      " \u001b[38;5;240m  │\u001b[0m         \u001b[38;5;54m─\u001b[0m\u001b[38;5;54m─\u001b[0m\u001b[38;5;54m┬\u001b[0m\u001b[38;5;54m─\u001b[0m\u001b[38;5;54m─\u001b[0m  ",
      " \u001b[38;5;240m  │\u001b[0m           \u001b[38;5;54m╰\u001b[0m\u001b[38;5;54m─\u001b[0m\u001b[38;5;54m─\u001b[0m\u001b[38;5;54m─\u001b[0m\u001b[38;5;54m─\u001b[0m `String` cannot be indexed by `{integer}`",
      "\u001b[38;5;246m───╯\u001b[0m"
     ]
    }
   ],
   "source": [
    "let s1 = String::from(\"hello\");\n",
    "let h = s1[0];"
   ]
  },
  {
   "cell_type": "markdown",
   "metadata": {},
   "source": [
    "The error and the note tell the story: Rust strings don’t support indexing. But why not? To answer that question, we need to discuss how Rust stores strings in memory"
   ]
  },
  {
   "cell_type": "markdown",
   "metadata": {},
   "source": [
    "### Internal `String` Representation\n",
    "\n",
    "<span style=\"color:skyblue\">***A `String` is a wrapper over a `Vec<u8>`***</span>\n",
    "\n",
    "For example\n",
    "```rust\n",
    "let hello1 = String::from(\"Hola\");\n",
    "```\n",
    "*In this case, `hello1`'s len will be 4, which means the vector storing the string “Hola” is 4 bytes long. Each of these letters takes 1 byte when encoded in UTF-8.* However,\n",
    "```rust\n",
    "let hello2 = String::from(\"Здра\");\n",
    "```\n",
    "*However, `hello2`'s len will be 8, since each Unicode scalar value in `hello2` takes 2 bytes of storage.*\n",
    "\n",
    "<span style=\"color:orange\">***Therefore, an index into the string’s bytes will not always correlate to a valid Unicode scalar value.***</span>"
   ]
  },
  {
   "cell_type": "markdown",
   "metadata": {},
   "source": [
    "### Bytes and Scalar Values and Grapheme Clusters! Oh My!"
   ]
  },
  {
   "cell_type": "markdown",
   "metadata": {},
   "source": [
    "Another point about UTF-8 is that there are actually three relevant ways to look at strings from Rust’s perspective: as bytes, scalar values, and grapheme clusters (the closest thing to what we would call letters).\n",
    "\n",
    "For example, the नमस्ते word in Hindi can be seen as\n",
    "1. A vector of `u8` value: `[224, 164, 168, 224, 164, 174, 224, 164, 184, 224, 165, 141, 224, 164, 164, 224, 165, 135]`\n",
    "2. Scalar values (Rust's `char`): `['न', 'म', 'स', '्', 'त', 'े']` where the 4th and 6th chars are diacritics\n",
    "3. As grapheme clusters: `[\"न\", \"म\", \"स्\", \"ते\"]`\n",
    "\n",
    "<span style=\"color:lightgreen\">*Rust provides different ways of interpreting the raw string data that computers store so that each program can choose the interpretation it needs, no matter what human language the data is in.*</span>\n",
    "\n",
    "<span style=\"color:skyblue\">*A final reason for Rust not support String indexing is because Rust would have to walk through the contents from the beginning to the index of a `String` to determine how many valid characters there were, indexing is not guaranteed to be `O(1)` as expected of the operation.*</span>"
   ]
  },
  {
   "cell_type": "markdown",
   "metadata": {},
   "source": [
    "### Slicing `String`s\n",
    "\n",
    "Rather than indexing using `[]` with a single number, you can use `[]` with a `range` to create **a string slice containing particular bytes**"
   ]
  },
  {
   "cell_type": "code",
   "execution_count": 91,
   "metadata": {
    "vscode": {
     "languageId": "rust"
    }
   },
   "outputs": [
    {
     "name": "stdout",
     "output_type": "stream",
     "text": [
      "s = Здра\n",
      "s2 = Hola\n"
     ]
    }
   ],
   "source": [
    "let hello = \"Здравствуйте\";\n",
    "let hello2 = \"Hola\";\n",
    "\n",
    "let s = &hello[0..8];  // get the first 8 bytes\n",
    "let s2 = &hello2[0..4];  // get the first 4 bytes\n",
    "\n",
    "println!(\"s = {s}\");\n",
    "println!(\"s2 = {s2}\");"
   ]
  },
  {
   "cell_type": "markdown",
   "metadata": {},
   "source": [
    "We can't slice only part of a character’s bytes with something like `&hello[0..1]`, since each Unicode scalar in `hello = \"Здравствуйте\"` takes 2 bytes"
   ]
  },
  {
   "cell_type": "code",
   "execution_count": 96,
   "metadata": {
    "vscode": {
     "languageId": "rust"
    }
   },
   "outputs": [
    {
     "name": "stderr",
     "output_type": "stream",
     "text": [
      "thread '<unnamed>' panicked at src/lib.rs:121:15:\n",
      "byte index 1 is not a char boundary; it is inside 'З' (bytes 0..2) of `Здравствуйте`\n",
      "stack backtrace:\n",
      "   0: rust_begin_unwind\n",
      "             at /rustc/a28077b28a02b92985b3a3faecf92813155f1ea1/library/std/src/panicking.rs:597:5\n",
      "   1: core::panicking::panic_fmt\n",
      "             at /rustc/a28077b28a02b92985b3a3faecf92813155f1ea1/library/core/src/panicking.rs:72:14\n",
      "   2: core::str::slice_error_fail_rt\n",
      "   3: core::str::slice_error_fail\n",
      "             at /rustc/a28077b28a02b92985b3a3faecf92813155f1ea1/library/core/src/str/mod.rs:87:9\n",
      "   4: <unknown>\n",
      "   5: evcxr::runtime::Runtime::run_loop\n",
      "   6: evcxr::runtime::runtime_hook\n",
      "   7: evcxr_jupyter::main\n",
      "note: Some details are omitted, run with `RUST_BACKTRACE=full` for a verbose backtrace.\n"
     ]
    }
   ],
   "source": [
    "let s = &hello[0..1];"
   ]
  },
  {
   "cell_type": "markdown",
   "metadata": {},
   "source": [
    "However, this works with `hello2` since each Unicode scalar in `hello2` takes 1 bytes"
   ]
  },
  {
   "cell_type": "code",
   "execution_count": 95,
   "metadata": {
    "vscode": {
     "languageId": "rust"
    }
   },
   "outputs": [
    {
     "data": {
      "text/plain": [
       "\"H\""
      ]
     },
     "execution_count": 95,
     "metadata": {},
     "output_type": "execute_result"
    }
   ],
   "source": [
    "let s2 = &hello2[0..1];\n",
    "s2"
   ]
  },
  {
   "cell_type": "markdown",
   "metadata": {},
   "source": [
    "## Iterating Over Strings\n",
    "\n",
    "<span style=\"color:purple\">***The best way to operate on pieces of strings is to be explicit about whether you want characters or bytes.***</span>"
   ]
  },
  {
   "cell_type": "code",
   "execution_count": 97,
   "metadata": {
    "vscode": {
     "languageId": "rust"
    }
   },
   "outputs": [
    {
     "name": "stdout",
     "output_type": "stream",
     "text": [
      "З\n",
      "д\n"
     ]
    },
    {
     "data": {
      "text/plain": [
       "()"
      ]
     },
     "execution_count": 97,
     "metadata": {},
     "output_type": "execute_result"
    }
   ],
   "source": [
    "for c in \"Зд\".chars() {  // only print 2 chars\n",
    "    println!(\"{c}\");\n",
    "}"
   ]
  },
  {
   "cell_type": "code",
   "execution_count": 98,
   "metadata": {
    "vscode": {
     "languageId": "rust"
    }
   },
   "outputs": [
    {
     "name": "stdout",
     "output_type": "stream",
     "text": [
      "208\n",
      "151\n",
      "208\n",
      "180\n"
     ]
    },
    {
     "data": {
      "text/plain": [
       "()"
      ]
     },
     "execution_count": 98,
     "metadata": {},
     "output_type": "execute_result"
    }
   ],
   "source": [
    "for b in \"Зд\".bytes() {  // will print 4 bytes\n",
    "    println!(\"{b}\");\n",
    "}"
   ]
  },
  {
   "cell_type": "markdown",
   "metadata": {},
   "source": [
    "## Strings Are Not Simple\n",
    "\n",
    "*To summarize, strings are complicated. Different programming languages make different choices about how to present this complexity to the programmer. Rust has chosen to make the correct handling of String data the default behavior for all Rust programs, which means programmers have to put more thought into handling UTF-8 data upfront.*"
   ]
  },
  {
   "cell_type": "markdown",
   "metadata": {},
   "source": [
    "# `HashMap`s: Storing Keys with Associated Values"
   ]
  },
  {
   "cell_type": "markdown",
   "metadata": {},
   "source": []
  }
 ],
 "metadata": {
  "kernelspec": {
   "display_name": "Rust",
   "language": "rust",
   "name": "rust"
  },
  "language_info": {
   "codemirror_mode": "rust",
   "file_extension": ".rs",
   "mimetype": "text/rust",
   "name": "Rust",
   "pygment_lexer": "rust",
   "version": ""
  }
 },
 "nbformat": 4,
 "nbformat_minor": 2
}
