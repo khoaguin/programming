{
 "cells": [
  {
   "cell_type": "markdown",
   "metadata": {},
   "source": [
    "# Introduction\n",
    "In this chapter, we will learn\n",
    "- Enums: allow you to define a type by enumerating its possible variants\n",
    "- `Option` enum: a very useful enum which expresses that a value can be either something or nothing.\n",
    "- Patterns matching with `match`\n",
    "- Enum control flow using `if let`"
   ]
  },
  {
   "cell_type": "markdown",
   "metadata": {},
   "source": [
    "# Defining an Enum\n",
    "\n",
    "<span style=\"color:lightgreen\">***Where structs give you a way of grouping together related fields and data, like a `Rectangle` with its `width` and `height`, enums give you a way of saying a value is one of a possible set of values.***</span>"
   ]
  },
  {
   "cell_type": "markdown",
   "metadata": {},
   "source": [
    "\n",
    "Example: Let's make a small program to represent IP addresses. Any IP address can be either a version 4 or a version 6 address, but not both at the same time. Both versions are still fundamentally IP addresses and should be treated as the same type when the code is handling situations that apply to any kind of IP address."
   ]
  },
  {
   "cell_type": "code",
   "execution_count": 6,
   "metadata": {
    "vscode": {
     "languageId": "rust"
    }
   },
   "outputs": [
    {
     "name": "stdout",
     "output_type": "stream",
     "text": [
      "We are routing using IP V4\n",
      "We are routing using IP V6\n"
     ]
    },
    {
     "data": {
      "text/plain": [
       "()"
      ]
     },
     "execution_count": 6,
     "metadata": {},
     "output_type": "execute_result"
    }
   ],
   "source": [
    "#[derive(Debug)]\n",
    "enum IpAddrKind {\n",
    "    V4,\n",
    "    V6,\n",
    "}\n",
    "\n",
    "fn main() {\n",
    "    let four = IpAddrKind::V4;\n",
    "    let six = IpAddrKind::V6;\n",
    "\n",
    "    route(IpAddrKind::V4);\n",
    "    route(IpAddrKind::V6);\n",
    "}\n",
    "\n",
    "fn route(ip_kind: IpAddrKind) {\n",
    "    println!(\"We are routing using IP {:?}\", ip_kind);\n",
    "}\n",
    "\n",
    "main()"
   ]
  },
  {
   "cell_type": "markdown",
   "metadata": {},
   "source": [
    "We can put data directly into each enum variant."
   ]
  },
  {
   "cell_type": "code",
   "execution_count": 17,
   "metadata": {
    "vscode": {
     "languageId": "rust"
    }
   },
   "outputs": [
    {
     "name": "stdout",
     "output_type": "stream",
     "text": [
      "V4(\"127.0.0.1\")\n",
      "V6(\"::1\")\n"
     ]
    }
   ],
   "source": [
    "#[derive(Debug)]\n",
    "enum IpAddr {\n",
    "    V4(String),\n",
    "    V6(String),\n",
    "}\n",
    "\n",
    "let home = IpAddr::V4(String::from(\"127.0.0.1\"));\n",
    "let loopback = IpAddr::V6(String::from(\"::1\"));\n",
    "println!(\"{:?}\", home);\n",
    "println!(\"{:?}\", loopback);"
   ]
  },
  {
   "cell_type": "markdown",
   "metadata": {},
   "source": [
    "<span style=\"color:lightgreen\">*There’s another advantage to using an enum rather than a struct: each variant can have different types and amounts of associated data.*</span>"
   ]
  },
  {
   "cell_type": "code",
   "execution_count": 19,
   "metadata": {
    "vscode": {
     "languageId": "rust"
    }
   },
   "outputs": [
    {
     "name": "stdout",
     "output_type": "stream",
     "text": [
      "V4(127, 0, 0, 100)\n",
      "V6(\"::2\")\n"
     ]
    }
   ],
   "source": [
    "#[derive(Debug)]\n",
    "enum IpAddr {\n",
    "    V4(u8, u8, u8, u8),\n",
    "    V6(String),\n",
    "}\n",
    "\n",
    "let home = IpAddr::V4(127, 0, 0, 100);\n",
    "\n",
    "let loopback = IpAddr::V6(String::from(\"::2\"));\n",
    "println!(\"{:?}\", home);\n",
    "println!(\"{:?}\", loopback);"
   ]
  },
  {
   "cell_type": "markdown",
   "metadata": {},
   "source": [
    "<span style=\"color:skyblue\">***You can put any kind of data inside an enum variant: strings, numeric types, or structs, for example. You can even include another enum!***</span>"
   ]
  },
  {
   "cell_type": "markdown",
   "metadata": {},
   "source": [
    "Another example to illustrate enum vs structs"
   ]
  },
  {
   "cell_type": "code",
   "execution_count": 20,
   "metadata": {
    "vscode": {
     "languageId": "rust"
    }
   },
   "outputs": [],
   "source": [
    "enum Message {\n",
    "    Quit,  // Quit has no data associated with it at all.\n",
    "    Move { x: i32, y: i32 },  // Move has named fields, like a struct does.\n",
    "    Write(String),  // Write includes a single String.\n",
    "    ChangeColor(i32, i32, i32),  // ChangeColor includes three i32 values.\n",
    "}\n",
    "\n",
    "// we can define structs to hold similar data\n",
    "struct QuitMessage; // unit struct\n",
    "struct MoveMessage { x: i32, y: i32, }  // named fields struct\n",
    "struct WriteMessage(String); // tuple struct\n",
    "struct ChangeColorMessage(i32, i32, i32); // tuple struct\n"
   ]
  },
  {
   "cell_type": "markdown",
   "metadata": {},
   "source": [
    "### Methods on Enums Using `impl`"
   ]
  },
  {
   "cell_type": "code",
   "execution_count": 21,
   "metadata": {
    "vscode": {
     "languageId": "rust"
    }
   },
   "outputs": [],
   "source": [
    "impl Message {\n",
    "    fn call(&self) {\n",
    "        // method body would be defined here\n",
    "    }\n",
    "}\n",
    "\n",
    "let m = Message::Write(String::from(\"hello\"));\n",
    "m.call();\n"
   ]
  },
  {
   "cell_type": "markdown",
   "metadata": {},
   "source": [
    "## The `Option` Enum and Its Advantages Over Null Values\n",
    "\n",
    "The `Option` enum belongs to the standard library and <span style=\"color:lightgreen\">*encodes the very common scenario in which a value could be something or it could be nothing.*</span> For example, if you request the first item in a non-empty list, you would get a value. If you request the first item in an empty list, you would get nothing.\n",
    "\n",
    "<span style=\"color:lightgreen\">*`Null` is a value that means there is no value there. Rust doesn’t have the null feature that many other languages have, since it has led to innumerable errors, vulnerabilities, and system crashes, which have probably caused a billion dollars of pain and damage in the last forty years.*</span>\n",
    "\n",
    "<span style=\"color:orange\">*The problem with null values is that if you try to use a null value as a not-null value, you’ll get an error of some kind. Because this null or not-null property is pervasive, it’s extremely easy to make this kind of error.*</span>\n",
    "\n",
    "Rust does not have Null, but it has the `Option<T>` enum in the prelude, as also its variants (`Some` and `None`). You can use them directly without the `Option::` prefix\n",
    "```rust\n",
    "enum Option<T> {\n",
    "    None,\n",
    "    Some(T),\n",
    "}\n",
    "```"
   ]
  },
  {
   "cell_type": "code",
   "execution_count": 4,
   "metadata": {
    "vscode": {
     "languageId": "rust"
    }
   },
   "outputs": [
    {
     "name": "stdout",
     "output_type": "stream",
     "text": [
      "Some('e')\n",
      "Some(5)\n",
      "None\n"
     ]
    }
   ],
   "source": [
    "let some_number: Option<i32> = Some(5);\n",
    "let some_char: Option<char> = Some('e');\n",
    "\n",
    "let absent_number: Option<i32> = None;\n",
    "\n",
    "println!(\"{:?}\", some_char);\n",
    "println!(\"{:?}\", some_number);\n",
    "println!(\"{:?}\", absent_number);"
   ]
  },
  {
   "cell_type": "markdown",
   "metadata": {},
   "source": [
    "### Why `Option<T>` is better than `Null`?\n",
    "\n",
    "<span style=\"color:lightgreen\">***When we have a `Some` value, we know that a value is present and the value is held within the `Some`. When we have a `None` value, in some sense it means the same thing as null: we don’t have a valid value. So why is having `Option<T>` any better than having null? In short, because `Option<T>` and `T` (where `T` can be any type) are different types, the compiler won’t let us use an `Option<T>` value as if it were definitely a valid value.***</span>\n",
    "\n",
    "The code below won't work:"
   ]
  },
  {
   "cell_type": "code",
   "execution_count": 5,
   "metadata": {
    "vscode": {
     "languageId": "rust"
    }
   },
   "outputs": [
    {
     "ename": "Error",
     "evalue": "cannot add `Option<i8>` to `i8`",
     "output_type": "error",
     "traceback": [
      "\u001b[31m[E0277] Error:\u001b[0m cannot add `Option<i8>` to `i8`",
      "   \u001b[38;5;246m╭\u001b[0m\u001b[38;5;246m─\u001b[0m\u001b[38;5;246m[\u001b[0mcommand_5:1:1\u001b[38;5;246m]\u001b[0m",
      "   \u001b[38;5;246m│\u001b[0m",
      " \u001b[38;5;246m4 │\u001b[0m \u001b[38;5;249ml\u001b[0m\u001b[38;5;249me\u001b[0m\u001b[38;5;249mt\u001b[0m\u001b[38;5;249m \u001b[0m\u001b[38;5;249ms\u001b[0m\u001b[38;5;249mu\u001b[0m\u001b[38;5;249mm\u001b[0m\u001b[38;5;249m \u001b[0m\u001b[38;5;249m=\u001b[0m\u001b[38;5;249m \u001b[0m\u001b[38;5;249mx\u001b[0m\u001b[38;5;249m \u001b[0m\u001b[38;5;54m+\u001b[0m\u001b[38;5;249m \u001b[0m\u001b[38;5;249my\u001b[0m\u001b[38;5;249m;\u001b[0m",
      " \u001b[38;5;240m  │\u001b[0m             \u001b[38;5;54m┬\u001b[0m  ",
      " \u001b[38;5;240m  │\u001b[0m             \u001b[38;5;54m╰\u001b[0m\u001b[38;5;54m─\u001b[0m\u001b[38;5;54m─\u001b[0m no implementation for `i8 + Option<i8>`",
      "\u001b[38;5;246m───╯\u001b[0m"
     ]
    }
   ],
   "source": [
    "let x: i8 = 5;\n",
    "let y: Option<i8> = Some(5);\n",
    "\n",
    "let sum = x + y;\n"
   ]
  },
  {
   "cell_type": "markdown",
   "metadata": {},
   "source": [
    "When we have a value of a type like `i8` in Rust, the compiler will ensure that we always have a valid value. We can proceed confidently without having to check for null before using that value. When we have an `Option<T>`, we have to convert an `Option<T>` to a `T` before you can perform `T` operations with it. Generally, this helps catch one of the most common issues with null: assuming that something isn’t null when it actually is. <span style=\"color:lightgreen\">*In order to have a value that can possibly be null, you must explicitly opt in by making the type of that value `Option<T>`. Then, when you use that value, you are required to explicitly handle the case when the value is null.*</span>"
   ]
  },
  {
   "cell_type": "markdown",
   "metadata": {},
   "source": [
    "# The `match` Control Flow Construct\n",
    "<span style=\"color:lightgreen\">***Rust has an extremely powerful control flow construct called `match` that allows you to compare a value against a series of patterns and then execute code based on which pattern matches***</span>. Patterns can be made up of literal values, variable names, wildcards, and many other things;"
   ]
  },
  {
   "cell_type": "code",
   "execution_count": 17,
   "metadata": {
    "vscode": {
     "languageId": "rust"
    }
   },
   "outputs": [
    {
     "name": "stdout",
     "output_type": "stream",
     "text": [
      "Lucky penny!\n"
     ]
    },
    {
     "name": "stderr",
     "output_type": "stream",
     "text": [
      "[src/lib.rs:124] penny_value = 1\n"
     ]
    }
   ],
   "source": [
    "enum Coin {\n",
    "    Penny,\n",
    "    Nickel,\n",
    "    Dime,\n",
    "    Quarter,\n",
    "}\n",
    "\n",
    "fn value_in_cents(coin: Coin) -> u8 {\n",
    "    match coin {\n",
    "        Coin::Penny => {  \n",
    "            println!(\"Lucky penny!\");\n",
    "            1  // The code associated with each arm is an expression\n",
    "        }\n",
    "        Coin::Nickel => 5,\n",
    "        Coin::Dime => 10,\n",
    "        Coin::Quarter => 25,\n",
    "    }\n",
    "}\n",
    "\n",
    "let penny = Coin::Penny; \n",
    "let penny_value = value_in_cents(penny);\n",
    "dbg!(penny_value);"
   ]
  },
  {
   "cell_type": "markdown",
   "metadata": {},
   "source": [
    "## Patterns That Bind to Values\n",
    "Another useful feature of match arms is that they can bind to the parts of the values that match the pattern. This is how we can extract values out of enum variants."
   ]
  },
  {
   "cell_type": "code",
   "execution_count": 18,
   "metadata": {
    "vscode": {
     "languageId": "rust"
    }
   },
   "outputs": [
    {
     "name": "stdout",
     "output_type": "stream",
     "text": [
      "State quarter from Alaska!\n"
     ]
    },
    {
     "data": {
      "text/plain": [
       "()"
      ]
     },
     "execution_count": 18,
     "metadata": {},
     "output_type": "execute_result"
    }
   ],
   "source": [
    "#[derive(Debug)]\n",
    "enum UsState {\n",
    "    Alabama,\n",
    "    Alaska,\n",
    "    // --snip--\n",
    "}\n",
    "\n",
    "enum Coin {\n",
    "    Penny,\n",
    "    Nickel,\n",
    "    Dime,\n",
    "    Quarter(UsState), // When a Coin::Quarter matches, the state variable will bind to the value of that quarter’s state\n",
    "}\n",
    "\n",
    "fn value_in_cents(coin: Coin) -> u8 {\n",
    "    match coin {\n",
    "        Coin::Penny => 1,\n",
    "        Coin::Nickel => 5,\n",
    "        Coin::Dime => 10,\n",
    "        Coin::Quarter(state) => {\n",
    "            println!(\"State quarter from {:?}!\", state);\n",
    "            25\n",
    "        }\n",
    "    }\n",
    "}\n",
    "\n",
    "fn main() {\n",
    "    value_in_cents(Coin::Quarter(UsState::Alaska));\n",
    "}\n",
    "\n",
    "main()"
   ]
  },
  {
   "cell_type": "markdown",
   "metadata": {},
   "source": [
    "## Matching with `Option<T>`"
   ]
  },
  {
   "cell_type": "code",
   "execution_count": 24,
   "metadata": {
    "vscode": {
     "languageId": "rust"
    }
   },
   "outputs": [
    {
     "name": "stderr",
     "output_type": "stream",
     "text": [
      "[src/lib.rs:146] six = Some(\n",
      "    6,\n",
      ")\n",
      "[src/lib.rs:147] none = None\n"
     ]
    }
   ],
   "source": [
    "fn plus_one(x: Option<i32>) -> Option<i32> {\n",
    "    match x {\n",
    "        None => None,\n",
    "        Some(i) => Some(i + 1),\n",
    "    }\n",
    "}\n",
    "\n",
    "let six = plus_one(Some(5));\n",
    "let none = plus_one(None);\n",
    "dbg!(six);\n",
    "dbg!(none);"
   ]
  },
  {
   "cell_type": "markdown",
   "metadata": {},
   "source": [
    "> **Note: Using `match`**\n",
    "> \n",
    "> You’ll see this pattern a lot in Rust code: <span style=\"color:skyblue\">***`match` against an `enum`, bind a variable to the data inside, and then execute code based on it***</span>. It’s a bit tricky at first, but once you get used to it, you’ll wish you had it in all languages. It’s consistently a user favorite."
   ]
  },
  {
   "cell_type": "markdown",
   "metadata": {},
   "source": [
    "## Matches Are Exhaustive\n",
    "\n",
    "<span style=\"color:orange\">***March arms’ patterns must cover all possibilities***</span>\n",
    "\n",
    "The following code fails as it does not cover all possibilities:"
   ]
  },
  {
   "cell_type": "code",
   "execution_count": 26,
   "metadata": {
    "vscode": {
     "languageId": "rust"
    }
   },
   "outputs": [
    {
     "ename": "Error",
     "evalue": "non-exhaustive patterns: `None` not covered",
     "output_type": "error",
     "traceback": [
      "\u001b[31m[E0004] Error:\u001b[0m non-exhaustive patterns: `None` not covered",
      "   \u001b[38;5;246m╭\u001b[0m\u001b[38;5;246m─\u001b[0m\u001b[38;5;246m[\u001b[0mcommand_26:1:1\u001b[38;5;246m]\u001b[0m",
      "   \u001b[38;5;246m│\u001b[0m",
      " \u001b[38;5;246m2 │\u001b[0m \u001b[38;5;249m \u001b[0m\u001b[38;5;249m \u001b[0m\u001b[38;5;249m \u001b[0m\u001b[38;5;249m \u001b[0m\u001b[38;5;249mm\u001b[0m\u001b[38;5;249ma\u001b[0m\u001b[38;5;249mt\u001b[0m\u001b[38;5;249mc\u001b[0m\u001b[38;5;249mh\u001b[0m\u001b[38;5;249m \u001b[0m\u001b[38;5;54mx\u001b[0m\u001b[38;5;249m \u001b[0m\u001b[38;5;249m{\u001b[0m",
      " \u001b[38;5;240m  │\u001b[0m           \u001b[38;5;54m┬\u001b[0m  ",
      " \u001b[38;5;240m  │\u001b[0m           \u001b[38;5;54m╰\u001b[0m\u001b[38;5;54m─\u001b[0m\u001b[38;5;54m─\u001b[0m pattern `None` not covered",
      " \u001b[38;5;246m3 │\u001b[0m \u001b[38;5;249m \u001b[0m\u001b[38;5;249m \u001b[0m\u001b[38;5;249m \u001b[0m\u001b[38;5;249m \u001b[0m\u001b[38;5;249m \u001b[0m\u001b[38;5;249m \u001b[0m\u001b[38;5;249m \u001b[0m\u001b[38;5;249m \u001b[0m\u001b[38;5;249mS\u001b[0m\u001b[38;5;249mo\u001b[0m\u001b[38;5;249mm\u001b[0m\u001b[38;5;249me\u001b[0m\u001b[38;5;249m(\u001b[0m\u001b[38;5;249mi\u001b[0m\u001b[38;5;249m)\u001b[0m\u001b[38;5;249m \u001b[0m\u001b[38;5;249m=\u001b[0m\u001b[38;5;249m>\u001b[0m\u001b[38;5;249m \u001b[0m\u001b[38;5;249mS\u001b[0m\u001b[38;5;249mo\u001b[0m\u001b[38;5;249mm\u001b[0m\u001b[38;5;249me\u001b[0m\u001b[38;5;249m(\u001b[0m\u001b[38;5;249mi\u001b[0m\u001b[38;5;249m \u001b[0m\u001b[38;5;249m+\u001b[0m\u001b[38;5;249m \u001b[0m\u001b[38;5;249m1\u001b[0m\u001b[38;5;249m)\u001b[0m\u001b[38;5;249m,\u001b[0m",
      " \u001b[38;5;240m  │\u001b[0m                               \u001b[38;5;100m│\u001b[0m ",
      " \u001b[38;5;240m  │\u001b[0m                               \u001b[38;5;100m╰\u001b[0m\u001b[38;5;100m─\u001b[0m help: ensure that all possible cases are being handled by adding a match arm with a wildcard pattern or an explicit pattern as shown: `,",
      "        None => todo!()`",
      "\u001b[38;5;246m───╯\u001b[0m"
     ]
    }
   ],
   "source": [
    "fn plus_one(x: Option<i32>) -> Option<i32> {\n",
    "    match x {\n",
    "        Some(i) => Some(i + 1),\n",
    "        // we forgot the None case here\n",
    "    }\n",
    "}"
   ]
  },
  {
   "cell_type": "markdown",
   "metadata": {},
   "source": [
    "## Catch-all Patterns and the `_` Placeholder\n",
    "\n",
    "- We use `other` in `match` to cover every other possible value"
   ]
  },
  {
   "cell_type": "code",
   "execution_count": 31,
   "metadata": {
    "vscode": {
     "languageId": "rust"
    }
   },
   "outputs": [
    {
     "name": "stdout",
     "output_type": "stream",
     "text": [
      "moving player since dice roll is 9\n"
     ]
    },
    {
     "data": {
      "text/plain": [
       "()"
      ]
     },
     "execution_count": 31,
     "metadata": {},
     "output_type": "execute_result"
    }
   ],
   "source": [
    "fn main() {\n",
    "    let dice_roll = 9;\n",
    "    match dice_roll {\n",
    "        3 => add_fancy_hat(),\n",
    "        7 => remove_fancy_hat(),\n",
    "        other => move_player(other),\n",
    "    }\n",
    "\n",
    "    fn add_fancy_hat() {}\n",
    "    fn remove_fancy_hat() {}\n",
    "    fn move_player(dr: u8) {println!(\"moving player since dice roll is {}\", dr)}\n",
    "}\n",
    "main()"
   ]
  },
  {
   "cell_type": "markdown",
   "metadata": {},
   "source": [
    "- We use as `_` to match any value and don't bind to that value"
   ]
  },
  {
   "cell_type": "code",
   "execution_count": 35,
   "metadata": {
    "vscode": {
     "languageId": "rust"
    }
   },
   "outputs": [],
   "source": [
    "let dice_roll = 9;\n",
    "match dice_roll {\n",
    "    3 => add_fancy_hat(),\n",
    "    7 => remove_fancy_hat(),\n",
    "    _ => reroll(),  // pass if the value does not match\n",
    "}\n",
    "\n",
    "fn add_fancy_hat() {}\n",
    "fn remove_fancy_hat() {}\n",
    "fn reroll() {}"
   ]
  },
  {
   "cell_type": "markdown",
   "metadata": {},
   "source": [
    "# Concise Control Flow with `if let`\n",
    "\n",
    "<span style=\"color:lightgreen\">*`if let` is a syntax sugar for a `match` that runs code when the value matches one pattern and then ignores all other values.*</span>\n",
    "\n",
    "Intead of consistently writing the `_ => ()` and `match` as in"
   ]
  },
  {
   "cell_type": "code",
   "execution_count": 37,
   "metadata": {
    "vscode": {
     "languageId": "rust"
    }
   },
   "outputs": [
    {
     "name": "stdout",
     "output_type": "stream",
     "text": [
      "The maximum is configured to be 3\n"
     ]
    },
    {
     "data": {
      "text/plain": [
       "()"
      ]
     },
     "execution_count": 37,
     "metadata": {},
     "output_type": "execute_result"
    }
   ],
   "source": [
    "let config_max = Some(3u8);\n",
    "match config_max {\n",
    "    Some(max) => println!(\"The maximum is configured to be {}\", max),\n",
    "    _ => (),\n",
    "}"
   ]
  },
  {
   "cell_type": "markdown",
   "metadata": {},
   "source": [
    "we can use `if let` to achieve the same thing:"
   ]
  },
  {
   "cell_type": "code",
   "execution_count": 38,
   "metadata": {
    "vscode": {
     "languageId": "rust"
    }
   },
   "outputs": [
    {
     "name": "stdout",
     "output_type": "stream",
     "text": [
      "The maximum is configured to be 3\n"
     ]
    },
    {
     "data": {
      "text/plain": [
       "()"
      ]
     },
     "execution_count": 38,
     "metadata": {},
     "output_type": "execute_result"
    }
   ],
   "source": [
    "let config_max = Some(3u8);\n",
    "if let Some(max) = config_max {\n",
    "    println!(\"The maximum is configured to be {}\", max);\n",
    "}"
   ]
  },
  {
   "cell_type": "markdown",
   "metadata": {},
   "source": [
    "## `else` in `if let`"
   ]
  },
  {
   "cell_type": "markdown",
   "metadata": {},
   "source": [
    "We can include an `else` with an `if let`. The block of code that goes with the else is the same as the block of code that would go with the `_` case in the `match` expression"
   ]
  },
  {
   "cell_type": "code",
   "execution_count": 50,
   "metadata": {
    "vscode": {
     "languageId": "rust"
    }
   },
   "outputs": [
    {
     "name": "stdout",
     "output_type": "stream",
     "text": [
      "-- using match: \n",
      "State quarter from Alaska!\n",
      "-- using if let: \n",
      "State quarter from Alaska!\n"
     ]
    }
   ],
   "source": [
    "#[derive(Debug)]\n",
    "enum UsState {\n",
    "    Alabama,\n",
    "    Alaska,\n",
    "    // --snip--\n",
    "}\n",
    "\n",
    "enum Coin {\n",
    "    Penny,\n",
    "    Nickel,\n",
    "    Dime,\n",
    "    Quarter(UsState),\n",
    "}\n",
    "\n",
    "fn using_match() {\n",
    "    let coin = Coin::Quarter(UsState::Alaska);\n",
    "    println!(\"-- using match: \");\n",
    "    let mut count = 0;\n",
    "    match coin {\n",
    "        Coin::Quarter(state) => println!(\"State quarter from {:?}!\", state),\n",
    "        _ => count += 1,\n",
    "    }\n",
    "}\n",
    "\n",
    "fn using_if_let() {\n",
    "    let coin = Coin::Quarter(UsState::Alaska);\n",
    "    // using if let\n",
    "    println!(\"-- using if let: \");\n",
    "    let mut count = 0;\n",
    "    if let Coin::Quarter(state) = coin {\n",
    "        println!(\"State quarter from {:?}!\", state);\n",
    "    } else {\n",
    "        count += 1;\n",
    "    }\n",
    "}\n",
    "\n",
    "using_match();\n",
    "using_if_let();"
   ]
  },
  {
   "cell_type": "code",
   "execution_count": null,
   "metadata": {
    "vscode": {
     "languageId": "rust"
    }
   },
   "outputs": [],
   "source": []
  }
 ],
 "metadata": {
  "kernelspec": {
   "display_name": "Rust",
   "language": "rust",
   "name": "rust"
  },
  "language_info": {
   "codemirror_mode": "rust",
   "file_extension": ".rs",
   "mimetype": "text/rust",
   "name": "Rust",
   "pygment_lexer": "rust",
   "version": ""
  }
 },
 "nbformat": 4,
 "nbformat_minor": 2
}
