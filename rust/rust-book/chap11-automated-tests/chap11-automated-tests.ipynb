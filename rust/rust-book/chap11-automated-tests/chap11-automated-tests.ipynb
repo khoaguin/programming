{
 "cells": [
  {
   "cell_type": "markdown",
   "metadata": {},
   "source": [
    "# Introduction\n",
    "\n",
    "Correctness in our programs is the extent to which our code does what we intend it to do. Rust is designed with a high degree of concern about the correctness of programs, but correctness is complex and not easy to prove. <span style=\"color:lightgreen\">*Rust’s type system shoulders a huge part of this burden, but the type system cannot catch everything. As such, Rust includes support for writing automated software tests.*</span>"
   ]
  },
  {
   "cell_type": "markdown",
   "metadata": {},
   "source": [
    "# How to Write Tests\n",
    "\n",
    "<span style=\"color:skyblue\">*Tests are Rust functions that verify that the non-test code is functioning in the expected manner*</span>. The bodies of test functions typically perform these three actions:\n",
    "- Set up any needed data or state.\n",
    "- Run the code you want to test.\n",
    "- Assert the results are what you expect."
   ]
  },
  {
   "cell_type": "markdown",
   "metadata": {},
   "source": [
    "## The Anatomy of a Test Function\n",
    "At its simplest, a test in Rust is a function that’s annotated with the `test` attribute. Attributes are metadata about pieces of Rust code; one example is the `derive` attribute. To change a function into a test function, add `#[test]` on the line before `fn`. When you run your tests with the `cargo test` command, Rust builds a test runner binary that runs the annotated functions and reports on whether each test function passes or fails.\n",
    "\n",
    "Example: run `cargo new adder --lib` will create the below project\n",
    "```rust\n",
    "// src/lib.rs\n",
    "\n",
    "pub fn add(left: usize, right: usize) -> usize {\n",
    "    left + right\n",
    "}\n",
    "\n",
    "#[cfg(test)]\n",
    "mod tests {\n",
    "    use super::*;\n",
    "\n",
    "    #[test]  // this indicates that this is a test function\n",
    "    fn it_works() {\n",
    "        let result = add(2, 2);\n",
    "        assert_eq!(result, 4);\n",
    "    }\n",
    "}\n",
    "```\n",
    "which you can run with `cargo test`"
   ]
  },
  {
   "cell_type": "markdown",
   "metadata": {},
   "source": [
    "# Controlling How Tests Are Run"
   ]
  },
  {
   "cell_type": "markdown",
   "metadata": {},
   "source": []
  },
  {
   "cell_type": "markdown",
   "metadata": {},
   "source": [
    "# Test Organization"
   ]
  },
  {
   "cell_type": "markdown",
   "metadata": {},
   "source": []
  }
 ],
 "metadata": {
  "language_info": {
   "name": "python"
  }
 },
 "nbformat": 4,
 "nbformat_minor": 2
}
