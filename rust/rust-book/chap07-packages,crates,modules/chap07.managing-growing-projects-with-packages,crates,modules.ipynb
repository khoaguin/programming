{
 "cells": [
  {
   "cell_type": "markdown",
   "metadata": {},
   "source": [
    "# Introduction\n",
    "\n",
    "Rust has a number of features that allow you to manage your code’s organization, including which details are exposed, which details are private, and what names are in each scope in your programs. These features, sometimes collectively referred to as the module system, include:\n",
    "\n",
    "- <span style=\"color:lightgreen\">**Packages**: A Cargo feature that lets you build, test, and share crates</span>\n",
    "- <span style=\"color:lightgreen\">**Crates**: A tree of modules that produces a library or executable</span>\n",
    "- <span style=\"color:lightgreen\">**Modules and `use`**: Let you control the organization, scope, and privacy of paths</span>\n",
    "- <span style=\"color:lightgreen\">**Paths**: A way of naming an item, such as a struct, function, or module</span>\n"
   ]
  },
  {
   "cell_type": "markdown",
   "metadata": {},
   "source": [
    "# Packages and Crates\n",
    "\n",
    "*A crate is the smallest amount of code that the Rust compiler considers at a time, e.g. even a single `.rs` file*. Crates can contain modules, and the modules may be defined in other files that get compiled with the crate, as we’ll see in the coming sections. The **crate root** is a source file that the Rust compiler starts from and makes up the root module of your crate.\n",
    "\n",
    "> **A crate can come in one of two forms: a binary crate or a library crate.** \n",
    "> - <span style=\"color:lightgreen\">**Binary Crates**</span>: Programs with `main` and you can compile to an executable, such as a command-line program or a server and `src/main.rs` is the crate root \n",
    "> - <span style=\"color:lightgreen\">**Library Crates**</span>: Don’t have a `main` function, and they don’t compile to an executable with `src/lib.rs` as the crate root. Instead, they define functionality intended to be shared with multiple projects, e.g. the `rand` crate\n",
    "\n",
    "<span style=\"color:skyblue\">*A **package** is a bundle of one or more crates that provides a set of functionality. A package contains a `Cargo.toml` file that describes how to build those crates*</span>. For example, `Cargo` is actually a package that contains the binary crate for the command-line tool we have been using to build our code. If a package contains `src/main.rs` and `src/lib.rs`, it has two crates: a binary and a library, both with the same name as the package. A package can have multiple binary crates by placing files in the `src/bin` directory: each file will be a separate binary crate."
   ]
  },
  {
   "cell_type": "code",
   "execution_count": null,
   "metadata": {},
   "outputs": [],
   "source": []
  }
 ],
 "metadata": {
  "language_info": {
   "name": "python"
  }
 },
 "nbformat": 4,
 "nbformat_minor": 2
}
