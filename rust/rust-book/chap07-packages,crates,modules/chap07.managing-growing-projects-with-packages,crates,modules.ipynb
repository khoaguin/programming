{
 "cells": [
  {
   "cell_type": "markdown",
   "metadata": {},
   "source": [
    "# Introduction\n",
    "\n",
    "As a project grows, you should <span style=\"color:lightgreen\">***split code into multiple modules and then multiple files***</span>. <span style=\"color:lightgreen\">***A package can contain multiple binary crates and optionally one library crate***</span>. As a package grows, you can extract parts into separate crates that become external dependencies"
   ]
  },
  {
   "cell_type": "code",
   "execution_count": null,
   "metadata": {},
   "outputs": [],
   "source": []
  }
 ],
 "metadata": {
  "language_info": {
   "name": "python"
  }
 },
 "nbformat": 4,
 "nbformat_minor": 2
}
