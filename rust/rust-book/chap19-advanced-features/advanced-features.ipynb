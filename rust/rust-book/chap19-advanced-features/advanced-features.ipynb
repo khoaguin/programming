{
 "cells": [
  {
   "cell_type": "markdown",
   "id": "d4254ac3-f510-41d2-99b0-54a265c07fc3",
   "metadata": {},
   "source": [
    "## Introduction\n",
    "\n",
    "In this chapter, we’ll cover some features that are useful in very specific situations:\n",
    "\n",
    "- **Unsafe Rust**: how to opt out of some of Rust’s guarantees and take responsibility for manually upholding those guarantees\n",
    "- **Advanced traits**: associated types, default type parameters, fully qualified syntax, supertraits, and the newtype pattern in relation to traits\n",
    "- **Advanced types**: more about the newtype pattern, type aliases, the never type, and dynamically sized types\n",
    "- **Advanced functions and closures**: function pointers and returning closures\n",
    "- **Macros**: ways to define code that defines more code at compile time"
   ]
  },
  {
   "cell_type": "markdown",
   "id": "42c4d7e7-49b4-4eae-94fe-c0a617523515",
   "metadata": {},
   "source": [
    "## Unsafe Rust\n",
    "\n",
    "Unsafe Rust exists because, by nature, static analysis is conservative (for memory safety guarantees enforced at compile time). When the compiler tries to determine whether or not code upholds the guarantees, it’s better for it to reject some valid programs than to accept some invalid programs. Although the code might be okay, if the Rust compiler doesn’t have enough information to be confident, it will reject the code. In these cases, <span style=\"color:lightgreen\">*you can use unsafe code to tell the compiler, “Trust me, this might look unsafe to you, but I know what I’m doing.”*</span>"
   ]
  },
  {
   "cell_type": "markdown",
   "id": "75265cb3-5973-4803-b75f-534689ebf76a",
   "metadata": {},
   "source": [
    "### Unsafe Superpowers\n",
    "\n",
    "To switch to unsafe Rust, use the `unsafe` keyword and then start a new block that holds the unsafe code. You can take five actions in unsafe Rust that you can’t in safe Rust, which we call unsafe superpowers. Those superpowers include the ability to:\n",
    "\n",
    "- Dereference a raw pointer\n",
    "- Call an unsafe function or method\n",
    "- Access or modify a mutable static variable\n",
    "- Implement an unsafe trait\n",
    "- Access fields of unions\n",
    "\n",
    "By requiring these five unsafe operations to be inside blocks annotated with unsafe, you’ll know that any errors related to memory safety must be within an `unsafe` block."
   ]
  },
  {
   "cell_type": "code",
   "execution_count": null,
   "id": "d3b83abe-5b53-4f3f-ac8f-55a347a14dca",
   "metadata": {},
   "outputs": [],
   "source": []
  },
  {
   "cell_type": "code",
   "execution_count": null,
   "id": "3472f2da-c602-4e98-bbb6-95ed7fd43242",
   "metadata": {},
   "outputs": [],
   "source": []
  },
  {
   "cell_type": "markdown",
   "id": "c9bc4b2e-c83b-4f21-8c22-c78238b5694f",
   "metadata": {},
   "source": [
    "## Advanced Traits"
   ]
  },
  {
   "cell_type": "markdown",
   "id": "9540f55b-4adb-465c-a6a7-2ce0bca174de",
   "metadata": {},
   "source": [
    "### Specifying Placeholder Types in Trait Definitions with Associated Types\n",
    "\n",
    "Associated types connect a type placeholder with a trait such that the trait method definitions can use these placeholder types in their signatures. E.g."
   ]
  },
  {
   "cell_type": "code",
   "execution_count": 2,
   "id": "debca2ef-5160-4222-a899-985d6bb4f898",
   "metadata": {},
   "outputs": [],
   "source": [
    "pub trait Iterator {\n",
    "    type Item;\n",
    "\n",
    "    fn next(&mut self) -> Option<Self::Item>;\n",
    "}"
   ]
  },
  {
   "cell_type": "code",
   "execution_count": null,
   "id": "da85cfb0-6246-4b48-9e85-8a0a3ec36366",
   "metadata": {},
   "outputs": [],
   "source": []
  },
  {
   "cell_type": "code",
   "execution_count": null,
   "id": "43a11d14-af4c-45c2-a52d-0037c8f5553a",
   "metadata": {},
   "outputs": [],
   "source": []
  },
  {
   "cell_type": "code",
   "execution_count": null,
   "id": "803ec8f1-1bed-4e2d-a7ed-37b9bfaff01f",
   "metadata": {},
   "outputs": [],
   "source": []
  },
  {
   "cell_type": "markdown",
   "id": "25c6dcef-2ee8-45b1-bfe7-f86edfeb6761",
   "metadata": {},
   "source": [
    "## Advanced Types"
   ]
  },
  {
   "cell_type": "markdown",
   "id": "297f47c4-6abc-4413-ba83-2f9ab5b73d06",
   "metadata": {},
   "source": [
    "### Using the Newtype Pattern for Type Safety and Abstraction\n",
    "\n",
    "We can use the newtype pattern to abstract away some implementation details of a type: the new type can expose a public API that is different from the API of the private inner type.\n",
    "\n",
    "Newtypes can also hide internal implementation. For example, we could provide a `People` type to wrap a `HashMap<i32, String>` that stores a person’s ID associated with their name. Code using People would only interact with the public API we provide, such as a method to add a name string to the People collection; that code wouldn’t need to know that we assign an `i32` ID to names internally."
   ]
  },
  {
   "cell_type": "markdown",
   "id": "1c9f34a6-2440-45a3-bfe7-e15dbac21302",
   "metadata": {},
   "source": [
    "### Creating Type Synonyms with Type Aliases\n",
    "\n",
    "<span style=\"color:skyblue\">*Rust provides the ability to declare a type alias to give an existing type another name. For this we use the `type` keyword.*</span>"
   ]
  },
  {
   "cell_type": "code",
   "execution_count": 3,
   "id": "203ffcf5-a51f-48a9-b54a-0eb51bc8b37e",
   "metadata": {},
   "outputs": [
    {
     "name": "stdout",
     "output_type": "stream",
     "text": [
      "x + y = 10\n"
     ]
    }
   ],
   "source": [
    "type Kilometers = i32;\n",
    "\n",
    "let x: i32 = 5;\n",
    "let y: Kilometers = 5;\n",
    "\n",
    "println!(\"x + y = {}\", x + y);"
   ]
  },
  {
   "cell_type": "code",
   "execution_count": null,
   "id": "a260a046-42c8-44b1-b290-7f261c20f4e1",
   "metadata": {},
   "outputs": [],
   "source": []
  },
  {
   "cell_type": "code",
   "execution_count": null,
   "id": "23ff1c75-d486-45dc-906e-18d2bfa1042c",
   "metadata": {},
   "outputs": [],
   "source": []
  },
  {
   "cell_type": "code",
   "execution_count": null,
   "id": "7ddeb46f-6ad4-4b52-913b-410ad75d9df4",
   "metadata": {},
   "outputs": [],
   "source": []
  },
  {
   "cell_type": "markdown",
   "id": "e71ede3e-4e17-4efa-babd-6ed31f462b8d",
   "metadata": {},
   "source": [
    "## Advanced Functions and Closures"
   ]
  },
  {
   "cell_type": "markdown",
   "id": "59abf8a7-c9d2-42c9-8725-eb4bec07c98e",
   "metadata": {},
   "source": [
    "### Function Pointers\n",
    "\n",
    "We’ve talked about how to pass closures to functions; <span style=\"color:lightgreen\">*you can also pass regular functions to functions!*</span> This technique is useful when you want to pass a function you’ve already defined rather than defining a new closure."
   ]
  },
  {
   "cell_type": "code",
   "execution_count": 4,
   "id": "c190968a-ab2e-4434-a6a2-cd87ce3e4fa4",
   "metadata": {},
   "outputs": [
    {
     "name": "stdout",
     "output_type": "stream",
     "text": [
      "The answer is: 12\n"
     ]
    },
    {
     "data": {
      "text/plain": [
       "()"
      ]
     },
     "execution_count": 4,
     "metadata": {},
     "output_type": "execute_result"
    }
   ],
   "source": [
    "fn add_one(x: i32) -> i32 {\n",
    "    x + 1\n",
    "}\n",
    "\n",
    "fn do_twice(f: fn(i32) -> i32, arg: i32) -> i32 {\n",
    "    f(arg) + f(arg)\n",
    "}\n",
    "\n",
    "fn main() {\n",
    "    let answer = do_twice(add_one, 5);\n",
    "\n",
    "    println!(\"The answer is: {}\", answer);\n",
    "}\n",
    "\n",
    "main()"
   ]
  },
  {
   "cell_type": "markdown",
   "id": "651ea2c0-dc28-43fd-a111-3c486610b8c7",
   "metadata": {},
   "source": [
    "### Returning Closures\n",
    "\n",
    "Closures are represented by traits, which means you can’t return closures directly. In most cases where you might want to return a trait, you can instead use the concrete type that implements the trait as the return value of the function. However, you can’t do that with closures because they don’t have a concrete type that is returnable; you’re not allowed to use the function pointer `fn` as a return type, for example."
   ]
  },
  {
   "cell_type": "code",
   "execution_count": 5,
   "id": "6749e186-b944-4952-ad69-95c849776521",
   "metadata": {},
   "outputs": [
    {
     "ename": "Error",
     "evalue": "return type cannot have an unboxed trait object",
     "output_type": "error",
     "traceback": [
      "\u001b[31m[E0746] Error:\u001b[0m return type cannot have an unboxed trait object",
      "   \u001b[38;5;246m╭\u001b[0m\u001b[38;5;246m─\u001b[0m\u001b[38;5;246m[\u001b[0mcommand_5:1:1\u001b[38;5;246m]\u001b[0m",
      "   \u001b[38;5;246m│\u001b[0m",
      " \u001b[38;5;246m1 │\u001b[0m \u001b[38;5;249mf\u001b[0m\u001b[38;5;249mn\u001b[0m\u001b[38;5;249m \u001b[0m\u001b[38;5;249mr\u001b[0m\u001b[38;5;249me\u001b[0m\u001b[38;5;249mt\u001b[0m\u001b[38;5;249mu\u001b[0m\u001b[38;5;249mr\u001b[0m\u001b[38;5;249mn\u001b[0m\u001b[38;5;249ms\u001b[0m\u001b[38;5;249m_\u001b[0m\u001b[38;5;249mc\u001b[0m\u001b[38;5;249ml\u001b[0m\u001b[38;5;249mo\u001b[0m\u001b[38;5;249ms\u001b[0m\u001b[38;5;249mu\u001b[0m\u001b[38;5;249mr\u001b[0m\u001b[38;5;249me\u001b[0m\u001b[38;5;249m(\u001b[0m\u001b[38;5;249m)\u001b[0m\u001b[38;5;249m \u001b[0m\u001b[38;5;249m-\u001b[0m\u001b[38;5;249m>\u001b[0m\u001b[38;5;249m \u001b[0m\u001b[38;5;100md\u001b[0m\u001b[38;5;100my\u001b[0m\u001b[38;5;100mn\u001b[0m\u001b[38;5;100m \u001b[0m\u001b[38;5;54mF\u001b[0m\u001b[38;5;54mn\u001b[0m\u001b[38;5;54m(\u001b[0m\u001b[38;5;54mi\u001b[0m\u001b[38;5;54m3\u001b[0m\u001b[38;5;54m2\u001b[0m\u001b[38;5;54m)\u001b[0m\u001b[38;5;54m \u001b[0m\u001b[38;5;54m-\u001b[0m\u001b[38;5;54m>\u001b[0m\u001b[38;5;54m \u001b[0m\u001b[38;5;54mi\u001b[0m\u001b[38;5;54m3\u001b[0m\u001b[38;5;54m2\u001b[0m\u001b[38;5;249m \u001b[0m\u001b[38;5;249m{\u001b[0m",
      " \u001b[38;5;240m  │\u001b[0m                         \u001b[38;5;100m─\u001b[0m\u001b[38;5;100m─\u001b[0m\u001b[38;5;100m┬\u001b[0m\u001b[38;5;100m─\u001b[0m\u001b[38;5;54m─\u001b[0m\u001b[38;5;54m─\u001b[0m\u001b[38;5;54m─\u001b[0m\u001b[38;5;54m─\u001b[0m\u001b[38;5;54m─\u001b[0m\u001b[38;5;54m┬\u001b[0m\u001b[38;5;54m─\u001b[0m\u001b[38;5;54m─\u001b[0m\u001b[38;5;54m─\u001b[0m\u001b[38;5;54m─\u001b[0m\u001b[38;5;54m─\u001b[0m\u001b[38;5;54m─\u001b[0m\u001b[38;5;54m─\u001b[0m\u001b[38;5;54m─\u001b[0m  ",
      " \u001b[38;5;240m  │\u001b[0m                           \u001b[38;5;100m╰\u001b[0m\u001b[38;5;100m─\u001b[0m\u001b[38;5;100m─\u001b[0m\u001b[38;5;100m─\u001b[0m\u001b[38;5;100m─\u001b[0m\u001b[38;5;100m─\u001b[0m\u001b[38;5;100m─\u001b[0m\u001b[38;5;100m─\u001b[0m\u001b[38;5;100m─\u001b[0m\u001b[38;5;100m─\u001b[0m\u001b[38;5;100m─\u001b[0m\u001b[38;5;100m─\u001b[0m\u001b[38;5;100m─\u001b[0m\u001b[38;5;100m─\u001b[0m\u001b[38;5;100m─\u001b[0m\u001b[38;5;100m─\u001b[0m\u001b[38;5;100m─\u001b[0m\u001b[38;5;100m─\u001b[0m help: return an `impl Trait` instead of a `dyn Trait`, if all returned values are the same type: `impl `",
      " \u001b[38;5;240m  │\u001b[0m                                  \u001b[38;5;54m│\u001b[0m          ",
      " \u001b[38;5;240m  │\u001b[0m                                  \u001b[38;5;54m╰\u001b[0m\u001b[38;5;54m─\u001b[0m\u001b[38;5;54m─\u001b[0m\u001b[38;5;54m─\u001b[0m\u001b[38;5;54m─\u001b[0m\u001b[38;5;54m─\u001b[0m\u001b[38;5;54m─\u001b[0m\u001b[38;5;54m─\u001b[0m\u001b[38;5;54m─\u001b[0m\u001b[38;5;54m─\u001b[0m\u001b[38;5;54m─\u001b[0m doesn't have a size known at compile-time",
      "\u001b[38;5;246m───╯\u001b[0m"
     ]
    }
   ],
   "source": [
    "fn returns_closure() -> dyn Fn(i32) -> i32 {\n",
    "    |x| x + 1\n",
    "}"
   ]
  },
  {
   "cell_type": "markdown",
   "id": "630f18dc-bdaf-43e3-b17d-5af34d1cb1b0",
   "metadata": {},
   "source": [
    "The error references the `Sized` trait again! Rust doesn’t know how much space it will need to store the closure. We saw a solution to this problem earlier. We can use a trait object:"
   ]
  },
  {
   "cell_type": "code",
   "execution_count": 9,
   "id": "b8eea02a-2ee5-49dc-93ef-7ad360aeeb3c",
   "metadata": {},
   "outputs": [],
   "source": [
    "fn returns_closure() -> Box<dyn Fn(i32) -> i32> {\n",
    "    Box::new(|x| x + 1)\n",
    "}"
   ]
  },
  {
   "cell_type": "code",
   "execution_count": null,
   "id": "dc629fb1-687a-4e36-87bb-c4d9656cf5e6",
   "metadata": {},
   "outputs": [],
   "source": []
  },
  {
   "cell_type": "markdown",
   "id": "31b32bcb-a6cd-4c96-8d4f-082c0213fee3",
   "metadata": {},
   "source": [
    "## Macros"
   ]
  },
  {
   "cell_type": "markdown",
   "id": "dceff7af-690d-4199-b9b4-f8c3364722a4",
   "metadata": {},
   "source": [
    "We’ve used macros like `println!` throughout this book, but we haven’t fully explored what a macro is and how it works. The term `macro` refers to a family of features in Rust: declarative macros with `macro_rules!` and three kinds of procedural macros:\n",
    "\n",
    "- Custom `#[derive]` macros that specify code added with the derive attribute used on structs and enums\n",
    "- Attribute-like macros that define custom attributes usable on any item\n",
    "- Function-like macros that look like function calls but operate on the tokens specified as their argument"
   ]
  },
  {
   "cell_type": "markdown",
   "id": "5e48a7ab-9f6b-4f0d-8772-52d9853c3290",
   "metadata": {},
   "source": [
    "### The Difference Between Macros and Functions\n",
    "\n",
    "<span style=\"color:lightgreen\">*Fundamentally, macros are a way of writing code that writes other code, which is known as metaprogramming.*</span> E.g. the `derive` attribute generates an implementation of various traits for you. We’ve also used the `println!` and `vec!` macros throughout the book. All of these macros expand to produce more code than the code you’ve written manually.\n",
    "\n",
    "<span style=\"color:lightgreen\">*A function signature must declare the number and type of parameters the function has. Macros, on the other hand, can take a variable number of parameters. Also, macros are expanded before the compiler interprets the meaning of the code, so a macro can, for example, implement a trait on a given type. A function can’t, because it gets called at runtime and a trait needs to be implemented at compile time. The downside to implementing a macro instead of a function is that macro definitions are more complex than function definitions because you’re writing Rust code that writes Rust code.*</span>"
   ]
  },
  {
   "cell_type": "code",
   "execution_count": null,
   "id": "109c8bd2-5186-42ae-9d7d-779dd0a57c04",
   "metadata": {},
   "outputs": [],
   "source": []
  }
 ],
 "metadata": {
  "kernelspec": {
   "display_name": "Rust",
   "language": "rust",
   "name": "rust"
  },
  "language_info": {
   "codemirror_mode": "rust",
   "file_extension": ".rs",
   "mimetype": "text/rust",
   "name": "Rust",
   "pygment_lexer": "rust",
   "version": ""
  }
 },
 "nbformat": 4,
 "nbformat_minor": 5
}
