{
 "cells": [
  {
   "cell_type": "markdown",
   "metadata": {},
   "source": [
    "# Introduction"
   ]
  },
  {
   "cell_type": "markdown",
   "metadata": {},
   "source": [
    "- <span style=\"color:lightgreen\">***Generic**: Every programming language has tools for effectively handling the duplication of concepts. In Rust, one such tool is **generics: abstract stand-ins for concrete types or other properties**. Functions can take parameters of some generic type, e.g. `Option<T>`, `Vec<T>`..., instead of a concrete type like `i32` or `String`*</span>\n",
    "\n",
    "- <span style=\"color:lightgreen\">***Traits: We can use traits to define behavior in a generic way**. You can combine traits with generic types to constrain a generic type to accept only those types that have a particular behavior, as opposed to just any type.*</span>\n",
    "\n",
    "- <span style=\"color:lightgreen\">***Lifetimes: a variety of generics that give the compiler information about how references relate to each other.***. *Lifetimes allow us to give the compiler enough information about borrowed values so that it can ensure references will be valid in more situations than it could without our help.*</span>\n"
   ]
  },
  {
   "cell_type": "markdown",
   "metadata": {},
   "source": [
    "# Generic Data Types\n",
    "\n",
    "<span style=\"color:skyblue\">***We use generics to create definitions for items like function signatures or structs, which we can then use with many different concrete data types.***</span>"
   ]
  },
  {
   "cell_type": "markdown",
   "metadata": {},
   "source": [
    "## In Function Definitions\n",
    "\n",
    "Instead of writing 2 functions that differ only in the type they operate on:\n",
    "- `fn largest_i32(list: &[i32]) -> &i32`, and\n",
    "- `fn largest_char(list: &[char]) -> &char`\n",
    "We can define a function that takes in a generic type `T` with \n",
    "```rust\n",
    "fn largest<T>(list: &[T]) -> &T {\n",
    "    // snip\n",
    "}\n",
    "```\n",
    "like below\n"
   ]
  },
  {
   "cell_type": "code",
   "execution_count": 2,
   "metadata": {
    "vscode": {
     "languageId": "rust"
    }
   },
   "outputs": [
    {
     "ename": "Error",
     "evalue": "binary operation `>` cannot be applied to type `&T`",
     "output_type": "error",
     "traceback": [
      "\u001b[31m[E0369] Error:\u001b[0m binary operation `>` cannot be applied to type `&T`",
      "   \u001b[38;5;246m╭\u001b[0m\u001b[38;5;246m─\u001b[0m\u001b[38;5;246m[\u001b[0mcommand_2:1:1\u001b[38;5;246m]\u001b[0m",
      "   \u001b[38;5;246m│\u001b[0m",
      " \u001b[38;5;246m1 │\u001b[0m \u001b[38;5;249mf\u001b[0m\u001b[38;5;249mn\u001b[0m\u001b[38;5;249m \u001b[0m\u001b[38;5;249ml\u001b[0m\u001b[38;5;249ma\u001b[0m\u001b[38;5;249mr\u001b[0m\u001b[38;5;249mg\u001b[0m\u001b[38;5;249me\u001b[0m\u001b[38;5;249ms\u001b[0m\u001b[38;5;249mt\u001b[0m\u001b[38;5;249m<\u001b[0m\u001b[38;5;249mT\u001b[0m\u001b[38;5;249m>\u001b[0m\u001b[38;5;249m(\u001b[0m\u001b[38;5;249ml\u001b[0m\u001b[38;5;249mi\u001b[0m\u001b[38;5;249ms\u001b[0m\u001b[38;5;249mt\u001b[0m\u001b[38;5;249m:\u001b[0m\u001b[38;5;249m \u001b[0m\u001b[38;5;249m&\u001b[0m\u001b[38;5;249m[\u001b[0m\u001b[38;5;249mT\u001b[0m\u001b[38;5;249m]\u001b[0m\u001b[38;5;249m)\u001b[0m\u001b[38;5;249m \u001b[0m\u001b[38;5;249m-\u001b[0m\u001b[38;5;249m>\u001b[0m\u001b[38;5;249m \u001b[0m\u001b[38;5;249m&\u001b[0m\u001b[38;5;249mT\u001b[0m\u001b[38;5;249m \u001b[0m\u001b[38;5;249m{\u001b[0m",
      " \u001b[38;5;240m  │\u001b[0m             \u001b[38;5;37m│\u001b[0m ",
      " \u001b[38;5;240m  │\u001b[0m             \u001b[38;5;37m╰\u001b[0m\u001b[38;5;37m─\u001b[0m help: consider restricting type parameter `T`: `: std::cmp::PartialOrd`",
      " \u001b[38;5;240m  │\u001b[0m ",
      " \u001b[38;5;246m5 │\u001b[0m \u001b[38;5;249m \u001b[0m\u001b[38;5;249m \u001b[0m\u001b[38;5;249m \u001b[0m\u001b[38;5;249m \u001b[0m\u001b[38;5;249m \u001b[0m\u001b[38;5;249m \u001b[0m\u001b[38;5;249m \u001b[0m\u001b[38;5;249m \u001b[0m\u001b[38;5;249mi\u001b[0m\u001b[38;5;249mf\u001b[0m\u001b[38;5;249m \u001b[0m\u001b[38;5;54mi\u001b[0m\u001b[38;5;54mt\u001b[0m\u001b[38;5;54me\u001b[0m\u001b[38;5;54mm\u001b[0m\u001b[38;5;249m \u001b[0m\u001b[38;5;68m>\u001b[0m\u001b[38;5;249m \u001b[0m\u001b[38;5;100ml\u001b[0m\u001b[38;5;100ma\u001b[0m\u001b[38;5;100mr\u001b[0m\u001b[38;5;100mg\u001b[0m\u001b[38;5;100me\u001b[0m\u001b[38;5;100ms\u001b[0m\u001b[38;5;100mt\u001b[0m\u001b[38;5;249m \u001b[0m\u001b[38;5;249m{\u001b[0m",
      " \u001b[38;5;240m  │\u001b[0m            \u001b[38;5;54m─\u001b[0m\u001b[38;5;54m─\u001b[0m\u001b[38;5;54m┬\u001b[0m\u001b[38;5;54m─\u001b[0m \u001b[38;5;68m┬\u001b[0m \u001b[38;5;100m─\u001b[0m\u001b[38;5;100m─\u001b[0m\u001b[38;5;100m─\u001b[0m\u001b[38;5;100m┬\u001b[0m\u001b[38;5;100m─\u001b[0m\u001b[38;5;100m─\u001b[0m\u001b[38;5;100m─\u001b[0m  ",
      " \u001b[38;5;240m  │\u001b[0m              \u001b[38;5;54m╰\u001b[0m\u001b[38;5;54m─\u001b[0m\u001b[38;5;54m─\u001b[0m\u001b[38;5;54m─\u001b[0m\u001b[38;5;54m─\u001b[0m\u001b[38;5;54m─\u001b[0m\u001b[38;5;54m─\u001b[0m\u001b[38;5;54m─\u001b[0m\u001b[38;5;54m─\u001b[0m\u001b[38;5;54m─\u001b[0m\u001b[38;5;54m─\u001b[0m\u001b[38;5;54m─\u001b[0m\u001b[38;5;54m─\u001b[0m\u001b[38;5;54m─\u001b[0m &T",
      " \u001b[38;5;240m  │\u001b[0m                 \u001b[38;5;68m│\u001b[0m    \u001b[38;5;100m│\u001b[0m     ",
      " \u001b[38;5;240m  │\u001b[0m                 \u001b[38;5;68m╰\u001b[0m\u001b[38;5;68m─\u001b[0m\u001b[38;5;68m─\u001b[0m\u001b[38;5;68m─\u001b[0m\u001b[38;5;68m─\u001b[0m\u001b[38;5;68m─\u001b[0m\u001b[38;5;68m─\u001b[0m\u001b[38;5;68m─\u001b[0m\u001b[38;5;68m─\u001b[0m\u001b[38;5;68m─\u001b[0m\u001b[38;5;68m─\u001b[0m error: binary operation `>` cannot be applied to type `&T`",
      " \u001b[38;5;240m  │\u001b[0m                      \u001b[38;5;100m│\u001b[0m     ",
      " \u001b[38;5;240m  │\u001b[0m                      \u001b[38;5;100m╰\u001b[0m\u001b[38;5;100m─\u001b[0m\u001b[38;5;100m─\u001b[0m\u001b[38;5;100m─\u001b[0m\u001b[38;5;100m─\u001b[0m\u001b[38;5;100m─\u001b[0m &T",
      "\u001b[38;5;246m───╯\u001b[0m"
     ]
    }
   ],
   "source": [
    "fn largest<T>(list: &[T]) -> &T {\n",
    "    let mut largest = &list[0];\n",
    "\n",
    "    for item in list {\n",
    "        if item > largest {\n",
    "            largest = item;\n",
    "        }\n",
    "    }\n",
    "\n",
    "    largest\n",
    "}\n",
    "\n",
    "fn main() {\n",
    "    let number_list = vec![34, 50, 25, 100, 65];\n",
    "\n",
    "    let result = largest(&number_list);\n",
    "    println!(\"The largest number is {}\", result);\n",
    "\n",
    "    let char_list = vec!['y', 'm', 'a', 'q'];\n",
    "\n",
    "    let result = largest(&char_list);\n",
    "    println!(\"The largest char is {}\", result);\n",
    "}"
   ]
  },
  {
   "cell_type": "markdown",
   "metadata": {},
   "source": [
    "<span style=\"color:orange\">***We got an error that mentions the `std::cmp::PartialOrd` traits, and this error states that the body of `largest` won’t work for all possible types that `T` could be, but only those that implement the `PartialOrd` trait.***</span>"
   ]
  },
  {
   "cell_type": "markdown",
   "metadata": {},
   "source": [
    "## In Struct Definitions\n",
    "\n",
    "Below we defines `Point<T>` to hold values of both `int` and `float`, but `x` and `y` must be of the same type:"
   ]
  },
  {
   "cell_type": "code",
   "execution_count": 8,
   "metadata": {
    "vscode": {
     "languageId": "rust"
    }
   },
   "outputs": [
    {
     "name": "stdout",
     "output_type": "stream",
     "text": [
      "integer point = Point { x: 5, y: 10 }\n",
      "float point = Point { x: 1.0, y: 4.0 }\n"
     ]
    },
    {
     "data": {
      "text/plain": [
       "()"
      ]
     },
     "execution_count": 8,
     "metadata": {},
     "output_type": "execute_result"
    }
   ],
   "source": [
    "#[derive(Debug)]\n",
    "struct Point<T> {\n",
    "    x: T,\n",
    "    y: T,\n",
    "}\n",
    "\n",
    "fn main() {\n",
    "    let integer = Point { x: 5, y: 10 };\n",
    "    println!(\"integer point = {:?}\", integer);\n",
    "    let float = Point { x: 1.0, y: 4.0 };\n",
    "    println!(\"float point = {:?}\", float);\n",
    "}\n",
    "\n",
    "main()"
   ]
  },
  {
   "cell_type": "markdown",
   "metadata": {},
   "source": [
    "We can make a `Point<T, U>` struct where `x` and `y` have different types like below"
   ]
  },
  {
   "cell_type": "code",
   "execution_count": 11,
   "metadata": {
    "vscode": {
     "languageId": "rust"
    }
   },
   "outputs": [
    {
     "name": "stdout",
     "output_type": "stream",
     "text": [
      "both int point = Point { x: 5, y: 10 }\n",
      "both float point = Point { x: 1.0, y: 4.0 }\n",
      "int & float point = Point { x: 5, y: 4.0 }\n"
     ]
    },
    {
     "data": {
      "text/plain": [
       "()"
      ]
     },
     "execution_count": 11,
     "metadata": {},
     "output_type": "execute_result"
    }
   ],
   "source": [
    "#[derive(Debug)]\n",
    "struct Point<T, U> {\n",
    "    x: T,\n",
    "    y: U,\n",
    "}\n",
    "\n",
    "fn main() {\n",
    "    let both_integer = Point { x: 5, y: 10 };\n",
    "    println!(\"both int point = {:?}\", both_integer);\n",
    "    let both_float = Point { x: 1.0, y: 4.0 };\n",
    "    println!(\"both float point = {:?}\", both_float);\n",
    "    let integer_and_float = Point { x: 5, y: 4.0 };\n",
    "    println!(\"int & float point = {:?}\", integer_and_float);\n",
    "}\n",
    "\n",
    "main()"
   ]
  },
  {
   "cell_type": "markdown",
   "metadata": {},
   "source": [
    "## In Enum Definitions\n",
    "\n",
    "Similar to structs, we can define enums with generic types, e.g. the `Option<T>`\n",
    "```rust\n",
    "enum Option<T> {\n",
    "    Some(T),\n",
    "    None,\n",
    "}\n",
    "```\n",
    "and the enum `Result<T, E>`\n",
    "```rust\n",
    "Result<T, E> {\n",
    "    Ok(T),\n",
    "    Err(E),\n",
    "}\n",
    "```\n",
    "that has 2 two variants: `Ok`, which holds a value of type `T`, and `Err`, which holds a value of type `E`."
   ]
  },
  {
   "cell_type": "markdown",
   "metadata": {},
   "source": [
    "## In Method Definitions\n",
    "\n",
    "<span style=\"color:skyblue\">***We can implement methods on structs and enums and use generic types in their definitions, too.***</span>"
   ]
  },
  {
   "cell_type": "code",
   "execution_count": 20,
   "metadata": {
    "vscode": {
     "languageId": "rust"
    }
   },
   "outputs": [
    {
     "name": "stdout",
     "output_type": "stream",
     "text": [
      "p1.x = 5\n",
      "p2.x = 1.1\n",
      "distance from origin of p2 = 10.358571\n"
     ]
    },
    {
     "data": {
      "text/plain": [
       "()"
      ]
     },
     "execution_count": 20,
     "metadata": {},
     "output_type": "execute_result"
    }
   ],
   "source": [
    "struct Point<T> {\n",
    "    x: T,\n",
    "    y: T,\n",
    "}\n",
    "\n",
    "impl<T> Point<T> {\n",
    "    fn x(&self) -> &T {\n",
    "        &self.x\n",
    "    }\n",
    "}\n",
    "\n",
    "// We can also specify constraints on generic types when defining methods on the type\n",
    "// This function only works on Point<f32>\n",
    "impl Point<f32> {\n",
    "    fn distance_from_origin(&self) -> f32 {\n",
    "        (self.x.powi(2) + self.y.powi(2)).sqrt()\n",
    "    }\n",
    "}\n",
    "\n",
    "fn main() {\n",
    "    let p1 = Point { x: 5, y: 10 };\n",
    "    println!(\"p1.x = {}\", p1.x());\n",
    "    let p2 = Point { x: 1.1, y: 10.3 };\n",
    "    println!(\"p2.x = {}\", p2.x());\n",
    "\n",
    "\n",
    "    println!(\"distance from origin of p2 = {}\", p2.distance_from_origin());\n",
    "\n",
    "    // this will throw error since `distance_from_origin` is not implemented for `Point<{integer}>`\n",
    "    // println!(\"distance from origin of p1 = {}\", p1.distance_from_origin());\n",
    "}\n",
    "\n",
    "main()"
   ]
  },
  {
   "cell_type": "markdown",
   "metadata": {},
   "source": [
    "Generic type parameters in a struct definition aren’t always the same as those you use in that same struct’s method signatures."
   ]
  },
  {
   "cell_type": "code",
   "execution_count": 23,
   "metadata": {
    "vscode": {
     "languageId": "rust"
    }
   },
   "outputs": [
    {
     "name": "stdout",
     "output_type": "stream",
     "text": [
      "p1.x = 5, p1.y = 10.4\n",
      "p2.x = Hello, p2.y = c\n",
      "p3.x = 5, p3.y = c\n"
     ]
    },
    {
     "data": {
      "text/plain": [
       "()"
      ]
     },
     "execution_count": 23,
     "metadata": {},
     "output_type": "execute_result"
    }
   ],
   "source": [
    "struct Point<X1, Y1> {\n",
    "    x: X1,\n",
    "    y: Y1,\n",
    "}\n",
    "\n",
    "// Some generic parameters are declared with impl and some are declared with the method definition. \n",
    "// Here, the generic parameters X1 and Y1 are declared after impl because they go with \n",
    "// the struct definition. The generic parameters X2 and Y2 are declared after fn mixup, \n",
    "// because they’re only relevant to the method.\n",
    "impl<X1, Y1> Point<X1, Y1> {\n",
    "    fn mixup<X2, Y2>(self, other: Point<X2, Y2>) -> Point<X1, Y2> {\n",
    "        Point {\n",
    "            x: self.x,\n",
    "            y: other.y,\n",
    "        }\n",
    "    }\n",
    "}\n",
    "\n",
    "fn main() {\n",
    "    let p1 = Point { x: 5, y: 10.4 };\n",
    "    let p2 = Point { x: \"Hello\", y: 'c' };\n",
    "    println!(\"p1.x = {}, p1.y = {}\", p1.x, p1.y);\n",
    "    println!(\"p2.x = {}, p2.y = {}\", p2.x, p2.y);\n",
    "    \n",
    "    let p3 = p1.mixup(p2);\n",
    "\n",
    "    println!(\"p3.x = {}, p3.y = {}\", p3.x, p3.y);\n",
    "}\n",
    "\n",
    "main()"
   ]
  },
  {
   "cell_type": "markdown",
   "metadata": {},
   "source": [
    "## Performance of Code Using Generics\n",
    "\n",
    "<span style=\"color:skyblue\">*Using generic types won't make your program run any slower than it would with concrete types, since Rust performs monomorphization of the code using generics at compile time. **Monomorphization is the process of turning generic code into specific code by filling in the concrete types that are used when compiled**.*</span>"
   ]
  },
  {
   "cell_type": "markdown",
   "metadata": {},
   "source": [
    "# Traits: Defining Shared Behavior\n",
    "\n",
    "<span style=\"color:lightgreen\">***A trait (similar to interfaces in some languages) defines functionality a particular type has and can share with other types**. We can use traits to define shared behavior in an abstract way. We can use trait bounds to specify that a generic type can be any type that has certain behavior.*</span>"
   ]
  },
  {
   "cell_type": "markdown",
   "metadata": {},
   "source": [
    "## Defining a Trait\n",
    "\n",
    "A type’s behavior consists of the methods we can call on that type. Different types share the same behavior if we can call the same methods on all of those types. Trait definitions are a way to group method signatures together to define a set of behaviors necessary to accomplish some purpose.\n",
    "\n",
    "For example, let say we have 2 structs `NewsArticle` and `Tweet` that hold texts, both need to have a `summarize` method on the instance of each type to display the summarization => these 2 structs shares the `summarize` behavior, or the `Summary` trait with the `summarize` method defined like below"
   ]
  },
  {
   "cell_type": "code",
   "execution_count": 24,
   "metadata": {
    "vscode": {
     "languageId": "rust"
    }
   },
   "outputs": [],
   "source": [
    "pub trait Summary {\n",
    "    fn summarize(&self) -> String;\n",
    "}"
   ]
  },
  {
   "cell_type": "markdown",
   "metadata": {},
   "source": [
    "## Implementing a Trait on a Type\n",
    "\n",
    "Now that we’ve defined the desired signatures of the `Summary` trait’s methods, we can implement it on the `NewsArticle` and `Tweet` types"
   ]
  },
  {
   "cell_type": "code",
   "execution_count": 29,
   "metadata": {
    "vscode": {
     "languageId": "rust"
    }
   },
   "outputs": [
    {
     "name": "stdout",
     "output_type": "stream",
     "text": [
      "1 new tweet: horse_ebooks: of course, as you probably already know, people\n",
      "1 new news article: Hello World!, by anyone from anywhere\n"
     ]
    },
    {
     "data": {
      "text/plain": [
       "()"
      ]
     },
     "execution_count": 29,
     "metadata": {},
     "output_type": "execute_result"
    }
   ],
   "source": [
    "pub trait Summary {\n",
    "    fn summarize(&self) -> String;\n",
    "}\n",
    "\n",
    "pub struct NewsArticle {\n",
    "    pub headline: String,\n",
    "    pub location: String,\n",
    "    pub author: String,\n",
    "    pub content: String,\n",
    "}\n",
    "\n",
    "impl Summary for NewsArticle {\n",
    "    fn summarize(&self) -> String {\n",
    "        format!(\"{}, by {} from {}\", self.headline, self.author, self.location)\n",
    "    }\n",
    "}\n",
    "\n",
    "pub struct Tweet {\n",
    "    pub username: String,\n",
    "    pub content: String,\n",
    "    pub reply: bool,\n",
    "    pub retweet: bool,\n",
    "}\n",
    "\n",
    "impl Summary for Tweet {\n",
    "    fn summarize(&self) -> String {\n",
    "        format!(\"{}: {}\", self.username, self.content)\n",
    "    }\n",
    "}\n",
    "\n",
    "\n",
    "fn main() {\n",
    "    let tweet = Tweet {\n",
    "        username: String::from(\"horse_ebooks\"),\n",
    "        content: String::from(\n",
    "            \"of course, as you probably already know, people\",\n",
    "        ),\n",
    "        reply: false,\n",
    "        retweet: false,\n",
    "    };\n",
    "\n",
    "    println!(\"1 new tweet: {}\", tweet.summarize());\n",
    "\n",
    "\n",
    "    let news = NewsArticle {\n",
    "        headline: String::from(\"Hello World!\"),\n",
    "        location: String::from(\"anywhere\"),\n",
    "        author: String::from(\"anyone\"),\n",
    "        content: String::from(\"say hello to the world!\"),\n",
    "    };\n",
    "\n",
    "    println!(\"1 new news article: {}\", news.summarize());\n",
    "}\n",
    "\n",
    "main()\n"
   ]
  },
  {
   "cell_type": "markdown",
   "metadata": {},
   "source": [
    "> 📓 **Note**: *Let's say we make a crate called `aggregator` that holds the `Summary` trait*\n",
    "> - *We can implement a trait on a type only if at least one of the trait or the type is local to our crate, e.g. we can implement the `Display` trait on our `Tweet` type*\n",
    "> - *But we can’t implement external traits on external types, e.g. we can’t implement the `Display` trait on `Vec<T>` within our `aggregator` crate, because `Display` and `Vec<T>` are both defined in the standard library and aren’t local to our aggregator crate*"
   ]
  },
  {
   "cell_type": "markdown",
   "metadata": {},
   "source": [
    "## Default Implementations\n",
    "\n",
    "Sometimes it’s useful to have default behavior for some or all of the methods in a trait instead of requiring implementations for all methods on every type. Then, as we implement the trait on a particular type, we can keep or override each method’s default behavior."
   ]
  },
  {
   "cell_type": "code",
   "execution_count": 5,
   "metadata": {
    "vscode": {
     "languageId": "rust"
    }
   },
   "outputs": [
    {
     "name": "stdout",
     "output_type": "stream",
     "text": [
      "New article available! (Read more...)\n"
     ]
    },
    {
     "data": {
      "text/plain": [
       "()"
      ]
     },
     "execution_count": 5,
     "metadata": {},
     "output_type": "execute_result"
    }
   ],
   "source": [
    "fn main() {\n",
    "\n",
    "    pub trait Summary {\n",
    "        fn summarize(&self) -> String {\n",
    "            String::from(\"(Read more...)\")\n",
    "        }\n",
    "    }\n",
    "\n",
    "    pub struct NewsArticle {\n",
    "        pub headline: String,\n",
    "        pub location: String,\n",
    "        pub author: String,\n",
    "        pub content: String,\n",
    "    }\n",
    "\n",
    "    impl Summary for NewsArticle {}\n",
    "\n",
    "    let article = NewsArticle {\n",
    "            headline: String::from(\"Penguins win the Stanley Cup Championship!\"),\n",
    "            location: String::from(\"Pittsburgh, PA, USA\"),\n",
    "            author: String::from(\"Iceburgh\"),\n",
    "            content: String::from(\n",
    "                \"The Pittsburgh Penguins once again are the best \\\n",
    "                hockey team in the NHL.\",\n",
    "            ),\n",
    "        };\n",
    "\n",
    "    println!(\"New article available! {}\", article.summarize());\n",
    "}\n",
    "\n",
    "main()"
   ]
  },
  {
   "cell_type": "markdown",
   "metadata": {},
   "source": [
    "Default implementations can call other methods in the same trait, even if those other methods don’t have a default implementation. In this way, a trait can provide a lot of useful functionality and only require implementors to specify a small part of it."
   ]
  },
  {
   "cell_type": "code",
   "execution_count": 6,
   "metadata": {
    "vscode": {
     "languageId": "rust"
    }
   },
   "outputs": [
    {
     "name": "stdout",
     "output_type": "stream",
     "text": [
      "1 new tweet: (Read more from @horse_ebooks...)\n"
     ]
    },
    {
     "data": {
      "text/plain": [
       "()"
      ]
     },
     "execution_count": 6,
     "metadata": {},
     "output_type": "execute_result"
    }
   ],
   "source": [
    "fn main() {\n",
    "\n",
    "    pub trait Summary {\n",
    "        fn summarize_author(&self) -> String;\n",
    "\n",
    "        fn summarize(&self) -> String {\n",
    "            format!(\"(Read more from {}...)\", self.summarize_author())\n",
    "        }\n",
    "    }\n",
    "\n",
    "    pub struct Tweet {\n",
    "        pub username: String,\n",
    "        pub content: String,\n",
    "        pub reply: bool,\n",
    "        pub retweet: bool,\n",
    "    }\n",
    "\n",
    "    impl Summary for Tweet {\n",
    "        fn summarize_author(&self) -> String {\n",
    "            format!(\"@{}\", self.username)\n",
    "        }\n",
    "    }\n",
    "\n",
    "    let tweet = Tweet {\n",
    "            username: String::from(\"horse_ebooks\"),\n",
    "            content: String::from(\n",
    "                \"of course, as you probably already know, people\",\n",
    "            ),\n",
    "            reply: false,\n",
    "            retweet: false,\n",
    "        };\n",
    "\n",
    "    println!(\"1 new tweet: {}\", tweet.summarize());\n",
    "}\n",
    "\n",
    "main()"
   ]
  },
  {
   "cell_type": "markdown",
   "metadata": {},
   "source": [
    "## Traits as Parameters\n",
    "\n",
    "<span style=\"color:lightgreen\">***Let's explore how to use traits to define functions that accept many different types (as long as they implement the specified trait)***</span>. For example, we will define a `notify` function that calls the `summarize` method on its `item` parameter, where `item` can be any type that implements the `Summary` trait."
   ]
  },
  {
   "cell_type": "code",
   "execution_count": null,
   "metadata": {
    "vscode": {
     "languageId": "rust"
    }
   },
   "outputs": [],
   "source": [
    "fn main() {\n",
    "    pub trait Summary {\n",
    "        fn summarize(&self) -> String;\n",
    "    }\n",
    "\n",
    "    pub struct NewsArticle {\n",
    "        pub headline: String,\n",
    "        pub location: String,\n",
    "        pub author: String,\n",
    "        pub content: String,\n",
    "    }\n",
    "\n",
    "    impl Summary for NewsArticle {\n",
    "        fn summarize(&self) -> String {\n",
    "            format!(\"{}, by {} ({})\", self.headline, self.author, self.location)\n",
    "        }\n",
    "    }\n",
    "\n",
    "    pub struct Tweet {\n",
    "        pub username: String,\n",
    "        pub content: String,\n",
    "        pub reply: bool,\n",
    "        pub retweet: bool,\n",
    "    }\n",
    "\n",
    "    impl Summary for Tweet {\n",
    "        fn summarize(&self) -> String {\n",
    "            format!(\"{}: {}\", self.username, self.content)\n",
    "        }\n",
    "    }\n",
    "\n",
    "    pub fn notify(item: &impl Summary) {\n",
    "        println!(\"Breaking news! {}\", item.summarize());\n",
    "    }\n",
    "}"
   ]
  },
  {
   "cell_type": "markdown",
   "metadata": {},
   "source": [
    "### Trait Bound Syntax\n",
    "\n",
    "<span style=\"color:skyblue\"> *We can also use this **trait bound syntax** to enforce 2 trait parameters of the same type*</span>\n",
    "```rust\n",
    "pub fn notify<T: Summary>(item1: &T, item2: &T) {\n",
    "```"
   ]
  },
  {
   "cell_type": "markdown",
   "metadata": {},
   "source": [
    "### Specifying Multiple Trait Bounds with the `+` Syntax\n",
    "\n",
    "If we want to specify in the `notify` definition that `item` must implement both `Display` and `Summary` traits, we use the following syntax\n",
    "```rust\n",
    "pub fn notify(item: &(impl Summary + Display)) {\n",
    "```\n",
    "which also works with the trait bounds syntax\n",
    "```rust\n",
    "pub fn notify<T: Summary + Display>(item: &T) {\n",
    "```"
   ]
  },
  {
   "cell_type": "markdown",
   "metadata": {},
   "source": [
    "### Clearer Trait Bounds with `where` Clauses\n",
    "Instead of writing\n",
    "```rust\n",
    "fn some_function<T: Display + Clone, U: Clone + Debug>(t: &T, u: &U) -> i32 {\n",
    "```\n",
    "which is very hard to read, Rust has the `where` syntax for multiple generic type parameters:\n",
    "```rust\n",
    "fn some_function<T, U>(t: &T, u: &U) -> i32\n",
    "where\n",
    "    T: Display + Clone,\n",
    "    U: Clone + Debug,\n",
    "{\n",
    "```"
   ]
  },
  {
   "cell_type": "markdown",
   "metadata": {},
   "source": [
    "## Returning Types that Implement Traits\n",
    "\n",
    "We can also use the `impl Trait` syntax in the return position to return a value of some type that implements a trait:\n",
    "```rust\n",
    "fn returns_summarizable() -> impl Summary {\n",
    "    Tweet {\n",
    "        username: String::from(\"horse_ebooks\"),\n",
    "        content: String::from(\n",
    "            \"of course, as you probably already know, people\",\n",
    "        ),\n",
    "        reply: false,\n",
    "        retweet: false,\n",
    "    }\n",
    "}\n",
    "```\n",
    "However, we can only return a single type that implements the trait, so the code below won't work:\n",
    "```rust\n",
    "fn returns_summarizable(switch: bool) -> impl Summary {\n",
    "    if switch {\n",
    "        NewsArticle {\n",
    "            // snip\n",
    "        }\n",
    "    } else {\n",
    "        Tweet {\n",
    "            // snip\n",
    "        }\n",
    "    }\n",
    "}\n",
    "```"
   ]
  },
  {
   "cell_type": "markdown",
   "metadata": {},
   "source": [
    "## Using Trait Bounds to Conditionally Implement Methods\n",
    "\n",
    "By using a trait bound with an `impl` block that uses generic type parameters, we can implement methods conditionally for types that implement the specified traits."
   ]
  },
  {
   "cell_type": "code",
   "execution_count": null,
   "metadata": {
    "vscode": {
     "languageId": "rust"
    }
   },
   "outputs": [],
   "source": [
    "use std::fmt::Display;\n",
    "\n",
    "struct Pair<T> {\n",
    "    x: T,\n",
    "    y: T,\n",
    "}\n",
    "\n",
    "impl<T> Pair<T> {  // always implements the `new` function to return a new instance of `Pair<T>`\n",
    "    fn new(x: T, y: T) -> Self {\n",
    "        Self { x, y }\n",
    "    }\n",
    "}\n",
    "\n",
    "impl<T: Display + PartialOrd> Pair<T> {  // Pair<T> only implements the `cmp_display` method \n",
    "                                         // if its inner type `T` implements the `PartialOrd` trait \n",
    "                                         // that enables comparison and the `Display` trait that enables printing\n",
    "    fn cmp_display(&self) {\n",
    "        if self.x >= self.y {\n",
    "            println!(\"The largest member is x = {}\", self.x);\n",
    "        } else {\n",
    "            println!(\"The largest member is y = {}\", self.y);\n",
    "        }\n",
    "    }\n",
    "}"
   ]
  },
  {
   "cell_type": "markdown",
   "metadata": {},
   "source": [
    "<span style=\"color:lightgreen\">*We can also conditionally implement a trait for any type that implements another trait (i.e. **blanket implementations**)*</span>.  \n",
    "For example, the standard library implements the `ToString` trait on any type that implements the `Display` trait\n",
    "```rust\n",
    "impl<T: Display> ToString for T {\n",
    "    // --snip--\n",
    "}\n",
    "```"
   ]
  },
  {
   "cell_type": "code",
   "execution_count": 10,
   "metadata": {
    "vscode": {
     "languageId": "rust"
    }
   },
   "outputs": [
    {
     "data": {
      "text/plain": [
       "\"3\""
      ]
     },
     "execution_count": 10,
     "metadata": {},
     "output_type": "execute_result"
    }
   ],
   "source": [
    "let s = 3.to_string();  // since 3 (i32) implements the Display trait, we can call the `to_string` method\n",
    "s"
   ]
  },
  {
   "cell_type": "markdown",
   "metadata": {},
   "source": [
    "<span style=\"color:yellow\">💡*Traits and trait bounds let us write code that uses generic type parameters to reduce duplication but also specify to the compiler that we want the generic type to have particular behavior. The compiler can then use the trait bound information to check that all the concrete types used with our code provide the correct behavior.*</span>"
   ]
  },
  {
   "cell_type": "markdown",
   "metadata": {},
   "source": [
    "# Lifetimes for Validating References\n",
    "\n",
    "<span style=\"color:lightgreen\">*Lifetimes are **another kind of generic** that we’ve already been using. Rather than ensuring that a type has the behavior we want, **lifetimes ensure that references are valid as long as we need them to be**. Most of the time, lifetimes are implicit and inferred, and we **must annotate lifetimes when the lifetimes of references could be related in a few different ways***</span>"
   ]
  },
  {
   "cell_type": "markdown",
   "metadata": {},
   "source": [
    "## Preventing Dangling References with Lifetimes\n",
    "<span style=\"color:lightgreen\">***The main aim of lifetimes is to prevent dangling references, which cause a program to reference data other than the data it’s intended to reference.***</span>  \n",
    "Consider the below code which gives the error `x does not live long enough`"
   ]
  },
  {
   "cell_type": "code",
   "execution_count": 15,
   "metadata": {
    "vscode": {
     "languageId": "rust"
    }
   },
   "outputs": [
    {
     "ename": "Error",
     "evalue": "`x` does not live long enough",
     "output_type": "error",
     "traceback": [
      "\u001b[31m[E0597] Error:\u001b[0m `x` does not live long enough",
      "   \u001b[38;5;246m╭\u001b[0m\u001b[38;5;246m─\u001b[0m\u001b[38;5;246m[\u001b[0mcommand_15:1:1\u001b[38;5;246m]\u001b[0m",
      "   \u001b[38;5;246m│\u001b[0m",
      " \u001b[38;5;246m4 │\u001b[0m \u001b[38;5;249m \u001b[0m\u001b[38;5;249m \u001b[0m\u001b[38;5;249m \u001b[0m\u001b[38;5;249m \u001b[0m\u001b[38;5;249m \u001b[0m\u001b[38;5;249m \u001b[0m\u001b[38;5;249m \u001b[0m\u001b[38;5;249m \u001b[0m\u001b[38;5;249ml\u001b[0m\u001b[38;5;249me\u001b[0m\u001b[38;5;249mt\u001b[0m\u001b[38;5;249m \u001b[0m\u001b[38;5;68mx\u001b[0m\u001b[38;5;249m \u001b[0m\u001b[38;5;249m=\u001b[0m\u001b[38;5;249m \u001b[0m\u001b[38;5;249m5\u001b[0m\u001b[38;5;249m;\u001b[0m",
      " \u001b[38;5;240m  │\u001b[0m             \u001b[38;5;68m┬\u001b[0m  ",
      " \u001b[38;5;240m  │\u001b[0m             \u001b[38;5;68m╰\u001b[0m\u001b[38;5;68m─\u001b[0m\u001b[38;5;68m─\u001b[0m binding `x` declared here",
      " \u001b[38;5;246m5 │\u001b[0m \u001b[38;5;249m \u001b[0m\u001b[38;5;249m \u001b[0m\u001b[38;5;249m \u001b[0m\u001b[38;5;249m \u001b[0m\u001b[38;5;249m \u001b[0m\u001b[38;5;249m \u001b[0m\u001b[38;5;249m \u001b[0m\u001b[38;5;249m \u001b[0m\u001b[38;5;249mr\u001b[0m\u001b[38;5;249m \u001b[0m\u001b[38;5;249m=\u001b[0m\u001b[38;5;249m \u001b[0m\u001b[38;5;54m&\u001b[0m\u001b[38;5;54mx\u001b[0m\u001b[38;5;249m;\u001b[0m",
      " \u001b[38;5;240m  │\u001b[0m             \u001b[38;5;54m─\u001b[0m\u001b[38;5;54m┬\u001b[0m  ",
      " \u001b[38;5;240m  │\u001b[0m              \u001b[38;5;54m╰\u001b[0m\u001b[38;5;54m─\u001b[0m\u001b[38;5;54m─\u001b[0m borrowed value does not live long enough",
      " \u001b[38;5;246m6 │\u001b[0m \u001b[38;5;249m \u001b[0m\u001b[38;5;249m \u001b[0m\u001b[38;5;249m \u001b[0m\u001b[38;5;249m \u001b[0m\u001b[38;5;100m}\u001b[0m",
      " \u001b[38;5;240m  │\u001b[0m     \u001b[38;5;100m┬\u001b[0m  ",
      " \u001b[38;5;240m  │\u001b[0m     \u001b[38;5;100m╰\u001b[0m\u001b[38;5;100m─\u001b[0m\u001b[38;5;100m─\u001b[0m `x` dropped here while still borrowed",
      " \u001b[38;5;246m7 │\u001b[0m \u001b[38;5;249m \u001b[0m\u001b[38;5;249m \u001b[0m\u001b[38;5;249m \u001b[0m\u001b[38;5;249m \u001b[0m\u001b[38;5;249mp\u001b[0m\u001b[38;5;249mr\u001b[0m\u001b[38;5;249mi\u001b[0m\u001b[38;5;249mn\u001b[0m\u001b[38;5;249mt\u001b[0m\u001b[38;5;249ml\u001b[0m\u001b[38;5;249mn\u001b[0m\u001b[38;5;249m!\u001b[0m\u001b[38;5;249m(\u001b[0m\u001b[38;5;249m\"\u001b[0m\u001b[38;5;249mr\u001b[0m\u001b[38;5;249m:\u001b[0m\u001b[38;5;249m \u001b[0m\u001b[38;5;249m{\u001b[0m\u001b[38;5;249m}\u001b[0m\u001b[38;5;249m\"\u001b[0m\u001b[38;5;249m,\u001b[0m\u001b[38;5;249m \u001b[0m\u001b[38;5;37mr\u001b[0m\u001b[38;5;249m)\u001b[0m\u001b[38;5;249m;\u001b[0m",
      " \u001b[38;5;240m  │\u001b[0m                       \u001b[38;5;37m┬\u001b[0m  ",
      " \u001b[38;5;240m  │\u001b[0m                       \u001b[38;5;37m╰\u001b[0m\u001b[38;5;37m─\u001b[0m\u001b[38;5;37m─\u001b[0m borrow later used here",
      "\u001b[38;5;246m───╯\u001b[0m"
     ]
    }
   ],
   "source": [
    "fn main() {\n",
    "    let r;\n",
    "    {\n",
    "        let x = 5;\n",
    "        r = &x;\n",
    "    }\n",
    "    println!(\"r: {}\", r);\n",
    "}"
   ]
  },
  {
   "cell_type": "markdown",
   "metadata": {},
   "source": [
    "The reason for the error is that `r` shoud not reference memory that was deallocated when `x` went out of scope"
   ]
  },
  {
   "cell_type": "markdown",
   "metadata": {},
   "source": [
    "## The Borrow Checker\n",
    "\n",
    "<span style=\"color:salmon\">***The Rust compiler has a borrow checker that compares scopes to determine whether all borrows are valid***</span>\n",
    "```rust\n",
    "fn main() {\n",
    "    let r;                // ---------+-- 'a\n",
    "                          //          |\n",
    "    {                     //          |\n",
    "        let x = 5;        // -+-- 'b  |\n",
    "        r = &x;           //  |       |\n",
    "    }                     // -+       |\n",
    "                          //          |\n",
    "    println!(\"r: {}\", r); //          |\n",
    "}                         // ---------+\n",
    "```\n",
    "<span style=\"color:orange\">*Here, we’ve annotated the lifetime of `r` with `'a` and the lifetime of `x` with `'b`. As you can see, the inner `'b` block is much smaller than the outer `'a` lifetime block. At compile time, Rust compares the size of the two lifetimes and sees that `r` has a lifetime of `'a` but that it refers to memory with a lifetime of `'b`. The program is rejected because `'b` is shorter than `'a`: the subject of the reference doesn’t live as long as the reference.*</span>\n",
    "\n",
    "To fix the above code, we have something like below with a valid reference because the data `x` has a longer lifetime than the reference `r`\n",
    "```rust\n",
    "fn main() {\n",
    "    let x = 5;            // ----------+-- 'b\n",
    "                          //           |\n",
    "    let r = &x;           // --+-- 'a  |\n",
    "                          //   |       |\n",
    "    println!(\"r: {}\", r); //   |       |\n",
    "                          // --+       |\n",
    "}                         // ----------+\n",
    "```"
   ]
  },
  {
   "cell_type": "markdown",
   "metadata": {},
   "source": [
    "## Generic Lifetimes in Functions\n",
    "\n",
    "Let's write a function `longest` to return the longer of two string slices like below, which looks right but won't compile"
   ]
  },
  {
   "cell_type": "code",
   "execution_count": 2,
   "metadata": {
    "vscode": {
     "languageId": "rust"
    }
   },
   "outputs": [
    {
     "ename": "Error",
     "evalue": "missing lifetime specifier",
     "output_type": "error",
     "traceback": [
      "\u001b[31m[E0106] Error:\u001b[0m missing lifetime specifier",
      "   \u001b[38;5;246m╭\u001b[0m\u001b[38;5;246m─\u001b[0m\u001b[38;5;246m[\u001b[0mcommand_2:1:1\u001b[38;5;246m]\u001b[0m",
      "   \u001b[38;5;246m│\u001b[0m",
      " \u001b[38;5;246m9 │\u001b[0m \u001b[38;5;249mf\u001b[0m\u001b[38;5;249mn\u001b[0m\u001b[38;5;249m \u001b[0m\u001b[38;5;249ml\u001b[0m\u001b[38;5;249mo\u001b[0m\u001b[38;5;249mn\u001b[0m\u001b[38;5;249mg\u001b[0m\u001b[38;5;249me\u001b[0m\u001b[38;5;249ms\u001b[0m\u001b[38;5;249mt\u001b[0m\u001b[38;5;249m(\u001b[0m\u001b[38;5;249mx\u001b[0m\u001b[38;5;249m:\u001b[0m\u001b[38;5;249m \u001b[0m\u001b[38;5;249m&\u001b[0m\u001b[38;5;249ms\u001b[0m\u001b[38;5;249mt\u001b[0m\u001b[38;5;249mr\u001b[0m\u001b[38;5;249m,\u001b[0m\u001b[38;5;249m \u001b[0m\u001b[38;5;249my\u001b[0m\u001b[38;5;249m:\u001b[0m\u001b[38;5;249m \u001b[0m\u001b[38;5;249m&\u001b[0m\u001b[38;5;249ms\u001b[0m\u001b[38;5;249mt\u001b[0m\u001b[38;5;249mr\u001b[0m\u001b[38;5;249m)\u001b[0m\u001b[38;5;249m \u001b[0m\u001b[38;5;249m-\u001b[0m\u001b[38;5;249m>\u001b[0m\u001b[38;5;249m \u001b[0m\u001b[38;5;54m&\u001b[0m\u001b[38;5;249ms\u001b[0m\u001b[38;5;249mt\u001b[0m\u001b[38;5;249mr\u001b[0m\u001b[38;5;249m \u001b[0m\u001b[38;5;249m{\u001b[0m",
      " \u001b[38;5;240m  │\u001b[0m                                 \u001b[38;5;54m┬\u001b[0m  ",
      " \u001b[38;5;240m  │\u001b[0m                                 \u001b[38;5;54m╰\u001b[0m\u001b[38;5;54m─\u001b[0m\u001b[38;5;54m─\u001b[0m expected named lifetime parameter",
      "\u001b[38;5;246m───╯\u001b[0m"
     ]
    }
   ],
   "source": [
    "fn main() {\n",
    "    let string1 = String::from(\"abcd\");\n",
    "    let string2 = \"xyz\";\n",
    "\n",
    "    let result = longest(string1.as_str(), string2);\n",
    "    println!(\"The longest string is {}\", result);\n",
    "}\n",
    "\n",
    "fn longest(x: &str, y: &str) -> &str {\n",
    "    if x.len() > y.len() {\n",
    "        x\n",
    "    } else {\n",
    "        y\n",
    "    }\n",
    "}"
   ]
  },
  {
   "cell_type": "markdown",
   "metadata": {},
   "source": [
    "<span style=\"color:orange\">*The error message reveals that the return type needs a generic lifetime parameter on it because **Rust can’t tell whether the reference being returned refers to `x` or `y`**. Actually, we don’t know either, because the `if` block in the body of this function returns a reference to `x` and the `else` block returns a reference to `y`!  \n",
    "The borrow checker can’t determine this either, because it doesn’t know how the lifetimes of `x` and `y` relate to the lifetime of the return value. **To fix this error, we’ll add generic lifetime parameters that define the relationship between the references so the borrow checker can perform its analysis**.*</span>"
   ]
  },
  {
   "cell_type": "markdown",
   "metadata": {},
   "source": [
    "## Lifetime Annotation Syntax\n",
    "\n",
    "<span style=\"color:lightgreen\">***Lifetime annotations don’t change how long any of the references live. Rather, they describe the relationships of the lifetimes of multiple references to each other without affecting the lifetimes. One lifetime annotation by itself doesn’t have much meaning, because the annotations are meant to tell Rust how generic lifetime parameters of multiple references relate to each other.**.  \n",
    "Just as functions can accept any type when the signature specifies a generic type parameter, functions can accept references with any lifetime by specifying a generic lifetime parameter.*</span>\n",
    "\n",
    "Below are some examples of lifetime annotation syntax:\n",
    "```rust\n",
    "&i32        // a reference\n",
    "&'a i32     // a reference to an i32 value with an explicit lifetime\n",
    "&'a mut i32 // a mutable reference to an i32 value with an explicit lifetime\n",
    "```"
   ]
  },
  {
   "cell_type": "markdown",
   "metadata": {},
   "source": [
    "## Lifetime Annotations in Function Signatures\n",
    "\n",
    "<span style=\"color:skyblue\">*To use lifetime annotations in function signatures, we need to **declare the generic lifetime parameters inside angle brackets between the function name and the parameter list, just as we did with generic type parameters**.*</span>\n",
    "\n",
    "For example, let's fix the `longest` function with lifetime:"
   ]
  },
  {
   "cell_type": "code",
   "execution_count": 3,
   "metadata": {
    "vscode": {
     "languageId": "rust"
    }
   },
   "outputs": [
    {
     "name": "stdout",
     "output_type": "stream",
     "text": [
      "The longest string is abcd\n"
     ]
    },
    {
     "data": {
      "text/plain": [
       "()"
      ]
     },
     "execution_count": 3,
     "metadata": {},
     "output_type": "execute_result"
    }
   ],
   "source": [
    "fn main() {\n",
    "    let string1 = String::from(\"abcd\");\n",
    "    let string2 = \"xyz\";\n",
    "\n",
    "    let result = longest(string1.as_str(), string2);\n",
    "    println!(\"The longest string is {}\", result);\n",
    "}\n",
    "\n",
    "fn longest<'a>(x: &'a str, y: &'a str) -> &'a str {  // this defines that all the references \n",
    "                                                     // in the signature must have the same lifetime 'a\n",
    "    if x.len() > y.len() {\n",
    "        x\n",
    "    } else {\n",
    "        y\n",
    "    }\n",
    "}\n",
    "\n",
    "main()"
   ]
  },
  {
   "cell_type": "markdown",
   "metadata": {},
   "source": [
    "> 📓 **Some Notes** \n",
    "> - <span style=\"color:violet\">*When we specify the lifetime parameters in this function signature, we’re not changing the lifetimes of any values passed in or returned. Rather, we’re specifying that the borrow checker should reject any values that don’t adhere to these constraints*</span>\n",
    "> - <span style=\"color:violet\">*When we pass concrete references to `longest`, the generic lifetime `'a` will get the concrete lifetime that is equal to the smaller of the lifetimes of `x` and `y` (i.e. the overlap of `x`'s and `y`'s scopes)*</span>"
   ]
  },
  {
   "cell_type": "markdown",
   "metadata": {},
   "source": [
    "Let’s look at how the lifetime annotations restrict the `longest` function by passing in references that have different concrete lifetimes"
   ]
  },
  {
   "cell_type": "code",
   "execution_count": 9,
   "metadata": {
    "vscode": {
     "languageId": "rust"
    }
   },
   "outputs": [
    {
     "name": "stdout",
     "output_type": "stream",
     "text": [
      "The longest string is 'long string is long'\n"
     ]
    },
    {
     "data": {
      "text/plain": [
       "()"
      ]
     },
     "execution_count": 9,
     "metadata": {},
     "output_type": "execute_result"
    }
   ],
   "source": [
    "fn main() {\n",
    "    let string1 = String::from(\"long string is long\"); // valid until the end of the outer scope\n",
    "\n",
    "    {\n",
    "        let string2 = String::from(\"xyz\");  // valid until the end of the inner scope\n",
    "        let result = longest(string1.as_str(), string2.as_str());  // valid until the end of the inner scope,\n",
    "        println!(\"The longest string is '{}'\", result);\n",
    "    }\n",
    "    // println!(\"The longest string is {}\", result);  // print `result` here won't work\n",
    "                                                      // since `result` has the same scope with `string2`\n",
    "}\n",
    "\n",
    "fn longest<'a>(x: &'a str, y: &'a str) -> &'a str {\n",
    "    if x.len() > y.len() {\n",
    "        x\n",
    "    } else {\n",
    "        y\n",
    "    }\n",
    "}\n",
    "\n",
    "main()"
   ]
  },
  {
   "cell_type": "markdown",
   "metadata": {},
   "source": [
    "## Thinking in Terms of Lifetimes\n",
    "\n",
    "<span style=\"color:lightgreen\">***When returning a reference from a function, the lifetime parameter for the return type needs to match the lifetime parameter for one of the parameters.** If the reference returned does not refer to one of the parameters, it will refer to a value created within this function and create a dangling reference because the value will go out of scope at the end of the function.*</span>\n",
    "\n",
    "For example, the code below won't compile with the `Error: returns a value referencing data owned by the current function` since `result` goes out of scope and gets cleaned up at the end of the `longest` function. We’re also trying to return a reference to result from the function"
   ]
  },
  {
   "cell_type": "code",
   "execution_count": 4,
   "metadata": {
    "vscode": {
     "languageId": "rust"
    }
   },
   "outputs": [
    {
     "ename": "Error",
     "evalue": "cannot return value referencing local variable `result`",
     "output_type": "error",
     "traceback": [
      "\u001b[31m[E0515] Error:\u001b[0m cannot return value referencing local variable `result`",
      "   \u001b[38;5;246m╭\u001b[0m\u001b[38;5;246m─\u001b[0m\u001b[38;5;246m[\u001b[0mcommand_4:1:1\u001b[38;5;246m]\u001b[0m",
      "   \u001b[38;5;246m│\u001b[0m",
      " \u001b[38;5;246m4 │\u001b[0m \u001b[38;5;249m \u001b[0m\u001b[38;5;249m \u001b[0m\u001b[38;5;249m \u001b[0m\u001b[38;5;249m \u001b[0m\u001b[38;5;100mr\u001b[0m\u001b[38;5;100me\u001b[0m\u001b[38;5;100ms\u001b[0m\u001b[38;5;100mu\u001b[0m\u001b[38;5;100ml\u001b[0m\u001b[38;5;100mt\u001b[0m\u001b[38;5;54m.\u001b[0m\u001b[38;5;54ma\u001b[0m\u001b[38;5;54ms\u001b[0m\u001b[38;5;54m_\u001b[0m\u001b[38;5;54ms\u001b[0m\u001b[38;5;54mt\u001b[0m\u001b[38;5;54mr\u001b[0m\u001b[38;5;54m(\u001b[0m\u001b[38;5;54m)\u001b[0m",
      " \u001b[38;5;240m  │\u001b[0m     \u001b[38;5;100m─\u001b[0m\u001b[38;5;100m─\u001b[0m\u001b[38;5;100m─\u001b[0m\u001b[38;5;100m┬\u001b[0m\u001b[38;5;100m─\u001b[0m\u001b[38;5;100m─\u001b[0m\u001b[38;5;54m─\u001b[0m\u001b[38;5;54m┬\u001b[0m\u001b[38;5;54m─\u001b[0m\u001b[38;5;54m─\u001b[0m\u001b[38;5;54m─\u001b[0m\u001b[38;5;54m─\u001b[0m\u001b[38;5;54m─\u001b[0m\u001b[38;5;54m─\u001b[0m\u001b[38;5;54m─\u001b[0m  ",
      " \u001b[38;5;240m  │\u001b[0m        \u001b[38;5;100m╰\u001b[0m\u001b[38;5;100m─\u001b[0m\u001b[38;5;100m─\u001b[0m\u001b[38;5;100m─\u001b[0m\u001b[38;5;100m─\u001b[0m\u001b[38;5;100m─\u001b[0m\u001b[38;5;100m─\u001b[0m\u001b[38;5;100m─\u001b[0m\u001b[38;5;100m─\u001b[0m\u001b[38;5;100m─\u001b[0m\u001b[38;5;100m─\u001b[0m\u001b[38;5;100m─\u001b[0m\u001b[38;5;100m─\u001b[0m\u001b[38;5;100m─\u001b[0m `result` is borrowed here",
      " \u001b[38;5;240m  │\u001b[0m            \u001b[38;5;54m│\u001b[0m         ",
      " \u001b[38;5;240m  │\u001b[0m            \u001b[38;5;54m╰\u001b[0m\u001b[38;5;54m─\u001b[0m\u001b[38;5;54m─\u001b[0m\u001b[38;5;54m─\u001b[0m\u001b[38;5;54m─\u001b[0m\u001b[38;5;54m─\u001b[0m\u001b[38;5;54m─\u001b[0m\u001b[38;5;54m─\u001b[0m\u001b[38;5;54m─\u001b[0m\u001b[38;5;54m─\u001b[0m returns a value referencing data owned by the current function",
      "\u001b[38;5;246m───╯\u001b[0m"
     ]
    }
   ],
   "source": [
    "fn longest<'a>(x: &str, y: &str) -> &'a str {\n",
    "    println!(\"{x}, {y}\");\n",
    "    let result = String::from(\"really long string\");\n",
    "    result.as_str()\n",
    "}"
   ]
  },
  {
   "cell_type": "markdown",
   "metadata": {},
   "source": [
    "## Lifetime Annotations in Struct Definitions\n",
    "\n",
    "<span style=\"color:skyblue\">*So far, the structs we’ve defined all hold owned types. **We can define structs to hold references, but in that case we would need to add a lifetime annotation on every reference in the struct’s definition***</span>"
   ]
  },
  {
   "cell_type": "code",
   "execution_count": 3,
   "metadata": {
    "vscode": {
     "languageId": "rust"
    }
   },
   "outputs": [
    {
     "data": {
      "text/plain": [
       "()"
      ]
     },
     "execution_count": 3,
     "metadata": {},
     "output_type": "execute_result"
    }
   ],
   "source": [
    "struct ImportantExcerpt<'a> { // this means an instance of ImportantExcerpt can’t outlive \n",
    "                             // the reference it holds in its part field.\n",
    "    part: &'a str,\n",
    "}\n",
    "\n",
    "fn main() {\n",
    "    let novel = String::from(\"Call me Ishmael. Some years ago...\");\n",
    "    let first_sentence = novel.split('.').next().expect(\"Could not find a '.'\");\n",
    "    let i = ImportantExcerpt {\n",
    "        part: first_sentence,\n",
    "    };\n",
    "    // novel doesn’t go out of scope until after the ImportantExcerpt \n",
    "    // goes out of scope, so the reference in the ImportantExcerpt instance is valid.\n",
    "}\n",
    "\n",
    "main()"
   ]
  },
  {
   "cell_type": "markdown",
   "metadata": {},
   "source": [
    "## Lifetime Elision\n",
    "In early versions of Rust, every reference needed an explicit lifetime. However, lifetime annotations follow a few deterministic pattern, so they were added to the compiler in later versions. \n",
    "\n",
    "<span style=\"color:violet\">*The patterns programmed into Rust’s analysis of references are called the **lifetime elision rules***. *If Rust deterministically applies the rules but there is still ambiguity as to what lifetimes the references have, the compiler won’t guess what the lifetime of the remaining references should be but instead gives you an error that you can resolve by adding the lifetime annotations.*</span>\n",
    "\n",
    "<span style=\"color:lightgreen\">*Lifetimes on function or method parameters are called **input lifetimes**, and lifetimes on return values are called **output lifetimes**. We have 1 rule for input lifetimes and 2 for output lifetimes*</span>\n",
    "\n",
    "> **<span style=\"color:salmon\">The 3 lifetime rules</span>** 📓\n",
    "> 1. <span style=\"color:salmon\">*The compiler assigns a lifetime parameter to each parameter that’s a reference*</span>\n",
    "> 2. <span style=\"color:salmon\">*If there is exactly one input lifetime parameter, that lifetime is assigned to all output lifetime parameters*</span>\n",
    "> 3. <span style=\"color:salmon\">*If there are multiple input lifetime parameters, but one of them is `&self` or `&mut self` because this is a method, the lifetime of `self` is assigned to all output lifetime parameters*</span>"
   ]
  },
  {
   "cell_type": "markdown",
   "metadata": {},
   "source": [
    "## Lifetime Annotations in Method Definitions\n",
    "\n",
    "Where we declare and use the lifetime parameters depends on whether they’re related to the struct fields or the method parameters and return values. Lifetime names for struct fields always need to be declared after the `impl` keyword and then used after the struct’s name, because those lifetimes are part of the struct’s type."
   ]
  },
  {
   "cell_type": "code",
   "execution_count": 13,
   "metadata": {
    "vscode": {
     "languageId": "rust"
    }
   },
   "outputs": [
    {
     "name": "stdout",
     "output_type": "stream",
     "text": [
      "i.level() = 3\n",
      "Attention please: Call me Ishmael\n"
     ]
    },
    {
     "data": {
      "text/plain": [
       "()"
      ]
     },
     "execution_count": 13,
     "metadata": {},
     "output_type": "execute_result"
    }
   ],
   "source": [
    "#[derive(Debug)]\n",
    "struct ImportantExcerpt<'a> { // this means an instance of ImportantExcerpt can’t outlive \n",
    "                             // the reference it holds in its part field.\n",
    "    part: &'a str,\n",
    "}\n",
    "\n",
    "impl<'a> ImportantExcerpt<'a> {\n",
    "    // we’re not required to annotate the lifetime \n",
    "    // of the reference to self because of the first elision rule\n",
    "    fn level(&self) -> i32 {\n",
    "        3\n",
    "    }\n",
    "}\n",
    "\n",
    "impl<'a> ImportantExcerpt<'a> {\n",
    "    // here we apply the 3rd rule: there are two input lifetimes, \n",
    "    // so Rust applies the first lifetime elision rule and gives \n",
    "    // both &self and announcement their own lifetimes\n",
    "    fn announce_and_return_part(&self, announcement: &str) -> &str {\n",
    "        println!(\"Attention please: {}\", announcement);\n",
    "        self.part\n",
    "    }\n",
    "}\n",
    "\n",
    "\n",
    "fn main() {\n",
    "    let novel = String::from(\"Call me Ishmael. Some years ago...\");\n",
    "    let first_sentence = novel.split('.').next().expect(\"Could not find a '.'\");\n",
    "    let i = ImportantExcerpt {\n",
    "        part: first_sentence,\n",
    "    };\n",
    "    // novel doesn’t go out of scope until after the ImportantExcerpt \n",
    "    // goes out of scope, so the reference in the ImportantExcerpt instance is valid.\n",
    "    println!(\"i.level() = {}\", i.level());\n",
    "    i.announce_and_return_part(first_sentence);\n",
    "}\n",
    "\n",
    "main()"
   ]
  },
  {
   "cell_type": "markdown",
   "metadata": {},
   "source": [
    "## The Static Lifetime\n",
    "<span style=\"color:lightgreen\">*One special lifetime we need to discuss is `'static`, which denotes that **the affected reference can live for the entire duration of the program***</span>"
   ]
  },
  {
   "cell_type": "code",
   "execution_count": null,
   "metadata": {
    "vscode": {
     "languageId": "rust"
    }
   },
   "outputs": [],
   "source": [
    "let s: &'static str = \"I have a static lifetime.\";"
   ]
  },
  {
   "cell_type": "markdown",
   "metadata": {},
   "source": [
    "The text of this string is stored directly in the program’s binary, which is always available. Therefore, the lifetime of all string literals is `'static`.\n",
    "\n",
    "> Note: Most of the time, an error message suggesting the `'static` lifetime results from attempting to create a dangling reference or a mismatch of the available lifetimes. In such cases, the solution is fixing those problems, not specifying the `'static` lifetime."
   ]
  },
  {
   "cell_type": "markdown",
   "metadata": {},
   "source": [
    "## Generic Type Parameters, Trait Bounds, and Lifetimes Together"
   ]
  },
  {
   "cell_type": "code",
   "execution_count": null,
   "metadata": {
    "vscode": {
     "languageId": "rust"
    }
   },
   "outputs": [],
   "source": [
    "fn main() {\n",
    "    let string1 = String::from(\"abcd\");\n",
    "    let string2 = \"xyz\";\n",
    "\n",
    "    let result = longest_with_an_announcement(\n",
    "        string1.as_str(),\n",
    "        string2,\n",
    "        \"Today is someone's birthday!\",\n",
    "    );\n",
    "    println!(\"The longest string is {}\", result);\n",
    "}\n",
    "\n",
    "use std::fmt::Display;\n",
    "\n",
    "fn longest_with_an_announcement<'a, T>(\n",
    "    // compare the loger of x and y. \n",
    "    // The `ann` parameter can be any type that implements the Display trait\n",
    "    x: &'a str,\n",
    "    y: &'a str,\n",
    "    ann: T,\n",
    ") -> &'a str\n",
    "where\n",
    "    T: Display,\n",
    "{\n",
    "    println!(\"Announcement! {}\", ann);\n",
    "    if x.len() > y.len() {\n",
    "        x\n",
    "    } else {\n",
    "        y\n",
    "    }\n",
    "}"
   ]
  },
  {
   "cell_type": "markdown",
   "metadata": {},
   "source": [
    "# Summary\n",
    "\n",
    "> 🧾\n",
    "> <span style=\"color:salmon\">*In this chapter, we learned generic type parameters, traits and trait bounds, and generic lifetime parameters, these help write code without repetition that works in many different situations.*</span>\n",
    ">\n",
    "> - <span style=\"color:salmon\">*Generic type parameters let you apply the code to different types*</span>\n",
    "> - <span style=\"color:salmon\">*Traits and trait bounds ensure that even though the types are generic, they’ll have the behavior the code needs*</span>\n",
    "> - <span style=\"color:salmon\">*Lifetime annotations ensure that this flexible code won’t have any dangling references*</span>\n",
    ">\n",
    "> <span style=\"color:salmon\">*Furthermore, all of the analysis happens at compile time, which doesn’t affect runtime performance!*</span>\n",
    "\n"
   ]
  }
 ],
 "metadata": {
  "kernelspec": {
   "display_name": "Rust",
   "language": "rust",
   "name": "rust"
  },
  "language_info": {
   "codemirror_mode": "rust",
   "file_extension": ".rs",
   "mimetype": "text/rust",
   "name": "Rust",
   "pygment_lexer": "rust",
   "version": ""
  }
 },
 "nbformat": 4,
 "nbformat_minor": 2
}
