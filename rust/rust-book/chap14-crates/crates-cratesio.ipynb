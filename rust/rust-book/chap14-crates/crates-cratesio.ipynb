{
 "cells": [
  {
   "cell_type": "markdown",
   "metadata": {},
   "source": [
    "## Intro\n",
    "\n",
    "So far we’ve used only the most basic features of Cargo to build, run, and test our code, but it can do a lot more. In this chapter, we’ll discuss some of its other, more advanced features to show you how to do the following:\n",
    "\n",
    "- Customize your build through release profiles\n",
    "- Publish libraries on crates.io\n",
    "- Organize large projects with workspaces\n",
    "- Install binaries from crates.io\n",
    "- Extend Cargo using custom commands"
   ]
  },
  {
   "cell_type": "code",
   "execution_count": null,
   "metadata": {},
   "outputs": [],
   "source": []
  }
 ],
 "metadata": {
  "language_info": {
   "name": "python"
  }
 },
 "nbformat": 4,
 "nbformat_minor": 2
}
