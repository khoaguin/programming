{
 "cells": [
  {
   "cell_type": "markdown",
   "metadata": {},
   "source": [
    "## Intro\n",
    "\n",
    "Rust takes a lot of inspiration from functional languages. <span style=\"color:skyblue\">*Programming in a functional style often includes using functions as values by passing them in arguments, returning them from other functions, assigning them to variables for later execution, and so forth.*</span>\n",
    "\n",
    "In this chapter, we will cover:\n",
    "\n",
    "- **Closures**, a function-like construct you can store in a variable\n",
    "- **Iterators**, a way of processing a series of elements\n",
    "- How to use closures and iterators to improve the I/O project in Chapter 12\n",
    "- The performance of closures and iterators (Spoiler alert: they're faster than you might think!)\n"
   ]
  },
  {
   "cell_type": "markdown",
   "metadata": {},
   "source": [
    "## Closures: Anonymous Functions that Capture Their Environment\n",
    "\n",
    "<span style=\"color:skyblue\">***Rust’s closures are anonymous functions you can save in a variable or pass as arguments to other functions. You can create the closure in one place and then call the closure elsewhere to evaluate it in a different context. Unlike functions, closures can capture values from the scope in which they’re defined. We’ll demonstrate how these closure features allow for code reuse and behavior customization.***</span>\n",
    "\n",
    "### Capturing the Environment with Closures\n",
    "*Scenario*: Every so often, our t-shirt company gives away an exclusive, limited-edition shirt to someone on our mailing list as a promotion. People on the mailing list can optionally add their favorite color to their profile. If the person chosen for a free shirt has their favorite color set, they get that color shirt. If the person hasn’t specified a favorite color, they get whatever color the company currently has the most of."
   ]
  },
  {
   "cell_type": "code",
   "execution_count": 2,
   "metadata": {},
   "outputs": [
    {
     "name": "stdout",
     "output_type": "stream",
     "text": [
      "The user with preference Some(Red) gets Red\n",
      "The user with preference None gets Blue\n"
     ]
    },
    {
     "data": {
      "text/plain": [
       "()"
      ]
     },
     "execution_count": 2,
     "metadata": {},
     "output_type": "execute_result"
    }
   ],
   "source": [
    "#[derive(Debug, PartialEq, Copy, Clone)]\n",
    "enum ShirtColor {\n",
    "    Red,\n",
    "    Blue,\n",
    "}\n",
    "\n",
    "/// representing the shirt colors currently in stock. \n",
    "struct Inventory {\n",
    "    shirts: Vec<ShirtColor>,\n",
    "}\n",
    "\n",
    "impl Inventory {\n",
    "    /// gets the optional shirt color preference of the free shirt winner, \n",
    "    /// and returns the shirt color the person will get\n",
    "    fn giveaway(&self, user_preference: Option<ShirtColor>) -> ShirtColor {\n",
    "        user_preference.unwrap_or_else(|| self.most_stocked())\n",
    "        // here, we used closure. We got the user preference as a \n",
    "        // parameter of type `Option<ShirtColor>` and call the \n",
    "        // `unwrap_or_else` method on `user_preference`. The\n",
    "        // `unwrap_or_else` takes one argument: a closure without\n",
    "        // any arguments, calls `self.most_stocked()` in the body \n",
    "        // that returns a value `T` of the calling `Option<T>`\n",
    "        // (In this case, `T` is `ShirtColor`)\n",
    "        // If the `Option<T>` is the `Some` variant, `unwrap_or_else` \n",
    "        // returns the value from within the `Some`. If the `Option<T>` \n",
    "        // is the `None` variant, `unwrap_or_else` calls the closure \n",
    "        // and returns the value returned by the closure.\n",
    "        // Note: Here, the closure captures an immutable reference \n",
    "        // to the self `Inventory` instance and passes it with the \n",
    "        // code we specify to the `unwrap_or_else` method. \n",
    "        // Functions, on the other hand, are not able to capture \n",
    "        // their environment in this way.\n",
    "    }\n",
    "\n",
    "    /// find out if the store has more blue / red shirts in the stock\n",
    "    fn most_stocked(&self) -> ShirtColor {\n",
    "        let mut num_red = 0;\n",
    "        let mut num_blue = 0;\n",
    "\n",
    "        for color in &self.shirts {\n",
    "            match color {\n",
    "                ShirtColor::Red => num_red += 1,\n",
    "                ShirtColor::Blue => num_blue += 1,\n",
    "            }\n",
    "        }\n",
    "\n",
    "        if num_red > num_blue {\n",
    "            ShirtColor::Red\n",
    "        } else {\n",
    "            ShirtColor::Blue\n",
    "        }\n",
    "    }\n",
    "}\n",
    "\n",
    "fn main() {\n",
    "    let store = Inventory {\n",
    "        shirts: vec![ShirtColor::Blue, ShirtColor::Red, ShirtColor::Blue],\n",
    "    };\n",
    "\n",
    "    let user_pref1 = Some(ShirtColor::Red);\n",
    "    let giveaway1 = store.giveaway(user_pref1);\n",
    "    println!(\n",
    "        \"The user with preference {:?} gets {:?}\",\n",
    "        user_pref1, giveaway1\n",
    "    );\n",
    "\n",
    "    let user_pref2 = None;\n",
    "    let giveaway2 = store.giveaway(user_pref2);\n",
    "    println!(\n",
    "        \"The user with preference {:?} gets {:?}\",\n",
    "        user_pref2, giveaway2\n",
    "    );\n",
    "}\n",
    "\n",
    "main()"
   ]
  },
  {
   "cell_type": "markdown",
   "metadata": {},
   "source": [
    "### Closure Type Inference and Annotation\n",
    "\n",
    "Unlike functions, closures don’t usually require you to annotate the types of the parameters or the return value like `fn` functions do. This is because functions are often exposed to users so we need everyone to agree on the types of values; closures, on other other hand, are used without naming and are not exposed to users.\n",
    "\n",
    "As with variables, we can add type annotations if we want to increase explicitness and clarity at the cost of being more verbose than is strictly necessary."
   ]
  },
  {
   "cell_type": "code",
   "execution_count": 4,
   "metadata": {},
   "outputs": [
    {
     "name": "stdout",
     "output_type": "stream",
     "text": [
      "calculating slowly...\n",
      "Today, do 10 pushups!\n",
      "calculating slowly...\n",
      "Next, do 10 situps!\n"
     ]
    },
    {
     "data": {
      "text/plain": [
       "()"
      ]
     },
     "execution_count": 4,
     "metadata": {},
     "output_type": "execute_result"
    }
   ],
   "source": [
    "use std::thread;\n",
    "use std::time::Duration;\n",
    "\n",
    "fn generate_workout(intensity: u32, random_number: u32) {\n",
    "    let expensive_closure = |num: u32| -> u32 {  // type annotation with\n",
    "                                                 // closure here\n",
    "        println!(\"calculating slowly...\");\n",
    "        thread::sleep(Duration::from_secs(2));\n",
    "        num\n",
    "    };\n",
    "\n",
    "    if intensity < 25 {\n",
    "        println!(\"Today, do {} pushups!\", expensive_closure(intensity));\n",
    "        println!(\"Next, do {} situps!\", expensive_closure(intensity));\n",
    "    } else {\n",
    "        if random_number == 3 {\n",
    "            println!(\"Take a break today! Remember to stay hydrated!\");\n",
    "        } else {\n",
    "            println!(\n",
    "                \"Today, run for {} minutes!\",\n",
    "                expensive_closure(intensity)\n",
    "            );\n",
    "        }\n",
    "    }\n",
    "}\n",
    "\n",
    "fn main() {\n",
    "    let simulated_user_specified_value = 10;\n",
    "    let simulated_random_number = 7;\n",
    "\n",
    "    generate_workout(simulated_user_specified_value, simulated_random_number);\n",
    "}\n",
    "\n",
    "main()"
   ]
  },
  {
   "cell_type": "markdown",
   "metadata": {},
   "source": [
    "How closure syntax is similar to function syntax except for the use of pipes and the amount of syntax that is optional:\n",
    "\n",
    "```rust\n",
    "fn  add_one_v1   (x: u32) -> u32 { x + 1 }\n",
    "let add_one_v2 = |x: u32| -> u32 { x + 1 };\n",
    "let add_one_v3 = |x|             { x + 1 };  //  require the closures to be evaluated to be able to compile\n",
    "let add_one_v4 = |x|               x + 1  ; //  require the closures to be evaluated to be able to compile\n",
    "```"
   ]
  },
  {
   "cell_type": "code",
   "execution_count": 6,
   "metadata": {},
   "outputs": [
    {
     "name": "stdout",
     "output_type": "stream",
     "text": [
      "s = hello\n"
     ]
    },
    {
     "data": {
      "text/plain": [
       "()"
      ]
     },
     "execution_count": 6,
     "metadata": {},
     "output_type": "execute_result"
    }
   ],
   "source": [
    "fn main() {\n",
    "    let example_closure = |x| x;\n",
    "\n",
    "    let s = example_closure(String::from(\"hello\"));\n",
    "    println!(\"s = {s}\");\n",
    "    // let n = example_closure(5);\n",
    "}\n",
    "\n",
    "main()"
   ]
  },
  {
   "cell_type": "markdown",
   "metadata": {},
   "source": [
    "### Capturing References or Moving Ownership\n",
    "\n",
    "<span style=\"color:skyblue\">*Closures can capture values from their environment in three ways: borrowing immutably, borrowing mutably, and taking ownership, which directly map to the three ways a function can take a parameter. The closure will decide which of these to use based on what the body of the function does with the captured values.*</span>\n",
    "\n",
    "Below is an example of borrowing immutably:"
   ]
  },
  {
   "cell_type": "code",
   "execution_count": 8,
   "metadata": {},
   "outputs": [
    {
     "name": "stdout",
     "output_type": "stream",
     "text": [
      "Before defining closure: [1, 2, 3]\n",
      "Before calling closure: [1, 2, 3]\n",
      "From closure: [1, 2, 3]\n",
      "After calling closure: [1, 2, 3]\n"
     ]
    },
    {
     "data": {
      "text/plain": [
       "()"
      ]
     },
     "execution_count": 8,
     "metadata": {},
     "output_type": "execute_result"
    }
   ],
   "source": [
    "fn main() {\n",
    "    let list = vec![1, 2, 3];\n",
    "    println!(\"Before defining closure: {:?}\", list);\n",
    "\n",
    "    let only_borrows = || println!(\"From closure: {:?}\", list);\n",
    "\n",
    "    println!(\"Before calling closure: {:?}\", list);\n",
    "    only_borrows();  // calling the closure\n",
    "    println!(\"After calling closure: {:?}\", list);\n",
    "}\n",
    "\n",
    "main()"
   ]
  },
  {
   "cell_type": "markdown",
   "metadata": {},
   "source": [
    "Because we can have multiple immutable references to list at the same time, list is still accessible from the code before the closure definition, after the closure definition but before the closure is called, and after the closure is called.\n",
    "\n",
    "Below, we make a closure that mutate its input:"
   ]
  },
  {
   "cell_type": "code",
   "execution_count": 15,
   "metadata": {},
   "outputs": [
    {
     "name": "stdout",
     "output_type": "stream",
     "text": [
      "Before defining closure: [1, 2, 3]\n",
      "After calling closure: [1, 2, 3, 7]\n"
     ]
    },
    {
     "data": {
      "text/plain": [
       "()"
      ]
     },
     "execution_count": 15,
     "metadata": {},
     "output_type": "execute_result"
    }
   ],
   "source": [
    "fn main() {\n",
    "    let mut list = vec![1, 2, 3];\n",
    "    println!(\"Before defining closure: {:?}\", list);\n",
    "\n",
    "    let mut borrows_mutably = || list.push(7);\n",
    "\n",
    "    // will throw error if print since immutable borrow \n",
    "    // to print isn’t allowed because no other borrows \n",
    "    // are allowed when there’s a mutable borrow.\n",
    "    // println!(\"Before defining closure: {:?}\", list);\n",
    "\n",
    "    borrows_mutably();\n",
    "    println!(\"After calling closure: {:?}\", list);\n",
    "}\n",
    "\n",
    "main()"
   ]
  },
  {
   "cell_type": "markdown",
   "metadata": {},
   "source": [
    "Use the `move` keyword to force the closure to take ownership of the values it uses in the environment even though the body of the closure doesn’t strictly need ownership"
   ]
  },
  {
   "cell_type": "code",
   "execution_count": 20,
   "metadata": {},
   "outputs": [
    {
     "name": "stdout",
     "output_type": "stream",
     "text": [
      "Before defining closure: [1, 2, 3]\n",
      "From thread: [1, 2, 3]\n"
     ]
    },
    {
     "data": {
      "text/plain": [
       "()"
      ]
     },
     "execution_count": 20,
     "metadata": {},
     "output_type": "execute_result"
    }
   ],
   "source": [
    "use std::thread;\n",
    "\n",
    "fn main() {\n",
    "    let list = vec![1, 2, 3];\n",
    "    println!(\"Before defining closure: {:?}\", list);\n",
    "\n",
    "    thread::spawn(move || println!(\"From thread: {:?}\", list)).join().unwrap();\n",
    "}\n",
    "\n",
    "main()"
   ]
  },
  {
   "cell_type": "markdown",
   "metadata": {},
   "source": [
    "We spawn a new thread, giving the thread a closure to run as an argument. The closure body prints out the list. The closure only captured `list` using an immutable reference because that's the least amount of access to `list` needed to print it. In this example, even though the closure body still only needs an immutable reference, we need to specify that `list` should be moved into the closure by putting the `move` keyword at the beginning of the closure definition. The new thread might finish before the rest of the main thread finishes, or the main thread might finish first. If the main thread maintained ownership of `list` but ended before the new thread did and dropped list, the immutable reference in the thread would be invalid. Therefore, the compiler requires that list be moved into the closure given to the new thread so the reference will be valid. Try removing the `move` keyword or using `list` in the main thread after the closure is defined to see what compiler errors you get!"
   ]
  },
  {
   "cell_type": "code",
   "execution_count": 25,
   "metadata": {},
   "outputs": [
    {
     "ename": "Error",
     "evalue": "closure may outlive the current function, but it borrows `list`, which is owned by the current function",
     "output_type": "error",
     "traceback": [
      "\u001b[31m[E0373] Error:\u001b[0m closure may outlive the current function, but it borrows `list`, which is owned by the current function",
      "   \u001b[38;5;246m╭\u001b[0m\u001b[38;5;246m─\u001b[0m\u001b[38;5;246m[\u001b[0mcommand_25:1:1\u001b[38;5;246m]\u001b[0m",
      "   \u001b[38;5;246m│\u001b[0m",
      " \u001b[38;5;246m7 │\u001b[0m \u001b[38;5;249m \u001b[0m\u001b[38;5;249m \u001b[0m\u001b[38;5;249m \u001b[0m\u001b[38;5;249m \u001b[0m\u001b[38;5;68mt\u001b[0m\u001b[38;5;68mh\u001b[0m\u001b[38;5;68mr\u001b[0m\u001b[38;5;68me\u001b[0m\u001b[38;5;68ma\u001b[0m\u001b[38;5;68md\u001b[0m\u001b[38;5;68m:\u001b[0m\u001b[38;5;68m:\u001b[0m\u001b[38;5;68ms\u001b[0m\u001b[38;5;68mp\u001b[0m\u001b[38;5;68ma\u001b[0m\u001b[38;5;68mw\u001b[0m\u001b[38;5;68mn\u001b[0m\u001b[38;5;68m(\u001b[0m\u001b[38;5;100m|\u001b[0m\u001b[38;5;100m|\u001b[0m\u001b[38;5;68m \u001b[0m\u001b[38;5;68mp\u001b[0m\u001b[38;5;68mr\u001b[0m\u001b[38;5;68mi\u001b[0m\u001b[38;5;68mn\u001b[0m\u001b[38;5;68mt\u001b[0m\u001b[38;5;68ml\u001b[0m\u001b[38;5;68mn\u001b[0m\u001b[38;5;68m!\u001b[0m\u001b[38;5;68m(\u001b[0m\u001b[38;5;68m\"\u001b[0m\u001b[38;5;68mF\u001b[0m\u001b[38;5;68mr\u001b[0m\u001b[38;5;68mo\u001b[0m\u001b[38;5;68mm\u001b[0m\u001b[38;5;68m \u001b[0m\u001b[38;5;68mt\u001b[0m\u001b[38;5;68mh\u001b[0m\u001b[38;5;68mr\u001b[0m\u001b[38;5;68me\u001b[0m\u001b[38;5;68ma\u001b[0m\u001b[38;5;68md\u001b[0m\u001b[38;5;68m:\u001b[0m\u001b[38;5;68m \u001b[0m\u001b[38;5;68m{\u001b[0m\u001b[38;5;68m:\u001b[0m\u001b[38;5;68m?\u001b[0m\u001b[38;5;68m}\u001b[0m\u001b[38;5;68m\"\u001b[0m\u001b[38;5;68m,\u001b[0m\u001b[38;5;68m \u001b[0m\u001b[38;5;54ml\u001b[0m\u001b[38;5;54mi\u001b[0m\u001b[38;5;54ms\u001b[0m\u001b[38;5;54mt\u001b[0m\u001b[38;5;68m)\u001b[0m\u001b[38;5;68m)\u001b[0m\u001b[38;5;249m.\u001b[0m\u001b[38;5;249mj\u001b[0m\u001b[38;5;249mo\u001b[0m\u001b[38;5;249mi\u001b[0m\u001b[38;5;249mn\u001b[0m\u001b[38;5;249m(\u001b[0m\u001b[38;5;249m)\u001b[0m\u001b[38;5;249m.\u001b[0m\u001b[38;5;249mu\u001b[0m\u001b[38;5;249mn\u001b[0m\u001b[38;5;249mw\u001b[0m\u001b[38;5;249mr\u001b[0m\u001b[38;5;249ma\u001b[0m\u001b[38;5;249mp\u001b[0m\u001b[38;5;249m(\u001b[0m\u001b[38;5;249m)\u001b[0m\u001b[38;5;249m;\u001b[0m",
      " \u001b[38;5;240m  │\u001b[0m     \u001b[38;5;68m─\u001b[0m\u001b[38;5;68m─\u001b[0m\u001b[38;5;68m─\u001b[0m\u001b[38;5;68m─\u001b[0m\u001b[38;5;68m─\u001b[0m\u001b[38;5;68m─\u001b[0m\u001b[38;5;68m─\u001b[0m\u001b[38;5;68m─\u001b[0m\u001b[38;5;68m─\u001b[0m\u001b[38;5;68m─\u001b[0m\u001b[38;5;68m─\u001b[0m\u001b[38;5;68m─\u001b[0m\u001b[38;5;68m─\u001b[0m\u001b[38;5;68m─\u001b[0m\u001b[38;5;37m┬\u001b[0m\u001b[38;5;100m┬\u001b[0m\u001b[38;5;68m─\u001b[0m\u001b[38;5;68m─\u001b[0m\u001b[38;5;68m─\u001b[0m\u001b[38;5;68m─\u001b[0m\u001b[38;5;68m─\u001b[0m\u001b[38;5;68m─\u001b[0m\u001b[38;5;68m─\u001b[0m\u001b[38;5;68m─\u001b[0m\u001b[38;5;68m─\u001b[0m\u001b[38;5;68m─\u001b[0m\u001b[38;5;68m┬\u001b[0m\u001b[38;5;68m─\u001b[0m\u001b[38;5;68m─\u001b[0m\u001b[38;5;68m─\u001b[0m\u001b[38;5;68m─\u001b[0m\u001b[38;5;68m─\u001b[0m\u001b[38;5;68m─\u001b[0m\u001b[38;5;68m─\u001b[0m\u001b[38;5;68m─\u001b[0m\u001b[38;5;68m─\u001b[0m\u001b[38;5;68m─\u001b[0m\u001b[38;5;68m─\u001b[0m\u001b[38;5;68m─\u001b[0m\u001b[38;5;68m─\u001b[0m\u001b[38;5;68m─\u001b[0m\u001b[38;5;68m─\u001b[0m\u001b[38;5;68m─\u001b[0m\u001b[38;5;68m─\u001b[0m\u001b[38;5;68m─\u001b[0m\u001b[38;5;68m─\u001b[0m\u001b[38;5;68m─\u001b[0m\u001b[38;5;54m─\u001b[0m\u001b[38;5;54m─\u001b[0m\u001b[38;5;54m┬\u001b[0m\u001b[38;5;54m─\u001b[0m\u001b[38;5;68m─\u001b[0m\u001b[38;5;68m─\u001b[0m  ",
      " \u001b[38;5;240m  │\u001b[0m                   \u001b[38;5;37m╰\u001b[0m\u001b[38;5;37m─\u001b[0m\u001b[38;5;37m─\u001b[0m\u001b[38;5;37m─\u001b[0m\u001b[38;5;37m─\u001b[0m\u001b[38;5;37m─\u001b[0m\u001b[38;5;37m─\u001b[0m\u001b[38;5;37m─\u001b[0m\u001b[38;5;37m─\u001b[0m\u001b[38;5;37m─\u001b[0m\u001b[38;5;37m─\u001b[0m\u001b[38;5;37m─\u001b[0m\u001b[38;5;37m─\u001b[0m\u001b[38;5;37m─\u001b[0m\u001b[38;5;37m─\u001b[0m\u001b[38;5;37m─\u001b[0m\u001b[38;5;37m─\u001b[0m\u001b[38;5;37m─\u001b[0m\u001b[38;5;37m─\u001b[0m\u001b[38;5;37m─\u001b[0m\u001b[38;5;37m─\u001b[0m\u001b[38;5;37m─\u001b[0m\u001b[38;5;37m─\u001b[0m\u001b[38;5;37m─\u001b[0m\u001b[38;5;37m─\u001b[0m\u001b[38;5;37m─\u001b[0m\u001b[38;5;37m─\u001b[0m\u001b[38;5;37m─\u001b[0m\u001b[38;5;37m─\u001b[0m\u001b[38;5;37m─\u001b[0m\u001b[38;5;37m─\u001b[0m\u001b[38;5;37m─\u001b[0m\u001b[38;5;37m─\u001b[0m\u001b[38;5;37m─\u001b[0m\u001b[38;5;37m─\u001b[0m\u001b[38;5;37m─\u001b[0m\u001b[38;5;37m─\u001b[0m\u001b[38;5;37m─\u001b[0m\u001b[38;5;37m─\u001b[0m\u001b[38;5;37m─\u001b[0m\u001b[38;5;37m─\u001b[0m help: to force the closure to take ownership of `list` (and any other referenced variables), use the `move` keyword: `move `",
      " \u001b[38;5;240m  │\u001b[0m                    \u001b[38;5;100m│\u001b[0m          \u001b[38;5;68m│\u001b[0m                      \u001b[38;5;54m│\u001b[0m     ",
      " \u001b[38;5;240m  │\u001b[0m                    \u001b[38;5;100m╰\u001b[0m\u001b[38;5;100m─\u001b[0m\u001b[38;5;100m─\u001b[0m\u001b[38;5;100m─\u001b[0m\u001b[38;5;100m─\u001b[0m\u001b[38;5;100m─\u001b[0m\u001b[38;5;100m─\u001b[0m\u001b[38;5;100m─\u001b[0m\u001b[38;5;100m─\u001b[0m\u001b[38;5;100m─\u001b[0m\u001b[38;5;100m─\u001b[0m\u001b[38;5;100m─\u001b[0m\u001b[38;5;100m─\u001b[0m\u001b[38;5;100m─\u001b[0m\u001b[38;5;100m─\u001b[0m\u001b[38;5;100m─\u001b[0m\u001b[38;5;100m─\u001b[0m\u001b[38;5;100m─\u001b[0m\u001b[38;5;100m─\u001b[0m\u001b[38;5;100m─\u001b[0m\u001b[38;5;100m─\u001b[0m\u001b[38;5;100m─\u001b[0m\u001b[38;5;100m─\u001b[0m\u001b[38;5;100m─\u001b[0m\u001b[38;5;100m─\u001b[0m\u001b[38;5;100m─\u001b[0m\u001b[38;5;100m─\u001b[0m\u001b[38;5;100m─\u001b[0m\u001b[38;5;100m─\u001b[0m\u001b[38;5;100m─\u001b[0m\u001b[38;5;100m─\u001b[0m\u001b[38;5;100m─\u001b[0m\u001b[38;5;100m─\u001b[0m\u001b[38;5;100m─\u001b[0m\u001b[38;5;100m─\u001b[0m\u001b[38;5;100m─\u001b[0m\u001b[38;5;100m─\u001b[0m\u001b[38;5;100m─\u001b[0m\u001b[38;5;100m─\u001b[0m\u001b[38;5;100m─\u001b[0m may outlive borrowed value `list`",
      " \u001b[38;5;240m  │\u001b[0m                               \u001b[38;5;68m│\u001b[0m                      \u001b[38;5;54m│\u001b[0m     ",
      " \u001b[38;5;240m  │\u001b[0m                               \u001b[38;5;68m╰\u001b[0m\u001b[38;5;68m─\u001b[0m\u001b[38;5;68m─\u001b[0m\u001b[38;5;68m─\u001b[0m\u001b[38;5;68m─\u001b[0m\u001b[38;5;68m─\u001b[0m\u001b[38;5;68m─\u001b[0m\u001b[38;5;68m─\u001b[0m\u001b[38;5;68m─\u001b[0m\u001b[38;5;68m─\u001b[0m\u001b[38;5;68m─\u001b[0m\u001b[38;5;68m─\u001b[0m\u001b[38;5;68m─\u001b[0m\u001b[38;5;68m─\u001b[0m\u001b[38;5;68m─\u001b[0m\u001b[38;5;68m─\u001b[0m\u001b[38;5;68m─\u001b[0m\u001b[38;5;68m─\u001b[0m\u001b[38;5;68m─\u001b[0m\u001b[38;5;68m─\u001b[0m\u001b[38;5;68m─\u001b[0m\u001b[38;5;68m─\u001b[0m\u001b[38;5;68m─\u001b[0m\u001b[38;5;68m─\u001b[0m\u001b[38;5;68m─\u001b[0m\u001b[38;5;68m─\u001b[0m\u001b[38;5;68m─\u001b[0m\u001b[38;5;68m─\u001b[0m\u001b[38;5;68m─\u001b[0m note: function requires argument type to outlive `'static`",
      " \u001b[38;5;240m  │\u001b[0m                                                      \u001b[38;5;54m│\u001b[0m     ",
      " \u001b[38;5;240m  │\u001b[0m                                                      \u001b[38;5;54m╰\u001b[0m\u001b[38;5;54m─\u001b[0m\u001b[38;5;54m─\u001b[0m\u001b[38;5;54m─\u001b[0m\u001b[38;5;54m─\u001b[0m\u001b[38;5;54m─\u001b[0m `list` is borrowed here",
      "\u001b[38;5;246m───╯\u001b[0m"
     ]
    }
   ],
   "source": [
    "use std::thread;\n",
    "\n",
    "fn main() {\n",
    "    let list = vec![1, 2, 3];\n",
    "    println!(\"Before defining closure: {:?}\", list);\n",
    "\n",
    "    thread::spawn(|| println!(\"From thread: {:?}\", list)).join().unwrap();\n",
    "}\n",
    "\n",
    "main()"
   ]
  },
  {
   "cell_type": "markdown",
   "metadata": {},
   "source": [
    "### Moving Captured Values Out of Closures and the `Fn` Traits\n",
    "\n",
    "Once a closure has captured a reference or captured ownership of a value from the environment where the closure is defined, it can do the following:\n",
    "- <span style=\"color:skyblue\">*Move a captured value out of the closure*</span>\n",
    "- <span style=\"color:skyblue\">*Mutate the captured value*</span>\n",
    "- <span style=\"color:skyblue\">*Neither move nor mutate the value*</span>\n",
    "- <span style=\"color:skyblue\">*Or capture nothing from the environment to begin with*</span>\n",
    "\n",
    "The way a closure captures and handles values from the environment affects which traits the closure implements, and traits are how functions and structs can specify what kinds of closures they can use. Closures will automatically implement one, two, or all three of these `Fn` traits, in an additive fashion, depending on how the closure’s body handles the values:\n",
    "\n",
    "- <span style=\"color:skyblue\">*`FnOnce` applies to closures that can be called once*</span>. All closures implement at least this trait, because all closures can be called. <span style=\"color:skyblue\">*A closure that moves captured values out of its body will only implement `FnOnce` and none of the other `Fn` traits, because it can only be called once.*</span>\n",
    "- <span style=\"color:skyblue\">*`FnMut` applies to closures that don’t move captured values out of their body, but that might mutate the captured values. These closures can be called more than once.*</span>\n",
    "- <span style=\"color:skyblue\">*`Fn` applies to closures that don’t move captured values out of their body and that don’t mutate captured values, as well as closures that capture nothing from their environment.*</span> These closures can be called more than once without mutating their environment, which is important in cases such as <span style=\"color:skyblue\">*calling a closure multiple times concurrently*</span>.\n"
   ]
  },
  {
   "cell_type": "markdown",
   "metadata": {},
   "source": [
    "**Example using `FnOnce()`**: Below, we have the definition of the `unwrap_or_else` method on `Option<T>`. The trait bound specified on the generic type `F` is `FnOnce() -> T`, which means `F` must be able to be called once, take no arguments, and return a `T`. Using `FnOnce` in the trait bound expresses the constraint that `unwrap_or_else` is only going to call `f` at most one time.\n",
    "\n",
    "```rust\n",
    "impl<T> Option<T> {\n",
    "    pub fn unwrap_or_else<F>(self, f: F) -> T\n",
    "    where \n",
    "        F: FnOnce() -> T \n",
    "    {\n",
    "        match self {\n",
    "            Some(x) => x,\n",
    "            None => f(), // f: F will only be called only once when Option is None\n",
    "        }\n",
    "    }\n",
    "}\n",
    "```"
   ]
  },
  {
   "cell_type": "markdown",
   "metadata": {},
   "source": [
    "**Example using `FnMut`**: The std method `sort_by_key` defined on slices:"
   ]
  },
  {
   "cell_type": "code",
   "execution_count": 27,
   "metadata": {},
   "outputs": [
    {
     "name": "stdout",
     "output_type": "stream",
     "text": [
      "[\n",
      "    Rectangle {\n",
      "        width: 3,\n",
      "        height: 5,\n",
      "    },\n",
      "    Rectangle {\n",
      "        width: 7,\n",
      "        height: 12,\n",
      "    },\n",
      "    Rectangle {\n",
      "        width: 10,\n",
      "        height: 1,\n",
      "    },\n",
      "]\n"
     ]
    },
    {
     "data": {
      "text/plain": [
       "()"
      ]
     },
     "execution_count": 27,
     "metadata": {},
     "output_type": "execute_result"
    }
   ],
   "source": [
    "#[derive(Debug)]\n",
    "struct Rectangle {\n",
    "    width: u32,\n",
    "    height: u32,\n",
    "}\n",
    "\n",
    "fn main() {\n",
    "    let mut list = [\n",
    "        Rectangle {width: 10, height: 1},\n",
    "        Rectangle {width: 3, height: 5},\n",
    "        Rectangle {width: 7, height: 12},\n",
    "    ];\n",
    "\n",
    "    list.sort_by_key(|r| r.width);\n",
    "    println!(\"{:#?}\", list);\n",
    "}\n",
    "\n",
    "main()"
   ]
  },
  {
   "cell_type": "code",
   "execution_count": 29,
   "metadata": {},
   "outputs": [
    {
     "name": "stdout",
     "output_type": "stream",
     "text": [
      "[\n",
      "    Rectangle {\n",
      "        width: 3,\n",
      "        height: 5,\n",
      "    },\n",
      "    Rectangle {\n",
      "        width: 7,\n",
      "        height: 12,\n",
      "    },\n",
      "    Rectangle {\n",
      "        width: 10,\n",
      "        height: 1,\n",
      "    },\n",
      "], sorted in 6 operations\n"
     ]
    },
    {
     "data": {
      "text/plain": [
       "()"
      ]
     },
     "execution_count": 29,
     "metadata": {},
     "output_type": "execute_result"
    }
   ],
   "source": [
    "#[derive(Debug)]\n",
    "struct Rectangle {\n",
    "    width: u32,\n",
    "    height: u32,\n",
    "}\n",
    "\n",
    "fn main() {\n",
    "    let mut list = [\n",
    "        Rectangle { width: 10, height: 1 },\n",
    "        Rectangle { width: 3, height: 5 },\n",
    "        Rectangle { width: 7, height: 12 },\n",
    "    ];\n",
    "\n",
    "    let mut num_sort_operations = 0;\n",
    "    list.sort_by_key(|r| {\n",
    "        num_sort_operations += 1;\n",
    "        r.width\n",
    "    });\n",
    "    println!(\"{:#?}, sorted in {num_sort_operations} operations\", list);\n",
    "}\n",
    "\n",
    "main()"
   ]
  },
  {
   "cell_type": "markdown",
   "metadata": {},
   "source": [
    "## Iterators: Processing a Series of Items\n",
    "\n",
    "<span style=\"color:skyblue\">*An iterator is responsible for the logic of iterating over each item and determining when a sequence has finished. When you use iterators, you don’t have to reimplement that logic yourself. In Rust, iterators are lazy, meaning they have no effect until you call methods that consume the iterator to use it up.*</span>"
   ]
  },
  {
   "cell_type": "code",
   "execution_count": 30,
   "metadata": {},
   "outputs": [
    {
     "name": "stdout",
     "output_type": "stream",
     "text": [
      "Got: 1\n",
      "Got: 2\n",
      "Got: 3\n"
     ]
    },
    {
     "data": {
      "text/plain": [
       "()"
      ]
     },
     "execution_count": 30,
     "metadata": {},
     "output_type": "execute_result"
    }
   ],
   "source": [
    "let v1 = vec![1, 2, 3];\n",
    "\n",
    "let v1_iter = v1.iter();  // lazy and not doing anything here yet\n",
    "\n",
    "for val in v1_iter {\n",
    "    println!(\"Got: {}\", val);\n",
    "}"
   ]
  },
  {
   "cell_type": "markdown",
   "metadata": {},
   "source": [
    "### The `Iterator` Trait and the `next` Method\n",
    "\n",
    "All iterators implement a trait named `Iterator` that is defined in the standard library. \n",
    "\n",
    "```rust\n",
    "pub trait Iterator {\n",
    "    type Item;  // defining an associated type with this trait\n",
    "                // needed for the return type of `next`\n",
    "\n",
    "    fn next(&mut self) -> Option<Self::Item>;\n",
    "\n",
    "    // methods with default implementations elided\n",
    "}\n",
    "```"
   ]
  },
  {
   "cell_type": "markdown",
   "metadata": {},
   "source": [
    "We can call the `next` method on iterators directly"
   ]
  },
  {
   "cell_type": "code",
   "execution_count": 33,
   "metadata": {},
   "outputs": [
    {
     "data": {
      "text/plain": [
       "()"
      ]
     },
     "execution_count": 33,
     "metadata": {},
     "output_type": "execute_result"
    }
   ],
   "source": [
    "fn iterator_demonstration() {\n",
    "    let v1 = vec![1, 2, 3];\n",
    "\n",
    "    let mut v1_iter = v1.iter();\n",
    "\n",
    "    assert_eq!(v1_iter.next(), Some(&1));\n",
    "    assert_eq!(v1_iter.next(), Some(&2));\n",
    "    assert_eq!(v1_iter.next(), Some(&3));\n",
    "    assert_eq!(v1_iter.next(), None);\n",
    "}\n",
    "iterator_demonstration()"
   ]
  },
  {
   "cell_type": "markdown",
   "metadata": {},
   "source": [
    "**Note:** <span style=\"color:green\">*We needed to make `v1_iter` mutable: calling the `next` method on an iterator changes internal state that the iterator uses to keep track of where it is in the sequence. Also note that the values we get from the calls to `next` are immutable references to the values in the vector. If we want to create an iterator that takes ownership of `v1` and returns owned values, we can call `into_iter` instead of `iter`. Similarly, if we want to iterate over mutable references, we can call `iter_mut` instead of `iter`.*</span>"
   ]
  },
  {
   "cell_type": "markdown",
   "metadata": {},
   "source": [
    "### Methods that Consume the Iterator\n",
    "\n",
    "Methods that call next are called <span style=\"color:skyblue\">***consuming adaptors***</span>, because calling them uses up the iterator. One example is the `sum` method, which takes ownership of the iterator and iterates through the items by repeatedly calling next, thus consuming the iterator."
   ]
  },
  {
   "cell_type": "code",
   "execution_count": 38,
   "metadata": {},
   "outputs": [
    {
     "name": "stdout",
     "output_type": "stream",
     "text": [
      "total = 6\n"
     ]
    },
    {
     "data": {
      "text/plain": [
       "()"
      ]
     },
     "execution_count": 38,
     "metadata": {},
     "output_type": "execute_result"
    }
   ],
   "source": [
    "fn iterator_sum() {\n",
    "    let v1 = vec![1, 2, 3];\n",
    "\n",
    "    let v1_iter = v1.iter();\n",
    "\n",
    "    let total: i32 = v1_iter.sum();  // consuming adaptor `sum`\n",
    "\n",
    "    println!(\"total = {total}\");\n",
    "    assert_eq!(total, 6);\n",
    "}\n",
    "\n",
    "iterator_sum()"
   ]
  },
  {
   "cell_type": "markdown",
   "metadata": {},
   "source": [
    "### Methods that Produce Other Iterators\n",
    "\n",
    "<span style=\"color:skyblue\">***Iterator adaptors***</span> are methods defined on the Iterator trait that don’t consume the iterator. Instead, they produce different iterators by changing some aspect of the original iterator."
   ]
  },
  {
   "cell_type": "code",
   "execution_count": 42,
   "metadata": {},
   "outputs": [
    {
     "name": "stdout",
     "output_type": "stream",
     "text": [
      "v1 = [1, 2, 3]\n",
      "v2 = [2, 3, 4]\n"
     ]
    }
   ],
   "source": [
    "let v1: Vec<i32> = vec![1, 2, 3];\n",
    "println!(\"v1 = {:?}\", v1);\n",
    "\n",
    "let v2: Vec<_> = v1.iter().map(|x| x + 1).collect();\n",
    "println!(\"v2 = {:?}\", v2);\n"
   ]
  },
  {
   "cell_type": "markdown",
   "metadata": {},
   "source": [
    "### Using Closures that Capture Their Environment\n",
    "\n",
    "Many iterator adapters take closures as arguments, and commonly the closures we’ll specify as arguments to iterator adapters will be closures that capture their environment.\n",
    "\n",
    "Example: Below, we use `filter` with a closure that captures the `shoe_size` variable from its environment to iterate over a collection of `Shoe` struct instances. It will return only shoes that are the specified size."
   ]
  },
  {
   "cell_type": "code",
   "execution_count": 49,
   "metadata": {},
   "outputs": [
    {
     "name": "stdout",
     "output_type": "stream",
     "text": [
      "in_my_size: [Shoe { size: 10, style: \"sneaker\" }, Shoe { size: 10, style: \"boot\" }]\n"
     ]
    }
   ],
   "source": [
    "#[derive(PartialEq, Debug)]\n",
    "struct Shoe {\n",
    "    size: u32,\n",
    "    style: String,\n",
    "}\n",
    "\n",
    "fn shoes_in_size(shoes: Vec<Shoe>, shoe_size: u32) -> Vec<Shoe> {\n",
    "    // this function takes ownership of the `shoes` vector and `shoe_size` int\n",
    "    // call `into_iter` creates an iterator that takes ownership of the vector.\n",
    "    // calling collect gathers the values returned by the adapted \n",
    "    // iterator into a vector that’s returned by the function.\n",
    "    shoes.into_iter().filter(|s| s.size == shoe_size).collect()\n",
    "}\n",
    "\n",
    "let shoes = vec![\n",
    "    Shoe {\n",
    "        size: 10,\n",
    "        style: String::from(\"sneaker\"),\n",
    "    },\n",
    "    Shoe {\n",
    "        size: 13,\n",
    "        style: String::from(\"sandal\"),\n",
    "    },\n",
    "    Shoe {\n",
    "        size: 10,\n",
    "        style: String::from(\"boot\"),\n",
    "    },\n",
    "];\n",
    "\n",
    "assert_eq!(\n",
    "    in_my_size,\n",
    "    vec![\n",
    "        Shoe {\n",
    "            size: 10,\n",
    "            style: String::from(\"sneaker\")\n",
    "        },\n",
    "        Shoe {\n",
    "            size: 10,\n",
    "            style: String::from(\"boot\")\n",
    "        },\n",
    "    ]\n",
    ");\n",
    "\n",
    "println!(\"in_my_size: {:?}\", in_my_size);"
   ]
  },
  {
   "cell_type": "markdown",
   "metadata": {},
   "source": [
    "## Comparing Performance: Loops vs Iterators\n",
    "\n",
    "Iterators, although a high-level abstraction, get compiled down to roughly the same code as if you’d written the lower-level code yourself. Iterators are one of Rust’s zero-cost abstractions, by which we mean using the abstraction imposes no additional runtime overhead. The implementations of closures and iterators are such that runtime performance is not affected, and the compiled code for iterators are the same as the assemply code you would write by hand."
   ]
  },
  {
   "cell_type": "markdown",
   "metadata": {},
   "source": []
  }
 ],
 "metadata": {
  "kernelspec": {
   "display_name": "Rust",
   "language": "rust",
   "name": "rust"
  },
  "language_info": {
   "codemirror_mode": "rust",
   "file_extension": ".rs",
   "mimetype": "text/rust",
   "name": "Rust",
   "pygment_lexer": "rust",
   "version": ""
  }
 },
 "nbformat": 4,
 "nbformat_minor": 4
}
