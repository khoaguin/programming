{
 "cells": [
  {
   "cell_type": "markdown",
   "metadata": {},
   "source": [
    "## Intro\n",
    "\n",
    "Rust takes a lot of inspiration from functional languages. <span style=\"color:skyblue\">*Programming in a functional style often includes using functions as values by passing them in arguments, returning them from other functions, assigning them to variables for later execution, and so forth.*</span>\n",
    "\n",
    "In this chapter, we will cover:\n",
    "\n",
    "- **Closures**, a function-like construct you can store in a variable\n",
    "- **Iterators**, a way of processing a series of elements\n",
    "- How to use closures and iterators to improve the I/O project in Chapter 12\n",
    "- The performance of closures and iterators (Spoiler alert: they're faster than you might think!)\n"
   ]
  },
  {
   "cell_type": "markdown",
   "metadata": {},
   "source": [
    "## Closures: Anonymous Functions that Capture Their Environment\n",
    "\n",
    "<span style=\"color:skyblue\">***Rust’s closures are anonymous functions you can save in a variable or pass as arguments to other functions. You can create the closure in one place and then call the closure elsewhere to evaluate it in a different context. Unlike functions, closures can capture values from the scope in which they’re defined. We’ll demonstrate how these closure features allow for code reuse and behavior customization.***</span>\n",
    "\n",
    "### Capturing the Environment with Closures\n",
    "*Scenario*: Every so often, our t-shirt company gives away an exclusive, limited-edition shirt to someone on our mailing list as a promotion. People on the mailing list can optionally add their favorite color to their profile. If the person chosen for a free shirt has their favorite color set, they get that color shirt. If the person hasn’t specified a favorite color, they get whatever color the company currently has the most of."
   ]
  },
  {
   "cell_type": "code",
   "execution_count": 2,
   "metadata": {
    "vscode": {
     "languageId": "rust"
    }
   },
   "outputs": [
    {
     "name": "stdout",
     "output_type": "stream",
     "text": [
      "The user with preference Some(Red) gets Red\n",
      "The user with preference None gets Blue\n"
     ]
    },
    {
     "data": {
      "text/plain": [
       "()"
      ]
     },
     "execution_count": 2,
     "metadata": {},
     "output_type": "execute_result"
    }
   ],
   "source": [
    "#[derive(Debug, PartialEq, Copy, Clone)]\n",
    "enum ShirtColor {\n",
    "    Red,\n",
    "    Blue,\n",
    "}\n",
    "\n",
    "/// representing the shirt colors currently in stock. \n",
    "struct Inventory {\n",
    "    shirts: Vec<ShirtColor>,\n",
    "}\n",
    "\n",
    "impl Inventory {\n",
    "    /// gets the optional shirt color preference of the free shirt winner, \n",
    "    /// and returns the shirt color the person will get\n",
    "    fn giveaway(&self, user_preference: Option<ShirtColor>) -> ShirtColor {\n",
    "        user_preference.unwrap_or_else(|| self.most_stocked())\n",
    "        // here, we used closure. We got the user preference as a \n",
    "        // parameter of type `Option<ShirtColor>` and call the \n",
    "        // `unwrap_or_else` method on `user_preference`. The\n",
    "        // `unwrap_or_else` takes one argument: a closure without\n",
    "        // any arguments, calls `self.most_stocked()` in the body \n",
    "        // that returns a value `T` of the calling `Option<T>`\n",
    "        // (In this case, `T` is `ShirtColor`)\n",
    "        // If the `Option<T>` is the `Some` variant, `unwrap_or_else` \n",
    "        // returns the value from within the `Some`. If the `Option<T>` \n",
    "        // is the `None` variant, `unwrap_or_else` calls the closure \n",
    "        // and returns the value returned by the closure.\n",
    "        // Note: Here, the closure captures an immutable reference \n",
    "        // to the self `Inventory` instance and passes it with the \n",
    "        // code we specify to the `unwrap_or_else` method. \n",
    "        // Functions, on the other hand, are not able to capture \n",
    "        // their environment in this way.\n",
    "    }\n",
    "\n",
    "    /// find out if the store has more blue / red shirts in the stock\n",
    "    fn most_stocked(&self) -> ShirtColor {\n",
    "        let mut num_red = 0;\n",
    "        let mut num_blue = 0;\n",
    "\n",
    "        for color in &self.shirts {\n",
    "            match color {\n",
    "                ShirtColor::Red => num_red += 1,\n",
    "                ShirtColor::Blue => num_blue += 1,\n",
    "            }\n",
    "        }\n",
    "\n",
    "        if num_red > num_blue {\n",
    "            ShirtColor::Red\n",
    "        } else {\n",
    "            ShirtColor::Blue\n",
    "        }\n",
    "    }\n",
    "}\n",
    "\n",
    "fn main() {\n",
    "    let store = Inventory {\n",
    "        shirts: vec![ShirtColor::Blue, ShirtColor::Red, ShirtColor::Blue],\n",
    "    };\n",
    "\n",
    "    let user_pref1 = Some(ShirtColor::Red);\n",
    "    let giveaway1 = store.giveaway(user_pref1);\n",
    "    println!(\n",
    "        \"The user with preference {:?} gets {:?}\",\n",
    "        user_pref1, giveaway1\n",
    "    );\n",
    "\n",
    "    let user_pref2 = None;\n",
    "    let giveaway2 = store.giveaway(user_pref2);\n",
    "    println!(\n",
    "        \"The user with preference {:?} gets {:?}\",\n",
    "        user_pref2, giveaway2\n",
    "    );\n",
    "}\n",
    "\n",
    "main()"
   ]
  },
  {
   "cell_type": "markdown",
   "metadata": {},
   "source": [
    "### Closure Type Inference and Annotation\n",
    "\n",
    "Unlike functions, closures don’t usually require you to annotate the types of the parameters or the return value like `fn` functions do. This is because functions are often exposed to users so we need everyone to agree on the types of values; closures, on other other hand, are used without naming and are not exposed to users.\n",
    "\n",
    "As with variables, we can add type annotations if we want to increase explicitness and clarity at the cost of being more verbose than is strictly necessary."
   ]
  },
  {
   "cell_type": "code",
   "execution_count": 4,
   "metadata": {
    "vscode": {
     "languageId": "rust"
    }
   },
   "outputs": [
    {
     "name": "stdout",
     "output_type": "stream",
     "text": [
      "calculating slowly...\n",
      "Today, do 10 pushups!\n",
      "calculating slowly...\n",
      "Next, do 10 situps!\n"
     ]
    },
    {
     "data": {
      "text/plain": [
       "()"
      ]
     },
     "execution_count": 4,
     "metadata": {},
     "output_type": "execute_result"
    }
   ],
   "source": [
    "use std::thread;\n",
    "use std::time::Duration;\n",
    "\n",
    "fn generate_workout(intensity: u32, random_number: u32) {\n",
    "    let expensive_closure = |num: u32| -> u32 {  // type annotation with\n",
    "                                                 // closure here\n",
    "        println!(\"calculating slowly...\");\n",
    "        thread::sleep(Duration::from_secs(2));\n",
    "        num\n",
    "    };\n",
    "\n",
    "    if intensity < 25 {\n",
    "        println!(\"Today, do {} pushups!\", expensive_closure(intensity));\n",
    "        println!(\"Next, do {} situps!\", expensive_closure(intensity));\n",
    "    } else {\n",
    "        if random_number == 3 {\n",
    "            println!(\"Take a break today! Remember to stay hydrated!\");\n",
    "        } else {\n",
    "            println!(\n",
    "                \"Today, run for {} minutes!\",\n",
    "                expensive_closure(intensity)\n",
    "            );\n",
    "        }\n",
    "    }\n",
    "}\n",
    "\n",
    "fn main() {\n",
    "    let simulated_user_specified_value = 10;\n",
    "    let simulated_random_number = 7;\n",
    "\n",
    "    generate_workout(simulated_user_specified_value, simulated_random_number);\n",
    "}\n",
    "\n",
    "main()"
   ]
  },
  {
   "cell_type": "code",
   "execution_count": null,
   "metadata": {
    "vscode": {
     "languageId": "rust"
    }
   },
   "outputs": [],
   "source": []
  }
 ],
 "metadata": {
  "kernelspec": {
   "display_name": "Rust",
   "language": "rust",
   "name": "rust"
  },
  "language_info": {
   "codemirror_mode": "rust",
   "file_extension": ".rs",
   "mimetype": "text/rust",
   "name": "Rust",
   "pygment_lexer": "rust",
   "version": ""
  }
 },
 "nbformat": 4,
 "nbformat_minor": 2
}
