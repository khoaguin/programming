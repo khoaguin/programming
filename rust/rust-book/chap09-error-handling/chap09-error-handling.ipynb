{
 "cells": [
  {
   "cell_type": "markdown",
   "metadata": {},
   "source": [
    "# Introduction\n",
    "\n",
    "Unlike most other languages that handles errors the same way using exception, <span style=\"color:lightgreen\">*Rust groups errors into two major categories: recoverable and unrecoverable errors.*</span>\n",
    "- **Recoverable Error**: e.g. a file not found error, we most likely just want to report the problem to the user and retry the operation. Rust provides the type `Result<T, E>` to handle recoverable errors.\n",
    "- **Unrecoverable Errors**: symptoms of bugs, like trying to access a location beyond the end of an array, and so we want to immediately stop the program (with the `panic!` macro).\n",
    "\n"
   ]
  },
  {
   "cell_type": "markdown",
   "metadata": {},
   "source": [
    "# `panic!` for Unrecoverable Errors\n",
    "\n",
    "There are two ways to cause a panic in practice: by taking an action that causes our code to panic (such as accessing an array past the end) or by explicitly calling the `panic!` macro. By default, these panics will print a failure message, unwind, clean up the stack, and quit, but we can put \n",
    "```rust\n",
    "[profile.release]\n",
    "panic = 'abort'\n",
    "```\n",
    "into `Cargo.toml` to not clean up the stack and let the OS does it later.\n",
    "\n",
    "Using `panic!`:"
   ]
  },
  {
   "cell_type": "code",
   "execution_count": 4,
   "metadata": {
    "vscode": {
     "languageId": "rust"
    }
   },
   "outputs": [
    {
     "name": "stderr",
     "output_type": "stream",
     "text": [
      "thread '<unnamed>' panicked at src/lib.rs:3:5:\n",
      "crash and burn\n",
      "stack backtrace:\n",
      "   0: rust_begin_unwind\n",
      "             at /rustc/a28077b28a02b92985b3a3faecf92813155f1ea1/library/std/src/panicking.rs:597:5\n",
      "   1: core::panicking::panic_fmt\n",
      "             at /rustc/a28077b28a02b92985b3a3faecf92813155f1ea1/library/core/src/panicking.rs:72:14\n",
      "   2: ctx::main\n",
      "   3: run_user_code_2\n",
      "   4: evcxr::runtime::Runtime::run_loop\n",
      "   5: evcxr::runtime::runtime_hook\n",
      "   6: evcxr_jupyter::main\n",
      "note: Some details are omitted, run with `RUST_BACKTRACE=full` for a verbose backtrace.\n"
     ]
    }
   ],
   "source": [
    "fn main() {\n",
    "    panic!(\"crash and burn\");\n",
    "}\n",
    "\n",
    "main()"
   ]
  },
  {
   "cell_type": "markdown",
   "metadata": {},
   "source": [
    "<span style=\"color:skyblue\">*A **backtrace** is a list of all the functions that have been called to get to this point. We can run a project with `RUST_BACKTRACE=1 cargo run` or even `RUST_BACKTRACE=full cargo run` to get a verbal backtrace*</span>"
   ]
  },
  {
   "cell_type": "markdown",
   "metadata": {},
   "source": [
    "# `Result<T, E>` for Recoverable Errors\n",
    "Most errors aren’t serious enough to require the program to stop entirely. Sometimes, when a function fails, it’s for a reason that you can easily interpret and respond to, with this we have the `Result<T, E>` enum (included in prelude):\n",
    "```rust\n",
    "enum Result<T, E> {\n",
    "    Ok(T),\n",
    "    Err(E),\n",
    "}\n",
    "```\n",
    "where \n",
    "- `T` represents the type of the value that will be returned in a success case within the `Ok` variant, \n",
    "- and `E` represents the type of the error that will be returned in a failure case within the `Err` variant. "
   ]
  },
  {
   "cell_type": "code",
   "execution_count": 17,
   "metadata": {
    "vscode": {
     "languageId": "rust"
    }
   },
   "outputs": [
    {
     "name": "stdout",
     "output_type": "stream",
     "text": [
      "Ok(File { fd: 3, path: \"/home/dk/Desktop/projects/programming/rust/rust-book/chap09-error-handling/hello.txt\", read: true, write: false })\n",
      "File { fd: 3, path: \"/home/dk/Desktop/projects/programming/rust/rust-book/chap09-error-handling/hello.txt\", read: true, write: false }\n"
     ]
    },
    {
     "data": {
      "text/plain": [
       "()"
      ]
     },
     "execution_count": 17,
     "metadata": {},
     "output_type": "execute_result"
    }
   ],
   "source": [
    "use std::fs::File;\n",
    "\n",
    "fn main() {\n",
    "    let greeting_file_result = File::open(\"hello.txt\");\n",
    "    println!(\"{:?}\", greeting_file_result);\n",
    "\n",
    "    let greeting_file = match greeting_file_result {\n",
    "        Ok(file) => file,\n",
    "        Err(error) => panic!(\"Problem opening the file: {:?}\", error),\n",
    "    };\n",
    "    println!(\"{:?}\", greeting_file);\n",
    "\n",
    "}\n",
    "\n",
    "main()"
   ]
  },
  {
   "cell_type": "markdown",
   "metadata": {},
   "source": [
    "## `match`ing on Different Errors\n",
    "Notice below that we use multiple `match` to handle different types of errors"
   ]
  },
  {
   "cell_type": "code",
   "execution_count": 19,
   "metadata": {
    "vscode": {
     "languageId": "rust"
    }
   },
   "outputs": [
    {
     "data": {
      "text/plain": [
       "()"
      ]
     },
     "execution_count": 19,
     "metadata": {},
     "output_type": "execute_result"
    }
   ],
   "source": [
    "use std::fs::File;\n",
    "use std::io::ErrorKind;\n",
    "\n",
    "fn main() {\n",
    "    let greeting_file_result = File::open(\"hello2.txt\");\n",
    "\n",
    "    let greeting_file = match greeting_file_result {\n",
    "        Ok(file) => file,\n",
    "        Err(error) => match error.kind() {  // error is an io::Error struct with the kind() method that returns io::ErrorKind enum\n",
    "            ErrorKind::NotFound => match File::create(\"hello2.txt\") {  // ErrorKind::NotFound indicates if the file exists or not \n",
    "                                                                       // In that case, we create the file if it does not exist\n",
    "                Ok(fc) => fc,  // as File::create could also fail, we need a second arm in the inner match expression\n",
    "                Err(e) => panic!(\"Problem creating the file: {:?}\", e),\n",
    "            },\n",
    "            other_error => {  // other reasons, e.g. no permission to open the file, then panic\n",
    "                panic!(\"Problem opening the file: {:?}\", other_error);\n",
    "            }\n",
    "        },\n",
    "    };\n",
    "}\n",
    "\n",
    "main()"
   ]
  },
  {
   "cell_type": "markdown",
   "metadata": {},
   "source": [
    "### Closure: Alternatives to Using `match` with `Result<T, E>`\n",
    "Notice that the code above has a lot of `match`es. We can write the same code with closures, which are used with many of the methods defined on `Result<T, E>`. These methods can be more concise than using `match` when handling `Result<T, E>` values in your code.  \n",
    "Below we use closure and the `unwrap_or_else` method"
   ]
  },
  {
   "cell_type": "code",
   "execution_count": null,
   "metadata": {
    "vscode": {
     "languageId": "rust"
    }
   },
   "outputs": [],
   "source": [
    "use std::fs::File;\n",
    "use std::io::ErrorKind;\n",
    "\n",
    "fn main() {\n",
    "    let greeting_file = File::open(\"hello2.txt\").unwrap_or_else(|error| {\n",
    "        if error.kind() == ErrorKind::NotFound {\n",
    "            File::create(\"hello.txt\").unwrap_or_else(|error| {\n",
    "                panic!(\"Problem creating the file: {:?}\", error);\n",
    "            })\n",
    "        } else {\n",
    "            panic!(\"Problem opening the file: {:?}\", error);\n",
    "        }\n",
    "    });\n",
    "}\n",
    "\n",
    "main()"
   ]
  },
  {
   "cell_type": "markdown",
   "metadata": {},
   "source": [
    "## `unwrap` and `expect`: Shortcuts for Panic on Error\n",
    "\n",
    "Using `match` can make the code very long and repeated. The `unwrap` method is a shortcut method implemented just like the `match` expression:  \n",
    "<span style=\"color:skyblue\">*If the `Result` value is the `Ok` variant, `unwrap` will return the value inside the `Ok`.  If the `Result` is the `Err` variant, `unwrap` will call the `panic!` macro for us*</span>"
   ]
  },
  {
   "cell_type": "code",
   "execution_count": 22,
   "metadata": {
    "vscode": {
     "languageId": "rust"
    }
   },
   "outputs": [
    {
     "name": "stdout",
     "output_type": "stream",
     "text": [
      "File { fd: 3, path: \"/home/dk/Desktop/projects/programming/rust/rust-book/chap09-error-handling/hello.txt\", read: true, write: false }\n"
     ]
    },
    {
     "data": {
      "text/plain": [
       "()"
      ]
     },
     "execution_count": 22,
     "metadata": {},
     "output_type": "execute_result"
    }
   ],
   "source": [
    "use std::fs::File;\n",
    "\n",
    "fn main() {\n",
    "    let greeting_file = File::open(\"hello.txt\").unwrap();\n",
    "    println!(\"{:?}\", greeting_file);\n",
    "}\n",
    "\n",
    "main()"
   ]
  },
  {
   "cell_type": "markdown",
   "metadata": {},
   "source": [
    "<span style=\"color:skyblue\">*Similarly, the `expect` method lets us also choose the `panic!` error message.*</span>"
   ]
  },
  {
   "cell_type": "code",
   "execution_count": 25,
   "metadata": {
    "vscode": {
     "languageId": "rust"
    }
   },
   "outputs": [
    {
     "name": "stderr",
     "output_type": "stream",
     "text": [
      "thread '<unnamed>' panicked at src/lib.rs:4:10:\n",
      "hello3.txt should be included in this project: Os { code: 2, kind: NotFound, message: \"No such file or directory\" }\n",
      "stack backtrace:\n",
      "   0: rust_begin_unwind\n",
      "             at /rustc/a28077b28a02b92985b3a3faecf92813155f1ea1/library/std/src/panicking.rs:597:5\n",
      "   1: core::panicking::panic_fmt\n",
      "             at /rustc/a28077b28a02b92985b3a3faecf92813155f1ea1/library/core/src/panicking.rs:72:14\n",
      "   2: core::result::unwrap_failed\n",
      "             at /rustc/a28077b28a02b92985b3a3faecf92813155f1ea1/library/core/src/result.rs:1652:5\n",
      "   3: <unknown>\n",
      "   4: <unknown>\n",
      "   5: <unknown>\n",
      "   6: evcxr::runtime::Runtime::run_loop\n",
      "   7: evcxr::runtime::runtime_hook\n",
      "   8: evcxr_jupyter::main\n",
      "note: Some details are omitted, run with `RUST_BACKTRACE=full` for a verbose backtrace.\n"
     ]
    }
   ],
   "source": [
    "use std::fs::File;\n",
    "\n",
    "fn main() {\n",
    "    let greeting_file = File::open(\"hello3.txt\")\n",
    "        .expect(\"hello3.txt should be included in this project\");\n",
    "}\n",
    "\n",
    "main()"
   ]
  },
  {
   "cell_type": "markdown",
   "metadata": {},
   "source": [
    "## Propagating Errors\n",
    "\n",
    "<span style=\"color:skyblue\">***Propagating Errors** = When a function’s implementation calls something that might fail, instead of handling the error within the function itself, you can **return the error to the calling code** so that it can decide what to do. This gives more control to the calling code, where there might be more information or logic that dictates how the error should be handled than what you have available in the context of your code.*</span>  \n",
    "\n",
    "Example: `read_username_from_file` reads a username from a file. If the file doesn’t exist or can’t be read, this function will return those errors to the code that called the function"
   ]
  },
  {
   "cell_type": "code",
   "execution_count": 30,
   "metadata": {
    "vscode": {
     "languageId": "rust"
    }
   },
   "outputs": [
    {
     "data": {
      "text/plain": [
       "Ok(\"dk\")"
      ]
     },
     "execution_count": 30,
     "metadata": {},
     "output_type": "execute_result"
    }
   ],
   "source": [
    "use std::fs::File;\n",
    "use std::io::{self, Read};\n",
    "\n",
    "fn read_username_from_file_v1() -> Result<String, io::Error> {  // returns a Result<T, E>\n",
    "    let username_file_result = File::open(\"hello.txt\");\n",
    "\n",
    "    let mut username_file = match username_file_result {\n",
    "        Ok(file) => file,\n",
    "        Err(e) => return Err(e),  // return the error if failed here\n",
    "    };\n",
    "\n",
    "    let mut username = String::new();\n",
    "\n",
    "    match username_file.read_to_string(&mut username) {\n",
    "        Ok(_) => Ok(username),\n",
    "        Err(e) => Err(e),\n",
    "    } // no semi-colon here, so we return username_file\n",
    "}\n",
    "\n",
    "read_username_from_file_v1()"
   ]
  },
  {
   "cell_type": "markdown",
   "metadata": {},
   "source": [
    "## `?` Operator: A Shortcut for Propagating Errors\n",
    "\n",
    "We can rewrite the `read_username_from_file` above with much less code using the `?` operator"
   ]
  },
  {
   "cell_type": "code",
   "execution_count": 32,
   "metadata": {
    "vscode": {
     "languageId": "rust"
    }
   },
   "outputs": [
    {
     "data": {
      "text/plain": [
       "Ok(\"dk\")"
      ]
     },
     "execution_count": 32,
     "metadata": {},
     "output_type": "execute_result"
    }
   ],
   "source": [
    "use std::fs::File;\n",
    "use std::io::{self, Read};\n",
    "\n",
    "fn read_username_from_file_v2() -> Result<String, io::Error> {\n",
    "    let mut username_file = File::open(\"hello.txt\")?;\n",
    "    let mut username = String::new();\n",
    "    username_file.read_to_string(&mut username)?;\n",
    "    Ok(username)\n",
    "}\n",
    "\n",
    "read_username_from_file_v2()"
   ]
  },
  {
   "cell_type": "markdown",
   "metadata": {},
   "source": [
    "<span style=\"color:lightgreen\">*The `?` placed after a `Result` value is defined to work in almost the same way as the `match` expressions we defined to handle the `Result` values in the first `read_username_from_file_v1`. **If the value of the `Result` is an `Ok`, the value inside the `Ok` will get returned from this expression**, and the program will continue. **If the value is an `Err`, the `Err` will be returned from the whole function** as if we had used the return keyword so the error value gets propagated to the calling code.*</span>\n",
    "\n",
    "Furthermore, the `?` operator calls the `from` function (defined in the `From` std trait) to convert the the error type received into the error type defined in the return type of the current function. For example, we could change the `read_username_from_file_v2` function in return a custom error type named `OurError` that we define. If we also define `impl From<io::Error>` for `OurError` to construct an instance of `OurError` from an `io::Error`, then the`?` operator calls in the body of `read_username_from_file` will call from and convert the error types without needing to add any more code to the function.\n",
    "\n",
    "We can even shorten the function more:"
   ]
  },
  {
   "cell_type": "code",
   "execution_count": 36,
   "metadata": {
    "vscode": {
     "languageId": "rust"
    }
   },
   "outputs": [
    {
     "data": {
      "text/plain": [
       "Ok(\"dk\")"
      ]
     },
     "execution_count": 36,
     "metadata": {},
     "output_type": "execute_result"
    }
   ],
   "source": [
    "use std::fs::File;\n",
    "use std::io::{self, Read};\n",
    "\n",
    "fn read_username_from_file_v3() -> Result<String, io::Error> {\n",
    "    let mut username = String::new();\n",
    "    File::open(\"hello.txt\")?.read_to_string(&mut username)?;\n",
    "    Ok(username)\n",
    "}\n",
    "\n",
    "read_username_from_file_v3()"
   ]
  },
  {
   "cell_type": "markdown",
   "metadata": {},
   "source": [
    "Since opens a file, creates a new `String`, then reads the content of the file into the String is a common operation, we have it already implemented in `fs::read_to_string`:"
   ]
  },
  {
   "cell_type": "code",
   "execution_count": 37,
   "metadata": {
    "vscode": {
     "languageId": "rust"
    }
   },
   "outputs": [
    {
     "data": {
      "text/plain": [
       "Ok(\"dk\")"
      ]
     },
     "execution_count": 37,
     "metadata": {},
     "output_type": "execute_result"
    }
   ],
   "source": [
    "use std::fs;\n",
    "use std::io;\n",
    "\n",
    "fn read_username_from_file() -> Result<String, io::Error> {\n",
    "    fs::read_to_string(\"hello.txt\")\n",
    "}\n",
    "read_username_from_file()"
   ]
  },
  {
   "cell_type": "markdown",
   "metadata": {},
   "source": [
    "## Where The `?` Operator Can Be Used\n",
    "\n",
    "<span style=\"color:orange\">***The `?` operator can only be used in functions whose return type is compatible with the value the `?` is used on. This is because the `?` operator is defined to perform an early return of a value out of the function***</span>\n",
    "\n",
    "Below code will fail since the `?` operator follows the `Result` value returned by `File::open`, but this `main` function has the return type of `()`, not `Result`"
   ]
  },
  {
   "cell_type": "code",
   "execution_count": 43,
   "metadata": {
    "vscode": {
     "languageId": "rust"
    }
   },
   "outputs": [
    {
     "ename": "Error",
     "evalue": "the `?` operator can only be used in a function that returns `Result` or `Option` (or another type that implements `FromResidual`)",
     "output_type": "error",
     "traceback": [
      "\u001b[31m[E0277] Error:\u001b[0m the `?` operator can only be used in a function that returns `Result` or `Option` (or another type that implements `FromResidual`)",
      "   \u001b[38;5;246m╭\u001b[0m\u001b[38;5;246m─\u001b[0m\u001b[38;5;246m[\u001b[0mcommand_43:1:1\u001b[38;5;246m]\u001b[0m",
      "   \u001b[38;5;246m│\u001b[0m",
      " \u001b[38;5;246m3 │\u001b[0m \u001b[38;5;100mf\u001b[0m\u001b[38;5;100mn\u001b[0m\u001b[38;5;100m \u001b[0m\u001b[38;5;100mm\u001b[0m\u001b[38;5;100ma\u001b[0m\u001b[38;5;100mi\u001b[0m\u001b[38;5;100mn\u001b[0m\u001b[38;5;100m(\u001b[0m\u001b[38;5;100m)\u001b[0m\u001b[38;5;249m \u001b[0m\u001b[38;5;249m{\u001b[0m",
      " \u001b[38;5;240m  │\u001b[0m \u001b[38;5;100m─\u001b[0m\u001b[38;5;100m─\u001b[0m\u001b[38;5;100m─\u001b[0m\u001b[38;5;100m─\u001b[0m\u001b[38;5;100m┬\u001b[0m\u001b[38;5;100m─\u001b[0m\u001b[38;5;100m─\u001b[0m\u001b[38;5;100m─\u001b[0m\u001b[38;5;100m─\u001b[0m  ",
      " \u001b[38;5;240m  │\u001b[0m     \u001b[38;5;100m╰\u001b[0m\u001b[38;5;100m─\u001b[0m\u001b[38;5;100m─\u001b[0m\u001b[38;5;100m─\u001b[0m\u001b[38;5;100m─\u001b[0m\u001b[38;5;100m─\u001b[0m\u001b[38;5;100m─\u001b[0m this function should return `Result` or `Option` to accept `?`",
      " \u001b[38;5;246m4 │\u001b[0m \u001b[38;5;249m \u001b[0m\u001b[38;5;249m \u001b[0m\u001b[38;5;249m \u001b[0m\u001b[38;5;249m \u001b[0m\u001b[38;5;249ml\u001b[0m\u001b[38;5;249me\u001b[0m\u001b[38;5;249mt\u001b[0m\u001b[38;5;249m \u001b[0m\u001b[38;5;249mg\u001b[0m\u001b[38;5;249mr\u001b[0m\u001b[38;5;249me\u001b[0m\u001b[38;5;249me\u001b[0m\u001b[38;5;249mt\u001b[0m\u001b[38;5;249mi\u001b[0m\u001b[38;5;249mn\u001b[0m\u001b[38;5;249mg\u001b[0m\u001b[38;5;249m_\u001b[0m\u001b[38;5;249mf\u001b[0m\u001b[38;5;249mi\u001b[0m\u001b[38;5;249ml\u001b[0m\u001b[38;5;249me\u001b[0m\u001b[38;5;249m \u001b[0m\u001b[38;5;249m=\u001b[0m\u001b[38;5;249m \u001b[0m\u001b[38;5;249mF\u001b[0m\u001b[38;5;249mi\u001b[0m\u001b[38;5;249ml\u001b[0m\u001b[38;5;249me\u001b[0m\u001b[38;5;249m:\u001b[0m\u001b[38;5;249m:\u001b[0m\u001b[38;5;249mo\u001b[0m\u001b[38;5;249mp\u001b[0m\u001b[38;5;249me\u001b[0m\u001b[38;5;249mn\u001b[0m\u001b[38;5;249m(\u001b[0m\u001b[38;5;249m\"\u001b[0m\u001b[38;5;249mh\u001b[0m\u001b[38;5;249me\u001b[0m\u001b[38;5;249ml\u001b[0m\u001b[38;5;249ml\u001b[0m\u001b[38;5;249mo\u001b[0m\u001b[38;5;249m.\u001b[0m\u001b[38;5;249mt\u001b[0m\u001b[38;5;249mx\u001b[0m\u001b[38;5;249mt\u001b[0m\u001b[38;5;249m\"\u001b[0m\u001b[38;5;249m)\u001b[0m\u001b[38;5;54m?\u001b[0m\u001b[38;5;249m;\u001b[0m",
      " \u001b[38;5;240m  │\u001b[0m                                                \u001b[38;5;54m┬\u001b[0m  ",
      " \u001b[38;5;240m  │\u001b[0m                                                \u001b[38;5;54m╰\u001b[0m\u001b[38;5;54m─\u001b[0m\u001b[38;5;54m─\u001b[0m cannot use the `?` operator in a function that returns `()`",
      "\u001b[38;5;246m───╯\u001b[0m"
     ]
    }
   ],
   "source": [
    "use std::fs::File;\n",
    "\n",
    "fn main() {\n",
    "    let greeting_file = File::open(\"hello.txt\")?;\n",
    "}\n",
    "\n",
    "main()"
   ]
  },
  {
   "cell_type": "markdown",
   "metadata": {},
   "source": [
    "The error says that <span style=\"color:orange\">*the `?` operator can only be used in a function that returns `Result` or `Option` (or another type that implements `FromResidual`)*</span>\n",
    "\n",
    "<span style=\"color:lightgreen\">*The behavior of the `?` operator when called on an `Option<T>` is similar to its behavior when called on a `Result<T, E>`: if the value is `None`, the `None` will be returned early from the function at that point. If the value is `Some`, the value inside the `Some` is the resulting value of the expression and the function continues*</span>"
   ]
  },
  {
   "cell_type": "code",
   "execution_count": 47,
   "metadata": {
    "vscode": {
     "languageId": "rust"
    }
   },
   "outputs": [
    {
     "data": {
      "text/plain": [
       "Some('3')"
      ]
     },
     "execution_count": 47,
     "metadata": {},
     "output_type": "execute_result"
    }
   ],
   "source": [
    "fn last_char_of_first_line(text: &str) -> Option<char> {\n",
    "    text.lines().next()?.chars().last()\n",
    "}\n",
    "last_char_of_first_line(\"123\")"
   ]
  },
  {
   "cell_type": "markdown",
   "metadata": {},
   "source": [
    "> **Note 📝**: \n",
    ">\n",
    "> <span style=\"color:orange\">*You can use the `?` operator on a `Result` in a function that returns `Result`, and you can use the `?` operator on an `Option` in a function that returns `Option`, but you can’t mix and match. The `?` operator won’t automatically convert a `Result` to an `Option` or vice versa; in those cases, you can use methods like the `ok` method on `Result` or the `ok_or` method on `Option` to do the conversion explicitly.*</span>"
   ]
  },
  {
   "cell_type": "markdown",
   "metadata": {},
   "source": [
    "## `Result<(), E>` for `main`\n",
    "\n",
    "Since `main` can only return `()`, it has the `Result<(), Box<dyn Error>>`, where the `Box<dyn Error>` type is a trait object and can be thought of as \"any kind of error\""
   ]
  },
  {
   "cell_type": "code",
   "execution_count": 49,
   "metadata": {
    "vscode": {
     "languageId": "rust"
    }
   },
   "outputs": [
    {
     "data": {
      "text/plain": [
       "Ok(())"
      ]
     },
     "execution_count": 49,
     "metadata": {},
     "output_type": "execute_result"
    }
   ],
   "source": [
    "use std::error::Error;\n",
    "use std::fs::File;\n",
    "\n",
    "fn main() -> Result<(), Box<dyn Error>> {\n",
    "    let greeting_file = File::open(\"hello.txt\")?;\n",
    "\n",
    "    Ok(())\n",
    "}\n",
    "\n",
    "main()"
   ]
  },
  {
   "cell_type": "markdown",
   "metadata": {},
   "source": [
    "<span style=\"color:lightgreen\">*Using `?` on a `Result` value in a `main` function with the error type `Box<dyn Error>` is allowed, because it allows any `Err` value to be returned early*</span>.  \n",
    "\n",
    "<span style=\"color:lightgreen\">***When a `main` function returns a `Result<(), E>`, the executable will exit with a value of `0` if main returns `Ok(())` and will exit with a nonzero value if main returns an `Err` value***</span>\n",
    "\n",
    "> **Final Note** 📝  \n",
    "> <span style=\"color:skyblue\">*The `main` function may return any types that implement the `std::process::Termination` trait, which contains a function `report` that returns an `ExitCode`*</span>"
   ]
  },
  {
   "cell_type": "code",
   "execution_count": null,
   "metadata": {
    "vscode": {
     "languageId": "rust"
    }
   },
   "outputs": [],
   "source": []
  }
 ],
 "metadata": {
  "kernelspec": {
   "display_name": "Rust",
   "language": "rust",
   "name": "rust"
  },
  "language_info": {
   "codemirror_mode": "rust",
   "file_extension": ".rs",
   "mimetype": "text/rust",
   "name": "Rust",
   "pygment_lexer": "rust",
   "version": ""
  }
 },
 "nbformat": 4,
 "nbformat_minor": 2
}
