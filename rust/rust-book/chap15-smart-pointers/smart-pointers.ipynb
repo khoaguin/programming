{
 "cells": [
  {
   "cell_type": "markdown",
   "metadata": {},
   "source": [
    "## Intro\n",
    "\n",
    "A pointer is a general concept for a variable that contains an address in memory. This address refers to, or “points at,” some other data.  <span style=\"color:lightgreen\">***The most common kind of pointer in Rust is a reference** (Chapter 4). References are indicated by the `&` symbol and borrow the value they point to. They don’t have any special capabilities other than referring to data, and have no overhead.*</span>\n",
    "\n",
    "<span style=\"color:lightgreen\">*Smart pointers, on the other hand, are data structures that act like a pointer but also have additional metadata and capabilities (like in C++)*</span>. Rust, with its concept of ownership and borrowing, has an additional difference between references and smart pointers: while references only borrow data, in many cases, smart pointers own the data they point to. *For example, `String` and `Vec<T>` are smart pointers because they own some memory and allow you to manipulate it. They also have metadata and extra capabilities or guarantees.*\n",
    "\n",
    "<span style=\"color:lightgreen\">*Smart pointers are usually implemented using structs, but they specifically implements the `Deref` and `Drop` traits*</span>. The `Deref` trait allows an instance of the smart pointer struct to behave like a reference so you can write your code to work with either references or smart pointers. The `Drop` trait allows you to customize the code that’s run when an instance of the smart pointer goes out of scope.\n",
    "\n",
    "In this chapter, we will cover the most common types of smart pointers:\n",
    "- `Box<T>` for allocating values on the heap\n",
    "- `Rc<T>`, a reference counting type that enables multiple ownership\n",
    "- `Ref<T>` and `RefMut<T>`, accessed through `RefCell<T>`, a type that enforces the borrowing rules at runtime instead of compile time"
   ]
  },
  {
   "cell_type": "markdown",
   "metadata": {},
   "source": [
    "## Using `Box<T>` to Point to Data on the Heap\n",
    "\n",
    "The most straightforward smart pointer is a box, whose type is written `Box<T>`. <span style=\"color:lightgreen\">*`Box<T>` allow you to store data on the heap rather than the stack. What remains on the stack is the pointer to the heap data.*</span>\n",
    "\n",
    "Boxes don’t have performance overhead, other than storing their data on the heap instead of on the stack. But they don’t have many extra capabilities either. You’ll use them most often in these situations:\n",
    "\n",
    "- When you have a type whose size can’t be known at compile time and you want to use a value of that type in a context that requires an exact size\n",
    "- When you have a large amount of data and you want to transfer ownership but ensure the data won’t be copied when you do so, so we store the large data on the heap in a box and only the small amount of pointer data is copied around on the stack, while the data it references stays in one place on the heap.\n",
    "- When you want to own a value and you care only that it’s a type that implements a particular trait rather than being of a specific type\n"
   ]
  },
  {
   "cell_type": "code",
   "execution_count": 3,
   "metadata": {
    "vscode": {
     "languageId": "rust"
    }
   },
   "outputs": [
    {
     "name": "stdout",
     "output_type": "stream",
     "text": [
      "b = 5\n"
     ]
    },
    {
     "data": {
      "text/plain": [
       "()"
      ]
     },
     "execution_count": 3,
     "metadata": {},
     "output_type": "execute_result"
    }
   ],
   "source": [
    "fn main() {\n",
    "    let b = Box::new(5);  //  b points to the value `5` which stays on the heap\n",
    "    println!(\"b = {}\", b);\n",
    "}\n",
    "\n",
    "// Just like any owned value, when a box goes out of scope, as b does at the end \n",
    "// of main, it will be deallocated. The deallocation happens both for the box \n",
    "// (stored on the stack) and the data it points to (stored on the heap).\n",
    "\n",
    "main()"
   ]
  },
  {
   "cell_type": "markdown",
   "metadata": {},
   "source": [
    "### Enabling Recursive Types with Boxes"
   ]
  },
  {
   "cell_type": "markdown",
   "metadata": {},
   "source": [
    "First attempt to define a recursive `con` list"
   ]
  },
  {
   "cell_type": "code",
   "execution_count": 5,
   "metadata": {
    "vscode": {
     "languageId": "rust"
    }
   },
   "outputs": [
    {
     "ename": "Error",
     "evalue": "recursive type `List` has infinite size",
     "output_type": "error",
     "traceback": [
      "\u001b[31m[E0072] Error:\u001b[0m recursive type `List` has infinite size",
      "   \u001b[38;5;246m╭\u001b[0m\u001b[38;5;246m─\u001b[0m\u001b[38;5;246m[\u001b[0mcommand_5:1:1\u001b[38;5;246m]\u001b[0m",
      "   \u001b[38;5;246m│\u001b[0m",
      " \u001b[38;5;246m1 │\u001b[0m \u001b[38;5;100me\u001b[0m\u001b[38;5;100mn\u001b[0m\u001b[38;5;100mu\u001b[0m\u001b[38;5;100mm\u001b[0m\u001b[38;5;100m \u001b[0m\u001b[38;5;100mL\u001b[0m\u001b[38;5;100mi\u001b[0m\u001b[38;5;100ms\u001b[0m\u001b[38;5;100mt\u001b[0m\u001b[38;5;249m \u001b[0m\u001b[38;5;249m{\u001b[0m",
      " \u001b[38;5;240m  │\u001b[0m \u001b[38;5;100m─\u001b[0m\u001b[38;5;100m─\u001b[0m\u001b[38;5;100m─\u001b[0m\u001b[38;5;100m─\u001b[0m\u001b[38;5;100m┬\u001b[0m\u001b[38;5;100m─\u001b[0m\u001b[38;5;100m─\u001b[0m\u001b[38;5;100m─\u001b[0m\u001b[38;5;100m─\u001b[0m  ",
      " \u001b[38;5;240m  │\u001b[0m     \u001b[38;5;100m╰\u001b[0m\u001b[38;5;100m─\u001b[0m\u001b[38;5;100m─\u001b[0m\u001b[38;5;100m─\u001b[0m\u001b[38;5;100m─\u001b[0m\u001b[38;5;100m─\u001b[0m\u001b[38;5;100m─\u001b[0m error: recursive type `List` has infinite size",
      " \u001b[38;5;246m2 │\u001b[0m \u001b[38;5;249m \u001b[0m\u001b[38;5;249m \u001b[0m\u001b[38;5;249m \u001b[0m\u001b[38;5;249m \u001b[0m\u001b[38;5;249mC\u001b[0m\u001b[38;5;249mo\u001b[0m\u001b[38;5;249mn\u001b[0m\u001b[38;5;249ms\u001b[0m\u001b[38;5;249m(\u001b[0m\u001b[38;5;249mi\u001b[0m\u001b[38;5;249m3\u001b[0m\u001b[38;5;249m2\u001b[0m\u001b[38;5;249m,\u001b[0m\u001b[38;5;249m \u001b[0m\u001b[38;5;54mL\u001b[0m\u001b[38;5;54mi\u001b[0m\u001b[38;5;54ms\u001b[0m\u001b[38;5;54mt\u001b[0m\u001b[38;5;249m)\u001b[0m\u001b[38;5;249m,\u001b[0m",
      " \u001b[38;5;240m  │\u001b[0m               \u001b[38;5;54m─\u001b[0m\u001b[38;5;54m─\u001b[0m\u001b[38;5;54m┬\u001b[0m\u001b[38;5;54m─\u001b[0m  ",
      " \u001b[38;5;240m  │\u001b[0m                 \u001b[38;5;54m╰\u001b[0m\u001b[38;5;54m─\u001b[0m\u001b[38;5;54m─\u001b[0m\u001b[38;5;54m─\u001b[0m recursive without indirection",
      "\u001b[38;5;246m───╯\u001b[0m"
     ]
    }
   ],
   "source": [
    "enum List {\n",
    "    Cons(i32, List),\n",
    "    Nil,\n",
    "}\n",
    "\n",
    "use crate::List::{Cons, Nil};\n",
    "\n",
    "fn main() {\n",
    "    let list = Cons(1, Cons(2, Cons(3, Nil)));\n",
    "}\n",
    "\n",
    "main()"
   ]
  },
  {
   "cell_type": "markdown",
   "metadata": {},
   "source": [
    "The error shows this type “has infinite size.” The reason is that we’ve defined `List` with a variant that is recursive: it holds another value of itself directly. As a result, Rust can’t figure out how much space it needs to store a `List` value. Let’s break down why we get this error"
   ]
  },
  {
   "cell_type": "markdown",
   "metadata": {},
   "source": [
    "### How Rust Computes the Size of a Non-Recursive Type\n",
    "\n",
    "For example, in the `Message` struct below, to determine how much space to allocate for a `Message` value, Rust goes through each of the variants to see which variant needs the most space, since only one variant will be used"
   ]
  },
  {
   "cell_type": "code",
   "execution_count": 6,
   "metadata": {
    "vscode": {
     "languageId": "rust"
    }
   },
   "outputs": [],
   "source": [
    "enum Message {\n",
    "    Quit,  // no need for any space\n",
    "    Move { x: i32, y: i32 },  // needs enough space to store two i32 values\n",
    "    Write(String),  // space for a String\n",
    "    ChangeColor(i32, i32, i32),  // space for three i32 values\n",
    "}\n",
    "\n",
    "fn main() {}"
   ]
  },
  {
   "cell_type": "markdown",
   "metadata": {},
   "source": [
    "However, with the recursive `list = Cons(1, Cons(2, Cons(3, Nil)));`, Rust needs to gives an amount of an `i32` plus the size of a `List` for each recursion, which can continue forever\n",
    "\n",
    "![conlist](../images/9.svg)\n"
   ]
  },
  {
   "cell_type": "markdown",
   "metadata": {},
   "source": [
    "### Using `Box<T>` to Get a Recursive Type with a Known Size\n",
    "\n",
    "<span style=\"color:lightgreen\">*Because a `Box<T>` is a pointer, Rust always knows how much space a `Box<T>` needs: a pointer’s size doesn’t change based on the amount of data it’s pointing to. This means we can put a `Box<T>` inside the `Cons` variant instead of another `List` value directly. The `Box<T>` will point to the next `List` value that will be on the heap rather than inside the `Cons` variant*</span>\n"
   ]
  },
  {
   "cell_type": "code",
   "execution_count": 6,
   "metadata": {
    "vscode": {
     "languageId": "rust"
    }
   },
   "outputs": [
    {
     "data": {
      "text/plain": [
       "()"
      ]
     },
     "execution_count": 6,
     "metadata": {},
     "output_type": "execute_result"
    }
   ],
   "source": [
    "enum List {\n",
    "    Cons(i32, Box<List>),\n",
    "    Nil,\n",
    "}\n",
    "\n",
    "use crate::List::{Cons, Nil};\n",
    "\n",
    "fn main() {\n",
    "    let list = Cons(1, Box::new(Cons(2, Box::new(Cons(3, Box::new(Nil))))));\n",
    "}\n",
    "\n",
    "main()"
   ]
  },
  {
   "cell_type": "markdown",
   "metadata": {},
   "source": [
    "![](../images/10.svg)\n"
   ]
  },
  {
   "cell_type": "markdown",
   "metadata": {},
   "source": [
    "## The `Deref` Trait: Treating Smart Pointers Like Regular References\n",
    "\n",
    "<span style=\"color:lightgreen\">***Implementing the `Deref` trait allows you to customize the behavior of the dereference operator `*`***</span>. By implementing `Deref` in such a way that a smart pointer can be treated like a regular reference, you can write code that operates on references and use that code with smart pointers too."
   ]
  },
  {
   "cell_type": "markdown",
   "metadata": {},
   "source": [
    "### Following the Pointer to the Value\n",
    "\n",
    "<span style=\"color:lightgreen\">*A regular reference is a type of pointer, and one way to think of a pointer is as an arrow to a value stored somewhere else*</span>. Below we use dereference to follow the reference to the value:"
   ]
  },
  {
   "cell_type": "code",
   "execution_count": 8,
   "metadata": {
    "vscode": {
     "languageId": "rust"
    }
   },
   "outputs": [
    {
     "data": {
      "text/plain": [
       "()"
      ]
     },
     "execution_count": 8,
     "metadata": {},
     "output_type": "execute_result"
    }
   ],
   "source": [
    "fn main() {\n",
    "    let x =5;\n",
    "    let y = &x;\n",
    "\n",
    "    assert_eq!(5, x);\n",
    "    assert_eq!(5, *y);\n",
    "}\n",
    "\n",
    "main()"
   ]
  },
  {
   "cell_type": "markdown",
   "metadata": {},
   "source": [
    "### Using `Box<T>` Like a Reference"
   ]
  },
  {
   "cell_type": "code",
   "execution_count": 9,
   "metadata": {
    "vscode": {
     "languageId": "rust"
    }
   },
   "outputs": [
    {
     "data": {
      "text/plain": [
       "()"
      ]
     },
     "execution_count": 9,
     "metadata": {},
     "output_type": "execute_result"
    }
   ],
   "source": [
    "fn main() {\n",
    "    let x = 5;\n",
    "    let y = Box::new(x);\n",
    "\n",
    "    assert_eq!(5, x);\n",
    "    assert_eq!(5, *y);\n",
    "}\n",
    "\n",
    "main()"
   ]
  },
  {
   "cell_type": "markdown",
   "metadata": {},
   "source": [
    "The main difference between is that here we set `y` to be an instance of a `Box<T>` pointing to a copied value of `x` rather than a reference pointing to the value of `x`. However, we can use `*` on both in the same way"
   ]
  },
  {
   "cell_type": "markdown",
   "metadata": {},
   "source": [
    "### Defining Our Own Smart Pointer\n",
    "\n",
    "Below, we define the `MyBox` struct that works with any generic type `T`, and its `DeRef` trait to allows it to work with the deference operator"
   ]
  },
  {
   "cell_type": "code",
   "execution_count": 14,
   "metadata": {
    "vscode": {
     "languageId": "rust"
    }
   },
   "outputs": [],
   "source": [
    "use std::ops::Deref;\n",
    "\n",
    "impl<T> Deref for MyBox<T> {\n",
    "    type Target = T;\n",
    "\n",
    "    fn deref(&self) -> &Self::Target {\n",
    "        &self.0\n",
    "    }\n",
    "}\n",
    "\n",
    "struct MyBox<T>(T);\n",
    "\n",
    "impl<T> MyBox<T> {\n",
    "    fn new(x: T) -> MyBox<T> {\n",
    "        MyBox(x)\n",
    "    }\n",
    "}\n",
    "\n",
    "fn main() {\n",
    "    let x = 5;\n",
    "    let y = MyBox::new(x);\n",
    "\n",
    "    assert_eq!(5, x);\n",
    "    assert_eq!(5, *y);\n",
    "}"
   ]
  },
  {
   "cell_type": "markdown",
   "metadata": {},
   "source": [
    "Things to note:\n",
    "- The type `Target = T;` syntax defines an *associated type* for the `Deref` trait to use.\n",
    "- We fill in the body of the `deref` method with `&self.0` so `deref` returns a reference to the value we want to access with the `*` operator\n",
    "- When we entered `*y`, Rust actually does `*(y.deref())`\n",
    "- The reason the `deref()` method returns a reference to a value, and that the plain dereference outside the parentheses in `*(y.deref())` is still necessary, is to do with the ownership system. If the `deref` method returned the value directly instead of a reference to the value, the value would be moved out of `self`. We don’t want to take ownership of the inner value inside `MyBox<T>` in this case or in most cases where we use the dereference operator."
   ]
  },
  {
   "cell_type": "markdown",
   "metadata": {},
   "source": [
    "### Implicit Deref Coercions with Functions and Methods\n",
    "\n",
    "`Deref` coercion converts a reference to a type that implements the `Deref` trait into a reference to another type.  For example, `deref` coercion can convert `&String` to `&str` because `String` implements the `Deref` trait such that it returns `&str`. \n",
    "\n",
    "Why? `Deref` coercion was added to Rust so that programmers writing function and method calls *don’t need to add as many explicit references and dereferences with `&` and `*`.*"
   ]
  },
  {
   "cell_type": "markdown",
   "metadata": {},
   "source": [
    "## The `Drop` Trait: Running Code on `CleanUp` "
   ]
  },
  {
   "cell_type": "code",
   "execution_count": null,
   "metadata": {
    "vscode": {
     "languageId": "rust"
    }
   },
   "outputs": [],
   "source": []
  },
  {
   "cell_type": "markdown",
   "metadata": {},
   "source": [
    "## `Rc<T>`: The Reference Counted Smart Pointer"
   ]
  },
  {
   "cell_type": "code",
   "execution_count": null,
   "metadata": {
    "vscode": {
     "languageId": "rust"
    }
   },
   "outputs": [],
   "source": []
  },
  {
   "cell_type": "markdown",
   "metadata": {},
   "source": [
    "## `RefCell<T>` and the Interior Mutability Pattern"
   ]
  },
  {
   "cell_type": "code",
   "execution_count": null,
   "metadata": {
    "vscode": {
     "languageId": "rust"
    }
   },
   "outputs": [],
   "source": []
  },
  {
   "cell_type": "markdown",
   "metadata": {},
   "source": [
    "## Memory Leak with Reference Cycles "
   ]
  },
  {
   "cell_type": "markdown",
   "metadata": {},
   "source": []
  }
 ],
 "metadata": {
  "kernelspec": {
   "display_name": "Rust",
   "language": "rust",
   "name": "rust"
  },
  "language_info": {
   "codemirror_mode": "rust",
   "file_extension": ".rs",
   "mimetype": "text/rust",
   "name": "Rust",
   "pygment_lexer": "rust",
   "version": ""
  }
 },
 "nbformat": 4,
 "nbformat_minor": 2
}
