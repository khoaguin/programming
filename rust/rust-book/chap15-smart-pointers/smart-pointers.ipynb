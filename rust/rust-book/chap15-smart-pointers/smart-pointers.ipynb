{
 "cells": [
  {
   "cell_type": "markdown",
   "metadata": {},
   "source": [
    "## Intro\n",
    "\n",
    "A pointer is a general concept for a variable that contains an address in memory. This address refers to, or “points at,” some other data.  <span style=\"color:lightgreen\">***The most common kind of pointer in Rust is a reference** (Chapter 4). References are indicated by the `&` symbol and borrow the value they point to. They don’t have any special capabilities other than referring to data, and have no overhead.*</span>\n",
    "\n",
    "<span style=\"color:lightgreen\">*Smart pointers, on the other hand, are data structures that act like a pointer but also have additional metadata and capabilities (like in C++)*</span>. Rust, with its concept of ownership and borrowing, has an additional difference between references and smart pointers: while references only borrow data, in many cases, smart pointers own the data they point to. *For example, `String` and `Vec<T>` are smart pointers because they own some memory and allow you to manipulate it. They also have metadata and extra capabilities or guarantees.*\n",
    "\n",
    "<span style=\"color:lightgreen\">*Smart pointers are usually implemented using structs, but they specifically implements the `Deref` and `Drop` traits*</span>. The `Deref` trait allows an instance of the smart pointer struct to behave like a reference so you can write your code to work with either references or smart pointers. The `Drop` trait allows you to customize the code that’s run when an instance of the smart pointer goes out of scope.\n",
    "\n",
    "In this chapter, we will cover the most common types of smart pointers:\n",
    "- `Box<T>` for allocating values on the heap\n",
    "- `Rc<T>`, a reference counting type that enables multiple ownership\n",
    "- `Ref<T>` and `RefMut<T>`, accessed through `RefCell<T>`, a type that enforces the borrowing rules at runtime instead of compile time"
   ]
  },
  {
   "cell_type": "markdown",
   "metadata": {},
   "source": [
    "## Using `Box<T>` to Point to Data on the Heap\n",
    "\n",
    "The most straightforward smart pointer is a box, whose type is written `Box<T>`. <span style=\"color:lightgreen\">*`Box<T>` allow you to store data on the heap rather than the stack. What remains on the stack is the pointer to the heap data.*</span>\n",
    "\n",
    "Boxes don’t have performance overhead, other than storing their data on the heap instead of on the stack. But they don’t have many extra capabilities either. You’ll use them most often in these situations:\n",
    "\n",
    "- When you have a type whose size can’t be known at compile time and you want to use a value of that type in a context that requires an exact size\n",
    "- When you have a large amount of data and you want to transfer ownership but ensure the data won’t be copied when you do so, so we store the large data on the heap in a box and only the small amount of pointer data is copied around on the stack, while the data it references stays in one place on the heap.\n",
    "- When you want to own a value and you care only that it’s a type that implements a particular trait rather than being of a specific type\n"
   ]
  },
  {
   "cell_type": "code",
   "execution_count": 3,
   "metadata": {
    "vscode": {
     "languageId": "rust"
    }
   },
   "outputs": [
    {
     "name": "stdout",
     "output_type": "stream",
     "text": [
      "b = 5\n"
     ]
    },
    {
     "data": {
      "text/plain": [
       "()"
      ]
     },
     "execution_count": 3,
     "metadata": {},
     "output_type": "execute_result"
    }
   ],
   "source": [
    "fn main() {\n",
    "    let b = Box::new(5);  //  b points to the value `5` which stays on the heap\n",
    "    println!(\"b = {}\", b);\n",
    "}\n",
    "\n",
    "// Just like any owned value, when a box goes out of scope, as b does at the end \n",
    "// of main, it will be deallocated. The deallocation happens both for the box \n",
    "// (stored on the stack) and the data it points to (stored on the heap).\n",
    "\n",
    "main()"
   ]
  },
  {
   "cell_type": "markdown",
   "metadata": {},
   "source": [
    "### Enabling Recursive Types with Boxes"
   ]
  },
  {
   "cell_type": "markdown",
   "metadata": {},
   "source": [
    "First attempt to define a recursive `con` list"
   ]
  },
  {
   "cell_type": "code",
   "execution_count": 5,
   "metadata": {
    "vscode": {
     "languageId": "rust"
    }
   },
   "outputs": [
    {
     "ename": "Error",
     "evalue": "recursive type `List` has infinite size",
     "output_type": "error",
     "traceback": [
      "\u001b[31m[E0072] Error:\u001b[0m recursive type `List` has infinite size",
      "   \u001b[38;5;246m╭\u001b[0m\u001b[38;5;246m─\u001b[0m\u001b[38;5;246m[\u001b[0mcommand_5:1:1\u001b[38;5;246m]\u001b[0m",
      "   \u001b[38;5;246m│\u001b[0m",
      " \u001b[38;5;246m1 │\u001b[0m \u001b[38;5;100me\u001b[0m\u001b[38;5;100mn\u001b[0m\u001b[38;5;100mu\u001b[0m\u001b[38;5;100mm\u001b[0m\u001b[38;5;100m \u001b[0m\u001b[38;5;100mL\u001b[0m\u001b[38;5;100mi\u001b[0m\u001b[38;5;100ms\u001b[0m\u001b[38;5;100mt\u001b[0m\u001b[38;5;249m \u001b[0m\u001b[38;5;249m{\u001b[0m",
      " \u001b[38;5;240m  │\u001b[0m \u001b[38;5;100m─\u001b[0m\u001b[38;5;100m─\u001b[0m\u001b[38;5;100m─\u001b[0m\u001b[38;5;100m─\u001b[0m\u001b[38;5;100m┬\u001b[0m\u001b[38;5;100m─\u001b[0m\u001b[38;5;100m─\u001b[0m\u001b[38;5;100m─\u001b[0m\u001b[38;5;100m─\u001b[0m  ",
      " \u001b[38;5;240m  │\u001b[0m     \u001b[38;5;100m╰\u001b[0m\u001b[38;5;100m─\u001b[0m\u001b[38;5;100m─\u001b[0m\u001b[38;5;100m─\u001b[0m\u001b[38;5;100m─\u001b[0m\u001b[38;5;100m─\u001b[0m\u001b[38;5;100m─\u001b[0m error: recursive type `List` has infinite size",
      " \u001b[38;5;246m2 │\u001b[0m \u001b[38;5;249m \u001b[0m\u001b[38;5;249m \u001b[0m\u001b[38;5;249m \u001b[0m\u001b[38;5;249m \u001b[0m\u001b[38;5;249mC\u001b[0m\u001b[38;5;249mo\u001b[0m\u001b[38;5;249mn\u001b[0m\u001b[38;5;249ms\u001b[0m\u001b[38;5;249m(\u001b[0m\u001b[38;5;249mi\u001b[0m\u001b[38;5;249m3\u001b[0m\u001b[38;5;249m2\u001b[0m\u001b[38;5;249m,\u001b[0m\u001b[38;5;249m \u001b[0m\u001b[38;5;54mL\u001b[0m\u001b[38;5;54mi\u001b[0m\u001b[38;5;54ms\u001b[0m\u001b[38;5;54mt\u001b[0m\u001b[38;5;249m)\u001b[0m\u001b[38;5;249m,\u001b[0m",
      " \u001b[38;5;240m  │\u001b[0m               \u001b[38;5;54m─\u001b[0m\u001b[38;5;54m─\u001b[0m\u001b[38;5;54m┬\u001b[0m\u001b[38;5;54m─\u001b[0m  ",
      " \u001b[38;5;240m  │\u001b[0m                 \u001b[38;5;54m╰\u001b[0m\u001b[38;5;54m─\u001b[0m\u001b[38;5;54m─\u001b[0m\u001b[38;5;54m─\u001b[0m recursive without indirection",
      "\u001b[38;5;246m───╯\u001b[0m"
     ]
    }
   ],
   "source": [
    "enum List {\n",
    "    Cons(i32, List),\n",
    "    Nil,\n",
    "}\n",
    "\n",
    "use crate::List::{Cons, Nil};\n",
    "\n",
    "fn main() {\n",
    "    let list = Cons(1, Cons(2, Cons(3, Nil)));\n",
    "}\n",
    "\n",
    "main()"
   ]
  },
  {
   "cell_type": "markdown",
   "metadata": {},
   "source": [
    "The error shows this type “has infinite size.” The reason is that we’ve defined `List` with a variant that is recursive: it holds another value of itself directly. As a result, Rust can’t figure out how much space it needs to store a `List` value. Let’s break down why we get this error"
   ]
  },
  {
   "cell_type": "markdown",
   "metadata": {},
   "source": [
    "### How Rust Computes the Size of a Non-Recursive Type\n",
    "\n",
    "For example, in the `Message` struct below, to determine how much space to allocate for a `Message` value, Rust goes through each of the variants to see which variant needs the most space, since only one variant will be used"
   ]
  },
  {
   "cell_type": "code",
   "execution_count": 6,
   "metadata": {
    "vscode": {
     "languageId": "rust"
    }
   },
   "outputs": [],
   "source": [
    "enum Message {\n",
    "    Quit,  // no need for any space\n",
    "    Move { x: i32, y: i32 },  // needs enough space to store two i32 values\n",
    "    Write(String),  // space for a String\n",
    "    ChangeColor(i32, i32, i32),  // space for three i32 values\n",
    "}\n",
    "\n",
    "fn main() {}"
   ]
  },
  {
   "cell_type": "markdown",
   "metadata": {},
   "source": [
    "However, with the recursive `list = Cons(1, Cons(2, Cons(3, Nil)));`, Rust needs to gives an amount of an `i32` plus the size of a `List` for each recursion, which can continue forever\n",
    "\n",
    "![conlist](../images/9.svg)\n"
   ]
  },
  {
   "cell_type": "markdown",
   "metadata": {},
   "source": [
    "### Using `Box<T>` to Get a Recursive Type with a Known Size\n",
    "\n",
    "<span style=\"color:lightgreen\">*Because a `Box<T>` is a pointer, Rust always knows how much space a `Box<T>` needs: a pointer’s size doesn’t change based on the amount of data it’s pointing to. This means we can put a `Box<T>` inside the `Cons` variant instead of another `List` value directly. The `Box<T>` will point to the next `List` value that will be on the heap rather than inside the `Cons` variant*</span>\n"
   ]
  },
  {
   "cell_type": "code",
   "execution_count": 6,
   "metadata": {
    "vscode": {
     "languageId": "rust"
    }
   },
   "outputs": [
    {
     "data": {
      "text/plain": [
       "()"
      ]
     },
     "execution_count": 6,
     "metadata": {},
     "output_type": "execute_result"
    }
   ],
   "source": [
    "enum List {\n",
    "    Cons(i32, Box<List>),\n",
    "    Nil,\n",
    "}\n",
    "\n",
    "use crate::List::{Cons, Nil};\n",
    "\n",
    "fn main() {\n",
    "    let list = Cons(1, Box::new(Cons(2, Box::new(Cons(3, Box::new(Nil))))));\n",
    "}\n",
    "\n",
    "main()"
   ]
  },
  {
   "cell_type": "markdown",
   "metadata": {},
   "source": [
    "![](../images/10.svg)\n"
   ]
  },
  {
   "cell_type": "markdown",
   "metadata": {},
   "source": [
    "## The `Deref` Trait: Treating Smart Pointers Like Regular References\n",
    "\n",
    "<span style=\"color:lightgreen\">***Implementing the `Deref` trait allows you to customize the behavior of the dereference operator `*`***</span>. By implementing `Deref` in such a way that a smart pointer can be treated like a regular reference, you can write code that operates on references and use that code with smart pointers too."
   ]
  },
  {
   "cell_type": "markdown",
   "metadata": {},
   "source": [
    "### Following the Pointer to the Value\n",
    "\n",
    "<span style=\"color:lightgreen\">*A regular reference is a type of pointer, and one way to think of a pointer is as an arrow to a value stored somewhere else*</span>. Below we use dereference to follow the reference to the value:"
   ]
  },
  {
   "cell_type": "code",
   "execution_count": 8,
   "metadata": {
    "vscode": {
     "languageId": "rust"
    }
   },
   "outputs": [
    {
     "data": {
      "text/plain": [
       "()"
      ]
     },
     "execution_count": 8,
     "metadata": {},
     "output_type": "execute_result"
    }
   ],
   "source": [
    "fn main() {\n",
    "    let x =5;\n",
    "    let y = &x;\n",
    "\n",
    "    assert_eq!(5, x);\n",
    "    assert_eq!(5, *y);\n",
    "}\n",
    "\n",
    "main()"
   ]
  },
  {
   "cell_type": "markdown",
   "metadata": {},
   "source": [
    "### Using `Box<T>` Like a Reference"
   ]
  },
  {
   "cell_type": "code",
   "execution_count": 9,
   "metadata": {
    "vscode": {
     "languageId": "rust"
    }
   },
   "outputs": [
    {
     "data": {
      "text/plain": [
       "()"
      ]
     },
     "execution_count": 9,
     "metadata": {},
     "output_type": "execute_result"
    }
   ],
   "source": [
    "fn main() {\n",
    "    let x = 5;\n",
    "    let y = Box::new(x);\n",
    "\n",
    "    assert_eq!(5, x);\n",
    "    assert_eq!(5, *y);\n",
    "}\n",
    "\n",
    "main()"
   ]
  },
  {
   "cell_type": "markdown",
   "metadata": {},
   "source": [
    "The main difference between is that here we set `y` to be an instance of a `Box<T>` pointing to a copied value of `x` rather than a reference pointing to the value of `x`. However, we can use `*` on both in the same way"
   ]
  },
  {
   "cell_type": "markdown",
   "metadata": {},
   "source": [
    "### Defining Our Own Smart Pointer\n",
    "\n",
    "Below, we define the `MyBox` struct that works with any generic type `T`, and its `DeRef` trait to allows it to work with the deference operator"
   ]
  },
  {
   "cell_type": "code",
   "execution_count": 2,
   "metadata": {
    "metadata": {},
    "vscode": {
     "languageId": "rust"
    }
   },
   "outputs": [
    {
     "data": {
      "text/plain": [
       "()"
      ]
     },
     "execution_count": 2,
     "metadata": {},
     "output_type": "execute_result"
    }
   ],
   "source": [
    "use std::ops::Deref;\n",
    "\n",
    "impl<T> Deref for MyBox<T> {\n",
    "    type Target = T;\n",
    "\n",
    "    fn deref(&self) -> &Self::Target {\n",
    "        &self.0\n",
    "    }\n",
    "}\n",
    "\n",
    "struct MyBox<T>(T);\n",
    "\n",
    "impl<T> MyBox<T> {\n",
    "    fn new(x: T) -> MyBox<T> {\n",
    "        MyBox(x)\n",
    "    }\n",
    "}\n",
    "\n",
    "fn main() {\n",
    "    let x = 5;\n",
    "    let y = MyBox::new(x);\n",
    "\n",
    "    assert_eq!(5, x);\n",
    "    assert_eq!(5, *y);\n",
    "}\n",
    "\n",
    "main()"
   ]
  },
  {
   "cell_type": "markdown",
   "metadata": {},
   "source": [
    "Things to note:\n",
    "- The type `Target = T;` syntax defines an *associated type* for the `Deref` trait to use.\n",
    "- We fill in the body of the `deref` method with `&self.0` so `deref` returns a reference to the value we want to access with the `*` operator\n",
    "- When we entered `*y`, Rust actually does `*(y.deref())`\n",
    "- The reason the `deref()` method returns a reference to a value, and that the plain dereference outside the parentheses in `*(y.deref())` is still necessary, is to do with the ownership system. If the `deref` method returned the value directly instead of a reference to the value, the value would be moved out of `self`. We don’t want to take ownership of the inner value inside `MyBox<T>` in this case or in most cases where we use the dereference operator."
   ]
  },
  {
   "cell_type": "markdown",
   "metadata": {},
   "source": [
    "### Implicit Deref Coercions with Functions and Methods\n",
    "\n",
    "<span style=\"color:lightgreen\">*`Deref` coercion converts a reference to a type that implements the `Deref` trait into a reference to another type*</span>.  For example, `deref` coercion can convert `&String` to `&str` because `String` implements the `Deref` trait such that it returns `&str`. `Deref` coercion is a convenience Rust performs on arguments to functions and methods, and works only on types that implement the `Deref` trait. It happens automatically when we pass a reference to a particular type’s value as an argument to a function or method that doesn’t match the parameter type in the function or method definition.\n",
    "\n",
    "<span style=\"color:lightgreen\">**Why? `Deref` coercion was added to Rust so that programmers writing function and method calls don’t need to add as many explicit references and dereferences with `&` and `*`.**</span>"
   ]
  },
  {
   "cell_type": "markdown",
   "metadata": {},
   "source": [
    "Example: Below, we call the `hello` function with the argument `&m`, which is a reference to a `MyBox<String>` value. Because we implemented the `Deref` trait on `MyBox<T>`, Rust can turn `&MyBox<String>` into `&String` by calling `deref`. "
   ]
  },
  {
   "cell_type": "code",
   "execution_count": null,
   "metadata": {
    "vscode": {
     "languageId": "rust"
    }
   },
   "outputs": [],
   "source": [
    "use std::ops::Deref;\n",
    "\n",
    "impl<T> Deref for MyBox<T> {\n",
    "    type Target = T;\n",
    "\n",
    "    fn deref(&self) -> &T {\n",
    "        &self.0\n",
    "    }\n",
    "}\n",
    "\n",
    "struct MyBox<T>(T);\n",
    "\n",
    "impl<T> MyBox<T> {\n",
    "    fn new(x: T) -> MyBox<T> {\n",
    "        MyBox(x)\n",
    "    }\n",
    "}\n",
    "\n",
    "\n",
    "fn hello(name: &str) {\n",
    "    println!(\"Hello, {name}!\");\n",
    "}\n",
    "\n",
    "fn main() {\n",
    "    let m  = MyBox::new(String::from(\"Rust\"));\n",
    "    hello(&m);\n",
    "}"
   ]
  },
  {
   "cell_type": "markdown",
   "metadata": {},
   "source": [
    "If Rust does not implement deref coercion, we will have to write `hello(&(*m)[..]);`. The `(*m)` dereferences the `MyBox<String>` into a `String`. Then the `&` and `[..]` take a string slice of the `String` that is equal to the whole string to match the signature of `hello`."
   ]
  },
  {
   "cell_type": "markdown",
   "metadata": {},
   "source": [
    "### How Deref Coercion Interacts with Mutability\n",
    "\n",
    "Similar to how you use the `Deref` trait to override the `*` operator on immutable references, you can use the `DerefMut` trait to override the `*` operator on mutable references.\n",
    "\n",
    "Rust does deref coercion when it finds types and trait implementations in three cases:\n",
    "- From `&T` to `&U` when `T`: `Deref<Target=U>`\n",
    "- From `&mut T` to `&mut U` when `T: DerefMut<Target=U>`\n",
    "- From `&mut T` to `&U` when `T: Deref<Target=U>` - Rust will also coerce a mutable reference to an immutable one. But the reverse is not possible: immutable references will never coerce to mutable references."
   ]
  },
  {
   "cell_type": "markdown",
   "metadata": {},
   "source": [
    "## The `Drop` Trait: Running Code on `CleanUp` \n",
    "\n",
    "<span style=\"color:lightgreen\">*The second trait important to the smart pointer pattern is `Drop`, which lets you customize what happens when a value is about to go out of scope*</span>. You can provide an implementation for the `Drop` trait on any type, and that code can be used to release resources like files or network connections.\n",
    "\n",
    "In some languages, for some types, the programmer must call code to free memory or resources every time they finish using an instance of those types. Examples include file handles, sockets, or locks. If they forget, the system might become overloaded and crash. <span style=\"color:lightgreen\">*In Rust, you can specify that a particular bit of code be run whenever a value goes out of scope defined by the `Drop` trait, and the compiler will insert this code automatically.*</span>"
   ]
  },
  {
   "cell_type": "code",
   "execution_count": 3,
   "metadata": {
    "metadata": {},
    "vscode": {
     "languageId": "rust"
    }
   },
   "outputs": [
    {
     "name": "stdout",
     "output_type": "stream",
     "text": [
      "CustomSmartPointers created.\n",
      "Dropping CustomSmartPointer with data `other stuff`!\n",
      "Dropping CustomSmartPointer with data `my stuff`!\n"
     ]
    },
    {
     "data": {
      "text/plain": [
       "()"
      ]
     },
     "execution_count": 3,
     "metadata": {},
     "output_type": "execute_result"
    }
   ],
   "source": [
    "struct CustomSmartPointer {\n",
    "    data: String,\n",
    "}\n",
    "\n",
    "impl Drop for CustomSmartPointer {\n",
    "    fn drop(&mut self) {\n",
    "        println!(\"Dropping CustomSmartPointer with data `{}`!\", self.data);\n",
    "    }\n",
    "}\n",
    "\n",
    "fn main() {\n",
    "    let c = CustomSmartPointer {\n",
    "        data: String::from(\"my stuff\"),\n",
    "    };\n",
    "    let d = CustomSmartPointer {\n",
    "        data: String::from(\"other stuff\"),\n",
    "    };\n",
    "    println!(\"CustomSmartPointers created.\");\n",
    "}\n",
    "\n",
    "main()"
   ]
  },
  {
   "cell_type": "markdown",
   "metadata": {},
   "source": [
    "### Dropping a Value Early with `std::mem::drop`\n",
    "\n",
    "Rust doesn’t let you call the `Drop` trait’s `drop` method manually since Rust will still call it on the value at the end of of its scope. This would cause a double free error because Rust would be trying to clean up the same value twice."
   ]
  },
  {
   "cell_type": "code",
   "execution_count": 4,
   "metadata": {
    "metadata": {},
    "vscode": {
     "languageId": "rust"
    }
   },
   "outputs": [
    {
     "ename": "Error",
     "evalue": "explicit use of destructor method",
     "output_type": "error",
     "traceback": [
      "\u001b[31m[E0040] Error:\u001b[0m explicit use of destructor method",
      "    \u001b[38;5;246m╭\u001b[0m\u001b[38;5;246m─\u001b[0m\u001b[38;5;246m[\u001b[0mcommand_4:1:1\u001b[38;5;246m]\u001b[0m",
      "    \u001b[38;5;246m│\u001b[0m",
      " \u001b[38;5;246m16 │\u001b[0m \u001b[38;5;249m \u001b[0m\u001b[38;5;249m \u001b[0m\u001b[38;5;249m \u001b[0m\u001b[38;5;249m \u001b[0m\u001b[38;5;249mc\u001b[0m\u001b[38;5;249m.\u001b[0m\u001b[38;5;54md\u001b[0m\u001b[38;5;54mr\u001b[0m\u001b[38;5;54mo\u001b[0m\u001b[38;5;54mp\u001b[0m\u001b[38;5;249m(\u001b[0m\u001b[38;5;249m)\u001b[0m\u001b[38;5;249m;\u001b[0m",
      " \u001b[38;5;240m   │\u001b[0m       \u001b[38;5;54m─\u001b[0m\u001b[38;5;54m─\u001b[0m\u001b[38;5;54m┬\u001b[0m\u001b[38;5;54m─\u001b[0m  ",
      " \u001b[38;5;240m   │\u001b[0m         \u001b[38;5;54m╰\u001b[0m\u001b[38;5;54m─\u001b[0m\u001b[38;5;54m─\u001b[0m\u001b[38;5;54m─\u001b[0m explicit destructor calls not allowed",
      "\u001b[38;5;246m────╯\u001b[0m"
     ]
    }
   ],
   "source": [
    "struct CustomSmartPointer {\n",
    "    data: String,\n",
    "}\n",
    "\n",
    "impl Drop for CustomSmartPointer {\n",
    "    fn drop(&mut self) {\n",
    "        println!(\"Dropping CustomSmartPointer with data `{}`!\", self.data);\n",
    "    }\n",
    "}\n",
    "\n",
    "fn main() {\n",
    "    let c = CustomSmartPointer {\n",
    "        data: String::from(\"some data\"),\n",
    "    };\n",
    "    println!(\"CustomSmartPointer created.\");\n",
    "    c.drop();\n",
    "    println!(\"CustomSmartPointer dropped before the end of main.\");\n",
    "}\n",
    "\n",
    "main()"
   ]
  },
  {
   "cell_type": "markdown",
   "metadata": {},
   "source": [
    "Instead you have to call the `std::mem::drop` function provided by the standard library if you want to force a value to be dropped before the end of its scope."
   ]
  },
  {
   "cell_type": "code",
   "execution_count": 5,
   "metadata": {
    "metadata": {},
    "vscode": {
     "languageId": "rust"
    }
   },
   "outputs": [
    {
     "name": "stdout",
     "output_type": "stream",
     "text": [
      "CustomSmartPointer created.\n",
      "Dropping CustomSmartPointer with data `some data`!\n",
      "CustomSmartPointer dropped before the end of main.\n"
     ]
    },
    {
     "data": {
      "text/plain": [
       "()"
      ]
     },
     "execution_count": 5,
     "metadata": {},
     "output_type": "execute_result"
    }
   ],
   "source": [
    "struct CustomSmartPointer {\n",
    "    data: String,\n",
    "}\n",
    "\n",
    "impl Drop for CustomSmartPointer {\n",
    "    fn drop(&mut self) {\n",
    "        println!(\"Dropping CustomSmartPointer with data `{}`!\", self.data);\n",
    "    }\n",
    "}\n",
    "\n",
    "fn main() {\n",
    "    let c = CustomSmartPointer {\n",
    "        data: String::from(\"some data\"),\n",
    "    };\n",
    "    println!(\"CustomSmartPointer created.\");\n",
    "    drop(c);\n",
    "    println!(\"CustomSmartPointer dropped before the end of main.\");\n",
    "}\n",
    "main()"
   ]
  },
  {
   "cell_type": "markdown",
   "metadata": {},
   "source": [
    "## `Rc<T>`: The Reference Counted Smart Pointer\n",
    "\n",
    "In the majority of cases, ownership is clear: you know exactly which variable owns a given value. <span style=\"color:lightgreen\">*However, there are cases when a single value might have multiple owners*</span>. For example, in graph data structures, multiple edges might point to the same node, and that node is conceptually owned by all of the edges that point to it. A node shouldn’t be cleaned up unless it doesn’t have any edges pointing to it and so has no owners.\n",
    "\n",
    "<span style=\"color:lightgreen\">***You have to enable multiple ownership explicitly by using the Rust type `Rc<T>`, which is an abbreviation for reference counting. The `Rc<T>` type keeps track of the number of references to a value to determine whether or not the value is still in use. If there are zero references to a value, the value can be cleaned up without any references becoming invalid.***</span>"
   ]
  },
  {
   "cell_type": "code",
   "execution_count": null,
   "metadata": {
    "vscode": {
     "languageId": "rust"
    }
   },
   "outputs": [],
   "source": []
  },
  {
   "cell_type": "markdown",
   "metadata": {},
   "source": [
    "## `RefCell<T>` and the Interior Mutability Pattern\n",
    "\n",
    "<span style=\"color:lightgreen\">***Interior mutability is a design pattern in Rust that allows you to mutate data even when there are immutable references to that data; normally, this action is disallowed by the borrowing rules.***</span> To mutate data, the pattern uses `unsafe` code inside a data structure to bend Rust’s usual rules that govern mutation and borrowing. Unsafe code indicates to the compiler that we’re checking the rules manually instead of relying on the compiler to check them for us"
   ]
  },
  {
   "cell_type": "code",
   "execution_count": null,
   "metadata": {
    "vscode": {
     "languageId": "rust"
    }
   },
   "outputs": [],
   "source": []
  },
  {
   "cell_type": "markdown",
   "metadata": {},
   "source": [
    "## Memory Leak with Reference Cycles \n",
    "\n",
    "<span style=\"color:lightgreen\">***Rust’s memory safety guarantees make it difficult, but not impossible, to accidentally create memory that is never cleaned up (known as a memory leak)***</span>. Preventing memory leaks entirely is not one of Rust’s guarantees, meaning memory leaks are memory safe in Rust. We can see that <span style=\"color:lightgreen\">*Rust allows memory leaks by using `Rc<T>` and `RefCell<T>`: it’s possible to create references where items refer to each other in a cycle. This creates memory leaks because the reference count of each item in the cycle will never reach 0, and the values will never be dropped.*</span>"
   ]
  },
  {
   "cell_type": "markdown",
   "metadata": {},
   "source": []
  }
 ],
 "metadata": {
  "kernelspec": {
   "display_name": "Rust",
   "language": "rust",
   "name": "rust"
  },
  "language_info": {
   "codemirror_mode": "rust",
   "file_extension": ".rs",
   "mimetype": "text/rust",
   "name": "Rust",
   "pygment_lexer": "rust",
   "version": ""
  }
 },
 "nbformat": 4,
 "nbformat_minor": 2
}
